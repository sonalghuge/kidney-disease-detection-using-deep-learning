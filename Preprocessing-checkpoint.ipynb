{
 "cells": [
  {
   "cell_type": "code",
   "execution_count": 1,
   "id": "98a26e52",
   "metadata": {},
   "outputs": [],
   "source": [
    "import cv2\n",
    "import os'"
   ]
  },
  {
   "cell_type": "code",
   "execution_count": 2,
   "id": "17152f85",
   "metadata": {},
   "outputs": [
    {
     "name": "stdout",
     "output_type": "stream",
     "text": [
      "Grayscale conversion complete.\n"
     ]
    }
   ],
   "source": [
    "input_folder = r\"C:\\Users\\SONAL\\Desktop\\KDD\\Error\"  # Replace with the path to your input folder\n",
    "output_folder = 'GrayScale/'  # Replace with the path to your output folder\n",
    "if not os.path.exists(output_folder):\n",
    "    os.makedirs(output_folder)\n",
    "for filename in os.listdir(input_folder):\n",
    "    if filename.endswith(('.jpg', '.png', '.jpeg')):  # Adjust the file extensions as needed\n",
    "        image_path = os.path.join(input_folder, filename)\n",
    "        output_path = os.path.join(output_folder, filename)\n",
    "        # Read the image\n",
    "        image = cv2.imread(image_path)\n",
    "        # Convert to grayscale\n",
    "        gray_image = cv2.cvtColor(image, cv2.COLOR_BGR2GRAY)\n",
    "        # Save the grayscale image\n",
    "        cv2.imwrite(output_path, gray_image)\n",
    "\n",
    "print(\"Grayscale conversion complete.\")"
   ]
  },
  {
   "cell_type": "code",
   "execution_count": 4,
   "id": "a93de095",
   "metadata": {},
   "outputs": [
    {
     "ename": "NameError",
     "evalue": "name 'np' is not defined",
     "output_type": "error",
     "traceback": [
      "\u001b[1;31m---------------------------------------------------------------------------\u001b[0m",
      "\u001b[1;31mNameError\u001b[0m                                 Traceback (most recent call last)",
      "Cell \u001b[1;32mIn[4], line 12\u001b[0m\n\u001b[0;32m     10\u001b[0m image \u001b[38;5;241m=\u001b[39m cv2\u001b[38;5;241m.\u001b[39mimread(image_path)\n\u001b[0;32m     11\u001b[0m \u001b[38;5;66;03m# Convert to Normalize\u001b[39;00m\n\u001b[1;32m---> 12\u001b[0m norm_image \u001b[38;5;241m=\u001b[39m (gray_image \u001b[38;5;241m-\u001b[39m \u001b[43mnp\u001b[49m\u001b[38;5;241m.\u001b[39mmin(gray_image)) \u001b[38;5;241m/\u001b[39m (np\u001b[38;5;241m.\u001b[39mmax(gray_image) \u001b[38;5;241m-\u001b[39m np\u001b[38;5;241m.\u001b[39mmin(gray_image))\n\u001b[0;32m     13\u001b[0m \u001b[38;5;66;03m# Save the Normalize image\u001b[39;00m\n\u001b[0;32m     14\u001b[0m cv2\u001b[38;5;241m.\u001b[39mimwrite(output_path, norm_image)\n",
      "\u001b[1;31mNameError\u001b[0m: name 'np' is not defined"
     ]
    }
   ],
   "source": [
    "input_folder = r\"C:\\Users\\SONAL\\Desktop\\KDD\\Error\"  # Replace with the path to your input folder\n",
    "output_folder = 'Normalization/'  # Replace with the path to your output folder\n",
    "if not os.path.exists(output_folder):\n",
    "    os.makedirs(output_folder)\n",
    "for filename in os.listdir(input_folder):\n",
    "    if filename.endswith(('.jpg', '.png', '.jpeg')):  # Adjust the file extensions as needed\n",
    "        image_path = os.path.join(input_folder, filename)\n",
    "        output_path = os.path.join(output_folder, filename)\n",
    "        # Read the image\n",
    "        image = cv2.imread(image_path)\n",
    "        # Convert to Normalize\n",
    "        norm_image = (gray_image - np.min(gray_image)) / (np.max(gray_image) - np.min(gray_image))\n",
    "        # Save the Normalize image\n",
    "        cv2.imwrite(output_path, norm_image)\n",
    "\n",
    "print(\"Normalization conversion complete.\")"
   ]
  },
  {
   "cell_type": "code",
   "execution_count": 29,
   "id": "2d74f472",
   "metadata": {},
   "outputs": [
    {
     "name": "stdout",
     "output_type": "stream",
     "text": [
      "Resizing conversion complete.\n"
     ]
    }
   ],
   "source": [
    "input_folder = r\"C:\\Users\\Pooja\\Documents\\Stone\\stone\"  # Replace with the path to your input folder\n",
    "output_folder = 'Resize/'  # Replace with the path to your output folder\n",
    "if not os.path.exists(output_folder):\n",
    "    os.makedirs(output_folder)\n",
    "for filename in os.listdir(input_folder):\n",
    "    if filename.endswith(('.jpg', '.png', '.jpeg')):  # Adjust the file extensions as needed\n",
    "        image_path = os.path.join(input_folder, filename)\n",
    "        output_path = os.path.join(output_folder, filename)\n",
    "        # Read the image\n",
    "        image = cv2.imread(image_path)\n",
    "        # Resize the image\n",
    "        desired_size = (300, 300)  # Replace with your desired size\n",
    "        resized_image = cv2.resize(image, desired_size)\n",
    "        # Save the Resize image\n",
    "        cv2.imwrite(output_path, resized_image)\n",
    "\n",
    "print(\"Resizing conversion complete.\")"
   ]
  },
  {
   "cell_type": "code",
   "execution_count": 30,
   "id": "d28e4d98",
   "metadata": {},
   "outputs": [
    {
     "name": "stdout",
     "output_type": "stream",
     "text": [
      "GaussianBlur conversion complete.\n"
     ]
    }
   ],
   "source": [
    "input_folder = r\"C:\\Users\\Pooja\\Documents\\Stone\\stone\"  # Replace with the path to your input folder\n",
    "output_folder = 'GaussianBlur/'  # Replace with the path to your output folder\n",
    "if not os.path.exists(output_folder):\n",
    "    os.makedirs(output_folder)\n",
    "for filename in os.listdir(input_folder):\n",
    "    if filename.endswith(('.jpg', '.png', '.jpeg')):  # Adjust the file extensions as needed\n",
    "        image_path = os.path.join(input_folder, filename)\n",
    "        output_path = os.path.join(output_folder, filename)\n",
    "        # Read the image\n",
    "        image = cv2.imread(image_path)\n",
    "        # Apply Gaussian blur using OpenCV\n",
    "        blur_radius = 5  # Adjust this value as needed\n",
    "        blurred_image = cv2.GaussianBlur(image, (blur_radius, blur_radius), 0)\n",
    "        # Save the Gaussian Blur image\n",
    "        cv2.imwrite(output_path, blurred_image)\n",
    "\n",
    "print(\"GaussianBlur conversion complete.\")"
   ]
  },
  {
   "cell_type": "code",
   "execution_count": 38,
   "id": "418316e7",
   "metadata": {},
   "outputs": [
    {
     "name": "stdout",
     "output_type": "stream",
     "text": [
      "Initialised with 1032 image(s) found.\n",
      "Output directory set to C:\\Users\\Pooja\\Documents\\Stone\\stone\\Augmentation/."
     ]
    },
    {
     "name": "stderr",
     "output_type": "stream",
     "text": [
      "Processing <PIL.Image.Image image mode=RGB size=512x512 at 0x2923F79D730>: 100%|██████████| 10/10 [00:00<00:00, 37.65 Samples/s]                 \n"
     ]
    },
    {
     "name": "stdout",
     "output_type": "stream",
     "text": [
      "Initialised with 1032 image(s) found.\n",
      "Output directory set to C:\\Users\\Pooja\\Documents\\Stone\\stone\\Augmentation/."
     ]
    },
    {
     "name": "stderr",
     "output_type": "stream",
     "text": [
      "Processing <PIL.Image.Image image mode=RGB size=512x512 at 0x292407C4760>: 100%|██████████| 10/10 [00:00<00:00, 37.65 Samples/s]                 \n"
     ]
    },
    {
     "name": "stdout",
     "output_type": "stream",
     "text": [
      "Initialised with 1032 image(s) found.\n",
      "Output directory set to C:\\Users\\Pooja\\Documents\\Stone\\stone\\Augmentation/."
     ]
    },
    {
     "name": "stderr",
     "output_type": "stream",
     "text": [
      "Processing <PIL.Image.Image image mode=RGB size=512x512 at 0x2923F8585E0>: 100%|██████████| 10/10 [00:00<00:00, 25.60 Samples/s] \n"
     ]
    },
    {
     "name": "stdout",
     "output_type": "stream",
     "text": [
      "Initialised with 1032 image(s) found.\n",
      "Output directory set to C:\\Users\\Pooja\\Documents\\Stone\\stone\\Augmentation/."
     ]
    },
    {
     "name": "stderr",
     "output_type": "stream",
     "text": [
      "Processing <PIL.Image.Image image mode=RGB size=838x679 at 0x292407C4070>: 100%|██████████| 10/10 [00:00<00:00, 32.00 Samples/s]\n"
     ]
    },
    {
     "name": "stdout",
     "output_type": "stream",
     "text": [
      "Initialised with 1032 image(s) found.\n",
      "Output directory set to C:\\Users\\Pooja\\Documents\\Stone\\stone\\Augmentation/."
     ]
    },
    {
     "name": "stderr",
     "output_type": "stream",
     "text": [
      "Processing <PIL.Image.Image image mode=RGB size=512x512 at 0x2923F858730>: 100%|██████████| 10/10 [00:00<00:00, 19.40 Samples/s] \n"
     ]
    },
    {
     "name": "stdout",
     "output_type": "stream",
     "text": [
      "Initialised with 1032 image(s) found.\n",
      "Output directory set to C:\\Users\\Pooja\\Documents\\Stone\\stone\\Augmentation/."
     ]
    },
    {
     "name": "stderr",
     "output_type": "stream",
     "text": [
      "Processing <PIL.Image.Image image mode=RGB size=512x512 at 0x2923F84DF10>: 100%|██████████| 10/10 [00:00<00:00, 20.00 Samples/s] \n"
     ]
    },
    {
     "name": "stdout",
     "output_type": "stream",
     "text": [
      "Initialised with 1032 image(s) found.\n",
      "Output directory set to C:\\Users\\Pooja\\Documents\\Stone\\stone\\Augmentation/."
     ]
    },
    {
     "name": "stderr",
     "output_type": "stream",
     "text": [
      "Processing <PIL.Image.Image image mode=RGB size=512x512 at 0x2923F858220>: 100%|██████████| 10/10 [00:00<00:00, 20.65 Samples/s] \n"
     ]
    },
    {
     "name": "stdout",
     "output_type": "stream",
     "text": [
      "Initialised with 1032 image(s) found.\n",
      "Output directory set to C:\\Users\\Pooja\\Documents\\Stone\\stone\\Augmentation/."
     ]
    },
    {
     "name": "stderr",
     "output_type": "stream",
     "text": [
      "Processing <PIL.Image.Image image mode=RGB size=512x512 at 0x2923F2EA880>: 100%|██████████| 10/10 [00:00<00:00, 24.62 Samples/s] \n"
     ]
    },
    {
     "name": "stdout",
     "output_type": "stream",
     "text": [
      "Initialised with 1032 image(s) found.\n",
      "Output directory set to C:\\Users\\Pooja\\Documents\\Stone\\stone\\Augmentation/."
     ]
    },
    {
     "name": "stderr",
     "output_type": "stream",
     "text": [
      "Processing <PIL.Image.Image image mode=RGB size=888x719 at 0x2923F79D550>: 100%|██████████| 10/10 [00:00<00:00, 19.40 Samples/s] \n"
     ]
    },
    {
     "name": "stdout",
     "output_type": "stream",
     "text": [
      "Initialised with 1032 image(s) found.\n",
      "Output directory set to C:\\Users\\Pooja\\Documents\\Stone\\stone\\Augmentation/."
     ]
    },
    {
     "name": "stderr",
     "output_type": "stream",
     "text": [
      "Processing <PIL.Image.Image image mode=RGB size=512x512 at 0x2923F84D280>: 100%|██████████| 10/10 [00:00<00:00, 45.72 Samples/s]\n"
     ]
    },
    {
     "name": "stdout",
     "output_type": "stream",
     "text": [
      "Initialised with 1032 image(s) found.\n",
      "Output directory set to C:\\Users\\Pooja\\Documents\\Stone\\stone\\Augmentation/."
     ]
    },
    {
     "name": "stderr",
     "output_type": "stream",
     "text": [
      "Processing <PIL.Image.Image image mode=RGB size=512x512 at 0x2923F2DDC40>: 100%|██████████| 10/10 [00:00<00:00, 18.82 Samples/s]                 \n"
     ]
    },
    {
     "name": "stdout",
     "output_type": "stream",
     "text": [
      "Initialised with 1032 image(s) found.\n",
      "Output directory set to C:\\Users\\Pooja\\Documents\\Stone\\stone\\Augmentation/."
     ]
    },
    {
     "name": "stderr",
     "output_type": "stream",
     "text": [
      "Processing <PIL.Image.Image image mode=RGB size=838x679 at 0x2923F2EAB20>: 100%|██████████| 10/10 [00:00<00:00, 37.65 Samples/s]\n"
     ]
    },
    {
     "name": "stdout",
     "output_type": "stream",
     "text": [
      "Initialised with 1032 image(s) found.\n",
      "Output directory set to C:\\Users\\Pooja\\Documents\\Stone\\stone\\Augmentation/."
     ]
    },
    {
     "name": "stderr",
     "output_type": "stream",
     "text": [
      "Processing <PIL.Image.Image image mode=RGB size=512x512 at 0x2923F83DAC0>: 100%|██████████| 10/10 [00:00<00:00, 29.41 Samples/s] \n"
     ]
    },
    {
     "name": "stdout",
     "output_type": "stream",
     "text": [
      "Initialised with 1032 image(s) found.\n",
      "Output directory set to C:\\Users\\Pooja\\Documents\\Stone\\stone\\Augmentation/."
     ]
    },
    {
     "name": "stderr",
     "output_type": "stream",
     "text": [
      "Processing <PIL.Image.Image image mode=RGB size=888x719 at 0x2923F84D280>: 100%|██████████| 10/10 [00:00<00:00, 30.48 Samples/s] \n"
     ]
    },
    {
     "name": "stdout",
     "output_type": "stream",
     "text": [
      "Initialised with 1032 image(s) found.\n",
      "Output directory set to C:\\Users\\Pooja\\Documents\\Stone\\stone\\Augmentation/."
     ]
    },
    {
     "name": "stderr",
     "output_type": "stream",
     "text": [
      "Processing <PIL.Image.Image image mode=RGB size=801x647 at 0x2923F83DE80>: 100%|██████████| 10/10 [00:00<00:00, 30.48 Samples/s] \n"
     ]
    },
    {
     "name": "stdout",
     "output_type": "stream",
     "text": [
      "Initialised with 1032 image(s) found.\n",
      "Output directory set to C:\\Users\\Pooja\\Documents\\Stone\\stone\\Augmentation/."
     ]
    },
    {
     "name": "stderr",
     "output_type": "stream",
     "text": [
      "Processing <PIL.Image.Image image mode=RGB size=512x512 at 0x2923F84D6A0>: 100%|██████████| 10/10 [00:00<00:00, 40.00 Samples/s]\n"
     ]
    },
    {
     "name": "stdout",
     "output_type": "stream",
     "text": [
      "Initialised with 1032 image(s) found.\n",
      "Output directory set to C:\\Users\\Pooja\\Documents\\Stone\\stone\\Augmentation/."
     ]
    },
    {
     "name": "stderr",
     "output_type": "stream",
     "text": [
      "Processing <PIL.Image.Image image mode=RGB size=512x512 at 0x2923F858AF0>: 100%|██████████| 10/10 [00:00<00:00, 29.09 Samples/s]\n"
     ]
    },
    {
     "name": "stdout",
     "output_type": "stream",
     "text": [
      "Initialised with 1032 image(s) found.\n",
      "Output directory set to C:\\Users\\Pooja\\Documents\\Stone\\stone\\Augmentation/."
     ]
    },
    {
     "name": "stderr",
     "output_type": "stream",
     "text": [
      "Processing <PIL.Image.Image image mode=RGB size=888x719 at 0x2923F4D7220>: 100%|██████████| 10/10 [00:00<00:00, 22.86 Samples/s] \n"
     ]
    },
    {
     "name": "stdout",
     "output_type": "stream",
     "text": [
      "Initialised with 1032 image(s) found.\n",
      "Output directory set to C:\\Users\\Pooja\\Documents\\Stone\\stone\\Augmentation/."
     ]
    },
    {
     "name": "stderr",
     "output_type": "stream",
     "text": [
      "Processing <PIL.Image.Image image mode=RGB size=512x512 at 0x2923F490940>: 100%|██████████| 10/10 [00:00<00:00, 23.71 Samples/s]                   \n"
     ]
    },
    {
     "name": "stdout",
     "output_type": "stream",
     "text": [
      "Initialised with 1032 image(s) found.\n",
      "Output directory set to C:\\Users\\Pooja\\Documents\\Stone\\stone\\Augmentation/."
     ]
    },
    {
     "name": "stderr",
     "output_type": "stream",
     "text": [
      "Processing <PIL.Image.Image image mode=RGB size=512x512 at 0x2923F4D7130>: 100%|██████████| 10/10 [00:00<00:00, 30.48 Samples/s]\n"
     ]
    },
    {
     "name": "stdout",
     "output_type": "stream",
     "text": [
      "Initialised with 1032 image(s) found.\n",
      "Output directory set to C:\\Users\\Pooja\\Documents\\Stone\\stone\\Augmentation/."
     ]
    },
    {
     "name": "stderr",
     "output_type": "stream",
     "text": [
      "Processing <PIL.Image.Image image mode=RGB size=687x555 at 0x292407CC850>: 100%|██████████| 10/10 [00:00<00:00, 15.24 Samples/s] \n"
     ]
    },
    {
     "name": "stdout",
     "output_type": "stream",
     "text": [
      "Initialised with 1032 image(s) found.\n",
      "Output directory set to C:\\Users\\Pooja\\Documents\\Stone\\stone\\Augmentation/."
     ]
    },
    {
     "name": "stderr",
     "output_type": "stream",
     "text": [
      "Processing <PIL.Image.Image image mode=RGB size=512x512 at 0x2923F4D7130>: 100%|██████████| 10/10 [00:00<00:00, 26.67 Samples/s] \n"
     ]
    },
    {
     "name": "stdout",
     "output_type": "stream",
     "text": [
      "Initialised with 1032 image(s) found.\n",
      "Output directory set to C:\\Users\\Pooja\\Documents\\Stone\\stone\\Augmentation/."
     ]
    },
    {
     "name": "stderr",
     "output_type": "stream",
     "text": [
      "Processing <PIL.Image.Image image mode=RGB size=512x512 at 0x2923F490940>: 100%|██████████| 10/10 [00:00<00:00, 25.60 Samples/s]\n"
     ]
    },
    {
     "name": "stdout",
     "output_type": "stream",
     "text": [
      "Initialised with 1032 image(s) found.\n",
      "Output directory set to C:\\Users\\Pooja\\Documents\\Stone\\stone\\Augmentation/."
     ]
    },
    {
     "name": "stderr",
     "output_type": "stream",
     "text": [
      "Processing <PIL.JpegImagePlugin.JpegImageFile image mode=RGB size=682x552 at 0x2923F84DA30>: 100%|██████████| 10/10 [00:00<00:00, 14.88 Samples/s]\n"
     ]
    },
    {
     "name": "stdout",
     "output_type": "stream",
     "text": [
      "Initialised with 1032 image(s) found.\n",
      "Output directory set to C:\\Users\\Pooja\\Documents\\Stone\\stone\\Augmentation/."
     ]
    },
    {
     "name": "stderr",
     "output_type": "stream",
     "text": [
      "Processing <PIL.Image.Image image mode=RGB size=512x512 at 0x2923F4EE490>: 100%|██████████| 10/10 [00:01<00:00,  8.54 Samples/s] \n"
     ]
    },
    {
     "name": "stdout",
     "output_type": "stream",
     "text": [
      "Initialised with 1032 image(s) found.\n",
      "Output directory set to C:\\Users\\Pooja\\Documents\\Stone\\stone\\Augmentation/."
     ]
    },
    {
     "name": "stderr",
     "output_type": "stream",
     "text": [
      "Processing <PIL.Image.Image image mode=RGB size=512x512 at 0x2923F84D1C0>: 100%|██████████| 10/10 [00:00<00:00, 27.83 Samples/s] \n"
     ]
    },
    {
     "name": "stdout",
     "output_type": "stream",
     "text": [
      "Initialised with 1032 image(s) found.\n",
      "Output directory set to C:\\Users\\Pooja\\Documents\\Stone\\stone\\Augmentation/."
     ]
    },
    {
     "name": "stderr",
     "output_type": "stream",
     "text": [
      "Processing <PIL.Image.Image image mode=RGB size=512x512 at 0x2923F858370>: 100%|██████████| 10/10 [00:00<00:00, 25.60 Samples/s] \n"
     ]
    },
    {
     "name": "stdout",
     "output_type": "stream",
     "text": [
      "Initialised with 1032 image(s) found.\n",
      "Output directory set to C:\\Users\\Pooja\\Documents\\Stone\\stone\\Augmentation/."
     ]
    },
    {
     "name": "stderr",
     "output_type": "stream",
     "text": [
      "Processing <PIL.Image.Image image mode=RGB size=512x512 at 0x2923F2EA880>: 100%|██████████| 10/10 [00:00<00:00, 21.33 Samples/s] \n"
     ]
    },
    {
     "name": "stdout",
     "output_type": "stream",
     "text": [
      "Initialised with 1032 image(s) found.\n",
      "Output directory set to C:\\Users\\Pooja\\Documents\\Stone\\stone\\Augmentation/."
     ]
    },
    {
     "name": "stderr",
     "output_type": "stream",
     "text": [
      "Processing <PIL.Image.Image image mode=RGB size=512x512 at 0x2923F8582E0>: 100%|██████████| 10/10 [00:01<00:00,  8.21 Samples/s]\n"
     ]
    },
    {
     "name": "stdout",
     "output_type": "stream",
     "text": [
      "Initialised with 1032 image(s) found.\n",
      "Output directory set to C:\\Users\\Pooja\\Documents\\Stone\\stone\\Augmentation/."
     ]
    },
    {
     "name": "stderr",
     "output_type": "stream",
     "text": [
      "Processing <PIL.Image.Image image mode=RGB size=512x512 at 0x292407C4400>: 100%|██████████| 10/10 [00:02<00:00,  4.60 Samples/s] \n"
     ]
    },
    {
     "name": "stdout",
     "output_type": "stream",
     "text": [
      "Initialised with 1032 image(s) found.\n",
      "Output directory set to C:\\Users\\Pooja\\Documents\\Stone\\stone\\Augmentation/."
     ]
    },
    {
     "name": "stderr",
     "output_type": "stream",
     "text": [
      "Processing <PIL.Image.Image image mode=RGB size=731x591 at 0x2923F490AC0>: 100%|██████████| 10/10 [00:00<00:00, 23.52 Samples/s]                 \n"
     ]
    },
    {
     "name": "stdout",
     "output_type": "stream",
     "text": [
      "Initialised with 1032 image(s) found.\n",
      "Output directory set to C:\\Users\\Pooja\\Documents\\Stone\\stone\\Augmentation/."
     ]
    },
    {
     "name": "stderr",
     "output_type": "stream",
     "text": [
      "Processing <PIL.Image.Image image mode=RGB size=713x576 at 0x292407C40D0>: 100%|██████████| 10/10 [00:00<00:00, 18.82 Samples/s] \n"
     ]
    },
    {
     "name": "stdout",
     "output_type": "stream",
     "text": [
      "Initialised with 1032 image(s) found.\n",
      "Output directory set to C:\\Users\\Pooja\\Documents\\Stone\\stone\\Augmentation/."
     ]
    },
    {
     "name": "stderr",
     "output_type": "stream",
     "text": [
      "Processing <PIL.Image.Image image mode=RGB size=512x512 at 0x2923F8583A0>: 100%|██████████| 10/10 [00:00<00:00, 28.51 Samples/s]\n"
     ]
    },
    {
     "name": "stdout",
     "output_type": "stream",
     "text": [
      "Initialised with 1032 image(s) found.\n",
      "Output directory set to C:\\Users\\Pooja\\Documents\\Stone\\stone\\Augmentation/."
     ]
    },
    {
     "name": "stderr",
     "output_type": "stream",
     "text": [
      "Processing <PIL.Image.Image image mode=RGB size=832x674 at 0x292407C4280>: 100%|██████████| 10/10 [00:00<00:00, 21.70 Samples/s] \n"
     ]
    },
    {
     "name": "stdout",
     "output_type": "stream",
     "text": [
      "Initialised with 1032 image(s) found.\n",
      "Output directory set to C:\\Users\\Pooja\\Documents\\Stone\\stone\\Augmentation/."
     ]
    },
    {
     "name": "stderr",
     "output_type": "stream",
     "text": [
      "Processing <PIL.Image.Image image mode=RGB size=512x512 at 0x2923F490FD0>: 100%|██████████| 10/10 [00:00<00:00, 21.23 Samples/s] \n"
     ]
    },
    {
     "name": "stdout",
     "output_type": "stream",
     "text": [
      "Initialised with 1032 image(s) found.\n",
      "Output directory set to C:\\Users\\Pooja\\Documents\\Stone\\stone\\Augmentation/."
     ]
    },
    {
     "name": "stderr",
     "output_type": "stream",
     "text": [
      "Processing <PIL.Image.Image image mode=RGB size=512x512 at 0x292407C42E0>: 100%|██████████| 10/10 [00:00<00:00, 21.33 Samples/s]\n"
     ]
    },
    {
     "name": "stdout",
     "output_type": "stream",
     "text": [
      "Initialised with 1032 image(s) found.\n",
      "Output directory set to C:\\Users\\Pooja\\Documents\\Stone\\stone\\Augmentation/."
     ]
    },
    {
     "name": "stderr",
     "output_type": "stream",
     "text": [
      "Processing <PIL.Image.Image image mode=RGB size=861x696 at 0x2923F490E50>: 100%|██████████| 10/10 [00:00<00:00, 25.60 Samples/s] \n"
     ]
    },
    {
     "name": "stdout",
     "output_type": "stream",
     "text": [
      "Initialised with 1032 image(s) found.\n",
      "Output directory set to C:\\Users\\Pooja\\Documents\\Stone\\stone\\Augmentation/."
     ]
    },
    {
     "name": "stderr",
     "output_type": "stream",
     "text": [
      "Processing <PIL.Image.Image image mode=RGB size=888x719 at 0x2923F2EAE20>: 100%|██████████| 10/10 [00:00<00:00, 11.01 Samples/s] \n"
     ]
    },
    {
     "name": "stdout",
     "output_type": "stream",
     "text": [
      "Initialised with 1032 image(s) found.\n",
      "Output directory set to C:\\Users\\Pooja\\Documents\\Stone\\stone\\Augmentation/."
     ]
    },
    {
     "name": "stderr",
     "output_type": "stream",
     "text": [
      "Processing <PIL.Image.Image image mode=RGB size=512x512 at 0x2923F858AF0>: 100%|██████████| 10/10 [00:00<00:00, 19.40 Samples/s] \n"
     ]
    },
    {
     "name": "stdout",
     "output_type": "stream",
     "text": [
      "Initialised with 1032 image(s) found.\n",
      "Output directory set to C:\\Users\\Pooja\\Documents\\Stone\\stone\\Augmentation/."
     ]
    },
    {
     "name": "stderr",
     "output_type": "stream",
     "text": [
      "Processing <PIL.Image.Image image mode=RGB size=512x512 at 0x292407C40D0>: 100%|██████████| 10/10 [00:00<00:00, 14.22 Samples/s] \n"
     ]
    },
    {
     "name": "stdout",
     "output_type": "stream",
     "text": [
      "Initialised with 1032 image(s) found.\n",
      "Output directory set to C:\\Users\\Pooja\\Documents\\Stone\\stone\\Augmentation/."
     ]
    },
    {
     "name": "stderr",
     "output_type": "stream",
     "text": [
      "Processing <PIL.Image.Image image mode=RGB size=512x512 at 0x2923F490FD0>: 100%|██████████| 10/10 [00:00<00:00, 12.55 Samples/s]\n"
     ]
    },
    {
     "name": "stdout",
     "output_type": "stream",
     "text": [
      "Initialised with 1032 image(s) found.\n",
      "Output directory set to C:\\Users\\Pooja\\Documents\\Stone\\stone\\Augmentation/."
     ]
    },
    {
     "name": "stderr",
     "output_type": "stream",
     "text": [
      "Processing <PIL.Image.Image image mode=RGB size=888x719 at 0x2923F84D160>: 100%|██████████| 10/10 [00:00<00:00, 11.64 Samples/s] \n"
     ]
    },
    {
     "name": "stdout",
     "output_type": "stream",
     "text": [
      "Initialised with 1032 image(s) found.\n",
      "Output directory set to C:\\Users\\Pooja\\Documents\\Stone\\stone\\Augmentation/."
     ]
    },
    {
     "name": "stderr",
     "output_type": "stream",
     "text": [
      "Processing <PIL.Image.Image image mode=RGB size=560x560 at 0x2923F490FA0>: 100%|██████████| 10/10 [00:00<00:00, 23.67 Samples/s] \n"
     ]
    },
    {
     "name": "stdout",
     "output_type": "stream",
     "text": [
      "Initialised with 1032 image(s) found.\n",
      "Output directory set to C:\\Users\\Pooja\\Documents\\Stone\\stone\\Augmentation/."
     ]
    },
    {
     "name": "stderr",
     "output_type": "stream",
     "text": [
      "Processing <PIL.Image.Image image mode=RGB size=512x512 at 0x2923F4D7EB0>: 100%|██████████| 10/10 [00:00<00:00, 13.28 Samples/s]\n"
     ]
    },
    {
     "name": "stdout",
     "output_type": "stream",
     "text": [
      "Initialised with 1032 image(s) found.\n",
      "Output directory set to C:\\Users\\Pooja\\Documents\\Stone\\stone\\Augmentation/."
     ]
    },
    {
     "name": "stderr",
     "output_type": "stream",
     "text": [
      "Processing <PIL.Image.Image image mode=RGB size=1236x1001 at 0x2923F490B80>: 100%|██████████| 10/10 [00:00<00:00, 17.81 Samples/s]\n"
     ]
    },
    {
     "name": "stdout",
     "output_type": "stream",
     "text": [
      "Initialised with 1032 image(s) found.\n",
      "Output directory set to C:\\Users\\Pooja\\Documents\\Stone\\stone\\Augmentation/."
     ]
    },
    {
     "name": "stderr",
     "output_type": "stream",
     "text": [
      "Processing <PIL.Image.Image image mode=RGB size=787x636 at 0x2923F84D7F0>: 100%|██████████| 10/10 [00:00<00:00, 31.06 Samples/s]\n"
     ]
    },
    {
     "name": "stdout",
     "output_type": "stream",
     "text": [
      "Initialised with 1032 image(s) found.\n",
      "Output directory set to C:\\Users\\Pooja\\Documents\\Stone\\stone\\Augmentation/."
     ]
    },
    {
     "name": "stderr",
     "output_type": "stream",
     "text": [
      "Processing <PIL.Image.Image image mode=RGB size=771x623 at 0x2923F858CD0>: 100%|██████████| 10/10 [00:00<00:00, 27.73 Samples/s]\n"
     ]
    },
    {
     "name": "stdout",
     "output_type": "stream",
     "text": [
      "Initialised with 1032 image(s) found.\n",
      "Output directory set to C:\\Users\\Pooja\\Documents\\Stone\\stone\\Augmentation/."
     ]
    },
    {
     "name": "stderr",
     "output_type": "stream",
     "text": [
      "Processing <PIL.Image.Image image mode=RGB size=512x512 at 0x2923F84D760>: 100%|██████████| 10/10 [00:00<00:00, 22.34 Samples/s]\n"
     ]
    },
    {
     "name": "stdout",
     "output_type": "stream",
     "text": [
      "Initialised with 1032 image(s) found.\n",
      "Output directory set to C:\\Users\\Pooja\\Documents\\Stone\\stone\\Augmentation/."
     ]
    },
    {
     "name": "stderr",
     "output_type": "stream",
     "text": [
      "Processing <PIL.Image.Image image mode=RGB size=512x512 at 0x2923F4EE610>: 100%|██████████| 10/10 [00:00<00:00, 30.70 Samples/s]\n"
     ]
    },
    {
     "name": "stdout",
     "output_type": "stream",
     "text": [
      "Initialised with 1032 image(s) found.\n",
      "Output directory set to C:\\Users\\Pooja\\Documents\\Stone\\stone\\Augmentation/."
     ]
    },
    {
     "name": "stderr",
     "output_type": "stream",
     "text": [
      "Processing <PIL.Image.Image image mode=RGB size=1118x905 at 0x2923F2EA8E0>: 100%|██████████| 10/10 [00:00<00:00, 17.69 Samples/s]\n"
     ]
    },
    {
     "name": "stdout",
     "output_type": "stream",
     "text": [
      "Initialised with 1032 image(s) found.\n",
      "Output directory set to C:\\Users\\Pooja\\Documents\\Stone\\stone\\Augmentation/."
     ]
    },
    {
     "name": "stderr",
     "output_type": "stream",
     "text": [
      "Processing <PIL.Image.Image image mode=RGB size=512x512 at 0x2923F490DF0>: 100%|██████████| 10/10 [00:00<00:00, 26.07 Samples/s]\n"
     ]
    },
    {
     "name": "stdout",
     "output_type": "stream",
     "text": [
      "Initialised with 1032 image(s) found.\n",
      "Output directory set to C:\\Users\\Pooja\\Documents\\Stone\\stone\\Augmentation/."
     ]
    },
    {
     "name": "stderr",
     "output_type": "stream",
     "text": [
      "Processing <PIL.Image.Image image mode=RGB size=512x512 at 0x2923F2EA520>: 100%|██████████| 10/10 [00:00<00:00, 22.54 Samples/s]                 \n"
     ]
    },
    {
     "name": "stdout",
     "output_type": "stream",
     "text": [
      "Initialised with 1032 image(s) found.\n",
      "Output directory set to C:\\Users\\Pooja\\Documents\\Stone\\stone\\Augmentation/."
     ]
    },
    {
     "name": "stderr",
     "output_type": "stream",
     "text": [
      "Processing <PIL.Image.Image image mode=RGB size=512x512 at 0x2923F782FD0>: 100%|██████████| 10/10 [00:00<00:00, 36.38 Samples/s]\n"
     ]
    },
    {
     "name": "stdout",
     "output_type": "stream",
     "text": [
      "Initialised with 1032 image(s) found.\n",
      "Output directory set to C:\\Users\\Pooja\\Documents\\Stone\\stone\\Augmentation/."
     ]
    },
    {
     "name": "stderr",
     "output_type": "stream",
     "text": [
      "Processing <PIL.Image.Image image mode=RGB size=713x576 at 0x292355898B0>: 100%|██████████| 10/10 [00:00<00:00, 13.71 Samples/s] \n"
     ]
    },
    {
     "name": "stdout",
     "output_type": "stream",
     "text": [
      "Initialised with 1032 image(s) found.\n",
      "Output directory set to C:\\Users\\Pooja\\Documents\\Stone\\stone\\Augmentation/."
     ]
    },
    {
     "name": "stderr",
     "output_type": "stream",
     "text": [
      "Processing <PIL.Image.Image image mode=RGB size=512x512 at 0x2923F4EEA00>: 100%|██████████| 10/10 [00:00<00:00, 30.69 Samples/s]\n"
     ]
    },
    {
     "name": "stdout",
     "output_type": "stream",
     "text": [
      "Initialised with 1032 image(s) found.\n",
      "Output directory set to C:\\Users\\Pooja\\Documents\\Stone\\stone\\Augmentation/."
     ]
    },
    {
     "name": "stderr",
     "output_type": "stream",
     "text": [
      "Processing <PIL.Image.Image image mode=RGB size=1236x1001 at 0x2923F4D7F10>: 100%|██████████| 10/10 [00:00<00:00, 14.45 Samples/s]\n"
     ]
    },
    {
     "name": "stdout",
     "output_type": "stream",
     "text": [
      "Initialised with 1032 image(s) found.\n",
      "Output directory set to C:\\Users\\Pooja\\Documents\\Stone\\stone\\Augmentation/."
     ]
    },
    {
     "name": "stderr",
     "output_type": "stream",
     "text": [
      "Processing <PIL.Image.Image image mode=RGB size=512x512 at 0x2923F8FDF40>: 100%|██████████| 10/10 [00:00<00:00, 10.70 Samples/s] \n"
     ]
    },
    {
     "name": "stdout",
     "output_type": "stream",
     "text": [
      "Initialised with 1032 image(s) found.\n",
      "Output directory set to C:\\Users\\Pooja\\Documents\\Stone\\stone\\Augmentation/."
     ]
    },
    {
     "name": "stderr",
     "output_type": "stream",
     "text": [
      "Processing <PIL.Image.Image image mode=RGB size=512x512 at 0x2923F2EAAF0>: 100%|██████████| 10/10 [00:00<00:00, 11.18 Samples/s] \n"
     ]
    },
    {
     "name": "stdout",
     "output_type": "stream",
     "text": [
      "Initialised with 1032 image(s) found.\n",
      "Output directory set to C:\\Users\\Pooja\\Documents\\Stone\\stone\\Augmentation/."
     ]
    },
    {
     "name": "stderr",
     "output_type": "stream",
     "text": [
      "Processing <PIL.Image.Image image mode=RGB size=512x512 at 0x2923F8FDFA0>: 100%|██████████| 10/10 [00:00<00:00, 16.66 Samples/s] \n"
     ]
    },
    {
     "name": "stdout",
     "output_type": "stream",
     "text": [
      "Initialised with 1032 image(s) found.\n",
      "Output directory set to C:\\Users\\Pooja\\Documents\\Stone\\stone\\Augmentation/."
     ]
    },
    {
     "name": "stderr",
     "output_type": "stream",
     "text": [
      "Processing <PIL.Image.Image image mode=RGB size=838x679 at 0x2923F4EE190>: 100%|██████████| 10/10 [00:00<00:00, 12.29 Samples/s] \n"
     ]
    },
    {
     "name": "stdout",
     "output_type": "stream",
     "text": [
      "Initialised with 1032 image(s) found.\n",
      "Output directory set to C:\\Users\\Pooja\\Documents\\Stone\\stone\\Augmentation/."
     ]
    },
    {
     "name": "stderr",
     "output_type": "stream",
     "text": [
      "Processing <PIL.Image.Image image mode=RGB size=1236x1001 at 0x2923F4EEE50>: 100%|██████████| 10/10 [00:00<00:00, 14.92 Samples/s]\n"
     ]
    },
    {
     "name": "stdout",
     "output_type": "stream",
     "text": [
      "Initialised with 1032 image(s) found.\n",
      "Output directory set to C:\\Users\\Pooja\\Documents\\Stone\\stone\\Augmentation/."
     ]
    },
    {
     "name": "stderr",
     "output_type": "stream",
     "text": [
      "Processing <PIL.Image.Image image mode=RGB size=512x512 at 0x2923F2EA040>: 100%|██████████| 10/10 [00:00<00:00, 19.56 Samples/s] \n"
     ]
    },
    {
     "name": "stdout",
     "output_type": "stream",
     "text": [
      "Initialised with 1032 image(s) found.\n",
      "Output directory set to C:\\Users\\Pooja\\Documents\\Stone\\stone\\Augmentation/."
     ]
    },
    {
     "name": "stderr",
     "output_type": "stream",
     "text": [
      "Processing <PIL.Image.Image image mode=RGB size=1203x974 at 0x2923F4EE430>: 100%|██████████| 10/10 [00:00<00:00, 11.65 Samples/s]\n"
     ]
    },
    {
     "name": "stdout",
     "output_type": "stream",
     "text": [
      "Initialised with 1032 image(s) found.\n",
      "Output directory set to C:\\Users\\Pooja\\Documents\\Stone\\stone\\Augmentation/."
     ]
    },
    {
     "name": "stderr",
     "output_type": "stream",
     "text": [
      "Processing <PIL.Image.Image image mode=RGB size=512x512 at 0x2923F4D7D60>: 100%|██████████| 10/10 [00:00<00:00, 24.07 Samples/s] \n"
     ]
    },
    {
     "name": "stdout",
     "output_type": "stream",
     "text": [
      "Initialised with 1032 image(s) found.\n",
      "Output directory set to C:\\Users\\Pooja\\Documents\\Stone\\stone\\Augmentation/."
     ]
    },
    {
     "name": "stderr",
     "output_type": "stream",
     "text": [
      "Processing <PIL.Image.Image image mode=RGB size=512x512 at 0x2923F8C9C70>: 100%|██████████| 10/10 [00:01<00:00,  7.97 Samples/s]\n"
     ]
    },
    {
     "name": "stdout",
     "output_type": "stream",
     "text": [
      "Initialised with 1032 image(s) found.\n",
      "Output directory set to C:\\Users\\Pooja\\Documents\\Stone\\stone\\Augmentation/."
     ]
    },
    {
     "name": "stderr",
     "output_type": "stream",
     "text": [
      "Processing <PIL.Image.Image image mode=RGB size=1203x974 at 0x2923F79D760>: 100%|██████████| 10/10 [00:01<00:00,  9.94 Samples/s]\n"
     ]
    },
    {
     "name": "stdout",
     "output_type": "stream",
     "text": [
      "Initialised with 1032 image(s) found.\n",
      "Output directory set to C:\\Users\\Pooja\\Documents\\Stone\\stone\\Augmentation/."
     ]
    },
    {
     "name": "stderr",
     "output_type": "stream",
     "text": [
      "Processing <PIL.Image.Image image mode=RGB size=512x512 at 0x2923F4EE5B0>: 100%|██████████| 10/10 [00:00<00:00, 19.55 Samples/s] \n"
     ]
    },
    {
     "name": "stdout",
     "output_type": "stream",
     "text": [
      "Initialised with 1032 image(s) found.\n",
      "Output directory set to C:\\Users\\Pooja\\Documents\\Stone\\stone\\Augmentation/."
     ]
    },
    {
     "name": "stderr",
     "output_type": "stream",
     "text": [
      "Processing <PIL.Image.Image image mode=RGB size=512x512 at 0x2923F2EA5E0>: 100%|██████████| 10/10 [00:00<00:00, 15.37 Samples/s] \n"
     ]
    },
    {
     "name": "stdout",
     "output_type": "stream",
     "text": [
      "Initialised with 1032 image(s) found.\n",
      "Output directory set to C:\\Users\\Pooja\\Documents\\Stone\\stone\\Augmentation/."
     ]
    },
    {
     "name": "stderr",
     "output_type": "stream",
     "text": [
      "Processing <PIL.Image.Image image mode=RGB size=512x512 at 0x2923F8C9580>: 100%|██████████| 10/10 [00:00<00:00, 17.34 Samples/s] \n"
     ]
    },
    {
     "name": "stdout",
     "output_type": "stream",
     "text": [
      "Initialised with 1032 image(s) found.\n",
      "Output directory set to C:\\Users\\Pooja\\Documents\\Stone\\stone\\Augmentation/."
     ]
    },
    {
     "name": "stderr",
     "output_type": "stream",
     "text": [
      "Processing <PIL.Image.Image image mode=RGB size=512x512 at 0x2923F4D74C0>: 100%|██████████| 10/10 [00:00<00:00, 25.53 Samples/s]\n"
     ]
    },
    {
     "name": "stdout",
     "output_type": "stream",
     "text": [
      "Initialised with 1032 image(s) found.\n",
      "Output directory set to C:\\Users\\Pooja\\Documents\\Stone\\stone\\Augmentation/."
     ]
    },
    {
     "name": "stderr",
     "output_type": "stream",
     "text": [
      "Processing <PIL.Image.Image image mode=RGB size=713x576 at 0x2923F782D60>: 100%|██████████| 10/10 [00:00<00:00, 17.23 Samples/s] \n"
     ]
    },
    {
     "name": "stdout",
     "output_type": "stream",
     "text": [
      "Initialised with 1032 image(s) found.\n",
      "Output directory set to C:\\Users\\Pooja\\Documents\\Stone\\stone\\Augmentation/."
     ]
    },
    {
     "name": "stderr",
     "output_type": "stream",
     "text": [
      "Processing <PIL.Image.Image image mode=RGB size=813x657 at 0x2923F79D310>: 100%|██████████| 10/10 [00:00<00:00, 32.82 Samples/s] \n"
     ]
    },
    {
     "name": "stdout",
     "output_type": "stream",
     "text": [
      "Initialised with 1032 image(s) found.\n",
      "Output directory set to C:\\Users\\Pooja\\Documents\\Stone\\stone\\Augmentation/."
     ]
    },
    {
     "name": "stderr",
     "output_type": "stream",
     "text": [
      "Processing <PIL.Image.Image image mode=RGB size=888x719 at 0x2923F4EEA30>: 100%|██████████| 10/10 [00:00<00:00, 23.89 Samples/s]\n"
     ]
    },
    {
     "name": "stdout",
     "output_type": "stream",
     "text": [
      "Initialised with 1032 image(s) found.\n",
      "Output directory set to C:\\Users\\Pooja\\Documents\\Stone\\stone\\Augmentation/."
     ]
    },
    {
     "name": "stderr",
     "output_type": "stream",
     "text": [
      "Processing <PIL.Image.Image image mode=RGB size=512x512 at 0x2923F79D610>: 100%|██████████| 10/10 [00:00<00:00, 20.80 Samples/s] \n"
     ]
    },
    {
     "name": "stdout",
     "output_type": "stream",
     "text": [
      "Initialised with 1032 image(s) found.\n",
      "Output directory set to C:\\Users\\Pooja\\Documents\\Stone\\stone\\Augmentation/."
     ]
    },
    {
     "name": "stderr",
     "output_type": "stream",
     "text": [
      "Processing <PIL.Image.Image image mode=RGB size=1236x1001 at 0x2923F79D5B0>: 100%|██████████| 10/10 [00:00<00:00, 16.57 Samples/s]\n"
     ]
    },
    {
     "name": "stdout",
     "output_type": "stream",
     "text": [
      "Initialised with 1032 image(s) found.\n",
      "Output directory set to C:\\Users\\Pooja\\Documents\\Stone\\stone\\Augmentation/."
     ]
    },
    {
     "name": "stderr",
     "output_type": "stream",
     "text": [
      "Processing <PIL.Image.Image image mode=RGB size=1236x1001 at 0x2923F79D7C0>: 100%|██████████| 10/10 [00:00<00:00, 19.58 Samples/s]\n"
     ]
    },
    {
     "name": "stdout",
     "output_type": "stream",
     "text": [
      "Initialised with 1032 image(s) found.\n",
      "Output directory set to C:\\Users\\Pooja\\Documents\\Stone\\stone\\Augmentation/."
     ]
    },
    {
     "name": "stderr",
     "output_type": "stream",
     "text": [
      "Processing <PIL.Image.Image image mode=RGB size=512x512 at 0x2923F8FDFD0>: 100%|██████████| 10/10 [00:00<00:00, 37.67 Samples/s]\n"
     ]
    },
    {
     "name": "stdout",
     "output_type": "stream",
     "text": [
      "Initialised with 1032 image(s) found.\n",
      "Output directory set to C:\\Users\\Pooja\\Documents\\Stone\\stone\\Augmentation/."
     ]
    },
    {
     "name": "stderr",
     "output_type": "stream",
     "text": [
      "Processing <PIL.Image.Image image mode=RGB size=512x512 at 0x2923F84D2B0>: 100%|██████████| 10/10 [00:00<00:00, 20.67 Samples/s] \n"
     ]
    },
    {
     "name": "stdout",
     "output_type": "stream",
     "text": [
      "Initialised with 1032 image(s) found.\n",
      "Output directory set to C:\\Users\\Pooja\\Documents\\Stone\\stone\\Augmentation/."
     ]
    },
    {
     "name": "stderr",
     "output_type": "stream",
     "text": [
      "Processing <PIL.Image.Image image mode=RGB size=512x512 at 0x2923F4EE3A0>: 100%|██████████| 10/10 [00:00<00:00, 17.42 Samples/s]\n"
     ]
    },
    {
     "name": "stdout",
     "output_type": "stream",
     "text": [
      "Initialised with 1032 image(s) found.\n",
      "Output directory set to C:\\Users\\Pooja\\Documents\\Stone\\stone\\Augmentation/."
     ]
    },
    {
     "name": "stderr",
     "output_type": "stream",
     "text": [
      "Processing <PIL.Image.Image image mode=RGB size=687x555 at 0x292407C4370>: 100%|██████████| 10/10 [00:00<00:00, 27.06 Samples/s] \n"
     ]
    },
    {
     "name": "stdout",
     "output_type": "stream",
     "text": [
      "Initialised with 1032 image(s) found.\n",
      "Output directory set to C:\\Users\\Pooja\\Documents\\Stone\\stone\\Augmentation/."
     ]
    },
    {
     "name": "stderr",
     "output_type": "stream",
     "text": [
      "Processing <PIL.Image.Image image mode=RGB size=687x555 at 0x2923F8C97C0>: 100%|██████████| 10/10 [00:00<00:00, 20.83 Samples/s] \n"
     ]
    },
    {
     "name": "stdout",
     "output_type": "stream",
     "text": [
      "Initialised with 1032 image(s) found.\n",
      "Output directory set to C:\\Users\\Pooja\\Documents\\Stone\\stone\\Augmentation/."
     ]
    },
    {
     "name": "stderr",
     "output_type": "stream",
     "text": [
      "Processing <PIL.Image.Image image mode=RGB size=1236x1001 at 0x2923F2EA5E0>: 100%|██████████| 10/10 [00:00<00:00, 16.83 Samples/s]\n"
     ]
    },
    {
     "name": "stdout",
     "output_type": "stream",
     "text": [
      "Initialised with 1032 image(s) found.\n",
      "Output directory set to C:\\Users\\Pooja\\Documents\\Stone\\stone\\Augmentation/."
     ]
    },
    {
     "name": "stderr",
     "output_type": "stream",
     "text": [
      "Processing <PIL.Image.Image image mode=RGB size=512x512 at 0x2923F4EE9D0>: 100%|██████████| 10/10 [00:00<00:00, 28.22 Samples/s]\n"
     ]
    },
    {
     "name": "stdout",
     "output_type": "stream",
     "text": [
      "Initialised with 1032 image(s) found.\n",
      "Output directory set to C:\\Users\\Pooja\\Documents\\Stone\\stone\\Augmentation/."
     ]
    },
    {
     "name": "stderr",
     "output_type": "stream",
     "text": [
      "Processing <PIL.Image.Image image mode=RGB size=512x512 at 0x2923F79D130>: 100%|██████████| 10/10 [00:00<00:00, 22.36 Samples/s] \n"
     ]
    },
    {
     "name": "stdout",
     "output_type": "stream",
     "text": [
      "Initialised with 1032 image(s) found.\n",
      "Output directory set to C:\\Users\\Pooja\\Documents\\Stone\\stone\\Augmentation/."
     ]
    },
    {
     "name": "stderr",
     "output_type": "stream",
     "text": [
      "Processing <PIL.Image.Image image mode=RGB size=512x512 at 0x2923F8C9910>: 100%|██████████| 10/10 [00:00<00:00, 16.93 Samples/s] \n"
     ]
    },
    {
     "name": "stdout",
     "output_type": "stream",
     "text": [
      "Initialised with 1032 image(s) found.\n",
      "Output directory set to C:\\Users\\Pooja\\Documents\\Stone\\stone\\Augmentation/."
     ]
    },
    {
     "name": "stderr",
     "output_type": "stream",
     "text": [
      "Processing <PIL.Image.Image image mode=RGB size=512x512 at 0x2923F8B5E80>: 100%|██████████| 10/10 [00:00<00:00, 31.35 Samples/s]                 \n"
     ]
    },
    {
     "name": "stdout",
     "output_type": "stream",
     "text": [
      "Initialised with 1032 image(s) found.\n",
      "Output directory set to C:\\Users\\Pooja\\Documents\\Stone\\stone\\Augmentation/."
     ]
    },
    {
     "name": "stderr",
     "output_type": "stream",
     "text": [
      "Processing <PIL.Image.Image image mode=RGB size=512x512 at 0x2923F4EEC10>: 100%|██████████| 10/10 [00:00<00:00, 38.35 Samples/s]\n"
     ]
    },
    {
     "name": "stdout",
     "output_type": "stream",
     "text": [
      "Initialised with 1032 image(s) found.\n",
      "Output directory set to C:\\Users\\Pooja\\Documents\\Stone\\stone\\Augmentation/."
     ]
    },
    {
     "name": "stderr",
     "output_type": "stream",
     "text": [
      "Processing <PIL.Image.Image image mode=RGB size=512x512 at 0x2923F8C9D90>: 100%|██████████| 10/10 [00:00<00:00, 15.31 Samples/s] \n"
     ]
    },
    {
     "name": "stdout",
     "output_type": "stream",
     "text": [
      "Initialised with 1032 image(s) found.\n",
      "Output directory set to C:\\Users\\Pooja\\Documents\\Stone\\stone\\Augmentation/."
     ]
    },
    {
     "name": "stderr",
     "output_type": "stream",
     "text": [
      "Processing <PIL.Image.Image image mode=RGB size=512x512 at 0x2923F4EE910>: 100%|██████████| 10/10 [00:00<00:00, 21.47 Samples/s]\n"
     ]
    },
    {
     "name": "stdout",
     "output_type": "stream",
     "text": [
      "Initialised with 1032 image(s) found.\n",
      "Output directory set to C:\\Users\\Pooja\\Documents\\Stone\\stone\\Augmentation/."
     ]
    },
    {
     "name": "stderr",
     "output_type": "stream",
     "text": [
      "Processing <PIL.Image.Image image mode=RGB size=512x512 at 0x2923F782250>: 100%|██████████| 10/10 [00:00<00:00, 33.99 Samples/s]\n"
     ]
    },
    {
     "name": "stdout",
     "output_type": "stream",
     "text": [
      "Initialised with 1032 image(s) found.\n",
      "Output directory set to C:\\Users\\Pooja\\Documents\\Stone\\stone\\Augmentation/."
     ]
    },
    {
     "name": "stderr",
     "output_type": "stream",
     "text": [
      "Processing <PIL.JpegImagePlugin.JpegImageFile image mode=RGB size=512x512 at 0x2923F4EE970>: 100%|██████████| 10/10 [00:00<00:00, 29.64 Samples/s]\n"
     ]
    },
    {
     "name": "stdout",
     "output_type": "stream",
     "text": [
      "Initialised with 1032 image(s) found.\n",
      "Output directory set to C:\\Users\\Pooja\\Documents\\Stone\\stone\\Augmentation/."
     ]
    },
    {
     "name": "stderr",
     "output_type": "stream",
     "text": [
      "Processing <PIL.Image.Image image mode=RGB size=713x576 at 0x2923F8C9E50>: 100%|██████████| 10/10 [00:00<00:00, 22.77 Samples/s] \n"
     ]
    },
    {
     "name": "stdout",
     "output_type": "stream",
     "text": [
      "Initialised with 1032 image(s) found.\n",
      "Output directory set to C:\\Users\\Pooja\\Documents\\Stone\\stone\\Augmentation/."
     ]
    },
    {
     "name": "stderr",
     "output_type": "stream",
     "text": [
      "Processing <PIL.Image.Image image mode=RGB size=512x512 at 0x2923F8720D0>: 100%|██████████| 10/10 [00:00<00:00, 28.60 Samples/s] \n"
     ]
    },
    {
     "name": "stdout",
     "output_type": "stream",
     "text": [
      "Initialised with 1032 image(s) found.\n",
      "Output directory set to C:\\Users\\Pooja\\Documents\\Stone\\stone\\Augmentation/."
     ]
    },
    {
     "name": "stderr",
     "output_type": "stream",
     "text": [
      "Processing <PIL.Image.Image image mode=RGB size=512x512 at 0x2923F7820D0>: 100%|██████████| 10/10 [00:00<00:00, 26.57 Samples/s]\n"
     ]
    },
    {
     "name": "stdout",
     "output_type": "stream",
     "text": [
      "Initialised with 1032 image(s) found.\n",
      "Output directory set to C:\\Users\\Pooja\\Documents\\Stone\\stone\\Augmentation/."
     ]
    },
    {
     "name": "stderr",
     "output_type": "stream",
     "text": [
      "Processing <PIL.Image.Image image mode=RGB size=512x512 at 0x2923F4EED60>: 100%|██████████| 10/10 [00:00<00:00, 22.99 Samples/s] \n"
     ]
    },
    {
     "name": "stdout",
     "output_type": "stream",
     "text": [
      "Initialised with 1032 image(s) found.\n",
      "Output directory set to C:\\Users\\Pooja\\Documents\\Stone\\stone\\Augmentation/."
     ]
    },
    {
     "name": "stderr",
     "output_type": "stream",
     "text": [
      "Processing <PIL.Image.Image image mode=RGB size=512x512 at 0x2923F8B5F10>: 100%|██████████| 10/10 [00:00<00:00, 19.43 Samples/s] \n"
     ]
    },
    {
     "name": "stdout",
     "output_type": "stream",
     "text": [
      "Initialised with 1032 image(s) found.\n",
      "Output directory set to C:\\Users\\Pooja\\Documents\\Stone\\stone\\Augmentation/."
     ]
    },
    {
     "name": "stderr",
     "output_type": "stream",
     "text": [
      "Processing <PIL.Image.Image image mode=RGB size=832x674 at 0x2923F4EEF10>: 100%|██████████| 10/10 [00:01<00:00,  8.79 Samples/s] \n"
     ]
    },
    {
     "name": "stdout",
     "output_type": "stream",
     "text": [
      "Initialised with 1032 image(s) found.\n",
      "Output directory set to C:\\Users\\Pooja\\Documents\\Stone\\stone\\Augmentation/."
     ]
    },
    {
     "name": "stderr",
     "output_type": "stream",
     "text": [
      "Processing <PIL.Image.Image image mode=RGB size=512x512 at 0x2923F8B5FA0>: 100%|██████████| 10/10 [00:00<00:00, 16.05 Samples/s] \n"
     ]
    },
    {
     "name": "stdout",
     "output_type": "stream",
     "text": [
      "Initialised with 1032 image(s) found.\n",
      "Output directory set to C:\\Users\\Pooja\\Documents\\Stone\\stone\\Augmentation/."
     ]
    },
    {
     "name": "stderr",
     "output_type": "stream",
     "text": [
      "Processing <PIL.Image.Image image mode=RGB size=1236x1001 at 0x2923F8720A0>: 100%|██████████| 10/10 [00:00<00:00, 17.58 Samples/s]\n"
     ]
    },
    {
     "name": "stdout",
     "output_type": "stream",
     "text": [
      "Initialised with 1032 image(s) found.\n",
      "Output directory set to C:\\Users\\Pooja\\Documents\\Stone\\stone\\Augmentation/."
     ]
    },
    {
     "name": "stderr",
     "output_type": "stream",
     "text": [
      "Processing <PIL.Image.Image image mode=RGB size=512x512 at 0x2923F7828B0>: 100%|██████████| 10/10 [00:00<00:00, 14.32 Samples/s] \n"
     ]
    },
    {
     "name": "stdout",
     "output_type": "stream",
     "text": [
      "Initialised with 1032 image(s) found.\n",
      "Output directory set to C:\\Users\\Pooja\\Documents\\Stone\\stone\\Augmentation/."
     ]
    },
    {
     "name": "stderr",
     "output_type": "stream",
     "text": [
      "Processing <PIL.Image.Image image mode=RGB size=512x512 at 0x2923F8722B0>: 100%|██████████| 10/10 [00:00<00:00, 12.55 Samples/s] \n"
     ]
    },
    {
     "name": "stdout",
     "output_type": "stream",
     "text": [
      "Initialised with 1032 image(s) found.\n",
      "Output directory set to C:\\Users\\Pooja\\Documents\\Stone\\stone\\Augmentation/."
     ]
    },
    {
     "name": "stderr",
     "output_type": "stream",
     "text": [
      "Processing <PIL.Image.Image image mode=RGB size=512x512 at 0x2923F8FD070>: 100%|██████████| 10/10 [00:01<00:00,  5.58 Samples/s] \n"
     ]
    },
    {
     "name": "stdout",
     "output_type": "stream",
     "text": [
      "Initialised with 1032 image(s) found.\n",
      "Output directory set to C:\\Users\\Pooja\\Documents\\Stone\\stone\\Augmentation/."
     ]
    },
    {
     "name": "stderr",
     "output_type": "stream",
     "text": [
      "Processing <PIL.Image.Image image mode=RGB size=888x719 at 0x2923F782D60>: 100%|██████████| 10/10 [00:00<00:00, 18.73 Samples/s] \n"
     ]
    },
    {
     "name": "stdout",
     "output_type": "stream",
     "text": [
      "Initialised with 1032 image(s) found.\n",
      "Output directory set to C:\\Users\\Pooja\\Documents\\Stone\\stone\\Augmentation/."
     ]
    },
    {
     "name": "stderr",
     "output_type": "stream",
     "text": [
      "Processing <PIL.Image.Image image mode=RGB size=787x636 at 0x2923F8FD250>: 100%|██████████| 10/10 [00:00<00:00, 12.16 Samples/s]\n"
     ]
    },
    {
     "name": "stdout",
     "output_type": "stream",
     "text": [
      "Initialised with 1032 image(s) found.\n",
      "Output directory set to C:\\Users\\Pooja\\Documents\\Stone\\stone\\Augmentation/."
     ]
    },
    {
     "name": "stderr",
     "output_type": "stream",
     "text": [
      "Processing <PIL.Image.Image image mode=RGB size=855x691 at 0x2923F782DF0>: 100%|██████████| 10/10 [00:00<00:00, 22.62 Samples/s]\n"
     ]
    },
    {
     "name": "stdout",
     "output_type": "stream",
     "text": [
      "Initialised with 1032 image(s) found.\n",
      "Output directory set to C:\\Users\\Pooja\\Documents\\Stone\\stone\\Augmentation/."
     ]
    },
    {
     "name": "stderr",
     "output_type": "stream",
     "text": [
      "Processing <PIL.Image.Image image mode=RGB size=512x512 at 0x2923F8FDC70>: 100%|██████████| 10/10 [00:00<00:00, 20.87 Samples/s] \n"
     ]
    },
    {
     "name": "stdout",
     "output_type": "stream",
     "text": [
      "Initialised with 1032 image(s) found.\n",
      "Output directory set to C:\\Users\\Pooja\\Documents\\Stone\\stone\\Augmentation/."
     ]
    },
    {
     "name": "stderr",
     "output_type": "stream",
     "text": [
      "Processing <PIL.Image.Image image mode=RGB size=904x732 at 0x2923F8C93D0>: 100%|██████████| 10/10 [00:00<00:00, 19.97 Samples/s]\n"
     ]
    },
    {
     "name": "stdout",
     "output_type": "stream",
     "text": [
      "Initialised with 1032 image(s) found.\n",
      "Output directory set to C:\\Users\\Pooja\\Documents\\Stone\\stone\\Augmentation/."
     ]
    },
    {
     "name": "stderr",
     "output_type": "stream",
     "text": [
      "Processing <PIL.Image.Image image mode=RGB size=512x512 at 0x2923F8FDF10>: 100%|██████████| 10/10 [00:00<00:00, 14.49 Samples/s] \n"
     ]
    },
    {
     "name": "stdout",
     "output_type": "stream",
     "text": [
      "Initialised with 1032 image(s) found.\n",
      "Output directory set to C:\\Users\\Pooja\\Documents\\Stone\\stone\\Augmentation/."
     ]
    },
    {
     "name": "stderr",
     "output_type": "stream",
     "text": [
      "Processing <PIL.Image.Image image mode=RGB size=512x512 at 0x2923F8C9B50>: 100%|██████████| 10/10 [00:00<00:00, 24.24 Samples/s] \n"
     ]
    },
    {
     "name": "stdout",
     "output_type": "stream",
     "text": [
      "Initialised with 1032 image(s) found.\n",
      "Output directory set to C:\\Users\\Pooja\\Documents\\Stone\\stone\\Augmentation/."
     ]
    },
    {
     "name": "stderr",
     "output_type": "stream",
     "text": [
      "Processing <PIL.Image.Image image mode=RGB size=838x679 at 0x2923F8FDD00>: 100%|██████████| 10/10 [00:00<00:00, 16.31 Samples/s] \n"
     ]
    },
    {
     "name": "stdout",
     "output_type": "stream",
     "text": [
      "Initialised with 1032 image(s) found.\n",
      "Output directory set to C:\\Users\\Pooja\\Documents\\Stone\\stone\\Augmentation/."
     ]
    },
    {
     "name": "stderr",
     "output_type": "stream",
     "text": [
      "Processing <PIL.Image.Image image mode=RGB size=512x512 at 0x2923F782D90>: 100%|██████████| 10/10 [00:00<00:00, 16.76 Samples/s] \n"
     ]
    },
    {
     "name": "stdout",
     "output_type": "stream",
     "text": [
      "Initialised with 1032 image(s) found.\n",
      "Output directory set to C:\\Users\\Pooja\\Documents\\Stone\\stone\\Augmentation/."
     ]
    },
    {
     "name": "stderr",
     "output_type": "stream",
     "text": [
      "Processing <PIL.Image.Image image mode=RGB size=512x512 at 0x2923F782B50>: 100%|██████████| 10/10 [00:00<00:00, 28.50 Samples/s]\n"
     ]
    },
    {
     "name": "stdout",
     "output_type": "stream",
     "text": [
      "Initialised with 1032 image(s) found.\n",
      "Output directory set to C:\\Users\\Pooja\\Documents\\Stone\\stone\\Augmentation/."
     ]
    },
    {
     "name": "stderr",
     "output_type": "stream",
     "text": [
      "Processing <PIL.Image.Image image mode=RGB size=1203x974 at 0x2923F872400>: 100%|██████████| 10/10 [00:01<00:00,  9.91 Samples/s]\n"
     ]
    },
    {
     "name": "stdout",
     "output_type": "stream",
     "text": [
      "Initialised with 1032 image(s) found.\n",
      "Output directory set to C:\\Users\\Pooja\\Documents\\Stone\\stone\\Augmentation/."
     ]
    },
    {
     "name": "stderr",
     "output_type": "stream",
     "text": [
      "Processing <PIL.Image.Image image mode=RGB size=512x512 at 0x2923F8C9F40>: 100%|██████████| 10/10 [00:00<00:00, 17.78 Samples/s]                 \n"
     ]
    },
    {
     "name": "stdout",
     "output_type": "stream",
     "text": [
      "Initialised with 1032 image(s) found.\n",
      "Output directory set to C:\\Users\\Pooja\\Documents\\Stone\\stone\\Augmentation/."
     ]
    },
    {
     "name": "stderr",
     "output_type": "stream",
     "text": [
      "Processing <PIL.Image.Image image mode=RGB size=801x647 at 0x2923F8722B0>: 100%|██████████| 10/10 [00:00<00:00, 13.62 Samples/s] \n"
     ]
    },
    {
     "name": "stdout",
     "output_type": "stream",
     "text": [
      "Initialised with 1032 image(s) found.\n",
      "Output directory set to C:\\Users\\Pooja\\Documents\\Stone\\stone\\Augmentation/."
     ]
    },
    {
     "name": "stderr",
     "output_type": "stream",
     "text": [
      "Processing <PIL.Image.Image image mode=RGB size=512x512 at 0x2923F8FDBB0>: 100%|██████████| 10/10 [00:00<00:00, 26.67 Samples/s]\n"
     ]
    },
    {
     "name": "stdout",
     "output_type": "stream",
     "text": [
      "Initialised with 1032 image(s) found.\n",
      "Output directory set to C:\\Users\\Pooja\\Documents\\Stone\\stone\\Augmentation/."
     ]
    },
    {
     "name": "stderr",
     "output_type": "stream",
     "text": [
      "Processing <PIL.Image.Image image mode=RGB size=512x512 at 0x2923F4EE5B0>: 100%|██████████| 10/10 [00:00<00:00, 22.86 Samples/s] \n"
     ]
    },
    {
     "name": "stdout",
     "output_type": "stream",
     "text": [
      "Initialised with 1032 image(s) found.\n",
      "Output directory set to C:\\Users\\Pooja\\Documents\\Stone\\stone\\Augmentation/."
     ]
    },
    {
     "name": "stderr",
     "output_type": "stream",
     "text": [
      "Processing <PIL.Image.Image image mode=RGB size=512x512 at 0x2923F8FDAC0>: 100%|██████████| 10/10 [00:00<00:00, 20.65 Samples/s] \n"
     ]
    },
    {
     "name": "stdout",
     "output_type": "stream",
     "text": [
      "Initialised with 1032 image(s) found.\n",
      "Output directory set to C:\\Users\\Pooja\\Documents\\Stone\\stone\\Augmentation/."
     ]
    },
    {
     "name": "stderr",
     "output_type": "stream",
     "text": [
      "Processing <PIL.Image.Image image mode=RGB size=713x576 at 0x2923F778DF0>: 100%|██████████| 10/10 [00:00<00:00, 32.11 Samples/s]\n"
     ]
    },
    {
     "name": "stdout",
     "output_type": "stream",
     "text": [
      "Initialised with 1032 image(s) found.\n",
      "Output directory set to C:\\Users\\Pooja\\Documents\\Stone\\stone\\Augmentation/."
     ]
    },
    {
     "name": "stderr",
     "output_type": "stream",
     "text": [
      "Processing <PIL.Image.Image image mode=RGB size=512x512 at 0x2923F8FD3A0>: 100%|██████████| 10/10 [00:00<00:00, 42.67 Samples/s]\n"
     ]
    },
    {
     "name": "stdout",
     "output_type": "stream",
     "text": [
      "Initialised with 1032 image(s) found.\n",
      "Output directory set to C:\\Users\\Pooja\\Documents\\Stone\\stone\\Augmentation/."
     ]
    },
    {
     "name": "stderr",
     "output_type": "stream",
     "text": [
      "Processing <PIL.Image.Image image mode=RGB size=512x512 at 0x2923F89F5B0>: 100%|██████████| 10/10 [00:00<00:00, 14.19 Samples/s] \n"
     ]
    },
    {
     "name": "stdout",
     "output_type": "stream",
     "text": [
      "Initialised with 1032 image(s) found.\n",
      "Output directory set to C:\\Users\\Pooja\\Documents\\Stone\\stone\\Augmentation/."
     ]
    },
    {
     "name": "stderr",
     "output_type": "stream",
     "text": [
      "Processing <PIL.Image.Image image mode=RGB size=512x512 at 0x2923F782A90>: 100%|██████████| 10/10 [00:00<00:00, 22.07 Samples/s]\n"
     ]
    },
    {
     "name": "stdout",
     "output_type": "stream",
     "text": [
      "Initialised with 1032 image(s) found.\n",
      "Output directory set to C:\\Users\\Pooja\\Documents\\Stone\\stone\\Augmentation/."
     ]
    },
    {
     "name": "stderr",
     "output_type": "stream",
     "text": [
      "Processing <PIL.Image.Image image mode=RGB size=512x512 at 0x2923F89FBB0>: 100%|██████████| 10/10 [00:00<00:00, 22.07 Samples/s]\n"
     ]
    },
    {
     "name": "stdout",
     "output_type": "stream",
     "text": [
      "Initialised with 1032 image(s) found.\n",
      "Output directory set to C:\\Users\\Pooja\\Documents\\Stone\\stone\\Augmentation/."
     ]
    },
    {
     "name": "stderr",
     "output_type": "stream",
     "text": [
      "Processing <PIL.Image.Image image mode=RGB size=512x512 at 0x2923F8FD040>: 100%|██████████| 10/10 [00:00<00:00, 25.60 Samples/s]\n"
     ]
    },
    {
     "name": "stdout",
     "output_type": "stream",
     "text": [
      "Initialised with 1032 image(s) found.\n",
      "Output directory set to C:\\Users\\Pooja\\Documents\\Stone\\stone\\Augmentation/."
     ]
    },
    {
     "name": "stderr",
     "output_type": "stream",
     "text": [
      "Processing <PIL.Image.Image image mode=RGB size=512x512 at 0x2923F778D00>: 100%|██████████| 10/10 [00:00<00:00, 27.29 Samples/s]\n"
     ]
    },
    {
     "name": "stdout",
     "output_type": "stream",
     "text": [
      "Initialised with 1032 image(s) found.\n",
      "Output directory set to C:\\Users\\Pooja\\Documents\\Stone\\stone\\Augmentation/."
     ]
    },
    {
     "name": "stderr",
     "output_type": "stream",
     "text": [
      "Processing <PIL.Image.Image image mode=RGB size=512x512 at 0x2923F7821C0>: 100%|██████████| 10/10 [00:00<00:00, 18.82 Samples/s]\n"
     ]
    },
    {
     "name": "stdout",
     "output_type": "stream",
     "text": [
      "Initialised with 1032 image(s) found.\n",
      "Output directory set to C:\\Users\\Pooja\\Documents\\Stone\\stone\\Augmentation/."
     ]
    },
    {
     "name": "stderr",
     "output_type": "stream",
     "text": [
      "Processing <PIL.Image.Image image mode=RGB size=1118x905 at 0x2923F84DF70>: 100%|██████████| 10/10 [00:00<00:00, 21.54 Samples/s]                \n"
     ]
    },
    {
     "name": "stdout",
     "output_type": "stream",
     "text": [
      "Initialised with 1032 image(s) found.\n",
      "Output directory set to C:\\Users\\Pooja\\Documents\\Stone\\stone\\Augmentation/."
     ]
    },
    {
     "name": "stderr",
     "output_type": "stream",
     "text": [
      "Processing <PIL.Image.Image image mode=RGB size=512x512 at 0x2923F778400>: 100%|██████████| 10/10 [00:00<00:00, 20.00 Samples/s] \n"
     ]
    },
    {
     "name": "stdout",
     "output_type": "stream",
     "text": [
      "Initialised with 1032 image(s) found.\n",
      "Output directory set to C:\\Users\\Pooja\\Documents\\Stone\\stone\\Augmentation/."
     ]
    },
    {
     "name": "stderr",
     "output_type": "stream",
     "text": [
      "Processing <PIL.Image.Image image mode=RGB size=787x636 at 0x2923F8F1FA0>: 100%|██████████| 10/10 [00:00<00:00, 33.69 Samples/s]\n"
     ]
    },
    {
     "name": "stdout",
     "output_type": "stream",
     "text": [
      "Initialised with 1032 image(s) found.\n",
      "Output directory set to C:\\Users\\Pooja\\Documents\\Stone\\stone\\Augmentation/."
     ]
    },
    {
     "name": "stderr",
     "output_type": "stream",
     "text": [
      "Processing <PIL.Image.Image image mode=RGB size=512x512 at 0x2923F782520>: 100%|██████████| 10/10 [00:00<00:00, 27.83 Samples/s] \n"
     ]
    },
    {
     "name": "stdout",
     "output_type": "stream",
     "text": [
      "Initialised with 1032 image(s) found.\n",
      "Output directory set to C:\\Users\\Pooja\\Documents\\Stone\\stone\\Augmentation/."
     ]
    },
    {
     "name": "stderr",
     "output_type": "stream",
     "text": [
      "Processing <PIL.Image.Image image mode=RGB size=1236x1001 at 0x2923F8F15E0>: 100%|██████████| 10/10 [00:00<00:00, 21.33 Samples/s]               \n"
     ]
    },
    {
     "name": "stdout",
     "output_type": "stream",
     "text": [
      "Initialised with 1032 image(s) found.\n",
      "Output directory set to C:\\Users\\Pooja\\Documents\\Stone\\stone\\Augmentation/."
     ]
    },
    {
     "name": "stderr",
     "output_type": "stream",
     "text": [
      "Processing <PIL.Image.Image image mode=RGB size=512x512 at 0x2923F8FD910>: 100%|██████████| 10/10 [00:00<00:00, 19.40 Samples/s] \n"
     ]
    },
    {
     "name": "stdout",
     "output_type": "stream",
     "text": [
      "Initialised with 1032 image(s) found.\n",
      "Output directory set to C:\\Users\\Pooja\\Documents\\Stone\\stone\\Augmentation/."
     ]
    },
    {
     "name": "stderr",
     "output_type": "stream",
     "text": [
      "Processing <PIL.Image.Image image mode=RGB size=512x512 at 0x2923F89F130>: 100%|██████████| 10/10 [00:00<00:00, 23.71 Samples/s] \n"
     ]
    },
    {
     "name": "stdout",
     "output_type": "stream",
     "text": [
      "Initialised with 1032 image(s) found.\n",
      "Output directory set to C:\\Users\\Pooja\\Documents\\Stone\\stone\\Augmentation/."
     ]
    },
    {
     "name": "stderr",
     "output_type": "stream",
     "text": [
      "Processing <PIL.Image.Image image mode=RGB size=512x512 at 0x2923F782550>: 100%|██████████| 10/10 [00:00<00:00, 35.56 Samples/s]\n"
     ]
    },
    {
     "name": "stdout",
     "output_type": "stream",
     "text": [
      "Initialised with 1032 image(s) found.\n",
      "Output directory set to C:\\Users\\Pooja\\Documents\\Stone\\stone\\Augmentation/."
     ]
    },
    {
     "name": "stderr",
     "output_type": "stream",
     "text": [
      "Processing <PIL.Image.Image image mode=RGB size=512x512 at 0x2923F778D90>: 100%|██████████| 10/10 [00:00<00:00, 33.69 Samples/s]\n"
     ]
    },
    {
     "name": "stdout",
     "output_type": "stream",
     "text": [
      "Initialised with 1032 image(s) found.\n",
      "Output directory set to C:\\Users\\Pooja\\Documents\\Stone\\stone\\Augmentation/."
     ]
    },
    {
     "name": "stderr",
     "output_type": "stream",
     "text": [
      "Processing <PIL.Image.Image image mode=RGB size=512x512 at 0x2923F782700>: 100%|██████████| 10/10 [00:00<00:00, 24.52 Samples/s] \n"
     ]
    },
    {
     "name": "stdout",
     "output_type": "stream",
     "text": [
      "Initialised with 1032 image(s) found.\n",
      "Output directory set to C:\\Users\\Pooja\\Documents\\Stone\\stone\\Augmentation/."
     ]
    },
    {
     "name": "stderr",
     "output_type": "stream",
     "text": [
      "Processing <PIL.Image.Image image mode=RGB size=512x512 at 0x2923F858A00>: 100%|██████████| 10/10 [00:00<00:00, 19.40 Samples/s] \n"
     ]
    },
    {
     "name": "stdout",
     "output_type": "stream",
     "text": [
      "Initialised with 1032 image(s) found.\n",
      "Output directory set to C:\\Users\\Pooja\\Documents\\Stone\\stone\\Augmentation/."
     ]
    },
    {
     "name": "stderr",
     "output_type": "stream",
     "text": [
      "Processing <PIL.Image.Image image mode=RGB size=1236x1001 at 0x2923F8FDA60>: 100%|██████████| 10/10 [00:00<00:00, 20.00 Samples/s]\n"
     ]
    },
    {
     "name": "stdout",
     "output_type": "stream",
     "text": [
      "Initialised with 1032 image(s) found.\n",
      "Output directory set to C:\\Users\\Pooja\\Documents\\Stone\\stone\\Augmentation/."
     ]
    },
    {
     "name": "stderr",
     "output_type": "stream",
     "text": [
      "Processing <PIL.Image.Image image mode=RGB size=1236x1001 at 0x2923F858850>: 100%|██████████| 10/10 [00:00<00:00, 24.62 Samples/s]\n"
     ]
    },
    {
     "name": "stdout",
     "output_type": "stream",
     "text": [
      "Initialised with 1032 image(s) found.\n",
      "Output directory set to C:\\Users\\Pooja\\Documents\\Stone\\stone\\Augmentation/."
     ]
    },
    {
     "name": "stderr",
     "output_type": "stream",
     "text": [
      "Processing <PIL.Image.Image image mode=RGB size=512x512 at 0x2923F782640>: 100%|██████████| 10/10 [00:00<00:00, 18.29 Samples/s]\n"
     ]
    },
    {
     "name": "stdout",
     "output_type": "stream",
     "text": [
      "Initialised with 1032 image(s) found.\n",
      "Output directory set to C:\\Users\\Pooja\\Documents\\Stone\\stone\\Augmentation/."
     ]
    },
    {
     "name": "stderr",
     "output_type": "stream",
     "text": [
      "Processing <PIL.Image.Image image mode=RGB size=888x719 at 0x2923F89F5B0>: 100%|██████████| 10/10 [00:00<00:00, 17.74 Samples/s]\n"
     ]
    },
    {
     "name": "stdout",
     "output_type": "stream",
     "text": [
      "Initialised with 1032 image(s) found.\n",
      "Output directory set to C:\\Users\\Pooja\\Documents\\Stone\\stone\\Augmentation/."
     ]
    },
    {
     "name": "stderr",
     "output_type": "stream",
     "text": [
      "Processing <PIL.Image.Image image mode=RGB size=512x512 at 0x2923F778340>: 100%|██████████| 10/10 [00:00<00:00, 20.00 Samples/s] \n"
     ]
    },
    {
     "name": "stdout",
     "output_type": "stream",
     "text": [
      "Initialised with 1032 image(s) found.\n",
      "Output directory set to C:\\Users\\Pooja\\Documents\\Stone\\stone\\Augmentation/."
     ]
    },
    {
     "name": "stderr",
     "output_type": "stream",
     "text": [
      "Processing <PIL.Image.Image image mode=RGB size=512x512 at 0x2923F89FA30>: 100%|██████████| 10/10 [00:00<00:00, 17.78 Samples/s] \n"
     ]
    },
    {
     "name": "stdout",
     "output_type": "stream",
     "text": [
      "Initialised with 1032 image(s) found.\n",
      "Output directory set to C:\\Users\\Pooja\\Documents\\Stone\\stone\\Augmentation/."
     ]
    },
    {
     "name": "stderr",
     "output_type": "stream",
     "text": [
      "Processing <PIL.Image.Image image mode=RGB size=512x512 at 0x2923F782400>: 100%|██████████| 10/10 [00:00<00:00, 16.84 Samples/s] \n"
     ]
    },
    {
     "name": "stdout",
     "output_type": "stream",
     "text": [
      "Initialised with 1032 image(s) found.\n",
      "Output directory set to C:\\Users\\Pooja\\Documents\\Stone\\stone\\Augmentation/."
     ]
    },
    {
     "name": "stderr",
     "output_type": "stream",
     "text": [
      "Processing <PIL.Image.Image image mode=RGB size=512x512 at 0x2923F778F40>: 100%|██████████| 10/10 [00:00<00:00, 21.33 Samples/s]                   \n"
     ]
    },
    {
     "name": "stdout",
     "output_type": "stream",
     "text": [
      "Initialised with 1032 image(s) found.\n",
      "Output directory set to C:\\Users\\Pooja\\Documents\\Stone\\stone\\Augmentation/."
     ]
    },
    {
     "name": "stderr",
     "output_type": "stream",
     "text": [
      "Processing <PIL.Image.Image image mode=RGB size=687x555 at 0x2923F782610>: 100%|██████████| 10/10 [00:00<00:00, 21.78 Samples/s] \n"
     ]
    },
    {
     "name": "stdout",
     "output_type": "stream",
     "text": [
      "Initialised with 1032 image(s) found.\n",
      "Output directory set to C:\\Users\\Pooja\\Documents\\Stone\\stone\\Augmentation/."
     ]
    },
    {
     "name": "stderr",
     "output_type": "stream",
     "text": [
      "Processing <PIL.Image.Image image mode=RGB size=1236x1001 at 0x2923F8F1790>: 100%|██████████| 10/10 [00:00<00:00, 16.58 Samples/s]\n"
     ]
    },
    {
     "name": "stdout",
     "output_type": "stream",
     "text": [
      "Initialised with 1032 image(s) found.\n",
      "Output directory set to C:\\Users\\Pooja\\Documents\\Stone\\stone\\Augmentation/."
     ]
    },
    {
     "name": "stderr",
     "output_type": "stream",
     "text": [
      "Processing <PIL.Image.Image image mode=RGB size=512x512 at 0x2923F782340>: 100%|██████████| 10/10 [00:01<00:00,  5.12 Samples/s]\n"
     ]
    },
    {
     "name": "stdout",
     "output_type": "stream",
     "text": [
      "Initialised with 1032 image(s) found.\n",
      "Output directory set to C:\\Users\\Pooja\\Documents\\Stone\\stone\\Augmentation/."
     ]
    },
    {
     "name": "stderr",
     "output_type": "stream",
     "text": [
      "Processing <PIL.Image.Image image mode=RGB size=855x691 at 0x2923F79D670>: 100%|██████████| 10/10 [00:01<00:00,  8.75 Samples/s] \n"
     ]
    },
    {
     "name": "stdout",
     "output_type": "stream",
     "text": [
      "Initialised with 1032 image(s) found.\n",
      "Output directory set to C:\\Users\\Pooja\\Documents\\Stone\\stone\\Augmentation/."
     ]
    },
    {
     "name": "stderr",
     "output_type": "stream",
     "text": [
      "Processing <PIL.Image.Image image mode=RGB size=512x512 at 0x2923F782A00>: 100%|██████████| 10/10 [00:00<00:00, 21.33 Samples/s] \n"
     ]
    },
    {
     "name": "stdout",
     "output_type": "stream",
     "text": [
      "Initialised with 1032 image(s) found.\n",
      "Output directory set to C:\\Users\\Pooja\\Documents\\Stone\\stone\\Augmentation/."
     ]
    },
    {
     "name": "stderr",
     "output_type": "stream",
     "text": [
      "Processing <PIL.Image.Image image mode=RGB size=512x512 at 0x2923F8F16D0>: 100%|██████████| 10/10 [00:00<00:00, 23.71 Samples/s] \n"
     ]
    },
    {
     "name": "stdout",
     "output_type": "stream",
     "text": [
      "Initialised with 1032 image(s) found.\n",
      "Output directory set to C:\\Users\\Pooja\\Documents\\Stone\\stone\\Augmentation/."
     ]
    },
    {
     "name": "stderr",
     "output_type": "stream",
     "text": [
      "Processing <PIL.Image.Image image mode=RGB size=512x512 at 0x2923F778B50>: 100%|██████████| 10/10 [00:00<00:00, 40.00 Samples/s]\n"
     ]
    },
    {
     "name": "stdout",
     "output_type": "stream",
     "text": [
      "Initialised with 1032 image(s) found.\n",
      "Output directory set to C:\\Users\\Pooja\\Documents\\Stone\\stone\\Augmentation/."
     ]
    },
    {
     "name": "stderr",
     "output_type": "stream",
     "text": [
      "Processing <PIL.Image.Image image mode=RGB size=512x512 at 0x2923F89F310>: 100%|██████████| 10/10 [00:00<00:00, 32.00 Samples/s]\n"
     ]
    },
    {
     "name": "stdout",
     "output_type": "stream",
     "text": [
      "Initialised with 1032 image(s) found.\n",
      "Output directory set to C:\\Users\\Pooja\\Documents\\Stone\\stone\\Augmentation/."
     ]
    },
    {
     "name": "stderr",
     "output_type": "stream",
     "text": [
      "Processing <PIL.Image.Image image mode=RGB size=512x512 at 0x2923F778A30>: 100%|██████████| 10/10 [00:00<00:00, 29.95 Samples/s]\n"
     ]
    },
    {
     "name": "stdout",
     "output_type": "stream",
     "text": [
      "Initialised with 1032 image(s) found.\n",
      "Output directory set to C:\\Users\\Pooja\\Documents\\Stone\\stone\\Augmentation/."
     ]
    },
    {
     "name": "stderr",
     "output_type": "stream",
     "text": [
      "Processing <PIL.Image.Image image mode=RGB size=888x719 at 0x2923F8F12B0>: 100%|██████████| 10/10 [00:00<00:00, 24.62 Samples/s] \n"
     ]
    },
    {
     "name": "stdout",
     "output_type": "stream",
     "text": [
      "Initialised with 1032 image(s) found.\n",
      "Output directory set to C:\\Users\\Pooja\\Documents\\Stone\\stone\\Augmentation/."
     ]
    },
    {
     "name": "stderr",
     "output_type": "stream",
     "text": [
      "Processing <PIL.Image.Image image mode=RGB size=512x512 at 0x2923F8FDBB0>: 100%|██████████| 10/10 [00:00<00:00, 21.33 Samples/s] \n"
     ]
    },
    {
     "name": "stdout",
     "output_type": "stream",
     "text": [
      "Initialised with 1032 image(s) found.\n",
      "Output directory set to C:\\Users\\Pooja\\Documents\\Stone\\stone\\Augmentation/."
     ]
    },
    {
     "name": "stderr",
     "output_type": "stream",
     "text": [
      "Processing <PIL.Image.Image image mode=RGB size=512x512 at 0x2923F8F1AC0>: 100%|██████████| 10/10 [00:00<00:00, 30.48 Samples/s]\n"
     ]
    },
    {
     "name": "stdout",
     "output_type": "stream",
     "text": [
      "Initialised with 1032 image(s) found.\n",
      "Output directory set to C:\\Users\\Pooja\\Documents\\Stone\\stone\\Augmentation/."
     ]
    },
    {
     "name": "stderr",
     "output_type": "stream",
     "text": [
      "Processing <PIL.Image.Image image mode=RGB size=512x512 at 0x2923F782A90>: 100%|██████████| 10/10 [00:00<00:00, 23.70 Samples/s] \n"
     ]
    },
    {
     "name": "stdout",
     "output_type": "stream",
     "text": [
      "Initialised with 1032 image(s) found.\n",
      "Output directory set to C:\\Users\\Pooja\\Documents\\Stone\\stone\\Augmentation/."
     ]
    },
    {
     "name": "stderr",
     "output_type": "stream",
     "text": [
      "Processing <PIL.Image.Image image mode=RGB size=512x512 at 0x2923F8F1A30>: 100%|██████████| 10/10 [00:00<00:00, 19.40 Samples/s]\n"
     ]
    },
    {
     "name": "stdout",
     "output_type": "stream",
     "text": [
      "Initialised with 1032 image(s) found.\n",
      "Output directory set to C:\\Users\\Pooja\\Documents\\Stone\\stone\\Augmentation/."
     ]
    },
    {
     "name": "stderr",
     "output_type": "stream",
     "text": [
      "Processing <PIL.Image.Image image mode=RGB size=512x512 at 0x2923F778100>: 100%|██████████| 10/10 [00:00<00:00, 35.56 Samples/s]\n"
     ]
    },
    {
     "name": "stdout",
     "output_type": "stream",
     "text": [
      "Initialised with 1032 image(s) found.\n",
      "Output directory set to C:\\Users\\Pooja\\Documents\\Stone\\stone\\Augmentation/."
     ]
    },
    {
     "name": "stderr",
     "output_type": "stream",
     "text": [
      "Processing <PIL.Image.Image image mode=RGB size=512x512 at 0x2923F90BE50>: 100%|██████████| 10/10 [00:00<00:00, 23.71 Samples/s] \n"
     ]
    },
    {
     "name": "stdout",
     "output_type": "stream",
     "text": [
      "Initialised with 1032 image(s) found.\n",
      "Output directory set to C:\\Users\\Pooja\\Documents\\Stone\\stone\\Augmentation/."
     ]
    },
    {
     "name": "stderr",
     "output_type": "stream",
     "text": [
      "Processing <PIL.Image.Image image mode=RGB size=888x719 at 0x2923F782220>: 100%|██████████| 10/10 [00:00<00:00, 33.69 Samples/s]\n"
     ]
    },
    {
     "name": "stdout",
     "output_type": "stream",
     "text": [
      "Initialised with 1032 image(s) found.\n",
      "Output directory set to C:\\Users\\Pooja\\Documents\\Stone\\stone\\Augmentation/."
     ]
    },
    {
     "name": "stderr",
     "output_type": "stream",
     "text": [
      "Processing <PIL.Image.Image image mode=RGB size=512x512 at 0x2923F8588B0>: 100%|██████████| 10/10 [00:00<00:00, 17.30 Samples/s] \n"
     ]
    },
    {
     "name": "stdout",
     "output_type": "stream",
     "text": [
      "Initialised with 1032 image(s) found.\n",
      "Output directory set to C:\\Users\\Pooja\\Documents\\Stone\\stone\\Augmentation/."
     ]
    },
    {
     "name": "stderr",
     "output_type": "stream",
     "text": [
      "Processing <PIL.Image.Image image mode=RGB size=745x602 at 0x2923F7786D0>: 100%|██████████| 10/10 [00:00<00:00, 18.29 Samples/s] \n"
     ]
    },
    {
     "name": "stdout",
     "output_type": "stream",
     "text": [
      "Initialised with 1032 image(s) found.\n",
      "Output directory set to C:\\Users\\Pooja\\Documents\\Stone\\stone\\Augmentation/."
     ]
    },
    {
     "name": "stderr",
     "output_type": "stream",
     "text": [
      "Processing <PIL.Image.Image image mode=RGB size=512x512 at 0x2923F858610>: 100%|██████████| 10/10 [00:00<00:00, 21.33 Samples/s]                 \n"
     ]
    },
    {
     "name": "stdout",
     "output_type": "stream",
     "text": [
      "Initialised with 1032 image(s) found.\n",
      "Output directory set to C:\\Users\\Pooja\\Documents\\Stone\\stone\\Augmentation/."
     ]
    },
    {
     "name": "stderr",
     "output_type": "stream",
     "text": [
      "Processing <PIL.Image.Image image mode=RGB size=1236x1001 at 0x2923F782910>: 100%|██████████| 10/10 [00:00<00:00, 18.29 Samples/s]               \n"
     ]
    },
    {
     "name": "stdout",
     "output_type": "stream",
     "text": [
      "Initialised with 1032 image(s) found.\n",
      "Output directory set to C:\\Users\\Pooja\\Documents\\Stone\\stone\\Augmentation/."
     ]
    },
    {
     "name": "stderr",
     "output_type": "stream",
     "text": [
      "Processing <PIL.Image.Image image mode=RGB size=512x512 at 0x2923F8F1A30>: 100%|██████████| 10/10 [00:00<00:00, 29.09 Samples/s]         \n"
     ]
    },
    {
     "name": "stdout",
     "output_type": "stream",
     "text": [
      "Initialised with 1032 image(s) found.\n",
      "Output directory set to C:\\Users\\Pooja\\Documents\\Stone\\stone\\Augmentation/."
     ]
    },
    {
     "name": "stderr",
     "output_type": "stream",
     "text": [
      "Processing <PIL.Image.Image image mode=RGB size=512x512 at 0x2923F778370>: 100%|██████████| 10/10 [00:00<00:00, 21.33 Samples/s]                 \n"
     ]
    },
    {
     "name": "stdout",
     "output_type": "stream",
     "text": [
      "Initialised with 1032 image(s) found.\n",
      "Output directory set to C:\\Users\\Pooja\\Documents\\Stone\\stone\\Augmentation/."
     ]
    },
    {
     "name": "stderr",
     "output_type": "stream",
     "text": [
      "Processing <PIL.Image.Image image mode=RGB size=1236x1001 at 0x2923F8F11C0>: 100%|██████████| 10/10 [00:00<00:00, 20.00 Samples/s]\n"
     ]
    },
    {
     "name": "stdout",
     "output_type": "stream",
     "text": [
      "Initialised with 1032 image(s) found.\n",
      "Output directory set to C:\\Users\\Pooja\\Documents\\Stone\\stone\\Augmentation/."
     ]
    },
    {
     "name": "stderr",
     "output_type": "stream",
     "text": [
      "Processing <PIL.Image.Image image mode=RGB size=512x512 at 0x2923F782A90>: 100%|██████████| 10/10 [00:01<00:00,  6.47 Samples/s]\n"
     ]
    },
    {
     "name": "stdout",
     "output_type": "stream",
     "text": [
      "Initialised with 1032 image(s) found.\n",
      "Output directory set to C:\\Users\\Pooja\\Documents\\Stone\\stone\\Augmentation/."
     ]
    },
    {
     "name": "stderr",
     "output_type": "stream",
     "text": [
      "Processing <PIL.Image.Image image mode=RGB size=838x679 at 0x2923F778EB0>: 100%|██████████| 10/10 [00:00<00:00, 27.83 Samples/s]                  \n"
     ]
    },
    {
     "name": "stdout",
     "output_type": "stream",
     "text": [
      "Initialised with 1032 image(s) found.\n",
      "Output directory set to C:\\Users\\Pooja\\Documents\\Stone\\stone\\Augmentation/."
     ]
    },
    {
     "name": "stderr",
     "output_type": "stream",
     "text": [
      "Processing <PIL.Image.Image image mode=RGB size=512x512 at 0x2923F778400>: 100%|██████████| 10/10 [00:00<00:00, 22.07 Samples/s] \n"
     ]
    },
    {
     "name": "stdout",
     "output_type": "stream",
     "text": [
      "Initialised with 1032 image(s) found.\n",
      "Output directory set to C:\\Users\\Pooja\\Documents\\Stone\\stone\\Augmentation/."
     ]
    },
    {
     "name": "stderr",
     "output_type": "stream",
     "text": [
      "Processing <PIL.Image.Image image mode=RGB size=512x512 at 0x2923F8AD3A0>: 100%|██████████| 10/10 [00:00<00:00, 25.60 Samples/s] \n"
     ]
    },
    {
     "name": "stdout",
     "output_type": "stream",
     "text": [
      "Initialised with 1032 image(s) found.\n",
      "Output directory set to C:\\Users\\Pooja\\Documents\\Stone\\stone\\Augmentation/."
     ]
    },
    {
     "name": "stderr",
     "output_type": "stream",
     "text": [
      "Processing <PIL.Image.Image image mode=RGB size=855x691 at 0x2923F7783A0>: 100%|██████████| 10/10 [00:00<00:00, 26.67 Samples/s] \n"
     ]
    },
    {
     "name": "stdout",
     "output_type": "stream",
     "text": [
      "Initialised with 1032 image(s) found.\n",
      "Output directory set to C:\\Users\\Pooja\\Documents\\Stone\\stone\\Augmentation/."
     ]
    },
    {
     "name": "stderr",
     "output_type": "stream",
     "text": [
      "Processing <PIL.Image.Image image mode=RGB size=512x512 at 0x2923F8F1700>: 100%|██████████| 10/10 [00:00<00:00, 22.86 Samples/s] \n"
     ]
    },
    {
     "name": "stdout",
     "output_type": "stream",
     "text": [
      "Initialised with 1032 image(s) found.\n",
      "Output directory set to C:\\Users\\Pooja\\Documents\\Stone\\stone\\Augmentation/."
     ]
    },
    {
     "name": "stderr",
     "output_type": "stream",
     "text": [
      "Processing <PIL.Image.Image image mode=RGB size=512x512 at 0x2923F89FFD0>: 100%|██████████| 10/10 [00:00<00:00, 33.69 Samples/s]                 \n"
     ]
    },
    {
     "name": "stdout",
     "output_type": "stream",
     "text": [
      "Initialised with 1032 image(s) found.\n",
      "Output directory set to C:\\Users\\Pooja\\Documents\\Stone\\stone\\Augmentation/."
     ]
    },
    {
     "name": "stderr",
     "output_type": "stream",
     "text": [
      "Processing <PIL.Image.Image image mode=RGB size=512x512 at 0x2923F89F9D0>: 100%|██████████| 10/10 [00:00<00:00, 24.62 Samples/s] \n"
     ]
    },
    {
     "name": "stdout",
     "output_type": "stream",
     "text": [
      "Initialised with 1032 image(s) found.\n",
      "Output directory set to C:\\Users\\Pooja\\Documents\\Stone\\stone\\Augmentation/."
     ]
    },
    {
     "name": "stderr",
     "output_type": "stream",
     "text": [
      "Processing <PIL.Image.Image image mode=RGB size=888x719 at 0x2923F778A90>: 100%|██████████| 10/10 [00:00<00:00, 29.09 Samples/s] \n"
     ]
    },
    {
     "name": "stdout",
     "output_type": "stream",
     "text": [
      "Initialised with 1032 image(s) found.\n",
      "Output directory set to C:\\Users\\Pooja\\Documents\\Stone\\stone\\Augmentation/."
     ]
    },
    {
     "name": "stderr",
     "output_type": "stream",
     "text": [
      "Processing <PIL.Image.Image image mode=RGB size=1203x974 at 0x2923F79D280>: 100%|██████████| 10/10 [00:00<00:00, 16.66 Samples/s]\n"
     ]
    },
    {
     "name": "stdout",
     "output_type": "stream",
     "text": [
      "Initialised with 1032 image(s) found.\n",
      "Output directory set to C:\\Users\\Pooja\\Documents\\Stone\\stone\\Augmentation/."
     ]
    },
    {
     "name": "stderr",
     "output_type": "stream",
     "text": [
      "Processing <PIL.Image.Image image mode=RGB size=838x679 at 0x2923F778370>: 100%|██████████| 10/10 [00:00<00:00, 35.56 Samples/s]\n"
     ]
    },
    {
     "name": "stdout",
     "output_type": "stream",
     "text": [
      "Initialised with 1032 image(s) found.\n",
      "Output directory set to C:\\Users\\Pooja\\Documents\\Stone\\stone\\Augmentation/."
     ]
    },
    {
     "name": "stderr",
     "output_type": "stream",
     "text": [
      "Processing <PIL.Image.Image image mode=RGB size=512x512 at 0x2923F8F1AC0>: 100%|██████████| 10/10 [00:00<00:00, 30.48 Samples/s]\n"
     ]
    },
    {
     "name": "stdout",
     "output_type": "stream",
     "text": [
      "Initialised with 1032 image(s) found.\n",
      "Output directory set to C:\\Users\\Pooja\\Documents\\Stone\\stone\\Augmentation/."
     ]
    },
    {
     "name": "stderr",
     "output_type": "stream",
     "text": [
      "Processing <PIL.Image.Image image mode=RGB size=512x512 at 0x2923F8FDA60>: 100%|██████████| 10/10 [00:00<00:00, 27.83 Samples/s]\n"
     ]
    },
    {
     "name": "stdout",
     "output_type": "stream",
     "text": [
      "Initialised with 1032 image(s) found.\n",
      "Output directory set to C:\\Users\\Pooja\\Documents\\Stone\\stone\\Augmentation/."
     ]
    },
    {
     "name": "stderr",
     "output_type": "stream",
     "text": [
      "Processing <PIL.Image.Image image mode=RGB size=512x512 at 0x2923F8F15E0>: 100%|██████████| 10/10 [00:00<00:00, 32.00 Samples/s]\n"
     ]
    },
    {
     "name": "stdout",
     "output_type": "stream",
     "text": [
      "Initialised with 1032 image(s) found.\n",
      "Output directory set to C:\\Users\\Pooja\\Documents\\Stone\\stone\\Augmentation/."
     ]
    },
    {
     "name": "stderr",
     "output_type": "stream",
     "text": [
      "Processing <PIL.Image.Image image mode=RGB size=512x512 at 0x2923F7829A0>: 100%|██████████| 10/10 [00:00<00:00, 18.82 Samples/s] \n"
     ]
    },
    {
     "name": "stdout",
     "output_type": "stream",
     "text": [
      "Initialised with 1032 image(s) found.\n",
      "Output directory set to C:\\Users\\Pooja\\Documents\\Stone\\stone\\Augmentation/."
     ]
    },
    {
     "name": "stderr",
     "output_type": "stream",
     "text": [
      "Processing <PIL.Image.Image image mode=RGB size=512x512 at 0x2923F8F12E0>: 100%|██████████| 10/10 [00:00<00:00, 19.40 Samples/s]\n"
     ]
    },
    {
     "name": "stdout",
     "output_type": "stream",
     "text": [
      "Initialised with 1032 image(s) found.\n",
      "Output directory set to C:\\Users\\Pooja\\Documents\\Stone\\stone\\Augmentation/."
     ]
    },
    {
     "name": "stderr",
     "output_type": "stream",
     "text": [
      "Processing <PIL.Image.Image image mode=RGB size=512x512 at 0x292407C4370>: 100%|██████████| 10/10 [00:00<00:00, 16.32 Samples/s]\n"
     ]
    },
    {
     "name": "stdout",
     "output_type": "stream",
     "text": [
      "Initialised with 1032 image(s) found.\n",
      "Output directory set to C:\\Users\\Pooja\\Documents\\Stone\\stone\\Augmentation/."
     ]
    },
    {
     "name": "stderr",
     "output_type": "stream",
     "text": [
      "Processing <PIL.Image.Image image mode=RGB size=1236x1001 at 0x2923F858E20>: 100%|██████████| 10/10 [00:01<00:00,  9.99 Samples/s]\n"
     ]
    },
    {
     "name": "stdout",
     "output_type": "stream",
     "text": [
      "Initialised with 1032 image(s) found.\n",
      "Output directory set to C:\\Users\\Pooja\\Documents\\Stone\\stone\\Augmentation/."
     ]
    },
    {
     "name": "stderr",
     "output_type": "stream",
     "text": [
      "Processing <PIL.Image.Image image mode=RGB size=560x560 at 0x2923F8ADDF0>: 100%|██████████| 10/10 [00:00<00:00, 45.72 Samples/s]\n"
     ]
    },
    {
     "name": "stdout",
     "output_type": "stream",
     "text": [
      "Initialised with 1032 image(s) found.\n",
      "Output directory set to C:\\Users\\Pooja\\Documents\\Stone\\stone\\Augmentation/."
     ]
    },
    {
     "name": "stderr",
     "output_type": "stream",
     "text": [
      "Processing <PIL.Image.Image image mode=RGB size=512x512 at 0x2923F89F2E0>: 100%|██████████| 10/10 [00:00<00:00, 22.86 Samples/s]\n"
     ]
    },
    {
     "name": "stdout",
     "output_type": "stream",
     "text": [
      "Initialised with 1032 image(s) found.\n",
      "Output directory set to C:\\Users\\Pooja\\Documents\\Stone\\stone\\Augmentation/."
     ]
    },
    {
     "name": "stderr",
     "output_type": "stream",
     "text": [
      "Processing <PIL.Image.Image image mode=RGB size=1236x1001 at 0x2923F899EE0>: 100%|██████████| 10/10 [00:00<00:00, 21.33 Samples/s]\n"
     ]
    },
    {
     "name": "stdout",
     "output_type": "stream",
     "text": [
      "Initialised with 1032 image(s) found.\n",
      "Output directory set to C:\\Users\\Pooja\\Documents\\Stone\\stone\\Augmentation/."
     ]
    },
    {
     "name": "stderr",
     "output_type": "stream",
     "text": [
      "Processing <PIL.Image.Image image mode=RGB size=560x560 at 0x2923F8F1280>: 100%|██████████| 10/10 [00:00<00:00, 25.60 Samples/s] \n"
     ]
    },
    {
     "name": "stdout",
     "output_type": "stream",
     "text": [
      "Initialised with 1032 image(s) found.\n",
      "Output directory set to C:\\Users\\Pooja\\Documents\\Stone\\stone\\Augmentation/."
     ]
    },
    {
     "name": "stderr",
     "output_type": "stream",
     "text": [
      "Processing <PIL.Image.Image image mode=RGB size=512x512 at 0x292407DEB20>: 100%|██████████| 10/10 [00:00<00:00, 27.83 Samples/s]\n"
     ]
    },
    {
     "name": "stdout",
     "output_type": "stream",
     "text": [
      "Initialised with 1032 image(s) found.\n",
      "Output directory set to C:\\Users\\Pooja\\Documents\\Stone\\stone\\Augmentation/."
     ]
    },
    {
     "name": "stderr",
     "output_type": "stream",
     "text": [
      "Processing <PIL.Image.Image image mode=RGB size=512x512 at 0x2923F8AD2B0>: 100%|██████████| 10/10 [00:00<00:00, 19.40 Samples/s] \n"
     ]
    },
    {
     "name": "stdout",
     "output_type": "stream",
     "text": [
      "Initialised with 1032 image(s) found.\n",
      "Output directory set to C:\\Users\\Pooja\\Documents\\Stone\\stone\\Augmentation/."
     ]
    },
    {
     "name": "stderr",
     "output_type": "stream",
     "text": [
      "Processing <PIL.Image.Image image mode=RGB size=749x605 at 0x2923F899E50>: 100%|██████████| 10/10 [00:00<00:00, 31.76 Samples/s] \n"
     ]
    },
    {
     "name": "stdout",
     "output_type": "stream",
     "text": [
      "Initialised with 1032 image(s) found.\n",
      "Output directory set to C:\\Users\\Pooja\\Documents\\Stone\\stone\\Augmentation/."
     ]
    },
    {
     "name": "stderr",
     "output_type": "stream",
     "text": [
      "Processing <PIL.Image.Image image mode=RGB size=512x512 at 0x2923F858D00>: 100%|██████████| 10/10 [00:00<00:00, 27.83 Samples/s]                  \n"
     ]
    },
    {
     "name": "stdout",
     "output_type": "stream",
     "text": [
      "Initialised with 1032 image(s) found.\n",
      "Output directory set to C:\\Users\\Pooja\\Documents\\Stone\\stone\\Augmentation/."
     ]
    },
    {
     "name": "stderr",
     "output_type": "stream",
     "text": [
      "Processing <PIL.Image.Image image mode=RGB size=1236x1001 at 0x292407DEBE0>: 100%|██████████| 10/10 [00:00<00:00, 35.56 Samples/s]\n"
     ]
    },
    {
     "name": "stdout",
     "output_type": "stream",
     "text": [
      "Initialised with 1032 image(s) found.\n",
      "Output directory set to C:\\Users\\Pooja\\Documents\\Stone\\stone\\Augmentation/."
     ]
    },
    {
     "name": "stderr",
     "output_type": "stream",
     "text": [
      "Processing <PIL.Image.Image image mode=RGB size=512x512 at 0x2923F79D100>: 100%|██████████| 10/10 [00:00<00:00, 49.23 Samples/s]\n"
     ]
    },
    {
     "name": "stdout",
     "output_type": "stream",
     "text": [
      "Initialised with 1032 image(s) found.\n",
      "Output directory set to C:\\Users\\Pooja\\Documents\\Stone\\stone\\Augmentation/."
     ]
    },
    {
     "name": "stderr",
     "output_type": "stream",
     "text": [
      "Processing <PIL.Image.Image image mode=RGB size=1371x1110 at 0x292407C46D0>: 100%|██████████| 10/10 [00:00<00:00, 16.84 Samples/s]               \n"
     ]
    },
    {
     "name": "stdout",
     "output_type": "stream",
     "text": [
      "Initialised with 1032 image(s) found.\n",
      "Output directory set to C:\\Users\\Pooja\\Documents\\Stone\\stone\\Augmentation/."
     ]
    },
    {
     "name": "stderr",
     "output_type": "stream",
     "text": [
      "Processing <PIL.Image.Image image mode=RGB size=512x512 at 0x2923F858D30>: 100%|██████████| 10/10 [00:01<00:00,  7.62 Samples/s]\n"
     ]
    },
    {
     "name": "stdout",
     "output_type": "stream",
     "text": [
      "Initialised with 1032 image(s) found.\n",
      "Output directory set to C:\\Users\\Pooja\\Documents\\Stone\\stone\\Augmentation/."
     ]
    },
    {
     "name": "stderr",
     "output_type": "stream",
     "text": [
      "Processing <PIL.Image.Image image mode=RGB size=512x512 at 0x2923F90B8B0>: 100%|██████████| 10/10 [00:00<00:00, 15.20 Samples/s] \n"
     ]
    },
    {
     "name": "stdout",
     "output_type": "stream",
     "text": [
      "Initialised with 1032 image(s) found.\n",
      "Output directory set to C:\\Users\\Pooja\\Documents\\Stone\\stone\\Augmentation/."
     ]
    },
    {
     "name": "stderr",
     "output_type": "stream",
     "text": [
      "Processing <PIL.Image.Image image mode=RGB size=713x576 at 0x2923F858AF0>: 100%|██████████| 10/10 [00:00<00:00, 12.55 Samples/s] \n"
     ]
    },
    {
     "name": "stdout",
     "output_type": "stream",
     "text": [
      "Initialised with 1032 image(s) found.\n",
      "Output directory set to C:\\Users\\Pooja\\Documents\\Stone\\stone\\Augmentation/."
     ]
    },
    {
     "name": "stderr",
     "output_type": "stream",
     "text": [
      "Processing <PIL.Image.Image image mode=RGB size=512x512 at 0x292407DE0D0>: 100%|██████████| 10/10 [00:00<00:00, 11.46 Samples/s] \n"
     ]
    },
    {
     "name": "stdout",
     "output_type": "stream",
     "text": [
      "Initialised with 1032 image(s) found.\n",
      "Output directory set to C:\\Users\\Pooja\\Documents\\Stone\\stone\\Augmentation/."
     ]
    },
    {
     "name": "stderr",
     "output_type": "stream",
     "text": [
      "Processing <PIL.Image.Image image mode=RGB size=687x555 at 0x2923F8F1FA0>: 100%|██████████| 10/10 [00:00<00:00, 11.85 Samples/s]                 \n"
     ]
    },
    {
     "name": "stdout",
     "output_type": "stream",
     "text": [
      "Initialised with 1032 image(s) found.\n",
      "Output directory set to C:\\Users\\Pooja\\Documents\\Stone\\stone\\Augmentation/."
     ]
    },
    {
     "name": "stderr",
     "output_type": "stream",
     "text": [
      "Processing <PIL.Image.Image image mode=RGB size=512x512 at 0x2923F90B9A0>: 100%|██████████| 10/10 [00:00<00:00, 27.28 Samples/s]                 \n"
     ]
    },
    {
     "name": "stdout",
     "output_type": "stream",
     "text": [
      "Initialised with 1032 image(s) found.\n",
      "Output directory set to C:\\Users\\Pooja\\Documents\\Stone\\stone\\Augmentation/."
     ]
    },
    {
     "name": "stderr",
     "output_type": "stream",
     "text": [
      "Processing <PIL.Image.Image image mode=RGB size=512x512 at 0x2923F89FC10>: 100%|██████████| 10/10 [00:00<00:00, 13.91 Samples/s] \n"
     ]
    },
    {
     "name": "stdout",
     "output_type": "stream",
     "text": [
      "Initialised with 1032 image(s) found.\n",
      "Output directory set to C:\\Users\\Pooja\\Documents\\Stone\\stone\\Augmentation/."
     ]
    },
    {
     "name": "stderr",
     "output_type": "stream",
     "text": [
      "Processing <PIL.Image.Image image mode=RGB size=512x512 at 0x2923F8ADE80>: 100%|██████████| 10/10 [00:01<00:00,  8.93 Samples/s]\n"
     ]
    },
    {
     "name": "stdout",
     "output_type": "stream",
     "text": [
      "Initialised with 1032 image(s) found.\n",
      "Output directory set to C:\\Users\\Pooja\\Documents\\Stone\\stone\\Augmentation/."
     ]
    },
    {
     "name": "stderr",
     "output_type": "stream",
     "text": [
      "Processing <PIL.Image.Image image mode=RGB size=855x691 at 0x2923F79D0A0>: 100%|██████████| 10/10 [00:00<00:00, 15.72 Samples/s] \n"
     ]
    },
    {
     "name": "stdout",
     "output_type": "stream",
     "text": [
      "Initialised with 1032 image(s) found.\n",
      "Output directory set to C:\\Users\\Pooja\\Documents\\Stone\\stone\\Augmentation/."
     ]
    },
    {
     "name": "stderr",
     "output_type": "stream",
     "text": [
      "Processing <PIL.Image.Image image mode=RGB size=1236x1001 at 0x2923F90B7C0>: 100%|██████████| 10/10 [00:00<00:00, 17.14 Samples/s]\n"
     ]
    },
    {
     "name": "stdout",
     "output_type": "stream",
     "text": [
      "Initialised with 1032 image(s) found.\n",
      "Output directory set to C:\\Users\\Pooja\\Documents\\Stone\\stone\\Augmentation/."
     ]
    },
    {
     "name": "stderr",
     "output_type": "stream",
     "text": [
      "Processing <PIL.Image.Image image mode=RGB size=512x512 at 0x2923F8F1250>: 100%|██████████| 10/10 [00:00<00:00, 20.00 Samples/s]                 \n"
     ]
    },
    {
     "name": "stdout",
     "output_type": "stream",
     "text": [
      "Initialised with 1032 image(s) found.\n",
      "Output directory set to C:\\Users\\Pooja\\Documents\\Stone\\stone\\Augmentation/."
     ]
    },
    {
     "name": "stderr",
     "output_type": "stream",
     "text": [
      "Processing <PIL.Image.Image image mode=RGB size=1203x974 at 0x2923F90B0D0>: 100%|██████████| 10/10 [00:00<00:00, 16.08 Samples/s]\n"
     ]
    },
    {
     "name": "stdout",
     "output_type": "stream",
     "text": [
      "Initialised with 1032 image(s) found.\n",
      "Output directory set to C:\\Users\\Pooja\\Documents\\Stone\\stone\\Augmentation/."
     ]
    },
    {
     "name": "stderr",
     "output_type": "stream",
     "text": [
      "Processing <PIL.Image.Image image mode=RGB size=512x512 at 0x2923F89F640>: 100%|██████████| 10/10 [00:00<00:00, 18.04 Samples/s] \n"
     ]
    },
    {
     "name": "stdout",
     "output_type": "stream",
     "text": [
      "Initialised with 1032 image(s) found.\n",
      "Output directory set to C:\\Users\\Pooja\\Documents\\Stone\\stone\\Augmentation/."
     ]
    },
    {
     "name": "stderr",
     "output_type": "stream",
     "text": [
      "Processing <PIL.Image.Image image mode=RGB size=1236x1001 at 0x292407C4460>: 100%|██████████| 10/10 [00:00<00:00, 17.58 Samples/s]\n"
     ]
    },
    {
     "name": "stdout",
     "output_type": "stream",
     "text": [
      "Initialised with 1032 image(s) found.\n",
      "Output directory set to C:\\Users\\Pooja\\Documents\\Stone\\stone\\Augmentation/."
     ]
    },
    {
     "name": "stderr",
     "output_type": "stream",
     "text": [
      "Processing <PIL.Image.Image image mode=RGB size=745x602 at 0x2923F858340>: 100%|██████████| 10/10 [00:00<00:00, 25.11 Samples/s]\n"
     ]
    },
    {
     "name": "stdout",
     "output_type": "stream",
     "text": [
      "Initialised with 1032 image(s) found.\n",
      "Output directory set to C:\\Users\\Pooja\\Documents\\Stone\\stone\\Augmentation/."
     ]
    },
    {
     "name": "stderr",
     "output_type": "stream",
     "text": [
      "Processing <PIL.Image.Image image mode=RGB size=512x512 at 0x292407DEA30>: 100%|██████████| 10/10 [00:00<00:00, 27.83 Samples/s]                   \n"
     ]
    },
    {
     "name": "stdout",
     "output_type": "stream",
     "text": [
      "Initialised with 1032 image(s) found.\n",
      "Output directory set to C:\\Users\\Pooja\\Documents\\Stone\\stone\\Augmentation/."
     ]
    },
    {
     "name": "stderr",
     "output_type": "stream",
     "text": [
      "Processing <PIL.Image.Image image mode=RGB size=512x512 at 0x2923F8AD220>: 100%|██████████| 10/10 [00:00<00:00, 35.56 Samples/s]\n"
     ]
    },
    {
     "name": "stdout",
     "output_type": "stream",
     "text": [
      "Initialised with 1032 image(s) found.\n",
      "Output directory set to C:\\Users\\Pooja\\Documents\\Stone\\stone\\Augmentation/."
     ]
    },
    {
     "name": "stderr",
     "output_type": "stream",
     "text": [
      "Processing <PIL.Image.Image image mode=RGB size=1236x1001 at 0x2923F90B9D0>: 100%|██████████| 10/10 [00:00<00:00, 20.65 Samples/s]\n"
     ]
    },
    {
     "name": "stdout",
     "output_type": "stream",
     "text": [
      "Initialised with 1032 image(s) found.\n",
      "Output directory set to C:\\Users\\Pooja\\Documents\\Stone\\stone\\Augmentation/."
     ]
    },
    {
     "name": "stderr",
     "output_type": "stream",
     "text": [
      "Processing <PIL.Image.Image image mode=RGB size=512x512 at 0x2923F8AD100>: 100%|██████████| 10/10 [00:00<00:00, 25.60 Samples/s]\n"
     ]
    },
    {
     "name": "stdout",
     "output_type": "stream",
     "text": [
      "Initialised with 1032 image(s) found.\n",
      "Output directory set to C:\\Users\\Pooja\\Documents\\Stone\\stone\\Augmentation/."
     ]
    },
    {
     "name": "stderr",
     "output_type": "stream",
     "text": [
      "Processing <PIL.Image.Image image mode=RGB size=512x512 at 0x292407C4610>: 100%|██████████| 10/10 [00:00<00:00, 16.84 Samples/s]\n"
     ]
    },
    {
     "name": "stdout",
     "output_type": "stream",
     "text": [
      "Initialised with 1032 image(s) found.\n",
      "Output directory set to C:\\Users\\Pooja\\Documents\\Stone\\stone\\Augmentation/."
     ]
    },
    {
     "name": "stderr",
     "output_type": "stream",
     "text": [
      "Processing <PIL.Image.Image image mode=RGB size=512x512 at 0x2923F899D30>: 100%|██████████| 10/10 [00:00<00:00, 33.69 Samples/s]\n"
     ]
    },
    {
     "name": "stdout",
     "output_type": "stream",
     "text": [
      "Initialised with 1032 image(s) found.\n",
      "Output directory set to C:\\Users\\Pooja\\Documents\\Stone\\stone\\Augmentation/."
     ]
    },
    {
     "name": "stderr",
     "output_type": "stream",
     "text": [
      "Processing <PIL.Image.Image image mode=RGB size=512x512 at 0x292407C4130>: 100%|██████████| 10/10 [00:00<00:00, 20.65 Samples/s] \n"
     ]
    },
    {
     "name": "stdout",
     "output_type": "stream",
     "text": [
      "Initialised with 1032 image(s) found.\n",
      "Output directory set to C:\\Users\\Pooja\\Documents\\Stone\\stone\\Augmentation/."
     ]
    },
    {
     "name": "stderr",
     "output_type": "stream",
     "text": [
      "Processing <PIL.Image.Image image mode=RGB size=771x623 at 0x2923F8C6430>: 100%|██████████| 10/10 [00:00<00:00, 16.41 Samples/s] \n"
     ]
    },
    {
     "name": "stdout",
     "output_type": "stream",
     "text": [
      "Initialised with 1032 image(s) found.\n",
      "Output directory set to C:\\Users\\Pooja\\Documents\\Stone\\stone\\Augmentation/."
     ]
    },
    {
     "name": "stderr",
     "output_type": "stream",
     "text": [
      "Processing <PIL.Image.Image image mode=RGB size=1118x905 at 0x292407C4640>: 100%|██████████| 10/10 [00:00<00:00, 16.84 Samples/s]\n"
     ]
    },
    {
     "name": "stdout",
     "output_type": "stream",
     "text": [
      "Initialised with 1032 image(s) found.\n",
      "Output directory set to C:\\Users\\Pooja\\Documents\\Stone\\stone\\Augmentation/."
     ]
    },
    {
     "name": "stderr",
     "output_type": "stream",
     "text": [
      "Processing <PIL.Image.Image image mode=RGB size=855x691 at 0x2923F2DDFA0>: 100%|██████████| 10/10 [00:00<00:00, 30.48 Samples/s]                 \n"
     ]
    },
    {
     "name": "stdout",
     "output_type": "stream",
     "text": [
      "Initialised with 1032 image(s) found.\n",
      "Output directory set to C:\\Users\\Pooja\\Documents\\Stone\\stone\\Augmentation/."
     ]
    },
    {
     "name": "stderr",
     "output_type": "stream",
     "text": [
      "Processing <PIL.Image.Image image mode=RGB size=512x512 at 0x2923F872D60>: 100%|██████████| 10/10 [00:00<00:00, 18.82 Samples/s] \n"
     ]
    },
    {
     "name": "stdout",
     "output_type": "stream",
     "text": [
      "Initialised with 1032 image(s) found.\n",
      "Output directory set to C:\\Users\\Pooja\\Documents\\Stone\\stone\\Augmentation/."
     ]
    },
    {
     "name": "stderr",
     "output_type": "stream",
     "text": [
      "Processing <PIL.Image.Image image mode=RGB size=512x512 at 0x2923F79D0A0>: 100%|██████████| 10/10 [00:00<00:00, 25.60 Samples/s] \n"
     ]
    },
    {
     "name": "stdout",
     "output_type": "stream",
     "text": [
      "Initialised with 1032 image(s) found.\n",
      "Output directory set to C:\\Users\\Pooja\\Documents\\Stone\\stone\\Augmentation/."
     ]
    },
    {
     "name": "stderr",
     "output_type": "stream",
     "text": [
      "Processing <PIL.Image.Image image mode=RGB size=861x696 at 0x292407DE730>: 100%|██████████| 10/10 [00:00<00:00, 22.86 Samples/s] \n"
     ]
    },
    {
     "name": "stdout",
     "output_type": "stream",
     "text": [
      "Initialised with 1032 image(s) found.\n",
      "Output directory set to C:\\Users\\Pooja\\Documents\\Stone\\stone\\Augmentation/."
     ]
    },
    {
     "name": "stderr",
     "output_type": "stream",
     "text": [
      "Processing <PIL.Image.Image image mode=RGB size=512x512 at 0x292407FCE20>: 100%|██████████| 10/10 [00:00<00:00, 19.40 Samples/s] \n"
     ]
    },
    {
     "name": "stdout",
     "output_type": "stream",
     "text": [
      "Initialised with 1032 image(s) found.\n",
      "Output directory set to C:\\Users\\Pooja\\Documents\\Stone\\stone\\Augmentation/."
     ]
    },
    {
     "name": "stderr",
     "output_type": "stream",
     "text": [
      "Processing <PIL.Image.Image image mode=RGB size=512x512 at 0x2923F90B6D0>: 100%|██████████| 10/10 [00:00<00:00, 35.56 Samples/s] \n"
     ]
    },
    {
     "name": "stdout",
     "output_type": "stream",
     "text": [
      "Initialised with 1032 image(s) found.\n",
      "Output directory set to C:\\Users\\Pooja\\Documents\\Stone\\stone\\Augmentation/."
     ]
    },
    {
     "name": "stderr",
     "output_type": "stream",
     "text": [
      "Processing <PIL.Image.Image image mode=RGB size=512x512 at 0x292407FCF10>: 100%|██████████| 10/10 [00:00<00:00, 37.65 Samples/s]\n"
     ]
    },
    {
     "name": "stdout",
     "output_type": "stream",
     "text": [
      "Initialised with 1032 image(s) found.\n",
      "Output directory set to C:\\Users\\Pooja\\Documents\\Stone\\stone\\Augmentation/."
     ]
    },
    {
     "name": "stderr",
     "output_type": "stream",
     "text": [
      "Processing <PIL.Image.Image image mode=RGB size=749x605 at 0x292407DE1C0>: 100%|██████████| 10/10 [00:00<00:00, 30.48 Samples/s] \n"
     ]
    },
    {
     "name": "stdout",
     "output_type": "stream",
     "text": [
      "Initialised with 1032 image(s) found.\n",
      "Output directory set to C:\\Users\\Pooja\\Documents\\Stone\\stone\\Augmentation/."
     ]
    },
    {
     "name": "stderr",
     "output_type": "stream",
     "text": [
      "Processing <PIL.Image.Image image mode=RGB size=512x512 at 0x2923F899130>: 100%|██████████| 10/10 [00:00<00:00, 24.62 Samples/s]\n"
     ]
    },
    {
     "name": "stdout",
     "output_type": "stream",
     "text": [
      "Initialised with 1032 image(s) found.\n",
      "Output directory set to C:\\Users\\Pooja\\Documents\\Stone\\stone\\Augmentation/."
     ]
    },
    {
     "name": "stderr",
     "output_type": "stream",
     "text": [
      "Processing <PIL.Image.Image image mode=RGB size=512x512 at 0x292407DEA30>: 100%|██████████| 10/10 [00:00<00:00, 17.78 Samples/s] \n"
     ]
    },
    {
     "name": "stdout",
     "output_type": "stream",
     "text": [
      "Initialised with 1032 image(s) found.\n",
      "Output directory set to C:\\Users\\Pooja\\Documents\\Stone\\stone\\Augmentation/."
     ]
    },
    {
     "name": "stderr",
     "output_type": "stream",
     "text": [
      "Processing <PIL.Image.Image image mode=RGB size=512x512 at 0x2923F2DD850>: 100%|██████████| 10/10 [00:00<00:00, 30.48 Samples/s]\n"
     ]
    },
    {
     "name": "stdout",
     "output_type": "stream",
     "text": [
      "Initialised with 1032 image(s) found.\n",
      "Output directory set to C:\\Users\\Pooja\\Documents\\Stone\\stone\\Augmentation/."
     ]
    },
    {
     "name": "stderr",
     "output_type": "stream",
     "text": [
      "Processing <PIL.Image.Image image mode=RGB size=512x512 at 0x292407DEAC0>: 100%|██████████| 10/10 [00:00<00:00, 11.04 Samples/s] \n"
     ]
    },
    {
     "name": "stdout",
     "output_type": "stream",
     "text": [
      "Initialised with 1032 image(s) found.\n",
      "Output directory set to C:\\Users\\Pooja\\Documents\\Stone\\stone\\Augmentation/."
     ]
    },
    {
     "name": "stderr",
     "output_type": "stream",
     "text": [
      "Processing <PIL.Image.Image image mode=RGB size=512x512 at 0x2923F02BE80>: 100%|██████████| 10/10 [00:00<00:00, 13.33 Samples/s] \n"
     ]
    },
    {
     "name": "stdout",
     "output_type": "stream",
     "text": [
      "Initialised with 1032 image(s) found.\n",
      "Output directory set to C:\\Users\\Pooja\\Documents\\Stone\\stone\\Augmentation/."
     ]
    },
    {
     "name": "stderr",
     "output_type": "stream",
     "text": [
      "Processing <PIL.Image.Image image mode=RGB size=512x512 at 0x292407C41C0>: 100%|██████████| 10/10 [00:00<00:00, 11.04 Samples/s] \n"
     ]
    },
    {
     "name": "stdout",
     "output_type": "stream",
     "text": [
      "Initialised with 1032 image(s) found.\n",
      "Output directory set to C:\\Users\\Pooja\\Documents\\Stone\\stone\\Augmentation/."
     ]
    },
    {
     "name": "stderr",
     "output_type": "stream",
     "text": [
      "Processing <PIL.Image.Image image mode=RGB size=512x512 at 0x2923F8C6790>: 100%|██████████| 10/10 [00:00<00:00, 20.65 Samples/s] \n"
     ]
    },
    {
     "name": "stdout",
     "output_type": "stream",
     "text": [
      "Initialised with 1032 image(s) found.\n",
      "Output directory set to C:\\Users\\Pooja\\Documents\\Stone\\stone\\Augmentation/."
     ]
    },
    {
     "name": "stderr",
     "output_type": "stream",
     "text": [
      "Processing <PIL.Image.Image image mode=RGB size=512x512 at 0x292407C41C0>: 100%|██████████| 10/10 [00:00<00:00, 26.67 Samples/s]                 \n"
     ]
    },
    {
     "name": "stdout",
     "output_type": "stream",
     "text": [
      "Initialised with 1032 image(s) found.\n",
      "Output directory set to C:\\Users\\Pooja\\Documents\\Stone\\stone\\Augmentation/."
     ]
    },
    {
     "name": "stderr",
     "output_type": "stream",
     "text": [
      "Processing <PIL.Image.Image image mode=RGB size=512x512 at 0x2923F2DDC70>: 100%|██████████| 10/10 [00:00<00:00, 29.09 Samples/s]\n"
     ]
    },
    {
     "name": "stdout",
     "output_type": "stream",
     "text": [
      "Initialised with 1032 image(s) found.\n",
      "Output directory set to C:\\Users\\Pooja\\Documents\\Stone\\stone\\Augmentation/."
     ]
    },
    {
     "name": "stderr",
     "output_type": "stream",
     "text": [
      "Processing <PIL.Image.Image image mode=RGB size=731x591 at 0x2923F8B5FD0>: 100%|██████████| 10/10 [00:00<00:00, 23.71 Samples/s] \n"
     ]
    },
    {
     "name": "stdout",
     "output_type": "stream",
     "text": [
      "Initialised with 1032 image(s) found.\n",
      "Output directory set to C:\\Users\\Pooja\\Documents\\Stone\\stone\\Augmentation/."
     ]
    },
    {
     "name": "stderr",
     "output_type": "stream",
     "text": [
      "Processing <PIL.Image.Image image mode=RGB size=512x512 at 0x2923F899790>: 100%|██████████| 10/10 [00:00<00:00, 30.48 Samples/s] \n"
     ]
    },
    {
     "name": "stdout",
     "output_type": "stream",
     "text": [
      "Initialised with 1032 image(s) found.\n",
      "Output directory set to C:\\Users\\Pooja\\Documents\\Stone\\stone\\Augmentation/."
     ]
    },
    {
     "name": "stderr",
     "output_type": "stream",
     "text": [
      "Processing <PIL.Image.Image image mode=RGB size=1118x905 at 0x292407C4640>: 100%|██████████| 10/10 [00:01<00:00,  7.44 Samples/s]                \n"
     ]
    },
    {
     "name": "stdout",
     "output_type": "stream",
     "text": [
      "Initialised with 1032 image(s) found.\n",
      "Output directory set to C:\\Users\\Pooja\\Documents\\Stone\\stone\\Augmentation/."
     ]
    },
    {
     "name": "stderr",
     "output_type": "stream",
     "text": [
      "Processing <PIL.Image.Image image mode=RGB size=682x552 at 0x2923F2DD850>: 100%|██████████| 10/10 [00:02<00:00,  3.44 Samples/s]                 \n"
     ]
    },
    {
     "name": "stdout",
     "output_type": "stream",
     "text": [
      "Initialised with 1032 image(s) found.\n",
      "Output directory set to C:\\Users\\Pooja\\Documents\\Stone\\stone\\Augmentation/."
     ]
    },
    {
     "name": "stderr",
     "output_type": "stream",
     "text": [
      "Processing <PIL.Image.Image image mode=RGB size=512x512 at 0x292407C4340>: 100%|██████████| 10/10 [00:01<00:00,  5.33 Samples/s] \n"
     ]
    },
    {
     "name": "stdout",
     "output_type": "stream",
     "text": [
      "Initialised with 1032 image(s) found.\n",
      "Output directory set to C:\\Users\\Pooja\\Documents\\Stone\\stone\\Augmentation/."
     ]
    },
    {
     "name": "stderr",
     "output_type": "stream",
     "text": [
      "Processing <PIL.Image.Image image mode=RGB size=749x605 at 0x2923F2DDEE0>: 100%|██████████| 10/10 [00:02<00:00,  4.36 Samples/s]                 \n"
     ]
    },
    {
     "name": "stdout",
     "output_type": "stream",
     "text": [
      "Initialised with 1032 image(s) found.\n",
      "Output directory set to C:\\Users\\Pooja\\Documents\\Stone\\stone\\Augmentation/."
     ]
    },
    {
     "name": "stderr",
     "output_type": "stream",
     "text": [
      "Processing <PIL.Image.Image image mode=RGB size=512x512 at 0x292407DECA0>: 100%|██████████| 10/10 [00:00<00:00, 17.83 Samples/s] \n"
     ]
    },
    {
     "name": "stdout",
     "output_type": "stream",
     "text": [
      "Initialised with 1032 image(s) found.\n",
      "Output directory set to C:\\Users\\Pooja\\Documents\\Stone\\stone\\Augmentation/."
     ]
    },
    {
     "name": "stderr",
     "output_type": "stream",
     "text": [
      "Processing <PIL.Image.Image image mode=RGB size=512x512 at 0x2923F8C6340>: 100%|██████████| 10/10 [00:00<00:00, 11.24 Samples/s] \n"
     ]
    },
    {
     "name": "stdout",
     "output_type": "stream",
     "text": [
      "Initialised with 1032 image(s) found.\n",
      "Output directory set to C:\\Users\\Pooja\\Documents\\Stone\\stone\\Augmentation/."
     ]
    },
    {
     "name": "stderr",
     "output_type": "stream",
     "text": [
      "Processing <PIL.Image.Image image mode=RGB size=512x512 at 0x2923F90B250>: 100%|██████████| 10/10 [00:00<00:00, 11.58 Samples/s] \n"
     ]
    },
    {
     "name": "stdout",
     "output_type": "stream",
     "text": [
      "Initialised with 1032 image(s) found.\n",
      "Output directory set to C:\\Users\\Pooja\\Documents\\Stone\\stone\\Augmentation/."
     ]
    },
    {
     "name": "stderr",
     "output_type": "stream",
     "text": [
      "Processing <PIL.Image.Image image mode=RGB size=512x512 at 0x2923F8996D0>: 100%|██████████| 10/10 [00:01<00:00,  6.40 Samples/s] \n"
     ]
    },
    {
     "name": "stdout",
     "output_type": "stream",
     "text": [
      "Initialised with 1032 image(s) found.\n",
      "Output directory set to C:\\Users\\Pooja\\Documents\\Stone\\stone\\Augmentation/."
     ]
    },
    {
     "name": "stderr",
     "output_type": "stream",
     "text": [
      "Processing <PIL.Image.Image image mode=RGB size=512x512 at 0x292407C44C0>: 100%|██████████| 10/10 [00:01<00:00,  9.40 Samples/s] \n"
     ]
    },
    {
     "name": "stdout",
     "output_type": "stream",
     "text": [
      "Initialised with 1032 image(s) found.\n",
      "Output directory set to C:\\Users\\Pooja\\Documents\\Stone\\stone\\Augmentation/."
     ]
    },
    {
     "name": "stderr",
     "output_type": "stream",
     "text": [
      "Processing <PIL.Image.Image image mode=RGB size=813x657 at 0x2923F8C6280>: 100%|██████████| 10/10 [00:01<00:00,  5.84 Samples/s]\n"
     ]
    },
    {
     "name": "stdout",
     "output_type": "stream",
     "text": [
      "Initialised with 1032 image(s) found.\n",
      "Output directory set to C:\\Users\\Pooja\\Documents\\Stone\\stone\\Augmentation/."
     ]
    },
    {
     "name": "stderr",
     "output_type": "stream",
     "text": [
      "Processing <PIL.Image.Image image mode=RGB size=749x605 at 0x2923F778850>: 100%|██████████| 10/10 [00:01<00:00,  5.24 Samples/s] \n"
     ]
    },
    {
     "name": "stdout",
     "output_type": "stream",
     "text": [
      "Initialised with 1032 image(s) found.\n",
      "Output directory set to C:\\Users\\Pooja\\Documents\\Stone\\stone\\Augmentation/."
     ]
    },
    {
     "name": "stderr",
     "output_type": "stream",
     "text": [
      "Processing <PIL.Image.Image image mode=RGB size=512x512 at 0x2923F8C6A90>: 100%|██████████| 10/10 [00:01<00:00,  7.73 Samples/s] \n"
     ]
    },
    {
     "name": "stdout",
     "output_type": "stream",
     "text": [
      "Initialised with 1032 image(s) found.\n",
      "Output directory set to C:\\Users\\Pooja\\Documents\\Stone\\stone\\Augmentation/."
     ]
    },
    {
     "name": "stderr",
     "output_type": "stream",
     "text": [
      "Processing <PIL.Image.Image image mode=RGB size=512x512 at 0x2923F02BBB0>: 100%|██████████| 10/10 [00:00<00:00, 10.73 Samples/s]\n"
     ]
    },
    {
     "name": "stdout",
     "output_type": "stream",
     "text": [
      "Initialised with 1032 image(s) found.\n",
      "Output directory set to C:\\Users\\Pooja\\Documents\\Stone\\stone\\Augmentation/."
     ]
    },
    {
     "name": "stderr",
     "output_type": "stream",
     "text": [
      "Processing <PIL.Image.Image image mode=RGB size=512x512 at 0x2923F8999A0>: 100%|██████████| 10/10 [00:00<00:00, 11.23 Samples/s] \n"
     ]
    },
    {
     "name": "stdout",
     "output_type": "stream",
     "text": [
      "Initialised with 1032 image(s) found.\n",
      "Output directory set to C:\\Users\\Pooja\\Documents\\Stone\\stone\\Augmentation/."
     ]
    },
    {
     "name": "stderr",
     "output_type": "stream",
     "text": [
      "Processing <PIL.Image.Image image mode=RGB size=512x512 at 0x2923F7789A0>: 100%|██████████| 10/10 [00:01<00:00,  8.77 Samples/s] \n"
     ]
    },
    {
     "name": "stdout",
     "output_type": "stream",
     "text": [
      "Initialised with 1032 image(s) found.\n",
      "Output directory set to C:\\Users\\Pooja\\Documents\\Stone\\stone\\Augmentation/."
     ]
    },
    {
     "name": "stderr",
     "output_type": "stream",
     "text": [
      "Processing <PIL.Image.Image image mode=RGB size=512x512 at 0x2923F2DDEE0>: 100%|██████████| 10/10 [00:00<00:00, 18.89 Samples/s]\n"
     ]
    },
    {
     "name": "stdout",
     "output_type": "stream",
     "text": [
      "Initialised with 1032 image(s) found.\n",
      "Output directory set to C:\\Users\\Pooja\\Documents\\Stone\\stone\\Augmentation/."
     ]
    },
    {
     "name": "stderr",
     "output_type": "stream",
     "text": [
      "Processing <PIL.Image.Image image mode=RGB size=512x512 at 0x2923F7822E0>: 100%|██████████| 10/10 [00:00<00:00, 21.13 Samples/s]\n"
     ]
    },
    {
     "name": "stdout",
     "output_type": "stream",
     "text": [
      "Initialised with 1032 image(s) found.\n",
      "Output directory set to C:\\Users\\Pooja\\Documents\\Stone\\stone\\Augmentation/."
     ]
    },
    {
     "name": "stderr",
     "output_type": "stream",
     "text": [
      "Processing <PIL.Image.Image image mode=RGB size=1236x1001 at 0x2923F8C6D30>: 100%|██████████| 10/10 [00:00<00:00, 16.11 Samples/s]\n"
     ]
    },
    {
     "name": "stdout",
     "output_type": "stream",
     "text": [
      "Initialised with 1032 image(s) found.\n",
      "Output directory set to C:\\Users\\Pooja\\Documents\\Stone\\stone\\Augmentation/."
     ]
    },
    {
     "name": "stderr",
     "output_type": "stream",
     "text": [
      "Processing <PIL.Image.Image image mode=RGB size=888x719 at 0x2923F778670>: 100%|██████████| 10/10 [00:00<00:00, 19.39 Samples/s]\n"
     ]
    },
    {
     "name": "stdout",
     "output_type": "stream",
     "text": [
      "Initialised with 1032 image(s) found.\n",
      "Output directory set to C:\\Users\\Pooja\\Documents\\Stone\\stone\\Augmentation/."
     ]
    },
    {
     "name": "stderr",
     "output_type": "stream",
     "text": [
      "Processing <PIL.Image.Image image mode=RGB size=512x512 at 0x2923F8C6070>: 100%|██████████| 10/10 [00:01<00:00,  9.33 Samples/s] \n"
     ]
    },
    {
     "name": "stdout",
     "output_type": "stream",
     "text": [
      "Initialised with 1032 image(s) found.\n",
      "Output directory set to C:\\Users\\Pooja\\Documents\\Stone\\stone\\Augmentation/."
     ]
    },
    {
     "name": "stderr",
     "output_type": "stream",
     "text": [
      "Processing <PIL.Image.Image image mode=RGB size=888x719 at 0x2923F782BB0>: 100%|██████████| 10/10 [00:00<00:00, 11.73 Samples/s] \n"
     ]
    },
    {
     "name": "stdout",
     "output_type": "stream",
     "text": [
      "Initialised with 1032 image(s) found.\n",
      "Output directory set to C:\\Users\\Pooja\\Documents\\Stone\\stone\\Augmentation/."
     ]
    },
    {
     "name": "stderr",
     "output_type": "stream",
     "text": [
      "Processing <PIL.Image.Image image mode=RGB size=1236x1001 at 0x2923F2DDA90>: 100%|██████████| 10/10 [00:00<00:00, 16.41 Samples/s]\n"
     ]
    },
    {
     "name": "stdout",
     "output_type": "stream",
     "text": [
      "Initialised with 1032 image(s) found.\n",
      "Output directory set to C:\\Users\\Pooja\\Documents\\Stone\\stone\\Augmentation/."
     ]
    },
    {
     "name": "stderr",
     "output_type": "stream",
     "text": [
      "Processing <PIL.Image.Image image mode=RGB size=512x512 at 0x2923F782550>: 100%|██████████| 10/10 [00:00<00:00, 26.67 Samples/s]\n"
     ]
    },
    {
     "name": "stdout",
     "output_type": "stream",
     "text": [
      "Initialised with 1032 image(s) found.\n",
      "Output directory set to C:\\Users\\Pooja\\Documents\\Stone\\stone\\Augmentation/."
     ]
    },
    {
     "name": "stderr",
     "output_type": "stream",
     "text": [
      "Processing <PIL.Image.Image image mode=RGB size=512x512 at 0x2923F2DDFA0>: 100%|██████████| 10/10 [00:00<00:00, 22.07 Samples/s]                 \n"
     ]
    },
    {
     "name": "stdout",
     "output_type": "stream",
     "text": [
      "Initialised with 1032 image(s) found.\n",
      "Output directory set to C:\\Users\\Pooja\\Documents\\Stone\\stone\\Augmentation/."
     ]
    },
    {
     "name": "stderr",
     "output_type": "stream",
     "text": [
      "Processing <PIL.Image.Image image mode=RGB size=512x512 at 0x2923F7820D0>: 100%|██████████| 10/10 [00:00<00:00, 12.31 Samples/s] \n"
     ]
    },
    {
     "name": "stdout",
     "output_type": "stream",
     "text": [
      "Initialised with 1032 image(s) found.\n",
      "Output directory set to C:\\Users\\Pooja\\Documents\\Stone\\stone\\Augmentation/."
     ]
    },
    {
     "name": "stderr",
     "output_type": "stream",
     "text": [
      "Processing <PIL.Image.Image image mode=RGB size=771x623 at 0x2923F8C6C40>: 100%|██████████| 10/10 [00:00<00:00, 16.41 Samples/s] \n"
     ]
    },
    {
     "name": "stdout",
     "output_type": "stream",
     "text": [
      "Initialised with 1032 image(s) found.\n",
      "Output directory set to C:\\Users\\Pooja\\Documents\\Stone\\stone\\Augmentation/."
     ]
    },
    {
     "name": "stderr",
     "output_type": "stream",
     "text": [
      "Processing <PIL.Image.Image image mode=RGB size=713x576 at 0x2923F782400>: 100%|██████████| 10/10 [00:00<00:00, 17.78 Samples/s]\n"
     ]
    },
    {
     "name": "stdout",
     "output_type": "stream",
     "text": [
      "Initialised with 1032 image(s) found.\n",
      "Output directory set to C:\\Users\\Pooja\\Documents\\Stone\\stone\\Augmentation/."
     ]
    },
    {
     "name": "stderr",
     "output_type": "stream",
     "text": [
      "Processing <PIL.Image.Image image mode=RGB size=512x512 at 0x2923F8C6790>: 100%|██████████| 10/10 [00:00<00:00, 15.61 Samples/s] \n"
     ]
    },
    {
     "name": "stdout",
     "output_type": "stream",
     "text": [
      "Initialised with 1032 image(s) found.\n",
      "Output directory set to C:\\Users\\Pooja\\Documents\\Stone\\stone\\Augmentation/."
     ]
    },
    {
     "name": "stderr",
     "output_type": "stream",
     "text": [
      "Processing <PIL.Image.Image image mode=RGB size=512x512 at 0x2923F782100>: 100%|██████████| 10/10 [00:00<00:00, 20.65 Samples/s]\n"
     ]
    },
    {
     "name": "stdout",
     "output_type": "stream",
     "text": [
      "Initialised with 1032 image(s) found.\n",
      "Output directory set to C:\\Users\\Pooja\\Documents\\Stone\\stone\\Augmentation/."
     ]
    },
    {
     "name": "stderr",
     "output_type": "stream",
     "text": [
      "Processing <PIL.Image.Image image mode=RGB size=512x512 at 0x2923F2DD370>: 100%|██████████| 10/10 [00:00<00:00, 23.71 Samples/s] \n"
     ]
    },
    {
     "name": "stdout",
     "output_type": "stream",
     "text": [
      "Initialised with 1032 image(s) found.\n",
      "Output directory set to C:\\Users\\Pooja\\Documents\\Stone\\stone\\Augmentation/."
     ]
    },
    {
     "name": "stderr",
     "output_type": "stream",
     "text": [
      "Processing <PIL.Image.Image image mode=RGB size=512x512 at 0x2923F8FDC10>: 100%|██████████| 10/10 [00:00<00:00, 30.48 Samples/s]\n"
     ]
    },
    {
     "name": "stdout",
     "output_type": "stream",
     "text": [
      "Initialised with 1032 image(s) found.\n",
      "Output directory set to C:\\Users\\Pooja\\Documents\\Stone\\stone\\Augmentation/."
     ]
    },
    {
     "name": "stderr",
     "output_type": "stream",
     "text": [
      "Processing <PIL.Image.Image image mode=RGB size=512x512 at 0x2923F2DDD90>: 100%|██████████| 10/10 [00:00<00:00, 18.29 Samples/s]\n"
     ]
    },
    {
     "name": "stdout",
     "output_type": "stream",
     "text": [
      "Initialised with 1032 image(s) found.\n",
      "Output directory set to C:\\Users\\Pooja\\Documents\\Stone\\stone\\Augmentation/."
     ]
    },
    {
     "name": "stderr",
     "output_type": "stream",
     "text": [
      "Processing <PIL.Image.Image image mode=RGB size=512x512 at 0x2923F84D1C0>: 100%|██████████| 10/10 [00:00<00:00, 14.88 Samples/s] \n"
     ]
    },
    {
     "name": "stdout",
     "output_type": "stream",
     "text": [
      "Initialised with 1032 image(s) found.\n",
      "Output directory set to C:\\Users\\Pooja\\Documents\\Stone\\stone\\Augmentation/."
     ]
    },
    {
     "name": "stderr",
     "output_type": "stream",
     "text": [
      "Processing <PIL.Image.Image image mode=RGB size=512x512 at 0x2923F2DD460>: 100%|██████████| 10/10 [00:00<00:00, 16.84 Samples/s] \n"
     ]
    },
    {
     "name": "stdout",
     "output_type": "stream",
     "text": [
      "Initialised with 1032 image(s) found.\n",
      "Output directory set to C:\\Users\\Pooja\\Documents\\Stone\\stone\\Augmentation/."
     ]
    },
    {
     "name": "stderr",
     "output_type": "stream",
     "text": [
      "Processing <PIL.Image.Image image mode=RGB size=713x576 at 0x2923F782AC0>: 100%|██████████| 10/10 [00:00<00:00, 19.40 Samples/s]\n"
     ]
    },
    {
     "name": "stdout",
     "output_type": "stream",
     "text": [
      "Initialised with 1032 image(s) found.\n",
      "Output directory set to C:\\Users\\Pooja\\Documents\\Stone\\stone\\Augmentation/."
     ]
    },
    {
     "name": "stderr",
     "output_type": "stream",
     "text": [
      "Processing <PIL.Image.Image image mode=RGB size=1236x1001 at 0x2923F899070>: 100%|██████████| 10/10 [00:00<00:00, 12.37 Samples/s]\n"
     ]
    },
    {
     "name": "stdout",
     "output_type": "stream",
     "text": [
      "Initialised with 1032 image(s) found.\n",
      "Output directory set to C:\\Users\\Pooja\\Documents\\Stone\\stone\\Augmentation/."
     ]
    },
    {
     "name": "stderr",
     "output_type": "stream",
     "text": [
      "Processing <PIL.Image.Image image mode=RGB size=512x512 at 0x2923F782A00>: 100%|██████████| 10/10 [00:00<00:00, 16.96 Samples/s] \n"
     ]
    },
    {
     "name": "stdout",
     "output_type": "stream",
     "text": [
      "Initialised with 1032 image(s) found.\n",
      "Output directory set to C:\\Users\\Pooja\\Documents\\Stone\\stone\\Augmentation/."
     ]
    },
    {
     "name": "stderr",
     "output_type": "stream",
     "text": [
      "Processing <PIL.Image.Image image mode=RGB size=832x674 at 0x2923F899F10>: 100%|██████████| 10/10 [00:00<00:00, 13.71 Samples/s] \n"
     ]
    },
    {
     "name": "stdout",
     "output_type": "stream",
     "text": [
      "Initialised with 1032 image(s) found.\n",
      "Output directory set to C:\\Users\\Pooja\\Documents\\Stone\\stone\\Augmentation/."
     ]
    },
    {
     "name": "stderr",
     "output_type": "stream",
     "text": [
      "Processing <PIL.Image.Image image mode=RGB size=512x512 at 0x2923F7784C0>: 100%|██████████| 10/10 [00:00<00:00, 15.86 Samples/s] \n"
     ]
    },
    {
     "name": "stdout",
     "output_type": "stream",
     "text": [
      "Initialised with 1032 image(s) found.\n",
      "Output directory set to C:\\Users\\Pooja\\Documents\\Stone\\stone\\Augmentation/."
     ]
    },
    {
     "name": "stderr",
     "output_type": "stream",
     "text": [
      "Processing <PIL.Image.Image image mode=RGB size=512x512 at 0x2923F899BE0>: 100%|██████████| 10/10 [00:00<00:00, 13.91 Samples/s] \n"
     ]
    },
    {
     "name": "stdout",
     "output_type": "stream",
     "text": [
      "Initialised with 1032 image(s) found.\n",
      "Output directory set to C:\\Users\\Pooja\\Documents\\Stone\\stone\\Augmentation/."
     ]
    },
    {
     "name": "stderr",
     "output_type": "stream",
     "text": [
      "Processing <PIL.Image.Image image mode=RGB size=1118x905 at 0x2923F782580>: 100%|██████████| 10/10 [00:00<00:00, 26.67 Samples/s]\n"
     ]
    },
    {
     "name": "stdout",
     "output_type": "stream",
     "text": [
      "Initialised with 1032 image(s) found.\n",
      "Output directory set to C:\\Users\\Pooja\\Documents\\Stone\\stone\\Augmentation/."
     ]
    },
    {
     "name": "stderr",
     "output_type": "stream",
     "text": [
      "Processing <PIL.Image.Image image mode=RGB size=512x512 at 0x2923F899730>: 100%|██████████| 10/10 [00:00<00:00, 14.77 Samples/s] \n"
     ]
    },
    {
     "name": "stdout",
     "output_type": "stream",
     "text": [
      "Initialised with 1032 image(s) found.\n",
      "Output directory set to C:\\Users\\Pooja\\Documents\\Stone\\stone\\Augmentation/."
     ]
    },
    {
     "name": "stderr",
     "output_type": "stream",
     "text": [
      "Processing <PIL.Image.Image image mode=RGB size=512x512 at 0x2923F8FD550>: 100%|██████████| 10/10 [00:00<00:00, 16.75 Samples/s]\n"
     ]
    },
    {
     "name": "stdout",
     "output_type": "stream",
     "text": [
      "Initialised with 1032 image(s) found.\n",
      "Output directory set to C:\\Users\\Pooja\\Documents\\Stone\\stone\\Augmentation/."
     ]
    },
    {
     "name": "stderr",
     "output_type": "stream",
     "text": [
      "Processing <PIL.Image.Image image mode=RGB size=861x696 at 0x2923F899D90>: 100%|██████████| 10/10 [00:00<00:00, 22.07 Samples/s] \n"
     ]
    },
    {
     "name": "stdout",
     "output_type": "stream",
     "text": [
      "Initialised with 1032 image(s) found.\n",
      "Output directory set to C:\\Users\\Pooja\\Documents\\Stone\\stone\\Augmentation/."
     ]
    },
    {
     "name": "stderr",
     "output_type": "stream",
     "text": [
      "Processing <PIL.Image.Image image mode=RGB size=512x512 at 0x2923F8FD5E0>: 100%|██████████| 10/10 [00:00<00:00, 16.40 Samples/s]                 \n"
     ]
    },
    {
     "name": "stdout",
     "output_type": "stream",
     "text": [
      "Initialised with 1032 image(s) found.\n",
      "Output directory set to C:\\Users\\Pooja\\Documents\\Stone\\stone\\Augmentation/."
     ]
    },
    {
     "name": "stderr",
     "output_type": "stream",
     "text": [
      "Processing <PIL.Image.Image image mode=RGB size=512x512 at 0x2923F87FA90>: 100%|██████████| 10/10 [00:00<00:00, 32.60 Samples/s] \n"
     ]
    },
    {
     "name": "stdout",
     "output_type": "stream",
     "text": [
      "Initialised with 1032 image(s) found.\n",
      "Output directory set to C:\\Users\\Pooja\\Documents\\Stone\\stone\\Augmentation/."
     ]
    },
    {
     "name": "stderr",
     "output_type": "stream",
     "text": [
      "Processing <PIL.Image.Image image mode=RGB size=512x512 at 0x2923F782610>: 100%|██████████| 10/10 [00:00<00:00, 20.12 Samples/s] \n"
     ]
    },
    {
     "name": "stdout",
     "output_type": "stream",
     "text": [
      "Initialised with 1032 image(s) found.\n",
      "Output directory set to C:\\Users\\Pooja\\Documents\\Stone\\stone\\Augmentation/."
     ]
    },
    {
     "name": "stderr",
     "output_type": "stream",
     "text": [
      "Processing <PIL.Image.Image image mode=RGB size=512x512 at 0x2923F8990D0>: 100%|██████████| 10/10 [00:00<00:00, 17.78 Samples/s] \n"
     ]
    },
    {
     "name": "stdout",
     "output_type": "stream",
     "text": [
      "Initialised with 1032 image(s) found.\n",
      "Output directory set to C:\\Users\\Pooja\\Documents\\Stone\\stone\\Augmentation/."
     ]
    },
    {
     "name": "stderr",
     "output_type": "stream",
     "text": [
      "Processing <PIL.Image.Image image mode=RGB size=512x512 at 0x2923F8FDDF0>: 100%|██████████| 10/10 [00:00<00:00, 16.84 Samples/s]\n"
     ]
    },
    {
     "name": "stdout",
     "output_type": "stream",
     "text": [
      "Initialised with 1032 image(s) found.\n",
      "Output directory set to C:\\Users\\Pooja\\Documents\\Stone\\stone\\Augmentation/."
     ]
    },
    {
     "name": "stderr",
     "output_type": "stream",
     "text": [
      "Processing <PIL.Image.Image image mode=RGB size=1203x974 at 0x2923F8C6700>: 100%|██████████| 10/10 [00:00<00:00, 15.24 Samples/s]\n"
     ]
    },
    {
     "name": "stdout",
     "output_type": "stream",
     "text": [
      "Initialised with 1032 image(s) found.\n",
      "Output directory set to C:\\Users\\Pooja\\Documents\\Stone\\stone\\Augmentation/."
     ]
    },
    {
     "name": "stderr",
     "output_type": "stream",
     "text": [
      "Processing <PIL.Image.Image image mode=RGB size=512x512 at 0x2923F7788B0>: 100%|██████████| 10/10 [00:00<00:00, 18.82 Samples/s] \n"
     ]
    },
    {
     "name": "stdout",
     "output_type": "stream",
     "text": [
      "Initialised with 1032 image(s) found.\n",
      "Output directory set to C:\\Users\\Pooja\\Documents\\Stone\\stone\\Augmentation/."
     ]
    },
    {
     "name": "stderr",
     "output_type": "stream",
     "text": [
      "Processing <PIL.Image.Image image mode=RGB size=512x512 at 0x2923F87FB50>: 100%|██████████| 10/10 [00:00<00:00, 27.83 Samples/s]\n"
     ]
    },
    {
     "name": "stdout",
     "output_type": "stream",
     "text": [
      "Initialised with 1032 image(s) found.\n",
      "Output directory set to C:\\Users\\Pooja\\Documents\\Stone\\stone\\Augmentation/."
     ]
    },
    {
     "name": "stderr",
     "output_type": "stream",
     "text": [
      "Processing <PIL.Image.Image image mode=RGB size=512x512 at 0x2923F8FD430>: 100%|██████████| 10/10 [00:00<00:00, 26.67 Samples/s]\n"
     ]
    },
    {
     "name": "stdout",
     "output_type": "stream",
     "text": [
      "Initialised with 1032 image(s) found.\n",
      "Output directory set to C:\\Users\\Pooja\\Documents\\Stone\\stone\\Augmentation/."
     ]
    },
    {
     "name": "stderr",
     "output_type": "stream",
     "text": [
      "Processing <PIL.Image.Image image mode=RGB size=512x512 at 0x2923F899AC0>: 100%|██████████| 10/10 [00:00<00:00, 30.48 Samples/s]\n"
     ]
    },
    {
     "name": "stdout",
     "output_type": "stream",
     "text": [
      "Initialised with 1032 image(s) found.\n",
      "Output directory set to C:\\Users\\Pooja\\Documents\\Stone\\stone\\Augmentation/."
     ]
    },
    {
     "name": "stderr",
     "output_type": "stream",
     "text": [
      "Processing <PIL.Image.Image image mode=RGB size=771x623 at 0x2923F7820D0>: 100%|██████████| 10/10 [00:00<00:00, 23.70 Samples/s] \n"
     ]
    },
    {
     "name": "stdout",
     "output_type": "stream",
     "text": [
      "Initialised with 1032 image(s) found.\n",
      "Output directory set to C:\\Users\\Pooja\\Documents\\Stone\\stone\\Augmentation/."
     ]
    },
    {
     "name": "stderr",
     "output_type": "stream",
     "text": [
      "Processing <PIL.Image.Image image mode=RGB size=512x512 at 0x2923F899E50>: 100%|██████████| 10/10 [00:00<00:00, 24.62 Samples/s] \n"
     ]
    },
    {
     "name": "stdout",
     "output_type": "stream",
     "text": [
      "Initialised with 1032 image(s) found.\n",
      "Output directory set to C:\\Users\\Pooja\\Documents\\Stone\\stone\\Augmentation/."
     ]
    },
    {
     "name": "stderr",
     "output_type": "stream",
     "text": [
      "Processing <PIL.Image.Image image mode=RGB size=855x691 at 0x2923F7825B0>: 100%|██████████| 10/10 [00:00<00:00, 27.83 Samples/s] \n"
     ]
    },
    {
     "name": "stdout",
     "output_type": "stream",
     "text": [
      "Initialised with 1032 image(s) found.\n",
      "Output directory set to C:\\Users\\Pooja\\Documents\\Stone\\stone\\Augmentation/."
     ]
    },
    {
     "name": "stderr",
     "output_type": "stream",
     "text": [
      "Processing <PIL.Image.Image image mode=RGB size=888x719 at 0x2923F87F4C0>: 100%|██████████| 10/10 [00:00<00:00, 27.83 Samples/s]\n"
     ]
    },
    {
     "name": "stdout",
     "output_type": "stream",
     "text": [
      "Initialised with 1032 image(s) found.\n",
      "Output directory set to C:\\Users\\Pooja\\Documents\\Stone\\stone\\Augmentation/."
     ]
    },
    {
     "name": "stderr",
     "output_type": "stream",
     "text": [
      "Processing <PIL.Image.Image image mode=RGB size=512x512 at 0x2923F84DD30>: 100%|██████████| 10/10 [00:01<00:00,  9.41 Samples/s] \n"
     ]
    },
    {
     "name": "stdout",
     "output_type": "stream",
     "text": [
      "Initialised with 1032 image(s) found.\n",
      "Output directory set to C:\\Users\\Pooja\\Documents\\Stone\\stone\\Augmentation/."
     ]
    },
    {
     "name": "stderr",
     "output_type": "stream",
     "text": [
      "Processing <PIL.Image.Image image mode=RGB size=512x512 at 0x2923F87F7C0>: 100%|██████████| 10/10 [00:00<00:00, 25.60 Samples/s] \n"
     ]
    },
    {
     "name": "stdout",
     "output_type": "stream",
     "text": [
      "Initialised with 1032 image(s) found.\n",
      "Output directory set to C:\\Users\\Pooja\\Documents\\Stone\\stone\\Augmentation/."
     ]
    },
    {
     "name": "stderr",
     "output_type": "stream",
     "text": [
      "Processing <PIL.Image.Image image mode=RGB size=512x512 at 0x2923F778310>: 100%|██████████| 10/10 [00:00<00:00, 29.09 Samples/s]\n"
     ]
    },
    {
     "name": "stdout",
     "output_type": "stream",
     "text": [
      "Initialised with 1032 image(s) found.\n",
      "Output directory set to C:\\Users\\Pooja\\Documents\\Stone\\stone\\Augmentation/."
     ]
    },
    {
     "name": "stderr",
     "output_type": "stream",
     "text": [
      "Processing <PIL.Image.Image image mode=RGB size=512x512 at 0x2923F2DD460>: 100%|██████████| 10/10 [00:00<00:00, 40.01 Samples/s]\n"
     ]
    },
    {
     "name": "stdout",
     "output_type": "stream",
     "text": [
      "Initialised with 1032 image(s) found.\n",
      "Output directory set to C:\\Users\\Pooja\\Documents\\Stone\\stone\\Augmentation/."
     ]
    },
    {
     "name": "stderr",
     "output_type": "stream",
     "text": [
      "Processing <PIL.Image.Image image mode=RGB size=512x512 at 0x2923F7781F0>: 100%|██████████| 10/10 [00:00<00:00, 42.67 Samples/s]\n"
     ]
    },
    {
     "name": "stdout",
     "output_type": "stream",
     "text": [
      "Initialised with 1032 image(s) found.\n",
      "Output directory set to C:\\Users\\Pooja\\Documents\\Stone\\stone\\Augmentation/."
     ]
    },
    {
     "name": "stderr",
     "output_type": "stream",
     "text": [
      "Processing <PIL.Image.Image image mode=RGB size=512x512 at 0x2923F8C68B0>: 100%|██████████| 10/10 [00:00<00:00, 21.33 Samples/s] \n"
     ]
    },
    {
     "name": "stdout",
     "output_type": "stream",
     "text": [
      "Initialised with 1032 image(s) found.\n",
      "Output directory set to C:\\Users\\Pooja\\Documents\\Stone\\stone\\Augmentation/."
     ]
    },
    {
     "name": "stderr",
     "output_type": "stream",
     "text": [
      "Processing <PIL.Image.Image image mode=RGB size=512x512 at 0x2923F7826D0>: 100%|██████████| 10/10 [00:00<00:00, 18.29 Samples/s] \n"
     ]
    },
    {
     "name": "stdout",
     "output_type": "stream",
     "text": [
      "Initialised with 1032 image(s) found.\n",
      "Output directory set to C:\\Users\\Pooja\\Documents\\Stone\\stone\\Augmentation/."
     ]
    },
    {
     "name": "stderr",
     "output_type": "stream",
     "text": [
      "Processing <PIL.Image.Image image mode=RGB size=512x512 at 0x2923F87F370>: 100%|██████████| 10/10 [00:00<00:00, 16.41 Samples/s]\n"
     ]
    },
    {
     "name": "stdout",
     "output_type": "stream",
     "text": [
      "Initialised with 1032 image(s) found.\n",
      "Output directory set to C:\\Users\\Pooja\\Documents\\Stone\\stone\\Augmentation/."
     ]
    },
    {
     "name": "stderr",
     "output_type": "stream",
     "text": [
      "Processing <PIL.Image.Image image mode=RGB size=749x605 at 0x2923F782250>: 100%|██████████| 10/10 [00:00<00:00, 14.88 Samples/s] \n"
     ]
    },
    {
     "name": "stdout",
     "output_type": "stream",
     "text": [
      "Initialised with 1032 image(s) found.\n",
      "Output directory set to C:\\Users\\Pooja\\Documents\\Stone\\stone\\Augmentation/."
     ]
    },
    {
     "name": "stderr",
     "output_type": "stream",
     "text": [
      "Processing <PIL.Image.Image image mode=RGB size=771x623 at 0x2923F8990D0>: 100%|██████████| 10/10 [00:00<00:00, 20.65 Samples/s]\n"
     ]
    },
    {
     "name": "stdout",
     "output_type": "stream",
     "text": [
      "Initialised with 1032 image(s) found.\n",
      "Output directory set to C:\\Users\\Pooja\\Documents\\Stone\\stone\\Augmentation/."
     ]
    },
    {
     "name": "stderr",
     "output_type": "stream",
     "text": [
      "Processing <PIL.Image.Image image mode=RGB size=512x512 at 0x2923F8FD430>: 100%|██████████| 10/10 [00:00<00:00, 18.82 Samples/s] \n"
     ]
    },
    {
     "name": "stdout",
     "output_type": "stream",
     "text": [
      "Initialised with 1032 image(s) found.\n",
      "Output directory set to C:\\Users\\Pooja\\Documents\\Stone\\stone\\Augmentation/."
     ]
    },
    {
     "name": "stderr",
     "output_type": "stream",
     "text": [
      "Processing <PIL.Image.Image image mode=RGB size=512x512 at 0x2923F8C6520>: 100%|██████████| 10/10 [00:01<00:00,  8.21 Samples/s]                 \n"
     ]
    },
    {
     "name": "stdout",
     "output_type": "stream",
     "text": [
      "Initialised with 1032 image(s) found.\n",
      "Output directory set to C:\\Users\\Pooja\\Documents\\Stone\\stone\\Augmentation/."
     ]
    },
    {
     "name": "stderr",
     "output_type": "stream",
     "text": [
      "Processing <PIL.Image.Image image mode=RGB size=1236x1001 at 0x2923F782430>: 100%|██████████| 10/10 [00:01<00:00,  5.82 Samples/s]\n"
     ]
    },
    {
     "name": "stdout",
     "output_type": "stream",
     "text": [
      "Initialised with 1032 image(s) found.\n",
      "Output directory set to C:\\Users\\Pooja\\Documents\\Stone\\stone\\Augmentation/."
     ]
    },
    {
     "name": "stderr",
     "output_type": "stream",
     "text": [
      "Processing <PIL.Image.Image image mode=RGB size=745x602 at 0x2923F8D2070>: 100%|██████████| 10/10 [00:01<00:00,  9.04 Samples/s] \n"
     ]
    },
    {
     "name": "stdout",
     "output_type": "stream",
     "text": [
      "Initialised with 1032 image(s) found.\n",
      "Output directory set to C:\\Users\\Pooja\\Documents\\Stone\\stone\\Augmentation/."
     ]
    },
    {
     "name": "stderr",
     "output_type": "stream",
     "text": [
      "Processing <PIL.Image.Image image mode=RGB size=512x512 at 0x2923F7824F0>: 100%|██████████| 10/10 [00:01<00:00,  8.84 Samples/s]\n"
     ]
    },
    {
     "name": "stdout",
     "output_type": "stream",
     "text": [
      "Initialised with 1032 image(s) found.\n",
      "Output directory set to C:\\Users\\Pooja\\Documents\\Stone\\stone\\Augmentation/."
     ]
    },
    {
     "name": "stderr",
     "output_type": "stream",
     "text": [
      "Processing <PIL.Image.Image image mode=RGB size=682x552 at 0x2923F899F10>: 100%|██████████| 10/10 [00:00<00:00, 19.89 Samples/s] \n"
     ]
    },
    {
     "name": "stdout",
     "output_type": "stream",
     "text": [
      "Initialised with 1032 image(s) found.\n",
      "Output directory set to C:\\Users\\Pooja\\Documents\\Stone\\stone\\Augmentation/."
     ]
    },
    {
     "name": "stderr",
     "output_type": "stream",
     "text": [
      "Processing <PIL.Image.Image image mode=RGB size=512x512 at 0x2923F7787C0>: 100%|██████████| 10/10 [00:00<00:00, 20.59 Samples/s]\n"
     ]
    },
    {
     "name": "stdout",
     "output_type": "stream",
     "text": [
      "Initialised with 1032 image(s) found.\n",
      "Output directory set to C:\\Users\\Pooja\\Documents\\Stone\\stone\\Augmentation/."
     ]
    },
    {
     "name": "stderr",
     "output_type": "stream",
     "text": [
      "Processing <PIL.Image.Image image mode=RGB size=687x555 at 0x2923F87F580>: 100%|██████████| 10/10 [00:00<00:00, 45.72 Samples/s]\n"
     ]
    },
    {
     "name": "stdout",
     "output_type": "stream",
     "text": [
      "Initialised with 1032 image(s) found.\n",
      "Output directory set to C:\\Users\\Pooja\\Documents\\Stone\\stone\\Augmentation/."
     ]
    },
    {
     "name": "stderr",
     "output_type": "stream",
     "text": [
      "Processing <PIL.Image.Image image mode=RGB size=687x555 at 0x2923F782B20>: 100%|██████████| 10/10 [00:00<00:00, 18.58 Samples/s] \n"
     ]
    },
    {
     "name": "stdout",
     "output_type": "stream",
     "text": [
      "Initialised with 1032 image(s) found.\n",
      "Output directory set to C:\\Users\\Pooja\\Documents\\Stone\\stone\\Augmentation/."
     ]
    },
    {
     "name": "stderr",
     "output_type": "stream",
     "text": [
      "Processing <PIL.Image.Image image mode=RGB size=1236x1001 at 0x2923F4EE100>: 100%|██████████| 10/10 [00:01<00:00,  9.36 Samples/s]\n"
     ]
    },
    {
     "name": "stdout",
     "output_type": "stream",
     "text": [
      "Initialised with 1032 image(s) found.\n",
      "Output directory set to C:\\Users\\Pooja\\Documents\\Stone\\stone\\Augmentation/."
     ]
    },
    {
     "name": "stderr",
     "output_type": "stream",
     "text": [
      "Processing <PIL.Image.Image image mode=RGB size=512x512 at 0x2923F782580>: 100%|██████████| 10/10 [00:00<00:00, 15.24 Samples/s]\n"
     ]
    },
    {
     "name": "stdout",
     "output_type": "stream",
     "text": [
      "Initialised with 1032 image(s) found.\n",
      "Output directory set to C:\\Users\\Pooja\\Documents\\Stone\\stone\\Augmentation/."
     ]
    },
    {
     "name": "stderr",
     "output_type": "stream",
     "text": [
      "Processing <PIL.Image.Image image mode=RGB size=1236x1001 at 0x2923F8D2850>: 100%|██████████| 10/10 [00:00<00:00, 11.78 Samples/s]\n"
     ]
    },
    {
     "name": "stdout",
     "output_type": "stream",
     "text": [
      "Initialised with 1032 image(s) found.\n",
      "Output directory set to C:\\Users\\Pooja\\Documents\\Stone\\stone\\Augmentation/."
     ]
    },
    {
     "name": "stderr",
     "output_type": "stream",
     "text": [
      "Processing <PIL.Image.Image image mode=RGB size=512x512 at 0x2923F782250>: 100%|██████████| 10/10 [00:00<00:00, 32.00 Samples/s]\n"
     ]
    },
    {
     "name": "stdout",
     "output_type": "stream",
     "text": [
      "Initialised with 1032 image(s) found.\n",
      "Output directory set to C:\\Users\\Pooja\\Documents\\Stone\\stone\\Augmentation/."
     ]
    },
    {
     "name": "stderr",
     "output_type": "stream",
     "text": [
      "Processing <PIL.Image.Image image mode=RGB size=855x691 at 0x2923F4EE190>: 100%|██████████| 10/10 [00:00<00:00, 16.00 Samples/s]\n"
     ]
    },
    {
     "name": "stdout",
     "output_type": "stream",
     "text": [
      "Initialised with 1032 image(s) found.\n",
      "Output directory set to C:\\Users\\Pooja\\Documents\\Stone\\stone\\Augmentation/."
     ]
    },
    {
     "name": "stderr",
     "output_type": "stream",
     "text": [
      "Processing <PIL.Image.Image image mode=RGB size=512x512 at 0x2923F782580>: 100%|██████████| 10/10 [00:00<00:00, 23.71 Samples/s]\n"
     ]
    },
    {
     "name": "stdout",
     "output_type": "stream",
     "text": [
      "Initialised with 1032 image(s) found.\n",
      "Output directory set to C:\\Users\\Pooja\\Documents\\Stone\\stone\\Augmentation/."
     ]
    },
    {
     "name": "stderr",
     "output_type": "stream",
     "text": [
      "Processing <PIL.Image.Image image mode=RGB size=787x636 at 0x2923F8F11F0>: 100%|██████████| 10/10 [00:00<00:00, 20.00 Samples/s]                 \n"
     ]
    },
    {
     "name": "stdout",
     "output_type": "stream",
     "text": [
      "Initialised with 1032 image(s) found.\n",
      "Output directory set to C:\\Users\\Pooja\\Documents\\Stone\\stone\\Augmentation/."
     ]
    },
    {
     "name": "stderr",
     "output_type": "stream",
     "text": [
      "Processing <PIL.Image.Image image mode=RGB size=512x512 at 0x2923F84D6D0>: 100%|██████████| 10/10 [00:00<00:00, 14.75 Samples/s] \n"
     ]
    },
    {
     "name": "stdout",
     "output_type": "stream",
     "text": [
      "Initialised with 1032 image(s) found.\n",
      "Output directory set to C:\\Users\\Pooja\\Documents\\Stone\\stone\\Augmentation/."
     ]
    },
    {
     "name": "stderr",
     "output_type": "stream",
     "text": [
      "Processing <PIL.Image.Image image mode=RGB size=888x719 at 0x2923F4EE370>: 100%|██████████| 10/10 [00:00<00:00, 22.07 Samples/s]\n"
     ]
    },
    {
     "name": "stdout",
     "output_type": "stream",
     "text": [
      "Initialised with 1032 image(s) found.\n",
      "Output directory set to C:\\Users\\Pooja\\Documents\\Stone\\stone\\Augmentation/."
     ]
    },
    {
     "name": "stderr",
     "output_type": "stream",
     "text": [
      "Processing <PIL.Image.Image image mode=RGB size=512x512 at 0x2923F8FD0D0>: 100%|██████████| 10/10 [00:00<00:00, 27.83 Samples/s]                 \n"
     ]
    },
    {
     "name": "stdout",
     "output_type": "stream",
     "text": [
      "Initialised with 1032 image(s) found.\n",
      "Output directory set to C:\\Users\\Pooja\\Documents\\Stone\\stone\\Augmentation/."
     ]
    },
    {
     "name": "stderr",
     "output_type": "stream",
     "text": [
      "Processing <PIL.Image.Image image mode=RGB size=512x512 at 0x2923F4EE730>: 100%|██████████| 10/10 [00:00<00:00, 14.22 Samples/s]                 \n"
     ]
    },
    {
     "name": "stdout",
     "output_type": "stream",
     "text": [
      "Initialised with 1032 image(s) found.\n",
      "Output directory set to C:\\Users\\Pooja\\Documents\\Stone\\stone\\Augmentation/."
     ]
    },
    {
     "name": "stderr",
     "output_type": "stream",
     "text": [
      "Processing <PIL.Image.Image image mode=RGB size=512x512 at 0x2923F782A00>: 100%|██████████| 10/10 [00:01<00:00,  9.55 Samples/s]\n"
     ]
    },
    {
     "name": "stdout",
     "output_type": "stream",
     "text": [
      "Initialised with 1032 image(s) found.\n",
      "Output directory set to C:\\Users\\Pooja\\Documents\\Stone\\stone\\Augmentation/."
     ]
    },
    {
     "name": "stderr",
     "output_type": "stream",
     "text": [
      "Processing <PIL.Image.Image image mode=RGB size=801x647 at 0x2923F8D2730>: 100%|██████████| 10/10 [00:00<00:00, 19.56 Samples/s] \n"
     ]
    },
    {
     "name": "stdout",
     "output_type": "stream",
     "text": [
      "Initialised with 1032 image(s) found.\n",
      "Output directory set to C:\\Users\\Pooja\\Documents\\Stone\\stone\\Augmentation/."
     ]
    },
    {
     "name": "stderr",
     "output_type": "stream",
     "text": [
      "Processing <PIL.Image.Image image mode=RGB size=1203x974 at 0x2923F778B80>: 100%|██████████| 10/10 [00:00<00:00, 15.61 Samples/s]\n"
     ]
    },
    {
     "name": "stdout",
     "output_type": "stream",
     "text": [
      "Initialised with 1032 image(s) found.\n",
      "Output directory set to C:\\Users\\Pooja\\Documents\\Stone\\stone\\Augmentation/."
     ]
    },
    {
     "name": "stderr",
     "output_type": "stream",
     "text": [
      "Processing <PIL.Image.Image image mode=RGB size=512x512 at 0x2923F8ADC10>: 100%|██████████| 10/10 [00:01<00:00,  5.98 Samples/s] \n"
     ]
    },
    {
     "name": "stdout",
     "output_type": "stream",
     "text": [
      "Initialised with 1032 image(s) found.\n",
      "Output directory set to C:\\Users\\Pooja\\Documents\\Stone\\stone\\Augmentation/."
     ]
    },
    {
     "name": "stderr",
     "output_type": "stream",
     "text": [
      "Processing <PIL.Image.Image image mode=RGB size=888x719 at 0x2923F84D730>: 100%|██████████| 10/10 [00:03<00:00,  3.12 Samples/s]\n"
     ]
    },
    {
     "name": "stdout",
     "output_type": "stream",
     "text": [
      "Initialised with 1032 image(s) found.\n",
      "Output directory set to C:\\Users\\Pooja\\Documents\\Stone\\stone\\Augmentation/."
     ]
    },
    {
     "name": "stderr",
     "output_type": "stream",
     "text": [
      "Processing <PIL.Image.Image image mode=RGB size=512x512 at 0x2923F8D27F0>: 100%|██████████| 10/10 [00:00<00:00, 11.85 Samples/s] \n"
     ]
    },
    {
     "name": "stdout",
     "output_type": "stream",
     "text": [
      "Initialised with 1032 image(s) found.\n",
      "Output directory set to C:\\Users\\Pooja\\Documents\\Stone\\stone\\Augmentation/."
     ]
    },
    {
     "name": "stderr",
     "output_type": "stream",
     "text": [
      "Processing <PIL.Image.Image image mode=RGB size=512x512 at 0x2923F778C40>: 100%|██████████| 10/10 [00:00<00:00, 20.09 Samples/s] \n"
     ]
    },
    {
     "name": "stdout",
     "output_type": "stream",
     "text": [
      "Initialised with 1032 image(s) found.\n",
      "Output directory set to C:\\Users\\Pooja\\Documents\\Stone\\stone\\Augmentation/."
     ]
    },
    {
     "name": "stderr",
     "output_type": "stream",
     "text": [
      "Processing <PIL.Image.Image image mode=RGB size=512x512 at 0x2923F8F1220>: 100%|██████████| 10/10 [00:00<00:00, 29.54 Samples/s]\n"
     ]
    },
    {
     "name": "stdout",
     "output_type": "stream",
     "text": [
      "Initialised with 1032 image(s) found.\n",
      "Output directory set to C:\\Users\\Pooja\\Documents\\Stone\\stone\\Augmentation/."
     ]
    },
    {
     "name": "stderr",
     "output_type": "stream",
     "text": [
      "Processing <PIL.Image.Image image mode=RGB size=512x512 at 0x2923F782CD0>: 100%|██████████| 10/10 [00:00<00:00, 11.35 Samples/s] \n"
     ]
    },
    {
     "name": "stdout",
     "output_type": "stream",
     "text": [
      "Initialised with 1032 image(s) found.\n",
      "Output directory set to C:\\Users\\Pooja\\Documents\\Stone\\stone\\Augmentation/."
     ]
    },
    {
     "name": "stderr",
     "output_type": "stream",
     "text": [
      "Processing <PIL.Image.Image image mode=RGB size=888x719 at 0x2923F8D2910>: 100%|██████████| 10/10 [00:00<00:00, 11.69 Samples/s] \n"
     ]
    },
    {
     "name": "stdout",
     "output_type": "stream",
     "text": [
      "Initialised with 1032 image(s) found.\n",
      "Output directory set to C:\\Users\\Pooja\\Documents\\Stone\\stone\\Augmentation/."
     ]
    },
    {
     "name": "stderr",
     "output_type": "stream",
     "text": [
      "Processing <PIL.Image.Image image mode=RGB size=512x512 at 0x2923F8FD370>: 100%|██████████| 10/10 [00:00<00:00, 22.86 Samples/s]\n"
     ]
    },
    {
     "name": "stdout",
     "output_type": "stream",
     "text": [
      "Initialised with 1032 image(s) found.\n",
      "Output directory set to C:\\Users\\Pooja\\Documents\\Stone\\stone\\Augmentation/."
     ]
    },
    {
     "name": "stderr",
     "output_type": "stream",
     "text": [
      "Processing <PIL.Image.Image image mode=RGB size=512x512 at 0x2923F8D2310>: 100%|██████████| 10/10 [00:00<00:00, 28.36 Samples/s]\n"
     ]
    },
    {
     "name": "stdout",
     "output_type": "stream",
     "text": [
      "Initialised with 1032 image(s) found.\n",
      "Output directory set to C:\\Users\\Pooja\\Documents\\Stone\\stone\\Augmentation/."
     ]
    },
    {
     "name": "stderr",
     "output_type": "stream",
     "text": [
      "Processing <PIL.Image.Image image mode=RGB size=832x674 at 0x2923F4EE070>: 100%|██████████| 10/10 [00:00<00:00, 19.65 Samples/s]                   \n"
     ]
    },
    {
     "name": "stdout",
     "output_type": "stream",
     "text": [
      "Initialised with 1032 image(s) found.\n",
      "Output directory set to C:\\Users\\Pooja\\Documents\\Stone\\stone\\Augmentation/."
     ]
    },
    {
     "name": "stderr",
     "output_type": "stream",
     "text": [
      "Processing <PIL.Image.Image image mode=RGB size=512x512 at 0x2923F4EE3A0>: 100%|██████████| 10/10 [00:00<00:00, 14.62 Samples/s] \n"
     ]
    },
    {
     "name": "stdout",
     "output_type": "stream",
     "text": [
      "Initialised with 1032 image(s) found.\n",
      "Output directory set to C:\\Users\\Pooja\\Documents\\Stone\\stone\\Augmentation/."
     ]
    },
    {
     "name": "stderr",
     "output_type": "stream",
     "text": [
      "Processing <PIL.Image.Image image mode=RGB size=512x512 at 0x2923F2EAA00>: 100%|██████████| 10/10 [00:00<00:00, 14.98 Samples/s]\n"
     ]
    },
    {
     "name": "stdout",
     "output_type": "stream",
     "text": [
      "Initialised with 1032 image(s) found.\n",
      "Output directory set to C:\\Users\\Pooja\\Documents\\Stone\\stone\\Augmentation/."
     ]
    },
    {
     "name": "stderr",
     "output_type": "stream",
     "text": [
      "Processing <PIL.Image.Image image mode=RGB size=512x512 at 0x2923F4EEA90>: 100%|██████████| 10/10 [00:01<00:00,  9.85 Samples/s]\n"
     ]
    },
    {
     "name": "stdout",
     "output_type": "stream",
     "text": [
      "Initialised with 1032 image(s) found.\n",
      "Output directory set to C:\\Users\\Pooja\\Documents\\Stone\\stone\\Augmentation/."
     ]
    },
    {
     "name": "stderr",
     "output_type": "stream",
     "text": [
      "Processing <PIL.Image.Image image mode=RGB size=512x512 at 0x2923F778220>: 100%|██████████| 10/10 [00:01<00:00,  7.94 Samples/s] \n"
     ]
    },
    {
     "name": "stdout",
     "output_type": "stream",
     "text": [
      "Initialised with 1032 image(s) found.\n",
      "Output directory set to C:\\Users\\Pooja\\Documents\\Stone\\stone\\Augmentation/."
     ]
    },
    {
     "name": "stderr",
     "output_type": "stream",
     "text": [
      "Processing <PIL.Image.Image image mode=RGB size=512x512 at 0x2923F8D2580>: 100%|██████████| 10/10 [00:00<00:00, 14.37 Samples/s] \n"
     ]
    },
    {
     "name": "stdout",
     "output_type": "stream",
     "text": [
      "Initialised with 1032 image(s) found.\n",
      "Output directory set to C:\\Users\\Pooja\\Documents\\Stone\\stone\\Augmentation/."
     ]
    },
    {
     "name": "stderr",
     "output_type": "stream",
     "text": [
      "Processing <PIL.Image.Image image mode=RGB size=888x719 at 0x2923F84D5B0>: 100%|██████████| 10/10 [00:00<00:00, 15.30 Samples/s] \n"
     ]
    },
    {
     "name": "stdout",
     "output_type": "stream",
     "text": [
      "Initialised with 1032 image(s) found.\n",
      "Output directory set to C:\\Users\\Pooja\\Documents\\Stone\\stone\\Augmentation/."
     ]
    },
    {
     "name": "stderr",
     "output_type": "stream",
     "text": [
      "Processing <PIL.Image.Image image mode=RGB size=904x732 at 0x2923F8D2880>: 100%|██████████| 10/10 [00:00<00:00, 12.42 Samples/s] \n"
     ]
    },
    {
     "name": "stdout",
     "output_type": "stream",
     "text": [
      "Initialised with 1032 image(s) found.\n",
      "Output directory set to C:\\Users\\Pooja\\Documents\\Stone\\stone\\Augmentation/."
     ]
    },
    {
     "name": "stderr",
     "output_type": "stream",
     "text": [
      "Processing <PIL.Image.Image image mode=RGB size=512x512 at 0x2923F778400>: 100%|██████████| 10/10 [00:00<00:00, 18.82 Samples/s] \n"
     ]
    },
    {
     "name": "stdout",
     "output_type": "stream",
     "text": [
      "Initialised with 1032 image(s) found.\n",
      "Output directory set to C:\\Users\\Pooja\\Documents\\Stone\\stone\\Augmentation/."
     ]
    },
    {
     "name": "stderr",
     "output_type": "stream",
     "text": [
      "Processing <PIL.Image.Image image mode=RGB size=888x719 at 0x2923F4EEF40>: 100%|██████████| 10/10 [00:00<00:00, 21.33 Samples/s] \n"
     ]
    },
    {
     "name": "stdout",
     "output_type": "stream",
     "text": [
      "Initialised with 1032 image(s) found.\n",
      "Output directory set to C:\\Users\\Pooja\\Documents\\Stone\\stone\\Augmentation/."
     ]
    },
    {
     "name": "stderr",
     "output_type": "stream",
     "text": [
      "Processing <PIL.Image.Image image mode=RGB size=512x512 at 0x2923F885D30>: 100%|██████████| 10/10 [00:00<00:00, 16.00 Samples/s] \n"
     ]
    },
    {
     "name": "stdout",
     "output_type": "stream",
     "text": [
      "Initialised with 1032 image(s) found.\n",
      "Output directory set to C:\\Users\\Pooja\\Documents\\Stone\\stone\\Augmentation/."
     ]
    },
    {
     "name": "stderr",
     "output_type": "stream",
     "text": [
      "Processing <PIL.Image.Image image mode=RGB size=512x512 at 0x2923F8D2280>: 100%|██████████| 10/10 [00:00<00:00, 15.24 Samples/s] \n"
     ]
    },
    {
     "name": "stdout",
     "output_type": "stream",
     "text": [
      "Initialised with 1032 image(s) found.\n",
      "Output directory set to C:\\Users\\Pooja\\Documents\\Stone\\stone\\Augmentation/."
     ]
    },
    {
     "name": "stderr",
     "output_type": "stream",
     "text": [
      "Processing <PIL.Image.Image image mode=RGB size=512x512 at 0x2923F885EE0>: 100%|██████████| 10/10 [00:00<00:00, 20.65 Samples/s]\n"
     ]
    },
    {
     "name": "stdout",
     "output_type": "stream",
     "text": [
      "Initialised with 1032 image(s) found.\n",
      "Output directory set to C:\\Users\\Pooja\\Documents\\Stone\\stone\\Augmentation/."
     ]
    },
    {
     "name": "stderr",
     "output_type": "stream",
     "text": [
      "Processing <PIL.Image.Image image mode=RGB size=888x719 at 0x2923F4EECD0>: 100%|██████████| 10/10 [00:00<00:00, 18.29 Samples/s] \n"
     ]
    },
    {
     "name": "stdout",
     "output_type": "stream",
     "text": [
      "Initialised with 1032 image(s) found.\n",
      "Output directory set to C:\\Users\\Pooja\\Documents\\Stone\\stone\\Augmentation/."
     ]
    },
    {
     "name": "stderr",
     "output_type": "stream",
     "text": [
      "Processing <PIL.Image.Image image mode=RGB size=512x512 at 0x2923F885D30>: 100%|██████████| 10/10 [00:00<00:00, 27.83 Samples/s]\n"
     ]
    },
    {
     "name": "stdout",
     "output_type": "stream",
     "text": [
      "Initialised with 1032 image(s) found.\n",
      "Output directory set to C:\\Users\\Pooja\\Documents\\Stone\\stone\\Augmentation/."
     ]
    },
    {
     "name": "stderr",
     "output_type": "stream",
     "text": [
      "Processing <PIL.Image.Image image mode=RGB size=512x512 at 0x2923F8AD8B0>: 100%|██████████| 10/10 [00:00<00:00, 22.07 Samples/s]\n"
     ]
    },
    {
     "name": "stdout",
     "output_type": "stream",
     "text": [
      "Initialised with 1032 image(s) found.\n",
      "Output directory set to C:\\Users\\Pooja\\Documents\\Stone\\stone\\Augmentation/."
     ]
    },
    {
     "name": "stderr",
     "output_type": "stream",
     "text": [
      "Processing <PIL.Image.Image image mode=RGB size=512x512 at 0x2923F8E6A90>: 100%|██████████| 10/10 [00:00<00:00, 15.75 Samples/s]\n"
     ]
    },
    {
     "name": "stdout",
     "output_type": "stream",
     "text": [
      "Initialised with 1032 image(s) found.\n",
      "Output directory set to C:\\Users\\Pooja\\Documents\\Stone\\stone\\Augmentation/."
     ]
    },
    {
     "name": "stderr",
     "output_type": "stream",
     "text": [
      "Processing <PIL.Image.Image image mode=RGB size=512x512 at 0x2923F8D2730>: 100%|██████████| 10/10 [00:01<00:00,  8.41 Samples/s]\n"
     ]
    },
    {
     "name": "stdout",
     "output_type": "stream",
     "text": [
      "Initialised with 1032 image(s) found.\n",
      "Output directory set to C:\\Users\\Pooja\\Documents\\Stone\\stone\\Augmentation/."
     ]
    },
    {
     "name": "stderr",
     "output_type": "stream",
     "text": [
      "Processing <PIL.Image.Image image mode=RGB size=512x512 at 0x2923F2DDAC0>: 100%|██████████| 10/10 [00:02<00:00,  4.27 Samples/s]\n"
     ]
    },
    {
     "name": "stdout",
     "output_type": "stream",
     "text": [
      "Initialised with 1032 image(s) found.\n",
      "Output directory set to C:\\Users\\Pooja\\Documents\\Stone\\stone\\Augmentation/."
     ]
    },
    {
     "name": "stderr",
     "output_type": "stream",
     "text": [
      "Processing <PIL.Image.Image image mode=RGB size=512x512 at 0x2923F8D2910>: 100%|██████████| 10/10 [00:00<00:00, 17.65 Samples/s] \n"
     ]
    },
    {
     "name": "stdout",
     "output_type": "stream",
     "text": [
      "Initialised with 1032 image(s) found.\n",
      "Output directory set to C:\\Users\\Pooja\\Documents\\Stone\\stone\\Augmentation/."
     ]
    },
    {
     "name": "stderr",
     "output_type": "stream",
     "text": [
      "Processing <PIL.Image.Image image mode=RGB size=512x512 at 0x2923F2DD790>: 100%|██████████| 10/10 [00:00<00:00, 23.71 Samples/s] \n"
     ]
    },
    {
     "name": "stdout",
     "output_type": "stream",
     "text": [
      "Initialised with 1032 image(s) found.\n",
      "Output directory set to C:\\Users\\Pooja\\Documents\\Stone\\stone\\Augmentation/."
     ]
    },
    {
     "name": "stderr",
     "output_type": "stream",
     "text": [
      "Processing <PIL.Image.Image image mode=RGB size=512x512 at 0x2923F4EE160>: 100%|██████████| 10/10 [00:00<00:00, 42.67 Samples/s]                 \n"
     ]
    },
    {
     "name": "stdout",
     "output_type": "stream",
     "text": [
      "Initialised with 1032 image(s) found.\n",
      "Output directory set to C:\\Users\\Pooja\\Documents\\Stone\\stone\\Augmentation/."
     ]
    },
    {
     "name": "stderr",
     "output_type": "stream",
     "text": [
      "Processing <PIL.Image.Image image mode=RGB size=512x512 at 0x2923F4D71F0>: 100%|██████████| 10/10 [00:00<00:00, 14.80 Samples/s] \n"
     ]
    },
    {
     "name": "stdout",
     "output_type": "stream",
     "text": [
      "Initialised with 1032 image(s) found.\n",
      "Output directory set to C:\\Users\\Pooja\\Documents\\Stone\\stone\\Augmentation/."
     ]
    },
    {
     "name": "stderr",
     "output_type": "stream",
     "text": [
      "Processing <PIL.Image.Image image mode=RGB size=713x576 at 0x2923F4EE100>: 100%|██████████| 10/10 [00:00<00:00, 25.60 Samples/s]                 \n"
     ]
    },
    {
     "name": "stdout",
     "output_type": "stream",
     "text": [
      "Initialised with 1032 image(s) found.\n",
      "Output directory set to C:\\Users\\Pooja\\Documents\\Stone\\stone\\Augmentation/."
     ]
    },
    {
     "name": "stderr",
     "output_type": "stream",
     "text": [
      "Processing <PIL.Image.Image image mode=RGB size=1236x1001 at 0x2923F84D100>: 100%|██████████| 10/10 [00:01<00:00,  8.88 Samples/s]\n"
     ]
    },
    {
     "name": "stdout",
     "output_type": "stream",
     "text": [
      "Initialised with 1032 image(s) found.\n",
      "Output directory set to C:\\Users\\Pooja\\Documents\\Stone\\stone\\Augmentation/."
     ]
    },
    {
     "name": "stderr",
     "output_type": "stream",
     "text": [
      "Processing <PIL.Image.Image image mode=RGB size=512x512 at 0x2923F8AD850>: 100%|██████████| 10/10 [00:00<00:00, 20.03 Samples/s] \n"
     ]
    },
    {
     "name": "stdout",
     "output_type": "stream",
     "text": [
      "Initialised with 1032 image(s) found.\n",
      "Output directory set to C:\\Users\\Pooja\\Documents\\Stone\\stone\\Augmentation/."
     ]
    },
    {
     "name": "stderr",
     "output_type": "stream",
     "text": [
      "Processing <PIL.Image.Image image mode=RGB size=512x512 at 0x2923F2DD460>: 100%|██████████| 10/10 [00:00<00:00, 12.88 Samples/s]\n"
     ]
    },
    {
     "name": "stdout",
     "output_type": "stream",
     "text": [
      "Initialised with 1032 image(s) found.\n",
      "Output directory set to C:\\Users\\Pooja\\Documents\\Stone\\stone\\Augmentation/."
     ]
    },
    {
     "name": "stderr",
     "output_type": "stream",
     "text": [
      "Processing <PIL.Image.Image image mode=RGB size=855x691 at 0x2923F8AD460>: 100%|██████████| 10/10 [00:00<00:00, 22.86 Samples/s]\n"
     ]
    },
    {
     "name": "stdout",
     "output_type": "stream",
     "text": [
      "Initialised with 1032 image(s) found.\n",
      "Output directory set to C:\\Users\\Pooja\\Documents\\Stone\\stone\\Augmentation/."
     ]
    },
    {
     "name": "stderr",
     "output_type": "stream",
     "text": [
      "Processing <PIL.Image.Image image mode=RGB size=512x512 at 0x2923F8E6880>: 100%|██████████| 10/10 [00:00<00:00, 15.24 Samples/s] \n"
     ]
    },
    {
     "name": "stdout",
     "output_type": "stream",
     "text": [
      "Initialised with 1032 image(s) found.\n",
      "Output directory set to C:\\Users\\Pooja\\Documents\\Stone\\stone\\Augmentation/."
     ]
    },
    {
     "name": "stderr",
     "output_type": "stream",
     "text": [
      "Processing <PIL.Image.Image image mode=RGB size=1236x1001 at 0x2923F4EE850>: 100%|██████████| 10/10 [00:01<00:00,  6.27 Samples/s]\n"
     ]
    },
    {
     "name": "stdout",
     "output_type": "stream",
     "text": [
      "Initialised with 1032 image(s) found.\n",
      "Output directory set to C:\\Users\\Pooja\\Documents\\Stone\\stone\\Augmentation/."
     ]
    },
    {
     "name": "stderr",
     "output_type": "stream",
     "text": [
      "Processing <PIL.Image.Image image mode=RGB size=512x512 at 0x2923F4D7070>: 100%|██████████| 10/10 [00:00<00:00, 16.70 Samples/s] \n"
     ]
    },
    {
     "name": "stdout",
     "output_type": "stream",
     "text": [
      "Initialised with 1032 image(s) found.\n",
      "Output directory set to C:\\Users\\Pooja\\Documents\\Stone\\stone\\Augmentation/."
     ]
    },
    {
     "name": "stderr",
     "output_type": "stream",
     "text": [
      "Processing <PIL.Image.Image image mode=RGB size=1118x905 at 0x2923F4EEC70>: 100%|██████████| 10/10 [00:00<00:00, 14.22 Samples/s]\n"
     ]
    },
    {
     "name": "stdout",
     "output_type": "stream",
     "text": [
      "Initialised with 1032 image(s) found.\n",
      "Output directory set to C:\\Users\\Pooja\\Documents\\Stone\\stone\\Augmentation/."
     ]
    },
    {
     "name": "stderr",
     "output_type": "stream",
     "text": [
      "Processing <PIL.Image.Image image mode=RGB size=1118x905 at 0x2923F2DD790>: 100%|██████████| 10/10 [00:00<00:00, 17.78 Samples/s]\n"
     ]
    },
    {
     "name": "stdout",
     "output_type": "stream",
     "text": [
      "Initialised with 1032 image(s) found.\n",
      "Output directory set to C:\\Users\\Pooja\\Documents\\Stone\\stone\\Augmentation/."
     ]
    },
    {
     "name": "stderr",
     "output_type": "stream",
     "text": [
      "Processing <PIL.Image.Image image mode=RGB size=813x657 at 0x2923F8AD250>: 100%|██████████| 10/10 [00:00<00:00, 22.07 Samples/s]\n"
     ]
    },
    {
     "name": "stdout",
     "output_type": "stream",
     "text": [
      "Initialised with 1032 image(s) found.\n",
      "Output directory set to C:\\Users\\Pooja\\Documents\\Stone\\stone\\Augmentation/."
     ]
    },
    {
     "name": "stderr",
     "output_type": "stream",
     "text": [
      "Processing <PIL.Image.Image image mode=RGB size=904x732 at 0x2923F4D79A0>: 100%|██████████| 10/10 [00:00<00:00, 12.31 Samples/s] \n"
     ]
    },
    {
     "name": "stdout",
     "output_type": "stream",
     "text": [
      "Initialised with 1032 image(s) found.\n",
      "Output directory set to C:\\Users\\Pooja\\Documents\\Stone\\stone\\Augmentation/."
     ]
    },
    {
     "name": "stderr",
     "output_type": "stream",
     "text": [
      "Processing <PIL.Image.Image image mode=RGB size=888x719 at 0x2923F8D28E0>: 100%|██████████| 10/10 [00:00<00:00, 21.33 Samples/s]\n"
     ]
    },
    {
     "name": "stdout",
     "output_type": "stream",
     "text": [
      "Initialised with 1032 image(s) found.\n",
      "Output directory set to C:\\Users\\Pooja\\Documents\\Stone\\stone\\Augmentation/."
     ]
    },
    {
     "name": "stderr",
     "output_type": "stream",
     "text": [
      "Processing <PIL.Image.Image image mode=RGB size=790x640 at 0x2923F84D130>: 100%|██████████| 10/10 [00:02<00:00,  4.78 Samples/s] \n"
     ]
    },
    {
     "name": "stdout",
     "output_type": "stream",
     "text": [
      "Initialised with 1032 image(s) found.\n",
      "Output directory set to C:\\Users\\Pooja\\Documents\\Stone\\stone\\Augmentation/."
     ]
    },
    {
     "name": "stderr",
     "output_type": "stream",
     "text": [
      "Processing <PIL.Image.Image image mode=RGB size=512x512 at 0x2923F8AD610>: 100%|██████████| 10/10 [00:00<00:00, 24.05 Samples/s]\n"
     ]
    },
    {
     "name": "stdout",
     "output_type": "stream",
     "text": [
      "Initialised with 1032 image(s) found.\n",
      "Output directory set to C:\\Users\\Pooja\\Documents\\Stone\\stone\\Augmentation/."
     ]
    },
    {
     "name": "stderr",
     "output_type": "stream",
     "text": [
      "Processing <PIL.Image.Image image mode=RGB size=512x512 at 0x2923F2DD970>: 100%|██████████| 10/10 [00:00<00:00, 45.72 Samples/s]\n"
     ]
    },
    {
     "name": "stdout",
     "output_type": "stream",
     "text": [
      "Initialised with 1032 image(s) found.\n",
      "Output directory set to C:\\Users\\Pooja\\Documents\\Stone\\stone\\Augmentation/."
     ]
    },
    {
     "name": "stderr",
     "output_type": "stream",
     "text": [
      "Processing <PIL.Image.Image image mode=RGB size=512x512 at 0x2923F8AD0D0>: 100%|██████████| 10/10 [00:00<00:00, 42.67 Samples/s]                 \n"
     ]
    },
    {
     "name": "stdout",
     "output_type": "stream",
     "text": [
      "Initialised with 1032 image(s) found.\n",
      "Output directory set to C:\\Users\\Pooja\\Documents\\Stone\\stone\\Augmentation/."
     ]
    },
    {
     "name": "stderr",
     "output_type": "stream",
     "text": [
      "Processing <PIL.Image.Image image mode=RGB size=512x512 at 0x292407CCA00>: 100%|██████████| 10/10 [00:00<00:00, 22.86 Samples/s] \n"
     ]
    },
    {
     "name": "stdout",
     "output_type": "stream",
     "text": [
      "Initialised with 1032 image(s) found.\n",
      "Output directory set to C:\\Users\\Pooja\\Documents\\Stone\\stone\\Augmentation/."
     ]
    },
    {
     "name": "stderr",
     "output_type": "stream",
     "text": [
      "Processing <PIL.Image.Image image mode=RGB size=1236x1001 at 0x2923F8D2460>: 100%|██████████| 10/10 [00:00<00:00, 10.70 Samples/s]\n"
     ]
    },
    {
     "name": "stdout",
     "output_type": "stream",
     "text": [
      "Initialised with 1032 image(s) found.\n",
      "Output directory set to C:\\Users\\Pooja\\Documents\\Stone\\stone\\Augmentation/."
     ]
    },
    {
     "name": "stderr",
     "output_type": "stream",
     "text": [
      "Processing <PIL.Image.Image image mode=RGB size=512x512 at 0x2923F2DDDF0>: 100%|██████████| 10/10 [00:00<00:00, 25.12 Samples/s]\n"
     ]
    },
    {
     "name": "stdout",
     "output_type": "stream",
     "text": [
      "Initialised with 1032 image(s) found.\n",
      "Output directory set to C:\\Users\\Pooja\\Documents\\Stone\\stone\\Augmentation/."
     ]
    },
    {
     "name": "stderr",
     "output_type": "stream",
     "text": [
      "Processing <PIL.Image.Image image mode=RGB size=512x512 at 0x2923F8C64F0>: 100%|██████████| 10/10 [00:00<00:00, 18.87 Samples/s]\n"
     ]
    },
    {
     "name": "stdout",
     "output_type": "stream",
     "text": [
      "Initialised with 1032 image(s) found.\n",
      "Output directory set to C:\\Users\\Pooja\\Documents\\Stone\\stone\\Augmentation/."
     ]
    },
    {
     "name": "stderr",
     "output_type": "stream",
     "text": [
      "Processing <PIL.Image.Image image mode=RGB size=512x512 at 0x2923F4D75E0>: 100%|██████████| 10/10 [00:00<00:00, 13.91 Samples/s]\n"
     ]
    },
    {
     "name": "stdout",
     "output_type": "stream",
     "text": [
      "Initialised with 1032 image(s) found.\n",
      "Output directory set to C:\\Users\\Pooja\\Documents\\Stone\\stone\\Augmentation/."
     ]
    },
    {
     "name": "stderr",
     "output_type": "stream",
     "text": [
      "Processing <PIL.Image.Image image mode=RGB size=512x512 at 0x2923F899BE0>: 100%|██████████| 10/10 [00:00<00:00, 11.72 Samples/s] \n"
     ]
    },
    {
     "name": "stdout",
     "output_type": "stream",
     "text": [
      "Initialised with 1032 image(s) found.\n",
      "Output directory set to C:\\Users\\Pooja\\Documents\\Stone\\stone\\Augmentation/."
     ]
    },
    {
     "name": "stderr",
     "output_type": "stream",
     "text": [
      "Processing <PIL.Image.Image image mode=RGB size=512x512 at 0x2923F4D7940>: 100%|██████████| 10/10 [00:00<00:00, 22.07 Samples/s]\n"
     ]
    },
    {
     "name": "stdout",
     "output_type": "stream",
     "text": [
      "Initialised with 1032 image(s) found.\n",
      "Output directory set to C:\\Users\\Pooja\\Documents\\Stone\\stone\\Augmentation/."
     ]
    },
    {
     "name": "stderr",
     "output_type": "stream",
     "text": [
      "Processing <PIL.Image.Image image mode=RGB size=749x605 at 0x2923F8C6070>: 100%|██████████| 10/10 [00:00<00:00, 13.92 Samples/s] \n"
     ]
    },
    {
     "name": "stdout",
     "output_type": "stream",
     "text": [
      "Initialised with 1032 image(s) found.\n",
      "Output directory set to C:\\Users\\Pooja\\Documents\\Stone\\stone\\Augmentation/."
     ]
    },
    {
     "name": "stderr",
     "output_type": "stream",
     "text": [
      "Processing <PIL.Image.Image image mode=RGB size=904x732 at 0x2923F4D7400>: 100%|██████████| 10/10 [00:00<00:00, 15.61 Samples/s] \n"
     ]
    },
    {
     "name": "stdout",
     "output_type": "stream",
     "text": [
      "Initialised with 1032 image(s) found.\n",
      "Output directory set to C:\\Users\\Pooja\\Documents\\Stone\\stone\\Augmentation/."
     ]
    },
    {
     "name": "stderr",
     "output_type": "stream",
     "text": [
      "Processing <PIL.Image.Image image mode=RGB size=512x512 at 0x2923F8C6820>: 100%|██████████| 10/10 [00:00<00:00, 19.44 Samples/s] \n"
     ]
    },
    {
     "name": "stdout",
     "output_type": "stream",
     "text": [
      "Initialised with 1032 image(s) found.\n",
      "Output directory set to C:\\Users\\Pooja\\Documents\\Stone\\stone\\Augmentation/."
     ]
    },
    {
     "name": "stderr",
     "output_type": "stream",
     "text": [
      "Processing <PIL.Image.Image image mode=RGB size=512x512 at 0x2923F84D100>: 100%|██████████| 10/10 [00:00<00:00, 19.20 Samples/s]                   \n"
     ]
    },
    {
     "name": "stdout",
     "output_type": "stream",
     "text": [
      "Initialised with 1032 image(s) found.\n",
      "Output directory set to C:\\Users\\Pooja\\Documents\\Stone\\stone\\Augmentation/."
     ]
    },
    {
     "name": "stderr",
     "output_type": "stream",
     "text": [
      "Processing <PIL.Image.Image image mode=RGB size=1236x1001 at 0x2923F899250>: 100%|██████████| 10/10 [00:00<00:00, 23.55 Samples/s]\n"
     ]
    },
    {
     "name": "stdout",
     "output_type": "stream",
     "text": [
      "Initialised with 1032 image(s) found.\n",
      "Output directory set to C:\\Users\\Pooja\\Documents\\Stone\\stone\\Augmentation/."
     ]
    },
    {
     "name": "stderr",
     "output_type": "stream",
     "text": [
      "Processing <PIL.Image.Image image mode=RGB size=512x512 at 0x2923F2DD460>: 100%|██████████| 10/10 [00:00<00:00, 29.09 Samples/s] \n"
     ]
    },
    {
     "name": "stdout",
     "output_type": "stream",
     "text": [
      "Initialised with 1032 image(s) found.\n",
      "Output directory set to C:\\Users\\Pooja\\Documents\\Stone\\stone\\Augmentation/."
     ]
    },
    {
     "name": "stderr",
     "output_type": "stream",
     "text": [
      "Processing <PIL.Image.Image image mode=RGB size=512x512 at 0x2923F899190>: 100%|██████████| 10/10 [00:00<00:00, 28.14 Samples/s]\n"
     ]
    },
    {
     "name": "stdout",
     "output_type": "stream",
     "text": [
      "Initialised with 1032 image(s) found.\n",
      "Output directory set to C:\\Users\\Pooja\\Documents\\Stone\\stone\\Augmentation/."
     ]
    },
    {
     "name": "stderr",
     "output_type": "stream",
     "text": [
      "Processing <PIL.Image.Image image mode=RGB size=512x512 at 0x2923F8E6BB0>: 100%|██████████| 10/10 [00:00<00:00, 22.07 Samples/s]\n"
     ]
    },
    {
     "name": "stdout",
     "output_type": "stream",
     "text": [
      "Initialised with 1032 image(s) found.\n",
      "Output directory set to C:\\Users\\Pooja\\Documents\\Stone\\stone\\Augmentation/."
     ]
    },
    {
     "name": "stderr",
     "output_type": "stream",
     "text": [
      "Processing <PIL.Image.Image image mode=RGB size=512x512 at 0x2923F87FD00>: 100%|██████████| 10/10 [00:01<00:00,  5.20 Samples/s] \n"
     ]
    },
    {
     "name": "stdout",
     "output_type": "stream",
     "text": [
      "Initialised with 1032 image(s) found.\n",
      "Output directory set to C:\\Users\\Pooja\\Documents\\Stone\\stone\\Augmentation/."
     ]
    },
    {
     "name": "stderr",
     "output_type": "stream",
     "text": [
      "Processing <PIL.Image.Image image mode=RGB size=1236x1001 at 0x2923F84D070>: 100%|██████████| 10/10 [00:01<00:00,  9.14 Samples/s]\n"
     ]
    },
    {
     "name": "stdout",
     "output_type": "stream",
     "text": [
      "Initialised with 1032 image(s) found.\n",
      "Output directory set to C:\\Users\\Pooja\\Documents\\Stone\\stone\\Augmentation/."
     ]
    },
    {
     "name": "stderr",
     "output_type": "stream",
     "text": [
      "Processing <PIL.Image.Image image mode=RGB size=512x512 at 0x2923F87FAF0>: 100%|██████████| 10/10 [00:00<00:00, 18.82 Samples/s]\n"
     ]
    },
    {
     "name": "stdout",
     "output_type": "stream",
     "text": [
      "Initialised with 1032 image(s) found.\n",
      "Output directory set to C:\\Users\\Pooja\\Documents\\Stone\\stone\\Augmentation/."
     ]
    },
    {
     "name": "stderr",
     "output_type": "stream",
     "text": [
      "Processing <PIL.Image.Image image mode=RGB size=1236x1001 at 0x2923F4D7190>: 100%|██████████| 10/10 [00:00<00:00, 16.41 Samples/s]\n"
     ]
    },
    {
     "name": "stdout",
     "output_type": "stream",
     "text": [
      "Initialised with 1032 image(s) found.\n",
      "Output directory set to C:\\Users\\Pooja\\Documents\\Stone\\stone\\Augmentation/."
     ]
    },
    {
     "name": "stderr",
     "output_type": "stream",
     "text": [
      "Processing <PIL.Image.Image image mode=RGB size=787x636 at 0x2923F8998E0>: 100%|██████████| 10/10 [00:00<00:00, 15.61 Samples/s] \n"
     ]
    },
    {
     "name": "stdout",
     "output_type": "stream",
     "text": [
      "Initialised with 1032 image(s) found.\n",
      "Output directory set to C:\\Users\\Pooja\\Documents\\Stone\\stone\\Augmentation/."
     ]
    },
    {
     "name": "stderr",
     "output_type": "stream",
     "text": [
      "Processing <PIL.Image.Image image mode=RGB size=512x512 at 0x2923F84DB20>: 100%|██████████| 10/10 [00:00<00:00, 16.41 Samples/s]\n"
     ]
    },
    {
     "name": "stdout",
     "output_type": "stream",
     "text": [
      "Initialised with 1032 image(s) found.\n",
      "Output directory set to C:\\Users\\Pooja\\Documents\\Stone\\stone\\Augmentation/."
     ]
    },
    {
     "name": "stderr",
     "output_type": "stream",
     "text": [
      "Processing <PIL.Image.Image image mode=RGB size=512x512 at 0x2923F87F730>: 100%|██████████| 10/10 [00:00<00:00, 18.29 Samples/s] \n"
     ]
    },
    {
     "name": "stdout",
     "output_type": "stream",
     "text": [
      "Initialised with 1032 image(s) found.\n",
      "Output directory set to C:\\Users\\Pooja\\Documents\\Stone\\stone\\Augmentation/."
     ]
    },
    {
     "name": "stderr",
     "output_type": "stream",
     "text": [
      "Processing <PIL.Image.Image image mode=RGB size=512x512 at 0x2923F8E6310>: 100%|██████████| 10/10 [00:00<00:00, 25.60 Samples/s] \n"
     ]
    },
    {
     "name": "stdout",
     "output_type": "stream",
     "text": [
      "Initialised with 1032 image(s) found.\n",
      "Output directory set to C:\\Users\\Pooja\\Documents\\Stone\\stone\\Augmentation/."
     ]
    },
    {
     "name": "stderr",
     "output_type": "stream",
     "text": [
      "Processing <PIL.Image.Image image mode=RGB size=512x512 at 0x2923F899820>: 100%|██████████| 10/10 [00:00<00:00, 26.67 Samples/s]\n"
     ]
    },
    {
     "name": "stdout",
     "output_type": "stream",
     "text": [
      "Initialised with 1032 image(s) found.\n",
      "Output directory set to C:\\Users\\Pooja\\Documents\\Stone\\stone\\Augmentation/."
     ]
    },
    {
     "name": "stderr",
     "output_type": "stream",
     "text": [
      "Processing <PIL.Image.Image image mode=RGB size=512x512 at 0x2923F4D7D60>: 100%|██████████| 10/10 [00:00<00:00, 22.86 Samples/s]                 \n"
     ]
    },
    {
     "name": "stdout",
     "output_type": "stream",
     "text": [
      "Initialised with 1032 image(s) found.\n",
      "Output directory set to C:\\Users\\Pooja\\Documents\\Stone\\stone\\Augmentation/."
     ]
    },
    {
     "name": "stderr",
     "output_type": "stream",
     "text": [
      "Processing <PIL.Image.Image image mode=RGB size=713x576 at 0x2923F8C6160>: 100%|██████████| 10/10 [00:00<00:00, 22.86 Samples/s] \n"
     ]
    },
    {
     "name": "stdout",
     "output_type": "stream",
     "text": [
      "Initialised with 1032 image(s) found.\n",
      "Output directory set to C:\\Users\\Pooja\\Documents\\Stone\\stone\\Augmentation/."
     ]
    },
    {
     "name": "stderr",
     "output_type": "stream",
     "text": [
      "Processing <PIL.Image.Image image mode=RGB size=512x512 at 0x2923F4D7F70>: 100%|██████████| 10/10 [00:00<00:00, 20.65 Samples/s]                 \n"
     ]
    },
    {
     "name": "stdout",
     "output_type": "stream",
     "text": [
      "Initialised with 1032 image(s) found.\n",
      "Output directory set to C:\\Users\\Pooja\\Documents\\Stone\\stone\\Augmentation/."
     ]
    },
    {
     "name": "stderr",
     "output_type": "stream",
     "text": [
      "Processing <PIL.Image.Image image mode=RGB size=512x512 at 0x2923F8C6AF0>: 100%|██████████| 10/10 [00:00<00:00, 10.00 Samples/s] \n"
     ]
    },
    {
     "name": "stdout",
     "output_type": "stream",
     "text": [
      "Initialised with 1032 image(s) found.\n",
      "Output directory set to C:\\Users\\Pooja\\Documents\\Stone\\stone\\Augmentation/."
     ]
    },
    {
     "name": "stderr",
     "output_type": "stream",
     "text": [
      "Processing <PIL.Image.Image image mode=RGB size=904x732 at 0x2923F872DF0>: 100%|██████████| 10/10 [00:00<00:00, 10.49 Samples/s]\n"
     ]
    },
    {
     "name": "stdout",
     "output_type": "stream",
     "text": [
      "Initialised with 1032 image(s) found.\n",
      "Output directory set to C:\\Users\\Pooja\\Documents\\Stone\\stone\\Augmentation/."
     ]
    },
    {
     "name": "stderr",
     "output_type": "stream",
     "text": [
      "Processing <PIL.Image.Image image mode=RGB size=512x512 at 0x2923F899430>: 100%|██████████| 10/10 [00:01<00:00,  6.88 Samples/s] \n"
     ]
    },
    {
     "name": "stdout",
     "output_type": "stream",
     "text": [
      "Initialised with 1032 image(s) found.\n",
      "Output directory set to C:\\Users\\Pooja\\Documents\\Stone\\stone\\Augmentation/."
     ]
    },
    {
     "name": "stderr",
     "output_type": "stream",
     "text": [
      "Processing <PIL.Image.Image image mode=RGB size=713x576 at 0x2923F8E6040>: 100%|██████████| 10/10 [00:00<00:00, 22.86 Samples/s] \n"
     ]
    },
    {
     "name": "stdout",
     "output_type": "stream",
     "text": [
      "Initialised with 1032 image(s) found.\n",
      "Output directory set to C:\\Users\\Pooja\\Documents\\Stone\\stone\\Augmentation/."
     ]
    },
    {
     "name": "stderr",
     "output_type": "stream",
     "text": [
      "Processing <PIL.Image.Image image mode=RGB size=512x512 at 0x2923F87F760>: 100%|██████████| 10/10 [00:00<00:00, 15.24 Samples/s]\n"
     ]
    },
    {
     "name": "stdout",
     "output_type": "stream",
     "text": [
      "Initialised with 1032 image(s) found.\n",
      "Output directory set to C:\\Users\\Pooja\\Documents\\Stone\\stone\\Augmentation/."
     ]
    },
    {
     "name": "stderr",
     "output_type": "stream",
     "text": [
      "Processing <PIL.Image.Image image mode=RGB size=512x512 at 0x2923F8E67C0>: 100%|██████████| 10/10 [00:00<00:00, 37.65 Samples/s]\n"
     ]
    },
    {
     "name": "stdout",
     "output_type": "stream",
     "text": [
      "Initialised with 1032 image(s) found.\n",
      "Output directory set to C:\\Users\\Pooja\\Documents\\Stone\\stone\\Augmentation/."
     ]
    },
    {
     "name": "stderr",
     "output_type": "stream",
     "text": [
      "Processing <PIL.Image.Image image mode=RGB size=512x512 at 0x2923F8996D0>: 100%|██████████| 10/10 [00:00<00:00, 27.83 Samples/s]\n"
     ]
    },
    {
     "name": "stdout",
     "output_type": "stream",
     "text": [
      "Initialised with 1032 image(s) found.\n",
      "Output directory set to C:\\Users\\Pooja\\Documents\\Stone\\stone\\Augmentation/."
     ]
    },
    {
     "name": "stderr",
     "output_type": "stream",
     "text": [
      "Processing <PIL.Image.Image image mode=RGB size=1203x974 at 0x2923F8E6190>: 100%|██████████| 10/10 [00:00<00:00, 15.71 Samples/s]\n"
     ]
    },
    {
     "name": "stdout",
     "output_type": "stream",
     "text": [
      "Initialised with 1032 image(s) found.\n",
      "Output directory set to C:\\Users\\Pooja\\Documents\\Stone\\stone\\Augmentation/."
     ]
    },
    {
     "name": "stderr",
     "output_type": "stream",
     "text": [
      "Processing <PIL.Image.Image image mode=RGB size=512x512 at 0x2923F8C6190>: 100%|██████████| 10/10 [00:00<00:00, 17.62 Samples/s] \n"
     ]
    },
    {
     "name": "stdout",
     "output_type": "stream",
     "text": [
      "Initialised with 1032 image(s) found.\n",
      "Output directory set to C:\\Users\\Pooja\\Documents\\Stone\\stone\\Augmentation/."
     ]
    },
    {
     "name": "stderr",
     "output_type": "stream",
     "text": [
      "Processing <PIL.Image.Image image mode=RGB size=512x512 at 0x292407E0310>: 100%|██████████| 10/10 [00:00<00:00, 20.65 Samples/s]                 \n"
     ]
    },
    {
     "name": "stdout",
     "output_type": "stream",
     "text": [
      "Initialised with 1032 image(s) found.\n",
      "Output directory set to C:\\Users\\Pooja\\Documents\\Stone\\stone\\Augmentation/."
     ]
    },
    {
     "name": "stderr",
     "output_type": "stream",
     "text": [
      "Processing <PIL.Image.Image image mode=RGB size=512x512 at 0x2923F8995B0>: 100%|██████████| 10/10 [00:00<00:00, 13.74 Samples/s] \n"
     ]
    },
    {
     "name": "stdout",
     "output_type": "stream",
     "text": [
      "Initialised with 1032 image(s) found.\n",
      "Output directory set to C:\\Users\\Pooja\\Documents\\Stone\\stone\\Augmentation/."
     ]
    },
    {
     "name": "stderr",
     "output_type": "stream",
     "text": [
      "Processing <PIL.Image.Image image mode=RGB size=512x512 at 0x2923F79D0D0>: 100%|██████████| 10/10 [00:00<00:00, 16.84 Samples/s]                 \n"
     ]
    },
    {
     "name": "stdout",
     "output_type": "stream",
     "text": [
      "Initialised with 1032 image(s) found.\n",
      "Output directory set to C:\\Users\\Pooja\\Documents\\Stone\\stone\\Augmentation/."
     ]
    },
    {
     "name": "stderr",
     "output_type": "stream",
     "text": [
      "Processing <PIL.Image.Image image mode=RGB size=687x555 at 0x2923F8997F0>: 100%|██████████| 10/10 [00:00<00:00, 15.85 Samples/s] \n"
     ]
    },
    {
     "name": "stdout",
     "output_type": "stream",
     "text": [
      "Initialised with 1032 image(s) found.\n",
      "Output directory set to C:\\Users\\Pooja\\Documents\\Stone\\stone\\Augmentation/."
     ]
    },
    {
     "name": "stderr",
     "output_type": "stream",
     "text": [
      "Processing <PIL.Image.Image image mode=RGB size=1236x1001 at 0x2923F8F1790>: 100%|██████████| 10/10 [00:01<00:00,  9.55 Samples/s]\n"
     ]
    },
    {
     "name": "stdout",
     "output_type": "stream",
     "text": [
      "Initialised with 1032 image(s) found.\n",
      "Output directory set to C:\\Users\\Pooja\\Documents\\Stone\\stone\\Augmentation/."
     ]
    },
    {
     "name": "stderr",
     "output_type": "stream",
     "text": [
      "Processing <PIL.Image.Image image mode=RGB size=888x719 at 0x2923F858970>: 100%|██████████| 10/10 [00:00<00:00, 13.21 Samples/s]\n"
     ]
    },
    {
     "name": "stdout",
     "output_type": "stream",
     "text": [
      "Initialised with 1032 image(s) found.\n",
      "Output directory set to C:\\Users\\Pooja\\Documents\\Stone\\stone\\Augmentation/."
     ]
    },
    {
     "name": "stderr",
     "output_type": "stream",
     "text": [
      "Processing <PIL.Image.Image image mode=RGB size=1203x974 at 0x2923F815040>: 100%|██████████| 10/10 [00:00<00:00, 12.55 Samples/s]\n"
     ]
    },
    {
     "name": "stdout",
     "output_type": "stream",
     "text": [
      "Initialised with 1032 image(s) found.\n",
      "Output directory set to C:\\Users\\Pooja\\Documents\\Stone\\stone\\Augmentation/."
     ]
    },
    {
     "name": "stderr",
     "output_type": "stream",
     "text": [
      "Processing <PIL.Image.Image image mode=RGB size=888x719 at 0x2923F899910>: 100%|██████████| 10/10 [00:01<00:00,  8.51 Samples/s] \n"
     ]
    },
    {
     "name": "stdout",
     "output_type": "stream",
     "text": [
      "Initialised with 1032 image(s) found.\n",
      "Output directory set to C:\\Users\\Pooja\\Documents\\Stone\\stone\\Augmentation/."
     ]
    },
    {
     "name": "stderr",
     "output_type": "stream",
     "text": [
      "Processing <PIL.Image.Image image mode=RGB size=745x602 at 0x2923F79D6A0>: 100%|██████████| 10/10 [00:00<00:00, 11.20 Samples/s]\n"
     ]
    },
    {
     "name": "stdout",
     "output_type": "stream",
     "text": [
      "Initialised with 1032 image(s) found.\n",
      "Output directory set to C:\\Users\\Pooja\\Documents\\Stone\\stone\\Augmentation/."
     ]
    },
    {
     "name": "stderr",
     "output_type": "stream",
     "text": [
      "Processing <PIL.Image.Image image mode=RGB size=512x512 at 0x2923F899D00>: 100%|██████████| 10/10 [00:00<00:00, 14.96 Samples/s] \n"
     ]
    },
    {
     "name": "stdout",
     "output_type": "stream",
     "text": [
      "Initialised with 1032 image(s) found.\n",
      "Output directory set to C:\\Users\\Pooja\\Documents\\Stone\\stone\\Augmentation/."
     ]
    },
    {
     "name": "stderr",
     "output_type": "stream",
     "text": [
      "Processing <PIL.Image.Image image mode=RGB size=512x512 at 0x292407E02B0>: 100%|██████████| 10/10 [00:00<00:00, 14.30 Samples/s] \n"
     ]
    },
    {
     "name": "stdout",
     "output_type": "stream",
     "text": [
      "Initialised with 1032 image(s) found.\n",
      "Output directory set to C:\\Users\\Pooja\\Documents\\Stone\\stone\\Augmentation/."
     ]
    },
    {
     "name": "stderr",
     "output_type": "stream",
     "text": [
      "Processing <PIL.Image.Image image mode=RGB size=512x512 at 0x2923F8589D0>: 100%|██████████| 10/10 [00:00<00:00, 29.09 Samples/s] \n"
     ]
    },
    {
     "name": "stdout",
     "output_type": "stream",
     "text": [
      "Initialised with 1032 image(s) found.\n",
      "Output directory set to C:\\Users\\Pooja\\Documents\\Stone\\stone\\Augmentation/."
     ]
    },
    {
     "name": "stderr",
     "output_type": "stream",
     "text": [
      "Processing <PIL.Image.Image image mode=RGB size=512x512 at 0x292407E0400>: 100%|██████████| 10/10 [00:00<00:00, 27.83 Samples/s]\n"
     ]
    },
    {
     "name": "stdout",
     "output_type": "stream",
     "text": [
      "Initialised with 1032 image(s) found.\n",
      "Output directory set to C:\\Users\\Pooja\\Documents\\Stone\\stone\\Augmentation/."
     ]
    },
    {
     "name": "stderr",
     "output_type": "stream",
     "text": [
      "Processing <PIL.Image.Image image mode=RGB size=512x512 at 0x2923F858400>: 100%|██████████| 10/10 [00:00<00:00, 29.09 Samples/s]\n"
     ]
    },
    {
     "name": "stdout",
     "output_type": "stream",
     "text": [
      "Initialised with 1032 image(s) found.\n",
      "Output directory set to C:\\Users\\Pooja\\Documents\\Stone\\stone\\Augmentation/."
     ]
    },
    {
     "name": "stderr",
     "output_type": "stream",
     "text": [
      "Processing <PIL.Image.Image image mode=RGB size=888x719 at 0x292407E0FA0>: 100%|██████████| 10/10 [00:00<00:00, 24.62 Samples/s] \n"
     ]
    },
    {
     "name": "stdout",
     "output_type": "stream",
     "text": [
      "Initialised with 1032 image(s) found.\n",
      "Output directory set to C:\\Users\\Pooja\\Documents\\Stone\\stone\\Augmentation/."
     ]
    },
    {
     "name": "stderr",
     "output_type": "stream",
     "text": [
      "Processing <PIL.Image.Image image mode=RGB size=512x512 at 0x2923F8C6370>: 100%|██████████| 10/10 [00:00<00:00, 23.71 Samples/s] \n"
     ]
    },
    {
     "name": "stdout",
     "output_type": "stream",
     "text": [
      "Initialised with 1032 image(s) found.\n",
      "Output directory set to C:\\Users\\Pooja\\Documents\\Stone\\stone\\Augmentation/."
     ]
    },
    {
     "name": "stderr",
     "output_type": "stream",
     "text": [
      "Processing <PIL.Image.Image image mode=RGB size=512x512 at 0x292407C42E0>: 100%|██████████| 10/10 [00:00<00:00, 18.09 Samples/s] \n"
     ]
    },
    {
     "name": "stdout",
     "output_type": "stream",
     "text": [
      "Initialised with 1032 image(s) found.\n",
      "Output directory set to C:\\Users\\Pooja\\Documents\\Stone\\stone\\Augmentation/."
     ]
    },
    {
     "name": "stderr",
     "output_type": "stream",
     "text": [
      "Processing <PIL.JpegImagePlugin.JpegImageFile image mode=RGB size=512x512 at 0x2923F87F580>: 100%|██████████| 10/10 [00:00<00:00, 15.61 Samples/s]\n"
     ]
    },
    {
     "name": "stdout",
     "output_type": "stream",
     "text": [
      "Initialised with 1032 image(s) found.\n",
      "Output directory set to C:\\Users\\Pooja\\Documents\\Stone\\stone\\Augmentation/."
     ]
    },
    {
     "name": "stderr",
     "output_type": "stream",
     "text": [
      "Processing <PIL.Image.Image image mode=RGB size=512x512 at 0x292407DE9A0>: 100%|██████████| 10/10 [00:00<00:00, 18.23 Samples/s] \n"
     ]
    },
    {
     "name": "stdout",
     "output_type": "stream",
     "text": [
      "Initialised with 1032 image(s) found.\n",
      "Output directory set to C:\\Users\\Pooja\\Documents\\Stone\\stone\\Augmentation/."
     ]
    },
    {
     "name": "stderr",
     "output_type": "stream",
     "text": [
      "Processing <PIL.Image.Image image mode=RGB size=804x651 at 0x2923F87F700>: 100%|██████████| 10/10 [00:00<00:00, 26.67 Samples/s]\n"
     ]
    },
    {
     "name": "stdout",
     "output_type": "stream",
     "text": [
      "Initialised with 1032 image(s) found.\n",
      "Output directory set to C:\\Users\\Pooja\\Documents\\Stone\\stone\\Augmentation/."
     ]
    },
    {
     "name": "stderr",
     "output_type": "stream",
     "text": [
      "Processing <PIL.Image.Image image mode=RGB size=512x512 at 0x2923F79D100>: 100%|██████████| 10/10 [00:00<00:00, 16.84 Samples/s] \n"
     ]
    },
    {
     "name": "stdout",
     "output_type": "stream",
     "text": [
      "Initialised with 1032 image(s) found.\n",
      "Output directory set to C:\\Users\\Pooja\\Documents\\Stone\\stone\\Augmentation/."
     ]
    },
    {
     "name": "stderr",
     "output_type": "stream",
     "text": [
      "Processing <PIL.Image.Image image mode=RGB size=512x512 at 0x2923F87FA90>: 100%|██████████| 10/10 [00:00<00:00, 17.78 Samples/s] \n"
     ]
    },
    {
     "name": "stdout",
     "output_type": "stream",
     "text": [
      "Initialised with 1032 image(s) found.\n",
      "Output directory set to C:\\Users\\Pooja\\Documents\\Stone\\stone\\Augmentation/."
     ]
    },
    {
     "name": "stderr",
     "output_type": "stream",
     "text": [
      "Processing <PIL.Image.Image image mode=RGB size=1118x905 at 0x2923F8F1280>: 100%|██████████| 10/10 [00:00<00:00, 18.29 Samples/s]                \n"
     ]
    },
    {
     "name": "stdout",
     "output_type": "stream",
     "text": [
      "Initialised with 1032 image(s) found.\n",
      "Output directory set to C:\\Users\\Pooja\\Documents\\Stone\\stone\\Augmentation/."
     ]
    },
    {
     "name": "stderr",
     "output_type": "stream",
     "text": [
      "Processing <PIL.Image.Image image mode=RGB size=1236x1001 at 0x2923F8FD970>: 100%|██████████| 10/10 [00:00<00:00, 12.55 Samples/s]\n"
     ]
    },
    {
     "name": "stdout",
     "output_type": "stream",
     "text": [
      "Initialised with 1032 image(s) found.\n",
      "Output directory set to C:\\Users\\Pooja\\Documents\\Stone\\stone\\Augmentation/."
     ]
    },
    {
     "name": "stderr",
     "output_type": "stream",
     "text": [
      "Processing <PIL.Image.Image image mode=RGB size=512x512 at 0x292407E00A0>: 100%|██████████| 10/10 [00:00<00:00, 15.24 Samples/s]\n"
     ]
    },
    {
     "name": "stdout",
     "output_type": "stream",
     "text": [
      "Initialised with 1032 image(s) found.\n",
      "Output directory set to C:\\Users\\Pooja\\Documents\\Stone\\stone\\Augmentation/."
     ]
    },
    {
     "name": "stderr",
     "output_type": "stream",
     "text": [
      "Processing <PIL.Image.Image image mode=RGB size=512x512 at 0x2923F899880>: 100%|██████████| 10/10 [00:00<00:00, 33.69 Samples/s]\n"
     ]
    },
    {
     "name": "stdout",
     "output_type": "stream",
     "text": [
      "Initialised with 1032 image(s) found.\n",
      "Output directory set to C:\\Users\\Pooja\\Documents\\Stone\\stone\\Augmentation/."
     ]
    },
    {
     "name": "stderr",
     "output_type": "stream",
     "text": [
      "Processing <PIL.Image.Image image mode=RGB size=512x512 at 0x292407E0160>: 100%|██████████| 10/10 [00:00<00:00, 14.63 Samples/s] \n"
     ]
    },
    {
     "name": "stdout",
     "output_type": "stream",
     "text": [
      "Initialised with 1032 image(s) found.\n",
      "Output directory set to C:\\Users\\Pooja\\Documents\\Stone\\stone\\Augmentation/."
     ]
    },
    {
     "name": "stderr",
     "output_type": "stream",
     "text": [
      "Processing <PIL.Image.Image image mode=RGB size=749x605 at 0x2923F899CA0>: 100%|██████████| 10/10 [00:01<00:00,  5.82 Samples/s]\n"
     ]
    },
    {
     "name": "stdout",
     "output_type": "stream",
     "text": [
      "Initialised with 1032 image(s) found.\n",
      "Output directory set to C:\\Users\\Pooja\\Documents\\Stone\\stone\\Augmentation/."
     ]
    },
    {
     "name": "stderr",
     "output_type": "stream",
     "text": [
      "Processing <PIL.Image.Image image mode=RGB size=512x512 at 0x292407DE310>: 100%|██████████| 10/10 [00:01<00:00,  5.20 Samples/s]\n"
     ]
    },
    {
     "name": "stdout",
     "output_type": "stream",
     "text": [
      "Initialised with 1032 image(s) found.\n",
      "Output directory set to C:\\Users\\Pooja\\Documents\\Stone\\stone\\Augmentation/."
     ]
    },
    {
     "name": "stderr",
     "output_type": "stream",
     "text": [
      "Processing <PIL.Image.Image image mode=RGB size=787x636 at 0x2923F87F820>: 100%|██████████| 10/10 [00:00<00:00, 14.71 Samples/s] \n"
     ]
    },
    {
     "name": "stdout",
     "output_type": "stream",
     "text": [
      "Initialised with 1032 image(s) found.\n",
      "Output directory set to C:\\Users\\Pooja\\Documents\\Stone\\stone\\Augmentation/."
     ]
    },
    {
     "name": "stderr",
     "output_type": "stream",
     "text": [
      "Processing <PIL.Image.Image image mode=RGB size=512x512 at 0x292407DEDC0>: 100%|██████████| 10/10 [00:00<00:00, 17.55 Samples/s]\n"
     ]
    },
    {
     "name": "stdout",
     "output_type": "stream",
     "text": [
      "Initialised with 1032 image(s) found.\n",
      "Output directory set to C:\\Users\\Pooja\\Documents\\Stone\\stone\\Augmentation/."
     ]
    },
    {
     "name": "stderr",
     "output_type": "stream",
     "text": [
      "Processing <PIL.Image.Image image mode=RGB size=512x512 at 0x2923F899880>: 100%|██████████| 10/10 [00:01<00:00,  6.32 Samples/s] \n"
     ]
    },
    {
     "name": "stdout",
     "output_type": "stream",
     "text": [
      "Initialised with 1032 image(s) found.\n",
      "Output directory set to C:\\Users\\Pooja\\Documents\\Stone\\stone\\Augmentation/."
     ]
    },
    {
     "name": "stderr",
     "output_type": "stream",
     "text": [
      "Processing <PIL.Image.Image image mode=RGB size=1236x1001 at 0x2923F79D610>: 100%|██████████| 10/10 [00:00<00:00, 18.22 Samples/s]\n"
     ]
    },
    {
     "name": "stdout",
     "output_type": "stream",
     "text": [
      "Initialised with 1032 image(s) found.\n",
      "Output directory set to C:\\Users\\Pooja\\Documents\\Stone\\stone\\Augmentation/."
     ]
    },
    {
     "name": "stderr",
     "output_type": "stream",
     "text": [
      "Processing <PIL.Image.Image image mode=RGB size=771x623 at 0x2923F87F4C0>: 100%|██████████| 10/10 [00:00<00:00, 12.12 Samples/s] \n"
     ]
    },
    {
     "name": "stdout",
     "output_type": "stream",
     "text": [
      "Initialised with 1032 image(s) found.\n",
      "Output directory set to C:\\Users\\Pooja\\Documents\\Stone\\stone\\Augmentation/."
     ]
    },
    {
     "name": "stderr",
     "output_type": "stream",
     "text": [
      "Processing <PIL.Image.Image image mode=RGB size=512x512 at 0x292407E0FD0>: 100%|██████████| 10/10 [00:00<00:00, 14.72 Samples/s] \n"
     ]
    },
    {
     "name": "stdout",
     "output_type": "stream",
     "text": [
      "Initialised with 1032 image(s) found.\n",
      "Output directory set to C:\\Users\\Pooja\\Documents\\Stone\\stone\\Augmentation/."
     ]
    },
    {
     "name": "stderr",
     "output_type": "stream",
     "text": [
      "Processing <PIL.Image.Image image mode=RGB size=1236x1001 at 0x2923F858220>: 100%|██████████| 10/10 [00:00<00:00, 16.68 Samples/s]\n"
     ]
    },
    {
     "name": "stdout",
     "output_type": "stream",
     "text": [
      "Initialised with 1032 image(s) found.\n",
      "Output directory set to C:\\Users\\Pooja\\Documents\\Stone\\stone\\Augmentation/."
     ]
    },
    {
     "name": "stderr",
     "output_type": "stream",
     "text": [
      "Processing <PIL.Image.Image image mode=RGB size=888x719 at 0x2923F79D250>: 100%|██████████| 10/10 [00:00<00:00, 17.04 Samples/s]\n"
     ]
    },
    {
     "name": "stdout",
     "output_type": "stream",
     "text": [
      "Initialised with 1032 image(s) found.\n",
      "Output directory set to C:\\Users\\Pooja\\Documents\\Stone\\stone\\Augmentation/."
     ]
    },
    {
     "name": "stderr",
     "output_type": "stream",
     "text": [
      "Processing <PIL.Image.Image image mode=RGB size=512x512 at 0x2923F899AC0>: 100%|██████████| 10/10 [00:00<00:00, 15.36 Samples/s] \n"
     ]
    },
    {
     "name": "stdout",
     "output_type": "stream",
     "text": [
      "Initialised with 1032 image(s) found.\n",
      "Output directory set to C:\\Users\\Pooja\\Documents\\Stone\\stone\\Augmentation/."
     ]
    },
    {
     "name": "stderr",
     "output_type": "stream",
     "text": [
      "Processing <PIL.Image.Image image mode=RGB size=512x512 at 0x292407C41C0>: 100%|██████████| 10/10 [00:00<00:00, 18.30 Samples/s]\n"
     ]
    },
    {
     "name": "stdout",
     "output_type": "stream",
     "text": [
      "Initialised with 1032 image(s) found.\n",
      "Output directory set to C:\\Users\\Pooja\\Documents\\Stone\\stone\\Augmentation/."
     ]
    },
    {
     "name": "stderr",
     "output_type": "stream",
     "text": [
      "Processing <PIL.Image.Image image mode=RGB size=512x512 at 0x2923F899F10>: 100%|██████████| 10/10 [00:00<00:00, 11.95 Samples/s] \n"
     ]
    },
    {
     "name": "stdout",
     "output_type": "stream",
     "text": [
      "Initialised with 1032 image(s) found.\n",
      "Output directory set to C:\\Users\\Pooja\\Documents\\Stone\\stone\\Augmentation/."
     ]
    },
    {
     "name": "stderr",
     "output_type": "stream",
     "text": [
      "Processing <PIL.Image.Image image mode=RGB size=1236x1001 at 0x292407E01F0>: 100%|██████████| 10/10 [00:00<00:00, 17.62 Samples/s]               \n"
     ]
    },
    {
     "name": "stdout",
     "output_type": "stream",
     "text": [
      "Initialised with 1032 image(s) found.\n",
      "Output directory set to C:\\Users\\Pooja\\Documents\\Stone\\stone\\Augmentation/."
     ]
    },
    {
     "name": "stderr",
     "output_type": "stream",
     "text": [
      "Processing <PIL.Image.Image image mode=RGB size=888x719 at 0x2923F87FA90>: 100%|██████████| 10/10 [00:00<00:00, 16.81 Samples/s] \n"
     ]
    },
    {
     "name": "stdout",
     "output_type": "stream",
     "text": [
      "Initialised with 1032 image(s) found.\n",
      "Output directory set to C:\\Users\\Pooja\\Documents\\Stone\\stone\\Augmentation/."
     ]
    },
    {
     "name": "stderr",
     "output_type": "stream",
     "text": [
      "Processing <PIL.Image.Image image mode=RGB size=512x512 at 0x292407E0490>: 100%|██████████| 10/10 [00:00<00:00, 15.98 Samples/s] \n"
     ]
    },
    {
     "name": "stdout",
     "output_type": "stream",
     "text": [
      "Initialised with 1032 image(s) found.\n",
      "Output directory set to C:\\Users\\Pooja\\Documents\\Stone\\stone\\Augmentation/."
     ]
    },
    {
     "name": "stderr",
     "output_type": "stream",
     "text": [
      "Processing <PIL.Image.Image image mode=RGB size=512x512 at 0x2923F87F9A0>: 100%|██████████| 10/10 [00:00<00:00, 24.26 Samples/s]\n"
     ]
    },
    {
     "name": "stdout",
     "output_type": "stream",
     "text": [
      "Initialised with 1032 image(s) found.\n",
      "Output directory set to C:\\Users\\Pooja\\Documents\\Stone\\stone\\Augmentation/."
     ]
    },
    {
     "name": "stderr",
     "output_type": "stream",
     "text": [
      "Processing <PIL.Image.Image image mode=RGB size=512x512 at 0x2923F8F1280>: 100%|██████████| 10/10 [00:00<00:00, 13.70 Samples/s] \n"
     ]
    },
    {
     "name": "stdout",
     "output_type": "stream",
     "text": [
      "Initialised with 1032 image(s) found.\n",
      "Output directory set to C:\\Users\\Pooja\\Documents\\Stone\\stone\\Augmentation/."
     ]
    },
    {
     "name": "stderr",
     "output_type": "stream",
     "text": [
      "Processing <PIL.Image.Image image mode=RGB size=790x640 at 0x2923F899CA0>: 100%|██████████| 10/10 [00:00<00:00, 15.24 Samples/s] \n"
     ]
    },
    {
     "name": "stdout",
     "output_type": "stream",
     "text": [
      "Initialised with 1032 image(s) found.\n",
      "Output directory set to C:\\Users\\Pooja\\Documents\\Stone\\stone\\Augmentation/."
     ]
    },
    {
     "name": "stderr",
     "output_type": "stream",
     "text": [
      "Processing <PIL.Image.Image image mode=RGB size=512x512 at 0x292407DE280>: 100%|██████████| 10/10 [00:00<00:00, 24.64 Samples/s] \n"
     ]
    },
    {
     "name": "stdout",
     "output_type": "stream",
     "text": [
      "Initialised with 1032 image(s) found.\n",
      "Output directory set to C:\\Users\\Pooja\\Documents\\Stone\\stone\\Augmentation/."
     ]
    },
    {
     "name": "stderr",
     "output_type": "stream",
     "text": [
      "Processing <PIL.Image.Image image mode=RGB size=512x512 at 0x2923F87F400>: 100%|██████████| 10/10 [00:00<00:00, 15.41 Samples/s] \n"
     ]
    },
    {
     "name": "stdout",
     "output_type": "stream",
     "text": [
      "Initialised with 1032 image(s) found.\n",
      "Output directory set to C:\\Users\\Pooja\\Documents\\Stone\\stone\\Augmentation/."
     ]
    },
    {
     "name": "stderr",
     "output_type": "stream",
     "text": [
      "Processing <PIL.Image.Image image mode=RGB size=1371x1110 at 0x2923F79D1C0>: 100%|██████████| 10/10 [00:00<00:00, 11.82 Samples/s]\n"
     ]
    },
    {
     "name": "stdout",
     "output_type": "stream",
     "text": [
      "Initialised with 1032 image(s) found.\n",
      "Output directory set to C:\\Users\\Pooja\\Documents\\Stone\\stone\\Augmentation/."
     ]
    },
    {
     "name": "stderr",
     "output_type": "stream",
     "text": [
      "Processing <PIL.Image.Image image mode=RGB size=512x512 at 0x2923F8C60A0>: 100%|██████████| 10/10 [00:00<00:00, 18.29 Samples/s]                   \n"
     ]
    },
    {
     "name": "stdout",
     "output_type": "stream",
     "text": [
      "Initialised with 1032 image(s) found.\n",
      "Output directory set to C:\\Users\\Pooja\\Documents\\Stone\\stone\\Augmentation/."
     ]
    },
    {
     "name": "stderr",
     "output_type": "stream",
     "text": [
      "Processing <PIL.Image.Image image mode=RGB size=512x512 at 0x292407DE760>: 100%|██████████| 10/10 [00:00<00:00, 12.31 Samples/s] \n"
     ]
    },
    {
     "name": "stdout",
     "output_type": "stream",
     "text": [
      "Initialised with 1032 image(s) found.\n",
      "Output directory set to C:\\Users\\Pooja\\Documents\\Stone\\stone\\Augmentation/."
     ]
    },
    {
     "name": "stderr",
     "output_type": "stream",
     "text": [
      "Processing <PIL.Image.Image image mode=RGB size=512x512 at 0x2923F858940>: 100%|██████████| 10/10 [00:00<00:00, 11.96 Samples/s] \n"
     ]
    },
    {
     "name": "stdout",
     "output_type": "stream",
     "text": [
      "Initialised with 1032 image(s) found.\n",
      "Output directory set to C:\\Users\\Pooja\\Documents\\Stone\\stone\\Augmentation/."
     ]
    },
    {
     "name": "stderr",
     "output_type": "stream",
     "text": [
      "Processing <PIL.Image.Image image mode=RGB size=512x512 at 0x2923F79D160>: 100%|██████████| 10/10 [00:00<00:00, 23.84 Samples/s]\n"
     ]
    },
    {
     "name": "stdout",
     "output_type": "stream",
     "text": [
      "Initialised with 1032 image(s) found.\n",
      "Output directory set to C:\\Users\\Pooja\\Documents\\Stone\\stone\\Augmentation/."
     ]
    },
    {
     "name": "stderr",
     "output_type": "stream",
     "text": [
      "Processing <PIL.Image.Image image mode=RGB size=813x657 at 0x2923F8580D0>: 100%|██████████| 10/10 [00:00<00:00, 13.33 Samples/s] \n"
     ]
    },
    {
     "name": "stdout",
     "output_type": "stream",
     "text": [
      "Initialised with 1032 image(s) found.\n",
      "Output directory set to C:\\Users\\Pooja\\Documents\\Stone\\stone\\Augmentation/."
     ]
    },
    {
     "name": "stderr",
     "output_type": "stream",
     "text": [
      "Processing <PIL.Image.Image image mode=RGB size=512x512 at 0x292407C41C0>: 100%|██████████| 10/10 [00:00<00:00, 33.33 Samples/s] \n"
     ]
    },
    {
     "name": "stdout",
     "output_type": "stream",
     "text": [
      "Initialised with 1032 image(s) found.\n",
      "Output directory set to C:\\Users\\Pooja\\Documents\\Stone\\stone\\Augmentation/."
     ]
    },
    {
     "name": "stderr",
     "output_type": "stream",
     "text": [
      "Processing <PIL.Image.Image image mode=RGB size=813x657 at 0x2923F858430>: 100%|██████████| 10/10 [00:00<00:00, 21.33 Samples/s]                 \n"
     ]
    },
    {
     "name": "stdout",
     "output_type": "stream",
     "text": [
      "Initialised with 1032 image(s) found.\n",
      "Output directory set to C:\\Users\\Pooja\\Documents\\Stone\\stone\\Augmentation/."
     ]
    },
    {
     "name": "stderr",
     "output_type": "stream",
     "text": [
      "Processing <PIL.Image.Image image mode=RGB size=512x512 at 0x292407C40A0>: 100%|██████████| 10/10 [00:00<00:00, 27.83 Samples/s]\n"
     ]
    },
    {
     "name": "stdout",
     "output_type": "stream",
     "text": [
      "Initialised with 1032 image(s) found.\n",
      "Output directory set to C:\\Users\\Pooja\\Documents\\Stone\\stone\\Augmentation/."
     ]
    },
    {
     "name": "stderr",
     "output_type": "stream",
     "text": [
      "Processing <PIL.Image.Image image mode=RGB size=512x512 at 0x2923F8C6610>: 100%|██████████| 10/10 [00:00<00:00, 21.34 Samples/s]\n"
     ]
    },
    {
     "name": "stdout",
     "output_type": "stream",
     "text": [
      "Initialised with 1032 image(s) found.\n",
      "Output directory set to C:\\Users\\Pooja\\Documents\\Stone\\stone\\Augmentation/."
     ]
    },
    {
     "name": "stderr",
     "output_type": "stream",
     "text": [
      "Processing <PIL.Image.Image image mode=RGB size=512x512 at 0x292407E01C0>: 100%|██████████| 10/10 [00:00<00:00, 17.30 Samples/s] \n"
     ]
    },
    {
     "name": "stdout",
     "output_type": "stream",
     "text": [
      "Initialised with 1032 image(s) found.\n",
      "Output directory set to C:\\Users\\Pooja\\Documents\\Stone\\stone\\Augmentation/."
     ]
    },
    {
     "name": "stderr",
     "output_type": "stream",
     "text": [
      "Processing <PIL.Image.Image image mode=RGB size=754x611 at 0x2923F7784C0>: 100%|██████████| 10/10 [00:00<00:00, 23.71 Samples/s] \n"
     ]
    },
    {
     "name": "stdout",
     "output_type": "stream",
     "text": [
      "Initialised with 1032 image(s) found.\n",
      "Output directory set to C:\\Users\\Pooja\\Documents\\Stone\\stone\\Augmentation/."
     ]
    },
    {
     "name": "stderr",
     "output_type": "stream",
     "text": [
      "Processing <PIL.Image.Image image mode=RGB size=512x512 at 0x292407DE940>: 100%|██████████| 10/10 [00:00<00:00, 18.33 Samples/s]\n"
     ]
    },
    {
     "name": "stdout",
     "output_type": "stream",
     "text": [
      "Initialised with 1032 image(s) found.\n",
      "Output directory set to C:\\Users\\Pooja\\Documents\\Stone\\stone\\Augmentation/."
     ]
    },
    {
     "name": "stderr",
     "output_type": "stream",
     "text": [
      "Processing <PIL.Image.Image image mode=RGB size=512x512 at 0x2923F8C6250>: 100%|██████████| 10/10 [00:00<00:00, 23.93 Samples/s]                 \n"
     ]
    },
    {
     "name": "stdout",
     "output_type": "stream",
     "text": [
      "Initialised with 1032 image(s) found.\n",
      "Output directory set to C:\\Users\\Pooja\\Documents\\Stone\\stone\\Augmentation/."
     ]
    },
    {
     "name": "stderr",
     "output_type": "stream",
     "text": [
      "Processing <PIL.Image.Image image mode=RGB size=888x719 at 0x2923F8F1A30>: 100%|██████████| 10/10 [00:00<00:00, 18.62 Samples/s] \n"
     ]
    },
    {
     "name": "stdout",
     "output_type": "stream",
     "text": [
      "Initialised with 1032 image(s) found.\n",
      "Output directory set to C:\\Users\\Pooja\\Documents\\Stone\\stone\\Augmentation/."
     ]
    },
    {
     "name": "stderr",
     "output_type": "stream",
     "text": [
      "Processing <PIL.Image.Image image mode=RGB size=512x512 at 0x2923F8C67C0>: 100%|██████████| 10/10 [00:00<00:00, 35.56 Samples/s]\n"
     ]
    },
    {
     "name": "stdout",
     "output_type": "stream",
     "text": [
      "Initialised with 1032 image(s) found.\n",
      "Output directory set to C:\\Users\\Pooja\\Documents\\Stone\\stone\\Augmentation/."
     ]
    },
    {
     "name": "stderr",
     "output_type": "stream",
     "text": [
      "Processing <PIL.Image.Image image mode=RGB size=855x691 at 0x2923F8F1040>: 100%|██████████| 10/10 [00:01<00:00,  7.03 Samples/s] \n"
     ]
    },
    {
     "name": "stdout",
     "output_type": "stream",
     "text": [
      "Initialised with 1032 image(s) found.\n",
      "Output directory set to C:\\Users\\Pooja\\Documents\\Stone\\stone\\Augmentation/."
     ]
    },
    {
     "name": "stderr",
     "output_type": "stream",
     "text": [
      "Processing <PIL.Image.Image image mode=RGB size=512x512 at 0x2923F8C6490>: 100%|██████████| 10/10 [00:01<00:00,  8.89 Samples/s] \n"
     ]
    },
    {
     "name": "stdout",
     "output_type": "stream",
     "text": [
      "Initialised with 1032 image(s) found.\n",
      "Output directory set to C:\\Users\\Pooja\\Documents\\Stone\\stone\\Augmentation/."
     ]
    },
    {
     "name": "stderr",
     "output_type": "stream",
     "text": [
      "Processing <PIL.Image.Image image mode=RGB size=512x512 at 0x2923F782CA0>: 100%|██████████| 10/10 [00:00<00:00, 17.11 Samples/s] \n"
     ]
    },
    {
     "name": "stdout",
     "output_type": "stream",
     "text": [
      "Initialised with 1032 image(s) found.\n",
      "Output directory set to C:\\Users\\Pooja\\Documents\\Stone\\stone\\Augmentation/."
     ]
    },
    {
     "name": "stderr",
     "output_type": "stream",
     "text": [
      "Processing <PIL.Image.Image image mode=RGB size=1236x1001 at 0x2923F02BBB0>: 100%|██████████| 10/10 [00:00<00:00, 20.65 Samples/s]\n"
     ]
    },
    {
     "name": "stdout",
     "output_type": "stream",
     "text": [
      "Initialised with 1032 image(s) found.\n",
      "Output directory set to C:\\Users\\Pooja\\Documents\\Stone\\stone\\Augmentation/."
     ]
    },
    {
     "name": "stderr",
     "output_type": "stream",
     "text": [
      "Processing <PIL.Image.Image image mode=RGB size=888x719 at 0x2923F79D1F0>: 100%|██████████| 10/10 [00:00<00:00, 20.00 Samples/s]\n"
     ]
    },
    {
     "name": "stdout",
     "output_type": "stream",
     "text": [
      "Initialised with 1032 image(s) found.\n",
      "Output directory set to C:\\Users\\Pooja\\Documents\\Stone\\stone\\Augmentation/."
     ]
    },
    {
     "name": "stderr",
     "output_type": "stream",
     "text": [
      "Processing <PIL.Image.Image image mode=RGB size=1371x1110 at 0x2923F872460>: 100%|██████████| 10/10 [00:00<00:00, 11.95 Samples/s]                 \n"
     ]
    },
    {
     "name": "stdout",
     "output_type": "stream",
     "text": [
      "Initialised with 1032 image(s) found.\n",
      "Output directory set to C:\\Users\\Pooja\\Documents\\Stone\\stone\\Augmentation/."
     ]
    },
    {
     "name": "stderr",
     "output_type": "stream",
     "text": [
      "Processing <PIL.Image.Image image mode=RGB size=512x512 at 0x292407E0E20>: 100%|██████████| 10/10 [00:02<00:00,  3.82 Samples/s]\n"
     ]
    },
    {
     "name": "stdout",
     "output_type": "stream",
     "text": [
      "Initialised with 1032 image(s) found.\n",
      "Output directory set to C:\\Users\\Pooja\\Documents\\Stone\\stone\\Augmentation/."
     ]
    },
    {
     "name": "stderr",
     "output_type": "stream",
     "text": [
      "Processing <PIL.Image.Image image mode=RGB size=512x512 at 0x292407E0B20>: 100%|██████████| 10/10 [00:00<00:00, 22.86 Samples/s] \n"
     ]
    },
    {
     "name": "stdout",
     "output_type": "stream",
     "text": [
      "Initialised with 1032 image(s) found.\n",
      "Output directory set to C:\\Users\\Pooja\\Documents\\Stone\\stone\\Augmentation/."
     ]
    },
    {
     "name": "stderr",
     "output_type": "stream",
     "text": [
      "Processing <PIL.Image.Image image mode=RGB size=512x512 at 0x292407DE5E0>: 100%|██████████| 10/10 [00:00<00:00, 10.49 Samples/s]                 \n"
     ]
    },
    {
     "name": "stdout",
     "output_type": "stream",
     "text": [
      "Initialised with 1032 image(s) found.\n",
      "Output directory set to C:\\Users\\Pooja\\Documents\\Stone\\stone\\Augmentation/."
     ]
    },
    {
     "name": "stderr",
     "output_type": "stream",
     "text": [
      "Processing <PIL.JpegImagePlugin.JpegImageFile image mode=RGB size=1236x1001 at 0x2923F872100>: 100%|██████████| 10/10 [00:00<00:00, 25.60 Samples/s]\n"
     ]
    },
    {
     "name": "stdout",
     "output_type": "stream",
     "text": [
      "Initialised with 1032 image(s) found.\n",
      "Output directory set to C:\\Users\\Pooja\\Documents\\Stone\\stone\\Augmentation/."
     ]
    },
    {
     "name": "stderr",
     "output_type": "stream",
     "text": [
      "Processing <PIL.Image.Image image mode=RGB size=512x512 at 0x2923F7820A0>: 100%|██████████| 10/10 [00:00<00:00, 20.00 Samples/s] \n"
     ]
    },
    {
     "name": "stdout",
     "output_type": "stream",
     "text": [
      "Initialised with 1032 image(s) found.\n",
      "Output directory set to C:\\Users\\Pooja\\Documents\\Stone\\stone\\Augmentation/."
     ]
    },
    {
     "name": "stderr",
     "output_type": "stream",
     "text": [
      "Processing <PIL.Image.Image image mode=RGB size=512x512 at 0x2923F8C91C0>: 100%|██████████| 10/10 [00:00<00:00, 22.07 Samples/s]\n"
     ]
    },
    {
     "name": "stdout",
     "output_type": "stream",
     "text": [
      "Initialised with 1032 image(s) found.\n",
      "Output directory set to C:\\Users\\Pooja\\Documents\\Stone\\stone\\Augmentation/."
     ]
    },
    {
     "name": "stderr",
     "output_type": "stream",
     "text": [
      "Processing <PIL.Image.Image image mode=RGB size=512x512 at 0x292407E0EB0>: 100%|██████████| 10/10 [00:00<00:00, 16.84 Samples/s]\n"
     ]
    },
    {
     "name": "stdout",
     "output_type": "stream",
     "text": [
      "Initialised with 1032 image(s) found.\n",
      "Output directory set to C:\\Users\\Pooja\\Documents\\Stone\\stone\\Augmentation/."
     ]
    },
    {
     "name": "stderr",
     "output_type": "stream",
     "text": [
      "Processing <PIL.Image.Image image mode=RGB size=512x512 at 0x292407E0C70>: 100%|██████████| 10/10 [00:00<00:00, 16.84 Samples/s] \n"
     ]
    },
    {
     "name": "stdout",
     "output_type": "stream",
     "text": [
      "Initialised with 1032 image(s) found.\n",
      "Output directory set to C:\\Users\\Pooja\\Documents\\Stone\\stone\\Augmentation/."
     ]
    },
    {
     "name": "stderr",
     "output_type": "stream",
     "text": [
      "Processing <PIL.Image.Image image mode=RGB size=512x512 at 0x2923F7828B0>: 100%|██████████| 10/10 [00:00<00:00, 16.41 Samples/s]\n"
     ]
    },
    {
     "name": "stdout",
     "output_type": "stream",
     "text": [
      "Initialised with 1032 image(s) found.\n",
      "Output directory set to C:\\Users\\Pooja\\Documents\\Stone\\stone\\Augmentation/."
     ]
    },
    {
     "name": "stderr",
     "output_type": "stream",
     "text": [
      "Processing <PIL.Image.Image image mode=RGB size=1236x1001 at 0x2923F872070>: 100%|██████████| 10/10 [00:00<00:00, 15.24 Samples/s]                 \n"
     ]
    },
    {
     "name": "stdout",
     "output_type": "stream",
     "text": [
      "Initialised with 1032 image(s) found.\n",
      "Output directory set to C:\\Users\\Pooja\\Documents\\Stone\\stone\\Augmentation/."
     ]
    },
    {
     "name": "stderr",
     "output_type": "stream",
     "text": [
      "Processing <PIL.Image.Image image mode=RGB size=713x576 at 0x2923F782100>: 100%|██████████| 10/10 [00:00<00:00, 16.84 Samples/s] \n"
     ]
    },
    {
     "name": "stdout",
     "output_type": "stream",
     "text": [
      "Initialised with 1032 image(s) found.\n",
      "Output directory set to C:\\Users\\Pooja\\Documents\\Stone\\stone\\Augmentation/."
     ]
    },
    {
     "name": "stderr",
     "output_type": "stream",
     "text": [
      "Processing <PIL.Image.Image image mode=RGB size=1236x1001 at 0x2923F8C9940>: 100%|██████████| 10/10 [00:00<00:00, 14.88 Samples/s]       \n"
     ]
    },
    {
     "name": "stdout",
     "output_type": "stream",
     "text": [
      "Initialised with 1032 image(s) found.\n",
      "Output directory set to C:\\Users\\Pooja\\Documents\\Stone\\stone\\Augmentation/."
     ]
    },
    {
     "name": "stderr",
     "output_type": "stream",
     "text": [
      "Processing <PIL.Image.Image image mode=RGB size=512x512 at 0x292407DE640>: 100%|██████████| 10/10 [00:00<00:00, 18.70 Samples/s] \n"
     ]
    },
    {
     "name": "stdout",
     "output_type": "stream",
     "text": [
      "Initialised with 1032 image(s) found.\n",
      "Output directory set to C:\\Users\\Pooja\\Documents\\Stone\\stone\\Augmentation/."
     ]
    },
    {
     "name": "stderr",
     "output_type": "stream",
     "text": [
      "Processing <PIL.Image.Image image mode=RGB size=512x512 at 0x2923F490E80>: 100%|██████████| 10/10 [00:00<00:00, 36.89 Samples/s]                 \n"
     ]
    },
    {
     "name": "stdout",
     "output_type": "stream",
     "text": [
      "Initialised with 1032 image(s) found.\n",
      "Output directory set to C:\\Users\\Pooja\\Documents\\Stone\\stone\\Augmentation/."
     ]
    },
    {
     "name": "stderr",
     "output_type": "stream",
     "text": [
      "Processing <PIL.Image.Image image mode=RGB size=512x512 at 0x292407E03A0>: 100%|██████████| 10/10 [00:00<00:00, 25.60 Samples/s]\n"
     ]
    },
    {
     "name": "stdout",
     "output_type": "stream",
     "text": [
      "Initialised with 1032 image(s) found.\n",
      "Output directory set to C:\\Users\\Pooja\\Documents\\Stone\\stone\\Augmentation/."
     ]
    },
    {
     "name": "stderr",
     "output_type": "stream",
     "text": [
      "Processing <PIL.Image.Image image mode=RGB size=713x576 at 0x292355892E0>: 100%|██████████| 10/10 [00:00<00:00, 24.62 Samples/s]\n"
     ]
    },
    {
     "name": "stdout",
     "output_type": "stream",
     "text": [
      "Initialised with 1032 image(s) found.\n",
      "Output directory set to C:\\Users\\Pooja\\Documents\\Stone\\stone\\Augmentation/."
     ]
    },
    {
     "name": "stderr",
     "output_type": "stream",
     "text": [
      "Processing <PIL.Image.Image image mode=RGB size=790x640 at 0x2923F782730>: 100%|██████████| 10/10 [00:00<00:00, 10.09 Samples/s] \n"
     ]
    },
    {
     "name": "stdout",
     "output_type": "stream",
     "text": [
      "Initialised with 1032 image(s) found.\n",
      "Output directory set to C:\\Users\\Pooja\\Documents\\Stone\\stone\\Augmentation/."
     ]
    },
    {
     "name": "stderr",
     "output_type": "stream",
     "text": [
      "Processing <PIL.Image.Image image mode=RGB size=512x512 at 0x292407E0AC0>: 100%|██████████| 10/10 [00:00<00:00, 11.64 Samples/s] \n"
     ]
    },
    {
     "name": "stdout",
     "output_type": "stream",
     "text": [
      "Initialised with 1032 image(s) found.\n",
      "Output directory set to C:\\Users\\Pooja\\Documents\\Stone\\stone\\Augmentation/."
     ]
    },
    {
     "name": "stderr",
     "output_type": "stream",
     "text": [
      "Processing <PIL.Image.Image image mode=RGB size=512x512 at 0x292407E0610>: 100%|██████████| 10/10 [00:00<00:00, 31.51 Samples/s]\n"
     ]
    },
    {
     "name": "stdout",
     "output_type": "stream",
     "text": [
      "Initialised with 1032 image(s) found.\n",
      "Output directory set to C:\\Users\\Pooja\\Documents\\Stone\\stone\\Augmentation/."
     ]
    },
    {
     "name": "stderr",
     "output_type": "stream",
     "text": [
      "Processing <PIL.Image.Image image mode=RGB size=888x719 at 0x292355896D0>: 100%|██████████| 10/10 [00:00<00:00, 15.60 Samples/s]\n"
     ]
    },
    {
     "name": "stdout",
     "output_type": "stream",
     "text": [
      "Initialised with 1032 image(s) found.\n",
      "Output directory set to C:\\Users\\Pooja\\Documents\\Stone\\stone\\Augmentation/."
     ]
    },
    {
     "name": "stderr",
     "output_type": "stream",
     "text": [
      "Processing <PIL.Image.Image image mode=RGB size=512x512 at 0x292407DE940>: 100%|██████████| 10/10 [00:00<00:00, 14.26 Samples/s] \n"
     ]
    },
    {
     "name": "stdout",
     "output_type": "stream",
     "text": [
      "Initialised with 1032 image(s) found.\n",
      "Output directory set to C:\\Users\\Pooja\\Documents\\Stone\\stone\\Augmentation/."
     ]
    },
    {
     "name": "stderr",
     "output_type": "stream",
     "text": [
      "Processing <PIL.Image.Image image mode=RGB size=771x623 at 0x2923F83DD60>: 100%|██████████| 10/10 [00:00<00:00, 25.81 Samples/s]\n"
     ]
    },
    {
     "name": "stdout",
     "output_type": "stream",
     "text": [
      "Initialised with 1032 image(s) found.\n",
      "Output directory set to C:\\Users\\Pooja\\Documents\\Stone\\stone\\Augmentation/."
     ]
    },
    {
     "name": "stderr",
     "output_type": "stream",
     "text": [
      "Processing <PIL.Image.Image image mode=RGB size=801x647 at 0x292407DE670>: 100%|██████████| 10/10 [00:00<00:00, 12.30 Samples/s] \n"
     ]
    },
    {
     "name": "stdout",
     "output_type": "stream",
     "text": [
      "Initialised with 1032 image(s) found.\n",
      "Output directory set to C:\\Users\\Pooja\\Documents\\Stone\\stone\\Augmentation/."
     ]
    },
    {
     "name": "stderr",
     "output_type": "stream",
     "text": [
      "Processing <PIL.Image.Image image mode=RGB size=512x512 at 0x2923F8C95B0>: 100%|██████████| 10/10 [00:00<00:00, 16.90 Samples/s] \n"
     ]
    },
    {
     "name": "stdout",
     "output_type": "stream",
     "text": [
      "Initialised with 1032 image(s) found.\n",
      "Output directory set to C:\\Users\\Pooja\\Documents\\Stone\\stone\\Augmentation/."
     ]
    },
    {
     "name": "stderr",
     "output_type": "stream",
     "text": [
      "Processing <PIL.Image.Image image mode=RGB size=888x719 at 0x2923F8F1070>: 100%|██████████| 10/10 [00:00<00:00, 15.19 Samples/s] \n"
     ]
    },
    {
     "name": "stdout",
     "output_type": "stream",
     "text": [
      "Initialised with 1032 image(s) found.\n",
      "Output directory set to C:\\Users\\Pooja\\Documents\\Stone\\stone\\Augmentation/."
     ]
    },
    {
     "name": "stderr",
     "output_type": "stream",
     "text": [
      "Processing <PIL.Image.Image image mode=RGB size=888x719 at 0x29235589850>: 100%|██████████| 10/10 [00:00<00:00, 23.76 Samples/s]\n"
     ]
    },
    {
     "name": "stdout",
     "output_type": "stream",
     "text": [
      "Initialised with 1032 image(s) found.\n",
      "Output directory set to C:\\Users\\Pooja\\Documents\\Stone\\stone\\Augmentation/."
     ]
    },
    {
     "name": "stderr",
     "output_type": "stream",
     "text": [
      "Processing <PIL.Image.Image image mode=RGB size=1203x974 at 0x292407DE460>: 100%|██████████| 10/10 [00:00<00:00, 13.31 Samples/s]\n"
     ]
    },
    {
     "name": "stdout",
     "output_type": "stream",
     "text": [
      "Initialised with 1032 image(s) found.\n",
      "Output directory set to C:\\Users\\Pooja\\Documents\\Stone\\stone\\Augmentation/."
     ]
    },
    {
     "name": "stderr",
     "output_type": "stream",
     "text": [
      "Processing <PIL.Image.Image image mode=RGB size=512x512 at 0x2923F872160>: 100%|██████████| 10/10 [00:00<00:00, 16.32 Samples/s] \n"
     ]
    },
    {
     "name": "stdout",
     "output_type": "stream",
     "text": [
      "Initialised with 1032 image(s) found.\n",
      "Output directory set to C:\\Users\\Pooja\\Documents\\Stone\\stone\\Augmentation/."
     ]
    },
    {
     "name": "stderr",
     "output_type": "stream",
     "text": [
      "Processing <PIL.Image.Image image mode=RGB size=888x719 at 0x2923F79D6A0>: 100%|██████████| 10/10 [00:00<00:00, 23.57 Samples/s]\n"
     ]
    },
    {
     "name": "stdout",
     "output_type": "stream",
     "text": [
      "Initialised with 1032 image(s) found.\n",
      "Output directory set to C:\\Users\\Pooja\\Documents\\Stone\\stone\\Augmentation/."
     ]
    },
    {
     "name": "stderr",
     "output_type": "stream",
     "text": [
      "Processing <PIL.Image.Image image mode=RGB size=512x512 at 0x2923F7825E0>: 100%|██████████| 10/10 [00:00<00:00, 20.79 Samples/s] \n"
     ]
    },
    {
     "name": "stdout",
     "output_type": "stream",
     "text": [
      "Initialised with 1032 image(s) found.\n",
      "Output directory set to C:\\Users\\Pooja\\Documents\\Stone\\stone\\Augmentation/."
     ]
    },
    {
     "name": "stderr",
     "output_type": "stream",
     "text": [
      "Processing <PIL.Image.Image image mode=RGB size=512x512 at 0x2923F8ADE50>: 100%|██████████| 10/10 [00:00<00:00, 37.31 Samples/s]                 \n"
     ]
    },
    {
     "name": "stdout",
     "output_type": "stream",
     "text": [
      "Initialised with 1032 image(s) found.\n",
      "Output directory set to C:\\Users\\Pooja\\Documents\\Stone\\stone\\Augmentation/."
     ]
    },
    {
     "name": "stderr",
     "output_type": "stream",
     "text": [
      "Processing <PIL.Image.Image image mode=RGB size=1236x1001 at 0x2923F83DD90>: 100%|██████████| 10/10 [00:00<00:00, 34.94 Samples/s]               \n"
     ]
    },
    {
     "name": "stdout",
     "output_type": "stream",
     "text": [
      "Initialised with 1032 image(s) found.\n",
      "Output directory set to C:\\Users\\Pooja\\Documents\\Stone\\stone\\Augmentation/."
     ]
    },
    {
     "name": "stderr",
     "output_type": "stream",
     "text": [
      "Processing <PIL.Image.Image image mode=RGB size=888x719 at 0x2923F8D7FA0>: 100%|██████████| 10/10 [00:00<00:00, 17.69 Samples/s] \n"
     ]
    },
    {
     "name": "stdout",
     "output_type": "stream",
     "text": [
      "Initialised with 1032 image(s) found.\n",
      "Output directory set to C:\\Users\\Pooja\\Documents\\Stone\\stone\\Augmentation/."
     ]
    },
    {
     "name": "stderr",
     "output_type": "stream",
     "text": [
      "Processing <PIL.Image.Image image mode=RGB size=512x512 at 0x2923F83DD30>: 100%|██████████| 10/10 [00:00<00:00, 42.14 Samples/s]\n"
     ]
    },
    {
     "name": "stdout",
     "output_type": "stream",
     "text": [
      "Initialised with 1032 image(s) found.\n",
      "Output directory set to C:\\Users\\Pooja\\Documents\\Stone\\stone\\Augmentation/."
     ]
    },
    {
     "name": "stderr",
     "output_type": "stream",
     "text": [
      "Processing <PIL.Image.Image image mode=RGB size=745x602 at 0x2923F8B5FA0>: 100%|██████████| 10/10 [00:00<00:00, 21.27 Samples/s]\n"
     ]
    },
    {
     "name": "stdout",
     "output_type": "stream",
     "text": [
      "Initialised with 1032 image(s) found.\n",
      "Output directory set to C:\\Users\\Pooja\\Documents\\Stone\\stone\\Augmentation/."
     ]
    },
    {
     "name": "stderr",
     "output_type": "stream",
     "text": [
      "Processing <PIL.Image.Image image mode=RGB size=512x512 at 0x2923F83DDC0>: 100%|██████████| 10/10 [00:00<00:00, 21.28 Samples/s]\n"
     ]
    },
    {
     "name": "stdout",
     "output_type": "stream",
     "text": [
      "Initialised with 1032 image(s) found.\n",
      "Output directory set to C:\\Users\\Pooja\\Documents\\Stone\\stone\\Augmentation/."
     ]
    },
    {
     "name": "stderr",
     "output_type": "stream",
     "text": [
      "Processing <PIL.Image.Image image mode=RGB size=1236x1001 at 0x2923F8C6F10>: 100%|██████████| 10/10 [00:00<00:00, 17.23 Samples/s]\n"
     ]
    },
    {
     "name": "stdout",
     "output_type": "stream",
     "text": [
      "Initialised with 1032 image(s) found.\n",
      "Output directory set to C:\\Users\\Pooja\\Documents\\Stone\\stone\\Augmentation/."
     ]
    },
    {
     "name": "stderr",
     "output_type": "stream",
     "text": [
      "Processing <PIL.Image.Image image mode=RGB size=512x512 at 0x292407E0D90>: 100%|██████████| 10/10 [00:00<00:00, 16.84 Samples/s] \n"
     ]
    },
    {
     "name": "stdout",
     "output_type": "stream",
     "text": [
      "Initialised with 1032 image(s) found.\n",
      "Output directory set to C:\\Users\\Pooja\\Documents\\Stone\\stone\\Augmentation/."
     ]
    },
    {
     "name": "stderr",
     "output_type": "stream",
     "text": [
      "Processing <PIL.Image.Image image mode=RGB size=832x674 at 0x2923F899250>: 100%|██████████| 10/10 [00:00<00:00, 15.20 Samples/s]                 \n"
     ]
    },
    {
     "name": "stdout",
     "output_type": "stream",
     "text": [
      "Initialised with 1032 image(s) found.\n",
      "Output directory set to C:\\Users\\Pooja\\Documents\\Stone\\stone\\Augmentation/."
     ]
    },
    {
     "name": "stderr",
     "output_type": "stream",
     "text": [
      "Processing <PIL.Image.Image image mode=RGB size=888x719 at 0x2923F8C98B0>: 100%|██████████| 10/10 [00:00<00:00, 19.40 Samples/s] \n"
     ]
    },
    {
     "name": "stdout",
     "output_type": "stream",
     "text": [
      "Initialised with 1032 image(s) found.\n",
      "Output directory set to C:\\Users\\Pooja\\Documents\\Stone\\stone\\Augmentation/."
     ]
    },
    {
     "name": "stderr",
     "output_type": "stream",
     "text": [
      "Processing <PIL.Image.Image image mode=RGB size=1236x1001 at 0x2923F8B5910>: 100%|██████████| 10/10 [00:00<00:00, 15.54 Samples/s]\n"
     ]
    },
    {
     "name": "stdout",
     "output_type": "stream",
     "text": [
      "Initialised with 1032 image(s) found.\n",
      "Output directory set to C:\\Users\\Pooja\\Documents\\Stone\\stone\\Augmentation/."
     ]
    },
    {
     "name": "stderr",
     "output_type": "stream",
     "text": [
      "Processing <PIL.Image.Image image mode=RGB size=512x512 at 0x2923F8C9AF0>: 100%|██████████| 10/10 [00:00<00:00, 12.11 Samples/s]\n"
     ]
    },
    {
     "name": "stdout",
     "output_type": "stream",
     "text": [
      "Initialised with 1032 image(s) found.\n",
      "Output directory set to C:\\Users\\Pooja\\Documents\\Stone\\stone\\Augmentation/."
     ]
    },
    {
     "name": "stderr",
     "output_type": "stream",
     "text": [
      "Processing <PIL.Image.Image image mode=RGB size=512x512 at 0x2923F8ADE50>: 100%|██████████| 10/10 [00:01<00:00,  9.70 Samples/s]\n"
     ]
    },
    {
     "name": "stdout",
     "output_type": "stream",
     "text": [
      "Initialised with 1032 image(s) found.\n",
      "Output directory set to C:\\Users\\Pooja\\Documents\\Stone\\stone\\Augmentation/."
     ]
    },
    {
     "name": "stderr",
     "output_type": "stream",
     "text": [
      "Processing <PIL.Image.Image image mode=RGB size=855x691 at 0x2923F490AF0>: 100%|██████████| 10/10 [00:00<00:00, 10.04 Samples/s] \n"
     ]
    },
    {
     "name": "stdout",
     "output_type": "stream",
     "text": [
      "Initialised with 1032 image(s) found.\n",
      "Output directory set to C:\\Users\\Pooja\\Documents\\Stone\\stone\\Augmentation/."
     ]
    },
    {
     "name": "stderr",
     "output_type": "stream",
     "text": [
      "Processing <PIL.Image.Image image mode=RGB size=512x512 at 0x2923F91F580>: 100%|██████████| 10/10 [00:00<00:00, 29.09 Samples/s]\n"
     ]
    },
    {
     "name": "stdout",
     "output_type": "stream",
     "text": [
      "Initialised with 1032 image(s) found.\n",
      "Output directory set to C:\\Users\\Pooja\\Documents\\Stone\\stone\\Augmentation/."
     ]
    },
    {
     "name": "stderr",
     "output_type": "stream",
     "text": [
      "Processing <PIL.Image.Image image mode=RGB size=1236x1001 at 0x2923F782FA0>: 100%|██████████| 10/10 [00:10<00:00,  1.03s/ Samples]\n"
     ]
    },
    {
     "name": "stdout",
     "output_type": "stream",
     "text": [
      "Initialised with 1032 image(s) found.\n",
      "Output directory set to C:\\Users\\Pooja\\Documents\\Stone\\stone\\Augmentation/."
     ]
    },
    {
     "name": "stderr",
     "output_type": "stream",
     "text": [
      "Processing <PIL.Image.Image image mode=RGB size=512x512 at 0x2923F899730>: 100%|██████████| 10/10 [00:01<00:00,  5.38 Samples/s] \n"
     ]
    },
    {
     "name": "stdout",
     "output_type": "stream",
     "text": [
      "Initialised with 1032 image(s) found.\n",
      "Output directory set to C:\\Users\\Pooja\\Documents\\Stone\\stone\\Augmentation/."
     ]
    },
    {
     "name": "stderr",
     "output_type": "stream",
     "text": [
      "Processing <PIL.Image.Image image mode=RGB size=1236x1001 at 0x29235589BE0>: 100%|██████████| 10/10 [00:01<00:00,  6.96 Samples/s]\n"
     ]
    },
    {
     "name": "stdout",
     "output_type": "stream",
     "text": [
      "Initialised with 1032 image(s) found.\n",
      "Output directory set to C:\\Users\\Pooja\\Documents\\Stone\\stone\\Augmentation/."
     ]
    },
    {
     "name": "stderr",
     "output_type": "stream",
     "text": [
      "Processing <PIL.Image.Image image mode=RGB size=1203x974 at 0x2923F8C6D90>: 100%|██████████| 10/10 [00:00<00:00, 10.02 Samples/s]\n"
     ]
    },
    {
     "name": "stdout",
     "output_type": "stream",
     "text": [
      "Initialised with 1032 image(s) found.\n",
      "Output directory set to C:\\Users\\Pooja\\Documents\\Stone\\stone\\Augmentation/."
     ]
    },
    {
     "name": "stderr",
     "output_type": "stream",
     "text": [
      "Processing <PIL.Image.Image image mode=RGB size=1118x905 at 0x2923F490BB0>: 100%|██████████| 10/10 [00:00<00:00, 10.32 Samples/s]\n"
     ]
    },
    {
     "name": "stdout",
     "output_type": "stream",
     "text": [
      "Initialised with 1032 image(s) found.\n",
      "Output directory set to C:\\Users\\Pooja\\Documents\\Stone\\stone\\Augmentation/."
     ]
    },
    {
     "name": "stderr",
     "output_type": "stream",
     "text": [
      "Processing <PIL.Image.Image image mode=RGB size=687x555 at 0x2923F899760>: 100%|██████████| 10/10 [00:01<00:00,  9.70 Samples/s]\n"
     ]
    },
    {
     "name": "stdout",
     "output_type": "stream",
     "text": [
      "Initialised with 1032 image(s) found.\n",
      "Output directory set to C:\\Users\\Pooja\\Documents\\Stone\\stone\\Augmentation/."
     ]
    },
    {
     "name": "stderr",
     "output_type": "stream",
     "text": [
      "Processing <PIL.Image.Image image mode=RGB size=512x512 at 0x2923F490D60>: 100%|██████████| 10/10 [00:01<00:00,  7.03 Samples/s] \n"
     ]
    },
    {
     "name": "stdout",
     "output_type": "stream",
     "text": [
      "Initialised with 1032 image(s) found.\n",
      "Output directory set to C:\\Users\\Pooja\\Documents\\Stone\\stone\\Augmentation/."
     ]
    },
    {
     "name": "stderr",
     "output_type": "stream",
     "text": [
      "Processing <PIL.Image.Image image mode=RGB size=512x512 at 0x2923F899A90>: 100%|██████████| 10/10 [00:00<00:00, 22.07 Samples/s]\n"
     ]
    },
    {
     "name": "stdout",
     "output_type": "stream",
     "text": [
      "Initialised with 1032 image(s) found.\n",
      "Output directory set to C:\\Users\\Pooja\\Documents\\Stone\\stone\\Augmentation/."
     ]
    },
    {
     "name": "stderr",
     "output_type": "stream",
     "text": [
      "Processing <PIL.Image.Image image mode=RGB size=1118x905 at 0x29235589DF0>: 100%|██████████| 10/10 [00:00<00:00, 10.72 Samples/s]\n"
     ]
    },
    {
     "name": "stdout",
     "output_type": "stream",
     "text": [
      "Initialised with 1032 image(s) found.\n",
      "Output directory set to C:\\Users\\Pooja\\Documents\\Stone\\stone\\Augmentation/."
     ]
    },
    {
     "name": "stderr",
     "output_type": "stream",
     "text": [
      "Processing <PIL.Image.Image image mode=RGB size=749x605 at 0x2923F8C6430>: 100%|██████████| 10/10 [00:00<00:00, 18.78 Samples/s]\n"
     ]
    },
    {
     "name": "stdout",
     "output_type": "stream",
     "text": [
      "Initialised with 1032 image(s) found.\n",
      "Output directory set to C:\\Users\\Pooja\\Documents\\Stone\\stone\\Augmentation/."
     ]
    },
    {
     "name": "stderr",
     "output_type": "stream",
     "text": [
      "Processing <PIL.Image.Image image mode=RGB size=512x512 at 0x2923F782F70>: 100%|██████████| 10/10 [00:00<00:00, 19.57 Samples/s]\n"
     ]
    },
    {
     "name": "stdout",
     "output_type": "stream",
     "text": [
      "Initialised with 1032 image(s) found.\n",
      "Output directory set to C:\\Users\\Pooja\\Documents\\Stone\\stone\\Augmentation/."
     ]
    },
    {
     "name": "stderr",
     "output_type": "stream",
     "text": [
      "Processing <PIL.Image.Image image mode=RGB size=512x512 at 0x2923F8C6DC0>: 100%|██████████| 10/10 [00:00<00:00, 13.95 Samples/s] \n"
     ]
    },
    {
     "name": "stdout",
     "output_type": "stream",
     "text": [
      "Initialised with 1032 image(s) found.\n",
      "Output directory set to C:\\Users\\Pooja\\Documents\\Stone\\stone\\Augmentation/."
     ]
    },
    {
     "name": "stderr",
     "output_type": "stream",
     "text": [
      "Processing <PIL.Image.Image image mode=RGB size=512x512 at 0x2923F782B50>: 100%|██████████| 10/10 [00:00<00:00, 25.52 Samples/s]\n"
     ]
    },
    {
     "name": "stdout",
     "output_type": "stream",
     "text": [
      "Initialised with 1032 image(s) found.\n",
      "Output directory set to C:\\Users\\Pooja\\Documents\\Stone\\stone\\Augmentation/."
     ]
    },
    {
     "name": "stderr",
     "output_type": "stream",
     "text": [
      "Processing <PIL.Image.Image image mode=RGB size=904x732 at 0x2923F8ADFD0>: 100%|██████████| 10/10 [00:00<00:00, 17.36 Samples/s] \n"
     ]
    },
    {
     "name": "stdout",
     "output_type": "stream",
     "text": [
      "Initialised with 1032 image(s) found.\n",
      "Output directory set to C:\\Users\\Pooja\\Documents\\Stone\\stone\\Augmentation/."
     ]
    },
    {
     "name": "stderr",
     "output_type": "stream",
     "text": [
      "Processing <PIL.Image.Image image mode=RGB size=512x512 at 0x292407E0A00>: 100%|██████████| 10/10 [00:00<00:00, 14.40 Samples/s]\n"
     ]
    },
    {
     "name": "stdout",
     "output_type": "stream",
     "text": [
      "Initialised with 1032 image(s) found.\n",
      "Output directory set to C:\\Users\\Pooja\\Documents\\Stone\\stone\\Augmentation/."
     ]
    },
    {
     "name": "stderr",
     "output_type": "stream",
     "text": [
      "Processing <PIL.Image.Image image mode=RGB size=512x512 at 0x2923F91FBE0>: 100%|██████████| 10/10 [00:00<00:00, 13.31 Samples/s] \n"
     ]
    },
    {
     "name": "stdout",
     "output_type": "stream",
     "text": [
      "Initialised with 1032 image(s) found.\n",
      "Output directory set to C:\\Users\\Pooja\\Documents\\Stone\\stone\\Augmentation/."
     ]
    },
    {
     "name": "stderr",
     "output_type": "stream",
     "text": [
      "Processing <PIL.Image.Image image mode=RGB size=1236x1001 at 0x29235589BE0>: 100%|██████████| 10/10 [00:00<00:00, 19.17 Samples/s]\n"
     ]
    },
    {
     "name": "stdout",
     "output_type": "stream",
     "text": [
      "Initialised with 1032 image(s) found.\n",
      "Output directory set to C:\\Users\\Pooja\\Documents\\Stone\\stone\\Augmentation/."
     ]
    },
    {
     "name": "stderr",
     "output_type": "stream",
     "text": [
      "Processing <PIL.Image.Image image mode=RGB size=1236x1001 at 0x2923F8ADDC0>: 100%|██████████| 10/10 [00:00<00:00, 15.15 Samples/s]\n"
     ]
    },
    {
     "name": "stdout",
     "output_type": "stream",
     "text": [
      "Initialised with 1032 image(s) found.\n",
      "Output directory set to C:\\Users\\Pooja\\Documents\\Stone\\stone\\Augmentation/."
     ]
    },
    {
     "name": "stderr",
     "output_type": "stream",
     "text": [
      "Processing <PIL.Image.Image image mode=RGB size=512x512 at 0x2923F858BB0>: 100%|██████████| 10/10 [00:00<00:00, 23.14 Samples/s]\n"
     ]
    },
    {
     "name": "stdout",
     "output_type": "stream",
     "text": [
      "Initialised with 1032 image(s) found.\n",
      "Output directory set to C:\\Users\\Pooja\\Documents\\Stone\\stone\\Augmentation/."
     ]
    },
    {
     "name": "stderr",
     "output_type": "stream",
     "text": [
      "Processing <PIL.Image.Image image mode=RGB size=861x696 at 0x2923F899F40>: 100%|██████████| 10/10 [00:00<00:00, 18.90 Samples/s]                 \n"
     ]
    },
    {
     "name": "stdout",
     "output_type": "stream",
     "text": [
      "Initialised with 1032 image(s) found.\n",
      "Output directory set to C:\\Users\\Pooja\\Documents\\Stone\\stone\\Augmentation/."
     ]
    },
    {
     "name": "stderr",
     "output_type": "stream",
     "text": [
      "Processing <PIL.Image.Image image mode=RGB size=1236x1001 at 0x2923F87F4C0>: 100%|██████████| 10/10 [00:00<00:00, 21.41 Samples/s]\n"
     ]
    },
    {
     "name": "stdout",
     "output_type": "stream",
     "text": [
      "Initialised with 1032 image(s) found.\n",
      "Output directory set to C:\\Users\\Pooja\\Documents\\Stone\\stone\\Augmentation/."
     ]
    },
    {
     "name": "stderr",
     "output_type": "stream",
     "text": [
      "Processing <PIL.Image.Image image mode=RGB size=512x512 at 0x2923F8B5F40>: 100%|██████████| 10/10 [00:00<00:00, 15.67 Samples/s]\n"
     ]
    },
    {
     "name": "stdout",
     "output_type": "stream",
     "text": [
      "Initialised with 1032 image(s) found.\n",
      "Output directory set to C:\\Users\\Pooja\\Documents\\Stone\\stone\\Augmentation/."
     ]
    },
    {
     "name": "stderr",
     "output_type": "stream",
     "text": [
      "Processing <PIL.Image.Image image mode=RGB size=512x512 at 0x2923F899310>: 100%|██████████| 10/10 [00:00<00:00, 32.19 Samples/s]\n"
     ]
    },
    {
     "name": "stdout",
     "output_type": "stream",
     "text": [
      "Initialised with 1032 image(s) found.\n",
      "Output directory set to C:\\Users\\Pooja\\Documents\\Stone\\stone\\Augmentation/."
     ]
    },
    {
     "name": "stderr",
     "output_type": "stream",
     "text": [
      "Processing <PIL.Image.Image image mode=RGB size=512x512 at 0x2923F8B5970>: 100%|██████████| 10/10 [00:00<00:00, 29.99 Samples/s] \n"
     ]
    },
    {
     "name": "stdout",
     "output_type": "stream",
     "text": [
      "Initialised with 1032 image(s) found.\n",
      "Output directory set to C:\\Users\\Pooja\\Documents\\Stone\\stone\\Augmentation/."
     ]
    },
    {
     "name": "stderr",
     "output_type": "stream",
     "text": [
      "Processing <PIL.Image.Image image mode=RGB size=512x512 at 0x2923F778D90>: 100%|██████████| 10/10 [00:00<00:00, 31.89 Samples/s]\n"
     ]
    },
    {
     "name": "stdout",
     "output_type": "stream",
     "text": [
      "Initialised with 1032 image(s) found.\n",
      "Output directory set to C:\\Users\\Pooja\\Documents\\Stone\\stone\\Augmentation/."
     ]
    },
    {
     "name": "stderr",
     "output_type": "stream",
     "text": [
      "Processing <PIL.Image.Image image mode=RGB size=512x512 at 0x2923F91F7C0>: 100%|██████████| 10/10 [00:00<00:00, 30.74 Samples/s]\n"
     ]
    },
    {
     "name": "stdout",
     "output_type": "stream",
     "text": [
      "Initialised with 1032 image(s) found.\n",
      "Output directory set to C:\\Users\\Pooja\\Documents\\Stone\\stone\\Augmentation/."
     ]
    },
    {
     "name": "stderr",
     "output_type": "stream",
     "text": [
      "Processing <PIL.Image.Image image mode=RGB size=512x512 at 0x2923F87F0A0>: 100%|██████████| 10/10 [00:00<00:00, 27.35 Samples/s]\n"
     ]
    },
    {
     "name": "stdout",
     "output_type": "stream",
     "text": [
      "Initialised with 1032 image(s) found.\n",
      "Output directory set to C:\\Users\\Pooja\\Documents\\Stone\\stone\\Augmentation/."
     ]
    },
    {
     "name": "stderr",
     "output_type": "stream",
     "text": [
      "Processing <PIL.Image.Image image mode=RGB size=838x679 at 0x2923F8F1730>: 100%|██████████| 10/10 [00:00<00:00, 16.52 Samples/s]\n"
     ]
    },
    {
     "name": "stdout",
     "output_type": "stream",
     "text": [
      "Initialised with 1032 image(s) found.\n",
      "Output directory set to C:\\Users\\Pooja\\Documents\\Stone\\stone\\Augmentation/."
     ]
    },
    {
     "name": "stderr",
     "output_type": "stream",
     "text": [
      "Processing <PIL.Image.Image image mode=RGB size=512x512 at 0x2923F858A60>: 100%|██████████| 10/10 [00:00<00:00, 17.58 Samples/s]\n"
     ]
    },
    {
     "name": "stdout",
     "output_type": "stream",
     "text": [
      "Initialised with 1032 image(s) found.\n",
      "Output directory set to C:\\Users\\Pooja\\Documents\\Stone\\stone\\Augmentation/."
     ]
    },
    {
     "name": "stderr",
     "output_type": "stream",
     "text": [
      "Processing <PIL.Image.Image image mode=RGB size=512x512 at 0x2923F91F460>: 100%|██████████| 10/10 [00:00<00:00, 16.29 Samples/s] \n"
     ]
    },
    {
     "name": "stdout",
     "output_type": "stream",
     "text": [
      "Initialised with 1032 image(s) found.\n",
      "Output directory set to C:\\Users\\Pooja\\Documents\\Stone\\stone\\Augmentation/."
     ]
    },
    {
     "name": "stderr",
     "output_type": "stream",
     "text": [
      "Processing <PIL.Image.Image image mode=RGB size=512x512 at 0x2923F87F9D0>: 100%|██████████| 10/10 [00:00<00:00, 18.21 Samples/s] \n"
     ]
    },
    {
     "name": "stdout",
     "output_type": "stream",
     "text": [
      "Initialised with 1032 image(s) found.\n",
      "Output directory set to C:\\Users\\Pooja\\Documents\\Stone\\stone\\Augmentation/."
     ]
    },
    {
     "name": "stderr",
     "output_type": "stream",
     "text": [
      "Processing <PIL.Image.Image image mode=RGB size=512x512 at 0x2923F8996A0>: 100%|██████████| 10/10 [00:00<00:00, 25.88 Samples/s]\n"
     ]
    },
    {
     "name": "stdout",
     "output_type": "stream",
     "text": [
      "Initialised with 1032 image(s) found.\n",
      "Output directory set to C:\\Users\\Pooja\\Documents\\Stone\\stone\\Augmentation/."
     ]
    },
    {
     "name": "stderr",
     "output_type": "stream",
     "text": [
      "Processing <PIL.Image.Image image mode=RGB size=512x512 at 0x2923F8C66D0>: 100%|██████████| 10/10 [00:00<00:00, 18.00 Samples/s]\n"
     ]
    },
    {
     "name": "stdout",
     "output_type": "stream",
     "text": [
      "Initialised with 1032 image(s) found.\n",
      "Output directory set to C:\\Users\\Pooja\\Documents\\Stone\\stone\\Augmentation/."
     ]
    },
    {
     "name": "stderr",
     "output_type": "stream",
     "text": [
      "Processing <PIL.Image.Image image mode=RGB size=749x605 at 0x2923F91F070>: 100%|██████████| 10/10 [00:00<00:00, 14.65 Samples/s] \n"
     ]
    },
    {
     "name": "stdout",
     "output_type": "stream",
     "text": [
      "Initialised with 1032 image(s) found.\n",
      "Output directory set to C:\\Users\\Pooja\\Documents\\Stone\\stone\\Augmentation/."
     ]
    },
    {
     "name": "stderr",
     "output_type": "stream",
     "text": [
      "Processing <PIL.Image.Image image mode=RGB size=888x719 at 0x2923F858100>: 100%|██████████| 10/10 [00:00<00:00, 26.04 Samples/s]\n"
     ]
    },
    {
     "name": "stdout",
     "output_type": "stream",
     "text": [
      "Initialised with 1032 image(s) found.\n",
      "Output directory set to C:\\Users\\Pooja\\Documents\\Stone\\stone\\Augmentation/."
     ]
    },
    {
     "name": "stderr",
     "output_type": "stream",
     "text": [
      "Processing <PIL.Image.Image image mode=RGB size=1203x974 at 0x2923F8C6A60>: 100%|██████████| 10/10 [00:00<00:00, 17.18 Samples/s]\n"
     ]
    },
    {
     "name": "stdout",
     "output_type": "stream",
     "text": [
      "Initialised with 1032 image(s) found.\n",
      "Output directory set to C:\\Users\\Pooja\\Documents\\Stone\\stone\\Augmentation/."
     ]
    },
    {
     "name": "stderr",
     "output_type": "stream",
     "text": [
      "Processing <PIL.Image.Image image mode=RGB size=745x602 at 0x2923F8C6490>: 100%|██████████| 10/10 [00:07<00:00,  1.36 Samples/s] \n"
     ]
    },
    {
     "name": "stdout",
     "output_type": "stream",
     "text": [
      "Initialised with 1032 image(s) found.\n",
      "Output directory set to C:\\Users\\Pooja\\Documents\\Stone\\stone\\Augmentation/."
     ]
    },
    {
     "name": "stderr",
     "output_type": "stream",
     "text": [
      "Processing <PIL.Image.Image image mode=RGB size=787x636 at 0x2923F2EA3A0>: 100%|██████████| 10/10 [00:00<00:00, 16.71 Samples/s]\n"
     ]
    },
    {
     "name": "stdout",
     "output_type": "stream",
     "text": [
      "Initialised with 1032 image(s) found.\n",
      "Output directory set to C:\\Users\\Pooja\\Documents\\Stone\\stone\\Augmentation/."
     ]
    },
    {
     "name": "stderr",
     "output_type": "stream",
     "text": [
      "Processing <PIL.Image.Image image mode=RGB size=512x512 at 0x2923F8C6C10>: 100%|██████████| 10/10 [00:00<00:00, 20.28 Samples/s]\n"
     ]
    },
    {
     "name": "stdout",
     "output_type": "stream",
     "text": [
      "Initialised with 1032 image(s) found.\n",
      "Output directory set to C:\\Users\\Pooja\\Documents\\Stone\\stone\\Augmentation/."
     ]
    },
    {
     "name": "stderr",
     "output_type": "stream",
     "text": [
      "Processing <PIL.Image.Image image mode=RGB size=1203x974 at 0x2923F8C6D90>: 100%|██████████| 10/10 [00:00<00:00, 15.69 Samples/s]\n"
     ]
    },
    {
     "name": "stdout",
     "output_type": "stream",
     "text": [
      "Initialised with 1032 image(s) found.\n",
      "Output directory set to C:\\Users\\Pooja\\Documents\\Stone\\stone\\Augmentation/."
     ]
    },
    {
     "name": "stderr",
     "output_type": "stream",
     "text": [
      "Processing <PIL.Image.Image image mode=RGB size=512x512 at 0x2923F8589D0>: 100%|██████████| 10/10 [00:00<00:00, 14.65 Samples/s]\n"
     ]
    },
    {
     "name": "stdout",
     "output_type": "stream",
     "text": [
      "Initialised with 1032 image(s) found.\n",
      "Output directory set to C:\\Users\\Pooja\\Documents\\Stone\\stone\\Augmentation/."
     ]
    },
    {
     "name": "stderr",
     "output_type": "stream",
     "text": [
      "Processing <PIL.Image.Image image mode=RGB size=512x512 at 0x2923F2EA880>: 100%|██████████| 10/10 [00:00<00:00, 16.35 Samples/s] \n"
     ]
    },
    {
     "name": "stdout",
     "output_type": "stream",
     "text": [
      "Initialised with 1032 image(s) found.\n",
      "Output directory set to C:\\Users\\Pooja\\Documents\\Stone\\stone\\Augmentation/."
     ]
    },
    {
     "name": "stderr",
     "output_type": "stream",
     "text": [
      "Processing <PIL.Image.Image image mode=RGB size=713x576 at 0x2923F899610>: 100%|██████████| 10/10 [00:00<00:00, 15.00 Samples/s] \n"
     ]
    },
    {
     "name": "stdout",
     "output_type": "stream",
     "text": [
      "Initialised with 1032 image(s) found.\n",
      "Output directory set to C:\\Users\\Pooja\\Documents\\Stone\\stone\\Augmentation/."
     ]
    },
    {
     "name": "stderr",
     "output_type": "stream",
     "text": [
      "Processing <PIL.Image.Image image mode=RGB size=512x512 at 0x2923F91FB80>: 100%|██████████| 10/10 [00:00<00:00, 22.18 Samples/s] \n"
     ]
    },
    {
     "name": "stdout",
     "output_type": "stream",
     "text": [
      "Initialised with 1032 image(s) found.\n",
      "Output directory set to C:\\Users\\Pooja\\Documents\\Stone\\stone\\Augmentation/."
     ]
    },
    {
     "name": "stderr",
     "output_type": "stream",
     "text": [
      "Processing <PIL.Image.Image image mode=RGB size=512x512 at 0x2923F8C6340>: 100%|██████████| 10/10 [00:00<00:00, 23.60 Samples/s]\n"
     ]
    },
    {
     "name": "stdout",
     "output_type": "stream",
     "text": [
      "Initialised with 1032 image(s) found.\n",
      "Output directory set to C:\\Users\\Pooja\\Documents\\Stone\\stone\\Augmentation/."
     ]
    },
    {
     "name": "stderr",
     "output_type": "stream",
     "text": [
      "Processing <PIL.Image.Image image mode=RGB size=512x512 at 0x2923F2EAE20>: 100%|██████████| 10/10 [00:00<00:00, 13.25 Samples/s] \n"
     ]
    },
    {
     "name": "stdout",
     "output_type": "stream",
     "text": [
      "Initialised with 1032 image(s) found.\n",
      "Output directory set to C:\\Users\\Pooja\\Documents\\Stone\\stone\\Augmentation/."
     ]
    },
    {
     "name": "stderr",
     "output_type": "stream",
     "text": [
      "Processing <PIL.Image.Image image mode=RGB size=1236x1001 at 0x2923F83DF70>: 100%|██████████| 10/10 [00:00<00:00, 13.22 Samples/s]\n"
     ]
    },
    {
     "name": "stdout",
     "output_type": "stream",
     "text": [
      "Initialised with 1032 image(s) found.\n",
      "Output directory set to C:\\Users\\Pooja\\Documents\\Stone\\stone\\Augmentation/."
     ]
    },
    {
     "name": "stderr",
     "output_type": "stream",
     "text": [
      "Processing <PIL.Image.Image image mode=RGB size=804x651 at 0x2923F899550>: 100%|██████████| 10/10 [00:00<00:00, 19.64 Samples/s]\n"
     ]
    },
    {
     "name": "stdout",
     "output_type": "stream",
     "text": [
      "Initialised with 1032 image(s) found.\n",
      "Output directory set to C:\\Users\\Pooja\\Documents\\Stone\\stone\\Augmentation/."
     ]
    },
    {
     "name": "stderr",
     "output_type": "stream",
     "text": [
      "Processing <PIL.Image.Image image mode=RGB size=749x605 at 0x2923F899790>: 100%|██████████| 10/10 [00:00<00:00, 15.08 Samples/s] \n"
     ]
    },
    {
     "name": "stdout",
     "output_type": "stream",
     "text": [
      "Initialised with 1032 image(s) found.\n",
      "Output directory set to C:\\Users\\Pooja\\Documents\\Stone\\stone\\Augmentation/."
     ]
    },
    {
     "name": "stderr",
     "output_type": "stream",
     "text": [
      "Processing <PIL.Image.Image image mode=RGB size=512x512 at 0x2923F87FF40>: 100%|██████████| 10/10 [00:00<00:00, 13.65 Samples/s]\n"
     ]
    },
    {
     "name": "stdout",
     "output_type": "stream",
     "text": [
      "Initialised with 1032 image(s) found.\n",
      "Output directory set to C:\\Users\\Pooja\\Documents\\Stone\\stone\\Augmentation/."
     ]
    },
    {
     "name": "stderr",
     "output_type": "stream",
     "text": [
      "Processing <PIL.Image.Image image mode=RGB size=512x512 at 0x2923F87F0A0>: 100%|██████████| 10/10 [00:00<00:00, 14.83 Samples/s]\n"
     ]
    },
    {
     "name": "stdout",
     "output_type": "stream",
     "text": [
      "Initialised with 1032 image(s) found.\n",
      "Output directory set to C:\\Users\\Pooja\\Documents\\Stone\\stone\\Augmentation/."
     ]
    },
    {
     "name": "stderr",
     "output_type": "stream",
     "text": [
      "Processing <PIL.Image.Image image mode=RGB size=888x719 at 0x2923F2EAD90>: 100%|██████████| 10/10 [00:00<00:00, 14.90 Samples/s] \n"
     ]
    },
    {
     "name": "stdout",
     "output_type": "stream",
     "text": [
      "Initialised with 1032 image(s) found.\n",
      "Output directory set to C:\\Users\\Pooja\\Documents\\Stone\\stone\\Augmentation/."
     ]
    },
    {
     "name": "stderr",
     "output_type": "stream",
     "text": [
      "Processing <PIL.Image.Image image mode=RGB size=888x719 at 0x292407E0970>: 100%|██████████| 10/10 [00:00<00:00, 12.59 Samples/s] \n"
     ]
    },
    {
     "name": "stdout",
     "output_type": "stream",
     "text": [
      "Initialised with 1032 image(s) found.\n",
      "Output directory set to C:\\Users\\Pooja\\Documents\\Stone\\stone\\Augmentation/."
     ]
    },
    {
     "name": "stderr",
     "output_type": "stream",
     "text": [
      "Processing <PIL.Image.Image image mode=RGB size=512x512 at 0x2923F782A90>: 100%|██████████| 10/10 [00:00<00:00, 16.77 Samples/s]\n"
     ]
    },
    {
     "name": "stdout",
     "output_type": "stream",
     "text": [
      "Initialised with 1032 image(s) found.\n",
      "Output directory set to C:\\Users\\Pooja\\Documents\\Stone\\stone\\Augmentation/."
     ]
    },
    {
     "name": "stderr",
     "output_type": "stream",
     "text": [
      "Processing <PIL.Image.Image image mode=RGB size=888x719 at 0x2923F8992B0>: 100%|██████████| 10/10 [00:00<00:00, 17.90 Samples/s]\n"
     ]
    },
    {
     "name": "stdout",
     "output_type": "stream",
     "text": [
      "Initialised with 1032 image(s) found.\n",
      "Output directory set to C:\\Users\\Pooja\\Documents\\Stone\\stone\\Augmentation/."
     ]
    },
    {
     "name": "stderr",
     "output_type": "stream",
     "text": [
      "Processing <PIL.Image.Image image mode=RGB size=512x512 at 0x2923F79D6D0>: 100%|██████████| 10/10 [00:00<00:00, 10.97 Samples/s] \n"
     ]
    },
    {
     "name": "stdout",
     "output_type": "stream",
     "text": [
      "Initialised with 1032 image(s) found.\n",
      "Output directory set to C:\\Users\\Pooja\\Documents\\Stone\\stone\\Augmentation/."
     ]
    },
    {
     "name": "stderr",
     "output_type": "stream",
     "text": [
      "Processing <PIL.Image.Image image mode=RGB size=787x636 at 0x2923F872160>: 100%|██████████| 10/10 [00:00<00:00, 19.33 Samples/s]\n"
     ]
    },
    {
     "name": "stdout",
     "output_type": "stream",
     "text": [
      "Initialised with 1032 image(s) found.\n",
      "Output directory set to C:\\Users\\Pooja\\Documents\\Stone\\stone\\Augmentation/."
     ]
    },
    {
     "name": "stderr",
     "output_type": "stream",
     "text": [
      "Processing <PIL.Image.Image image mode=RGB size=1236x1001 at 0x2923F79D250>: 100%|██████████| 10/10 [00:00<00:00, 14.15 Samples/s]\n"
     ]
    },
    {
     "name": "stdout",
     "output_type": "stream",
     "text": [
      "Initialised with 1032 image(s) found.\n",
      "Output directory set to C:\\Users\\Pooja\\Documents\\Stone\\stone\\Augmentation/."
     ]
    },
    {
     "name": "stderr",
     "output_type": "stream",
     "text": [
      "Processing <PIL.Image.Image image mode=RGB size=512x512 at 0x2923F858A90>: 100%|██████████| 10/10 [00:00<00:00, 10.98 Samples/s]\n"
     ]
    },
    {
     "name": "stdout",
     "output_type": "stream",
     "text": [
      "Initialised with 1032 image(s) found.\n",
      "Output directory set to C:\\Users\\Pooja\\Documents\\Stone\\stone\\Augmentation/."
     ]
    },
    {
     "name": "stderr",
     "output_type": "stream",
     "text": [
      "Processing <PIL.Image.Image image mode=RGB size=512x512 at 0x2923F79D670>: 100%|██████████| 10/10 [00:00<00:00, 21.47 Samples/s]\n"
     ]
    },
    {
     "name": "stdout",
     "output_type": "stream",
     "text": [
      "Initialised with 1032 image(s) found.\n",
      "Output directory set to C:\\Users\\Pooja\\Documents\\Stone\\stone\\Augmentation/."
     ]
    },
    {
     "name": "stderr",
     "output_type": "stream",
     "text": [
      "Processing <PIL.Image.Image image mode=RGB size=512x512 at 0x2923F8585E0>: 100%|██████████| 10/10 [00:00<00:00, 20.15 Samples/s] \n"
     ]
    },
    {
     "name": "stdout",
     "output_type": "stream",
     "text": [
      "Initialised with 1032 image(s) found.\n",
      "Output directory set to C:\\Users\\Pooja\\Documents\\Stone\\stone\\Augmentation/."
     ]
    },
    {
     "name": "stderr",
     "output_type": "stream",
     "text": [
      "Processing <PIL.Image.Image image mode=RGB size=512x512 at 0x2923F2EA5E0>: 100%|██████████| 10/10 [00:00<00:00, 29.51 Samples/s]\n"
     ]
    },
    {
     "name": "stdout",
     "output_type": "stream",
     "text": [
      "Initialised with 1032 image(s) found.\n",
      "Output directory set to C:\\Users\\Pooja\\Documents\\Stone\\stone\\Augmentation/."
     ]
    },
    {
     "name": "stderr",
     "output_type": "stream",
     "text": [
      "Processing <PIL.Image.Image image mode=RGB size=1236x1001 at 0x2923F872190>: 100%|██████████| 10/10 [00:00<00:00, 15.78 Samples/s]\n"
     ]
    },
    {
     "name": "stdout",
     "output_type": "stream",
     "text": [
      "Initialised with 1032 image(s) found.\n",
      "Output directory set to C:\\Users\\Pooja\\Documents\\Stone\\stone\\Augmentation/."
     ]
    },
    {
     "name": "stderr",
     "output_type": "stream",
     "text": [
      "Processing <PIL.Image.Image image mode=RGB size=1236x1001 at 0x2923F79D670>: 100%|██████████| 10/10 [00:00<00:00, 15.95 Samples/s]\n"
     ]
    },
    {
     "name": "stdout",
     "output_type": "stream",
     "text": [
      "Initialised with 1032 image(s) found.\n",
      "Output directory set to C:\\Users\\Pooja\\Documents\\Stone\\stone\\Augmentation/."
     ]
    },
    {
     "name": "stderr",
     "output_type": "stream",
     "text": [
      "Processing <PIL.Image.Image image mode=RGB size=512x512 at 0x292407E0D90>: 100%|██████████| 10/10 [00:00<00:00, 16.42 Samples/s] \n"
     ]
    },
    {
     "name": "stdout",
     "output_type": "stream",
     "text": [
      "Initialised with 1032 image(s) found.\n",
      "Output directory set to C:\\Users\\Pooja\\Documents\\Stone\\stone\\Augmentation/."
     ]
    },
    {
     "name": "stderr",
     "output_type": "stream",
     "text": [
      "Processing <PIL.Image.Image image mode=RGB size=1118x905 at 0x292407E02E0>: 100%|██████████| 10/10 [00:00<00:00, 17.18 Samples/s]\n"
     ]
    },
    {
     "name": "stdout",
     "output_type": "stream",
     "text": [
      "Initialised with 1032 image(s) found.\n",
      "Output directory set to C:\\Users\\Pooja\\Documents\\Stone\\stone\\Augmentation/."
     ]
    },
    {
     "name": "stderr",
     "output_type": "stream",
     "text": [
      "Processing <PIL.Image.Image image mode=RGB size=1236x1001 at 0x2923F899A60>: 100%|██████████| 10/10 [00:00<00:00, 23.42 Samples/s]\n"
     ]
    },
    {
     "name": "stdout",
     "output_type": "stream",
     "text": [
      "Initialised with 1032 image(s) found.\n",
      "Output directory set to C:\\Users\\Pooja\\Documents\\Stone\\stone\\Augmentation/."
     ]
    },
    {
     "name": "stderr",
     "output_type": "stream",
     "text": [
      "Processing <PIL.Image.Image image mode=RGB size=804x651 at 0x2923F79D460>: 100%|██████████| 10/10 [00:00<00:00, 13.49 Samples/s]\n"
     ]
    },
    {
     "name": "stdout",
     "output_type": "stream",
     "text": [
      "Initialised with 1032 image(s) found.\n",
      "Output directory set to C:\\Users\\Pooja\\Documents\\Stone\\stone\\Augmentation/."
     ]
    },
    {
     "name": "stderr",
     "output_type": "stream",
     "text": [
      "Processing <PIL.Image.Image image mode=RGB size=512x512 at 0x2923F858100>: 100%|██████████| 10/10 [00:00<00:00, 14.45 Samples/s]\n"
     ]
    },
    {
     "name": "stdout",
     "output_type": "stream",
     "text": [
      "Initialised with 1032 image(s) found.\n",
      "Output directory set to C:\\Users\\Pooja\\Documents\\Stone\\stone\\Augmentation/."
     ]
    },
    {
     "name": "stderr",
     "output_type": "stream",
     "text": [
      "Processing <PIL.Image.Image image mode=RGB size=1236x1001 at 0x2923F79D5B0>: 100%|██████████| 10/10 [00:00<00:00, 14.45 Samples/s]\n"
     ]
    },
    {
     "name": "stdout",
     "output_type": "stream",
     "text": [
      "Initialised with 1032 image(s) found.\n",
      "Output directory set to C:\\Users\\Pooja\\Documents\\Stone\\stone\\Augmentation/."
     ]
    },
    {
     "name": "stderr",
     "output_type": "stream",
     "text": [
      "Processing <PIL.Image.Image image mode=RGB size=1236x1001 at 0x292407E0C10>: 100%|██████████| 10/10 [00:00<00:00, 13.83 Samples/s]\n"
     ]
    },
    {
     "name": "stdout",
     "output_type": "stream",
     "text": [
      "Initialised with 1032 image(s) found.\n",
      "Output directory set to C:\\Users\\Pooja\\Documents\\Stone\\stone\\Augmentation/."
     ]
    },
    {
     "name": "stderr",
     "output_type": "stream",
     "text": [
      "Processing <PIL.Image.Image image mode=RGB size=512x512 at 0x292407E0E80>: 100%|██████████| 10/10 [00:00<00:00, 19.39 Samples/s]\n"
     ]
    },
    {
     "name": "stdout",
     "output_type": "stream",
     "text": [
      "Initialised with 1032 image(s) found.\n",
      "Output directory set to C:\\Users\\Pooja\\Documents\\Stone\\stone\\Augmentation/."
     ]
    },
    {
     "name": "stderr",
     "output_type": "stream",
     "text": [
      "Processing <PIL.Image.Image image mode=RGB size=687x555 at 0x2923F858280>: 100%|██████████| 10/10 [00:00<00:00, 23.86 Samples/s]                  \n"
     ]
    },
    {
     "name": "stdout",
     "output_type": "stream",
     "text": [
      "Initialised with 1032 image(s) found.\n",
      "Output directory set to C:\\Users\\Pooja\\Documents\\Stone\\stone\\Augmentation/."
     ]
    },
    {
     "name": "stderr",
     "output_type": "stream",
     "text": [
      "Processing <PIL.Image.Image image mode=RGB size=560x560 at 0x2923F2EA1F0>: 100%|██████████| 10/10 [00:00<00:00, 14.41 Samples/s] \n"
     ]
    },
    {
     "name": "stdout",
     "output_type": "stream",
     "text": [
      "Initialised with 1032 image(s) found.\n",
      "Output directory set to C:\\Users\\Pooja\\Documents\\Stone\\stone\\Augmentation/."
     ]
    },
    {
     "name": "stderr",
     "output_type": "stream",
     "text": [
      "Processing <PIL.Image.Image image mode=RGB size=512x512 at 0x2923F83DD60>: 100%|██████████| 10/10 [00:00<00:00, 20.76 Samples/s] \n"
     ]
    },
    {
     "name": "stdout",
     "output_type": "stream",
     "text": [
      "Initialised with 1032 image(s) found.\n",
      "Output directory set to C:\\Users\\Pooja\\Documents\\Stone\\stone\\Augmentation/."
     ]
    },
    {
     "name": "stderr",
     "output_type": "stream",
     "text": [
      "Processing <PIL.Image.Image image mode=RGB size=512x512 at 0x2923F2EAE80>: 100%|██████████| 10/10 [00:00<00:00, 16.48 Samples/s] \n"
     ]
    },
    {
     "name": "stdout",
     "output_type": "stream",
     "text": [
      "Initialised with 1032 image(s) found.\n",
      "Output directory set to C:\\Users\\Pooja\\Documents\\Stone\\stone\\Augmentation/."
     ]
    },
    {
     "name": "stderr",
     "output_type": "stream",
     "text": [
      "Processing <PIL.Image.Image image mode=RGB size=749x605 at 0x2923F83DD00>: 100%|██████████| 10/10 [00:01<00:00,  6.27 Samples/s] \n"
     ]
    },
    {
     "name": "stdout",
     "output_type": "stream",
     "text": [
      "Initialised with 1032 image(s) found.\n",
      "Output directory set to C:\\Users\\Pooja\\Documents\\Stone\\stone\\Augmentation/."
     ]
    },
    {
     "name": "stderr",
     "output_type": "stream",
     "text": [
      "Processing <PIL.Image.Image image mode=RGB size=512x512 at 0x2923F2EA5E0>: 100%|██████████| 10/10 [00:00<00:00, 21.27 Samples/s] \n"
     ]
    },
    {
     "name": "stdout",
     "output_type": "stream",
     "text": [
      "Initialised with 1032 image(s) found.\n",
      "Output directory set to C:\\Users\\Pooja\\Documents\\Stone\\stone\\Augmentation/."
     ]
    },
    {
     "name": "stderr",
     "output_type": "stream",
     "text": [
      "Processing <PIL.Image.Image image mode=RGB size=512x512 at 0x2923F899820>: 100%|██████████| 10/10 [00:00<00:00, 25.77 Samples/s]\n"
     ]
    },
    {
     "name": "stdout",
     "output_type": "stream",
     "text": [
      "Initialised with 1032 image(s) found.\n",
      "Output directory set to C:\\Users\\Pooja\\Documents\\Stone\\stone\\Augmentation/."
     ]
    },
    {
     "name": "stderr",
     "output_type": "stream",
     "text": [
      "Processing <PIL.Image.Image image mode=RGB size=512x512 at 0x292407E0160>: 100%|██████████| 10/10 [00:00<00:00, 35.89 Samples/s]\n"
     ]
    },
    {
     "name": "stdout",
     "output_type": "stream",
     "text": [
      "Initialised with 1032 image(s) found.\n",
      "Output directory set to C:\\Users\\Pooja\\Documents\\Stone\\stone\\Augmentation/."
     ]
    },
    {
     "name": "stderr",
     "output_type": "stream",
     "text": [
      "Processing <PIL.Image.Image image mode=RGB size=512x512 at 0x2923F858B50>: 100%|██████████| 10/10 [00:00<00:00, 12.55 Samples/s] \n"
     ]
    },
    {
     "name": "stdout",
     "output_type": "stream",
     "text": [
      "Initialised with 1032 image(s) found.\n",
      "Output directory set to C:\\Users\\Pooja\\Documents\\Stone\\stone\\Augmentation/."
     ]
    },
    {
     "name": "stderr",
     "output_type": "stream",
     "text": [
      "Processing <PIL.Image.Image image mode=RGB size=888x719 at 0x292407E08E0>: 100%|██████████| 10/10 [00:00<00:00, 10.99 Samples/s] \n"
     ]
    },
    {
     "name": "stdout",
     "output_type": "stream",
     "text": [
      "Initialised with 1032 image(s) found.\n",
      "Output directory set to C:\\Users\\Pooja\\Documents\\Stone\\stone\\Augmentation/."
     ]
    },
    {
     "name": "stderr",
     "output_type": "stream",
     "text": [
      "Processing <PIL.Image.Image image mode=RGB size=512x512 at 0x2923F490AF0>: 100%|██████████| 10/10 [00:00<00:00, 18.01 Samples/s]\n"
     ]
    },
    {
     "name": "stdout",
     "output_type": "stream",
     "text": [
      "Initialised with 1032 image(s) found.\n",
      "Output directory set to C:\\Users\\Pooja\\Documents\\Stone\\stone\\Augmentation/."
     ]
    },
    {
     "name": "stderr",
     "output_type": "stream",
     "text": [
      "Processing <PIL.Image.Image image mode=RGB size=512x512 at 0x2923F2EA280>: 100%|██████████| 10/10 [00:00<00:00, 15.91 Samples/s] \n"
     ]
    },
    {
     "name": "stdout",
     "output_type": "stream",
     "text": [
      "Initialised with 1032 image(s) found.\n",
      "Output directory set to C:\\Users\\Pooja\\Documents\\Stone\\stone\\Augmentation/."
     ]
    },
    {
     "name": "stderr",
     "output_type": "stream",
     "text": [
      "Processing <PIL.Image.Image image mode=RGB size=801x647 at 0x2923F4EEFD0>: 100%|██████████| 10/10 [00:00<00:00, 14.21 Samples/s] \n"
     ]
    },
    {
     "name": "stdout",
     "output_type": "stream",
     "text": [
      "Initialised with 1032 image(s) found.\n",
      "Output directory set to C:\\Users\\Pooja\\Documents\\Stone\\stone\\Augmentation/."
     ]
    },
    {
     "name": "stderr",
     "output_type": "stream",
     "text": [
      "Processing <PIL.Image.Image image mode=RGB size=1236x1001 at 0x2923F79D3D0>: 100%|██████████| 10/10 [00:00<00:00, 15.57 Samples/s]\n"
     ]
    },
    {
     "name": "stdout",
     "output_type": "stream",
     "text": [
      "Initialised with 1032 image(s) found.\n",
      "Output directory set to C:\\Users\\Pooja\\Documents\\Stone\\stone\\Augmentation/."
     ]
    },
    {
     "name": "stderr",
     "output_type": "stream",
     "text": [
      "Processing <PIL.Image.Image image mode=RGB size=512x512 at 0x2923F8E6D00>: 100%|██████████| 10/10 [00:00<00:00, 16.71 Samples/s] \n"
     ]
    },
    {
     "name": "stdout",
     "output_type": "stream",
     "text": [
      "Initialised with 1032 image(s) found.\n",
      "Output directory set to C:\\Users\\Pooja\\Documents\\Stone\\stone\\Augmentation/."
     ]
    },
    {
     "name": "stderr",
     "output_type": "stream",
     "text": [
      "Processing <PIL.Image.Image image mode=RGB size=1118x905 at 0x2923F7822E0>: 100%|██████████| 10/10 [00:01<00:00,  7.96 Samples/s]                \n"
     ]
    },
    {
     "name": "stdout",
     "output_type": "stream",
     "text": [
      "Initialised with 1032 image(s) found.\n",
      "Output directory set to C:\\Users\\Pooja\\Documents\\Stone\\stone\\Augmentation/."
     ]
    },
    {
     "name": "stderr",
     "output_type": "stream",
     "text": [
      "Processing <PIL.Image.Image image mode=RGB size=512x512 at 0x2923F8E6FA0>: 100%|██████████| 10/10 [00:00<00:00, 20.85 Samples/s]\n"
     ]
    },
    {
     "name": "stdout",
     "output_type": "stream",
     "text": [
      "Initialised with 1032 image(s) found.\n",
      "Output directory set to C:\\Users\\Pooja\\Documents\\Stone\\stone\\Augmentation/."
     ]
    },
    {
     "name": "stderr",
     "output_type": "stream",
     "text": [
      "Processing <PIL.Image.Image image mode=RGB size=512x512 at 0x292407E0F70>: 100%|██████████| 10/10 [00:00<00:00, 19.60 Samples/s] \n"
     ]
    },
    {
     "name": "stdout",
     "output_type": "stream",
     "text": [
      "Initialised with 1032 image(s) found.\n",
      "Output directory set to C:\\Users\\Pooja\\Documents\\Stone\\stone\\Augmentation/."
     ]
    },
    {
     "name": "stderr",
     "output_type": "stream",
     "text": [
      "Processing <PIL.Image.Image image mode=RGB size=512x512 at 0x2923F4EEE20>: 100%|██████████| 10/10 [00:00<00:00, 14.53 Samples/s] \n"
     ]
    },
    {
     "name": "stdout",
     "output_type": "stream",
     "text": [
      "Initialised with 1032 image(s) found.\n",
      "Output directory set to C:\\Users\\Pooja\\Documents\\Stone\\stone\\Augmentation/."
     ]
    },
    {
     "name": "stderr",
     "output_type": "stream",
     "text": [
      "Processing <PIL.Image.Image image mode=RGB size=512x512 at 0x292407E0760>: 100%|██████████| 10/10 [00:00<00:00, 19.05 Samples/s] \n"
     ]
    },
    {
     "name": "stdout",
     "output_type": "stream",
     "text": [
      "Initialised with 1032 image(s) found.\n",
      "Output directory set to C:\\Users\\Pooja\\Documents\\Stone\\stone\\Augmentation/."
     ]
    },
    {
     "name": "stderr",
     "output_type": "stream",
     "text": [
      "Processing <PIL.Image.Image image mode=RGB size=512x512 at 0x2923F4EE9D0>: 100%|██████████| 10/10 [00:00<00:00, 21.31 Samples/s]                 \n"
     ]
    },
    {
     "name": "stdout",
     "output_type": "stream",
     "text": [
      "Initialised with 1032 image(s) found.\n",
      "Output directory set to C:\\Users\\Pooja\\Documents\\Stone\\stone\\Augmentation/."
     ]
    },
    {
     "name": "stderr",
     "output_type": "stream",
     "text": [
      "Processing <PIL.Image.Image image mode=RGB size=512x512 at 0x292407E03A0>: 100%|██████████| 10/10 [00:00<00:00, 20.33 Samples/s]                 \n"
     ]
    },
    {
     "name": "stdout",
     "output_type": "stream",
     "text": [
      "Initialised with 1032 image(s) found.\n",
      "Output directory set to C:\\Users\\Pooja\\Documents\\Stone\\stone\\Augmentation/."
     ]
    },
    {
     "name": "stderr",
     "output_type": "stream",
     "text": [
      "Processing <PIL.Image.Image image mode=RGB size=888x719 at 0x2923F490940>: 100%|██████████| 10/10 [00:00<00:00, 14.92 Samples/s] \n"
     ]
    },
    {
     "name": "stdout",
     "output_type": "stream",
     "text": [
      "Initialised with 1032 image(s) found.\n",
      "Output directory set to C:\\Users\\Pooja\\Documents\\Stone\\stone\\Augmentation/."
     ]
    },
    {
     "name": "stderr",
     "output_type": "stream",
     "text": [
      "Processing <PIL.Image.Image image mode=RGB size=512x512 at 0x2923F782220>: 100%|██████████| 10/10 [00:00<00:00, 18.40 Samples/s]                 \n"
     ]
    },
    {
     "name": "stdout",
     "output_type": "stream",
     "text": [
      "Initialised with 1032 image(s) found.\n",
      "Output directory set to C:\\Users\\Pooja\\Documents\\Stone\\stone\\Augmentation/."
     ]
    },
    {
     "name": "stderr",
     "output_type": "stream",
     "text": [
      "Processing <PIL.Image.Image image mode=RGB size=787x636 at 0x2923F4EEA00>: 100%|██████████| 10/10 [00:00<00:00, 16.60 Samples/s]\n"
     ]
    },
    {
     "name": "stdout",
     "output_type": "stream",
     "text": [
      "Initialised with 1032 image(s) found.\n",
      "Output directory set to C:\\Users\\Pooja\\Documents\\Stone\\stone\\Augmentation/."
     ]
    },
    {
     "name": "stderr",
     "output_type": "stream",
     "text": [
      "Processing <PIL.Image.Image image mode=RGB size=512x512 at 0x292407E0610>: 100%|██████████| 10/10 [00:00<00:00, 13.77 Samples/s] \n"
     ]
    },
    {
     "name": "stdout",
     "output_type": "stream",
     "text": [
      "Initialised with 1032 image(s) found.\n",
      "Output directory set to C:\\Users\\Pooja\\Documents\\Stone\\stone\\Augmentation/."
     ]
    },
    {
     "name": "stderr",
     "output_type": "stream",
     "text": [
      "Processing <PIL.Image.Image image mode=RGB size=512x512 at 0x2923F782130>: 100%|██████████| 10/10 [00:00<00:00, 25.80 Samples/s]\n"
     ]
    },
    {
     "name": "stdout",
     "output_type": "stream",
     "text": [
      "Initialised with 1032 image(s) found.\n",
      "Output directory set to C:\\Users\\Pooja\\Documents\\Stone\\stone\\Augmentation/."
     ]
    },
    {
     "name": "stderr",
     "output_type": "stream",
     "text": [
      "Processing <PIL.Image.Image image mode=RGB size=682x552 at 0x292407DEC10>: 100%|██████████| 10/10 [00:00<00:00, 14.74 Samples/s] \n"
     ]
    },
    {
     "name": "stdout",
     "output_type": "stream",
     "text": [
      "Initialised with 1032 image(s) found.\n",
      "Output directory set to C:\\Users\\Pooja\\Documents\\Stone\\stone\\Augmentation/."
     ]
    },
    {
     "name": "stderr",
     "output_type": "stream",
     "text": [
      "Processing <PIL.Image.Image image mode=RGB size=512x512 at 0x2923F4EEC70>: 100%|██████████| 10/10 [00:02<00:00,  4.12 Samples/s] \n"
     ]
    },
    {
     "name": "stdout",
     "output_type": "stream",
     "text": [
      "Initialised with 1032 image(s) found.\n",
      "Output directory set to C:\\Users\\Pooja\\Documents\\Stone\\stone\\Augmentation/."
     ]
    },
    {
     "name": "stderr",
     "output_type": "stream",
     "text": [
      "Processing <PIL.Image.Image image mode=RGB size=512x512 at 0x2923F2EAF40>: 100%|██████████| 10/10 [00:04<00:00,  2.20 Samples/s] \n"
     ]
    },
    {
     "name": "stdout",
     "output_type": "stream",
     "text": [
      "Initialised with 1032 image(s) found.\n",
      "Output directory set to C:\\Users\\Pooja\\Documents\\Stone\\stone\\Augmentation/."
     ]
    },
    {
     "name": "stderr",
     "output_type": "stream",
     "text": [
      "Processing <PIL.Image.Image image mode=RGB size=713x576 at 0x2923F7820D0>: 100%|██████████| 10/10 [00:00<00:00, 12.86 Samples/s] \n"
     ]
    },
    {
     "name": "stdout",
     "output_type": "stream",
     "text": [
      "Initialised with 1032 image(s) found.\n",
      "Output directory set to C:\\Users\\Pooja\\Documents\\Stone\\stone\\Augmentation/."
     ]
    },
    {
     "name": "stderr",
     "output_type": "stream",
     "text": [
      "Processing <PIL.Image.Image image mode=RGB size=512x512 at 0x292407DEEE0>: 100%|██████████| 10/10 [00:00<00:00, 19.39 Samples/s] \n"
     ]
    },
    {
     "name": "stdout",
     "output_type": "stream",
     "text": [
      "Initialised with 1032 image(s) found.\n",
      "Output directory set to C:\\Users\\Pooja\\Documents\\Stone\\stone\\Augmentation/."
     ]
    },
    {
     "name": "stderr",
     "output_type": "stream",
     "text": [
      "Processing <PIL.Image.Image image mode=RGB size=512x512 at 0x2923F4EE250>: 100%|██████████| 10/10 [00:00<00:00, 28.97 Samples/s]\n"
     ]
    },
    {
     "name": "stdout",
     "output_type": "stream",
     "text": [
      "Initialised with 1032 image(s) found.\n",
      "Output directory set to C:\\Users\\Pooja\\Documents\\Stone\\stone\\Augmentation/."
     ]
    },
    {
     "name": "stderr",
     "output_type": "stream",
     "text": [
      "Processing <PIL.Image.Image image mode=RGB size=512x512 at 0x2923F2EA5E0>: 100%|██████████| 10/10 [00:00<00:00, 14.80 Samples/s] \n"
     ]
    },
    {
     "name": "stdout",
     "output_type": "stream",
     "text": [
      "Initialised with 1032 image(s) found.\n",
      "Output directory set to C:\\Users\\Pooja\\Documents\\Stone\\stone\\Augmentation/."
     ]
    },
    {
     "name": "stderr",
     "output_type": "stream",
     "text": [
      "Processing <PIL.Image.Image image mode=RGB size=1236x1001 at 0x2923F490B80>: 100%|██████████| 10/10 [00:00<00:00, 17.14 Samples/s]\n"
     ]
    },
    {
     "name": "stdout",
     "output_type": "stream",
     "text": [
      "Initialised with 1032 image(s) found.\n",
      "Output directory set to C:\\Users\\Pooja\\Documents\\Stone\\stone\\Augmentation/."
     ]
    },
    {
     "name": "stderr",
     "output_type": "stream",
     "text": [
      "Processing <PIL.Image.Image image mode=RGB size=512x512 at 0x2923F2EA5E0>: 100%|██████████| 10/10 [00:00<00:00, 18.49 Samples/s] \n"
     ]
    },
    {
     "name": "stdout",
     "output_type": "stream",
     "text": [
      "Initialised with 1032 image(s) found.\n",
      "Output directory set to C:\\Users\\Pooja\\Documents\\Stone\\stone\\Augmentation/."
     ]
    },
    {
     "name": "stderr",
     "output_type": "stream",
     "text": [
      "Processing <PIL.Image.Image image mode=RGB size=1236x1001 at 0x2923F8D2850>: 100%|██████████| 10/10 [00:00<00:00, 22.43 Samples/s]               \n"
     ]
    },
    {
     "name": "stdout",
     "output_type": "stream",
     "text": [
      "Initialised with 1032 image(s) found.\n",
      "Output directory set to C:\\Users\\Pooja\\Documents\\Stone\\stone\\Augmentation/."
     ]
    },
    {
     "name": "stderr",
     "output_type": "stream",
     "text": [
      "Processing <PIL.Image.Image image mode=RGB size=512x512 at 0x292407DE610>: 100%|██████████| 10/10 [00:00<00:00, 18.55 Samples/s] \n"
     ]
    },
    {
     "name": "stdout",
     "output_type": "stream",
     "text": [
      "Initialised with 1032 image(s) found.\n",
      "Output directory set to C:\\Users\\Pooja\\Documents\\Stone\\stone\\Augmentation/."
     ]
    },
    {
     "name": "stderr",
     "output_type": "stream",
     "text": [
      "Processing <PIL.Image.Image image mode=RGB size=512x512 at 0x2923F4909A0>: 100%|██████████| 10/10 [00:00<00:00, 41.62 Samples/s]\n"
     ]
    },
    {
     "name": "stdout",
     "output_type": "stream",
     "text": [
      "Initialised with 1032 image(s) found.\n",
      "Output directory set to C:\\Users\\Pooja\\Documents\\Stone\\stone\\Augmentation/."
     ]
    },
    {
     "name": "stderr",
     "output_type": "stream",
     "text": [
      "Processing <PIL.Image.Image image mode=RGB size=512x512 at 0x292407E0EB0>: 100%|██████████| 10/10 [00:00<00:00, 22.27 Samples/s]\n"
     ]
    },
    {
     "name": "stdout",
     "output_type": "stream",
     "text": [
      "Initialised with 1032 image(s) found.\n",
      "Output directory set to C:\\Users\\Pooja\\Documents\\Stone\\stone\\Augmentation/."
     ]
    },
    {
     "name": "stderr",
     "output_type": "stream",
     "text": [
      "Processing <PIL.Image.Image image mode=RGB size=1203x974 at 0x2923F4909D0>: 100%|██████████| 10/10 [00:00<00:00, 16.04 Samples/s]                \n"
     ]
    },
    {
     "name": "stdout",
     "output_type": "stream",
     "text": [
      "Initialised with 1032 image(s) found.\n",
      "Output directory set to C:\\Users\\Pooja\\Documents\\Stone\\stone\\Augmentation/."
     ]
    },
    {
     "name": "stderr",
     "output_type": "stream",
     "text": [
      "Processing <PIL.Image.Image image mode=RGB size=855x691 at 0x2923F2EA850>: 100%|██████████| 10/10 [00:00<00:00, 21.24 Samples/s] \n"
     ]
    },
    {
     "name": "stdout",
     "output_type": "stream",
     "text": [
      "Initialised with 1032 image(s) found.\n",
      "Output directory set to C:\\Users\\Pooja\\Documents\\Stone\\stone\\Augmentation/."
     ]
    },
    {
     "name": "stderr",
     "output_type": "stream",
     "text": [
      "Processing <PIL.Image.Image image mode=RGB size=687x555 at 0x2923F4EE1C0>: 100%|██████████| 10/10 [00:00<00:00, 30.79 Samples/s]\n"
     ]
    },
    {
     "name": "stdout",
     "output_type": "stream",
     "text": [
      "Initialised with 1032 image(s) found.\n",
      "Output directory set to C:\\Users\\Pooja\\Documents\\Stone\\stone\\Augmentation/."
     ]
    },
    {
     "name": "stderr",
     "output_type": "stream",
     "text": [
      "Processing <PIL.Image.Image image mode=RGB size=512x512 at 0x292407DE580>: 100%|██████████| 10/10 [00:00<00:00, 36.65 Samples/s]                 \n"
     ]
    },
    {
     "name": "stdout",
     "output_type": "stream",
     "text": [
      "Initialised with 1032 image(s) found.\n",
      "Output directory set to C:\\Users\\Pooja\\Documents\\Stone\\stone\\Augmentation/."
     ]
    },
    {
     "name": "stderr",
     "output_type": "stream",
     "text": [
      "Processing <PIL.Image.Image image mode=RGB size=512x512 at 0x2923F7820D0>: 100%|██████████| 10/10 [00:00<00:00, 18.81 Samples/s] \n"
     ]
    },
    {
     "name": "stdout",
     "output_type": "stream",
     "text": [
      "Initialised with 1032 image(s) found.\n",
      "Output directory set to C:\\Users\\Pooja\\Documents\\Stone\\stone\\Augmentation/."
     ]
    },
    {
     "name": "stderr",
     "output_type": "stream",
     "text": [
      "Processing <PIL.JpegImagePlugin.JpegImageFile image mode=RGB size=855x691 at 0x2923F8E6F10>: 100%|██████████| 10/10 [00:00<00:00, 37.33 Samples/s]\n"
     ]
    },
    {
     "name": "stdout",
     "output_type": "stream",
     "text": [
      "Initialised with 1032 image(s) found.\n",
      "Output directory set to C:\\Users\\Pooja\\Documents\\Stone\\stone\\Augmentation/."
     ]
    },
    {
     "name": "stderr",
     "output_type": "stream",
     "text": [
      "Processing <PIL.Image.Image image mode=RGB size=512x512 at 0x2923F8D2730>: 100%|██████████| 10/10 [00:02<00:00,  4.74 Samples/s] \n"
     ]
    },
    {
     "name": "stdout",
     "output_type": "stream",
     "text": [
      "Initialised with 1032 image(s) found.\n",
      "Output directory set to C:\\Users\\Pooja\\Documents\\Stone\\stone\\Augmentation/."
     ]
    },
    {
     "name": "stderr",
     "output_type": "stream",
     "text": [
      "Processing <PIL.Image.Image image mode=RGB size=771x623 at 0x2923F8724C0>: 100%|██████████| 10/10 [00:00<00:00, 27.04 Samples/s]\n"
     ]
    },
    {
     "name": "stdout",
     "output_type": "stream",
     "text": [
      "Initialised with 1032 image(s) found.\n",
      "Output directory set to C:\\Users\\Pooja\\Documents\\Stone\\stone\\Augmentation/."
     ]
    },
    {
     "name": "stderr",
     "output_type": "stream",
     "text": [
      "Processing <PIL.Image.Image image mode=RGB size=512x512 at 0x2923F4EEA30>: 100%|██████████| 10/10 [00:00<00:00, 12.20 Samples/s] \n"
     ]
    },
    {
     "name": "stdout",
     "output_type": "stream",
     "text": [
      "Initialised with 1032 image(s) found.\n",
      "Output directory set to C:\\Users\\Pooja\\Documents\\Stone\\stone\\Augmentation/."
     ]
    },
    {
     "name": "stderr",
     "output_type": "stream",
     "text": [
      "Processing <PIL.Image.Image image mode=RGB size=1236x1001 at 0x2923F8993A0>: 100%|██████████| 10/10 [00:00<00:00, 15.80 Samples/s]\n"
     ]
    },
    {
     "name": "stdout",
     "output_type": "stream",
     "text": [
      "Initialised with 1032 image(s) found.\n",
      "Output directory set to C:\\Users\\Pooja\\Documents\\Stone\\stone\\Augmentation/."
     ]
    },
    {
     "name": "stderr",
     "output_type": "stream",
     "text": [
      "Processing <PIL.Image.Image image mode=RGB size=512x512 at 0x2923F490D30>: 100%|██████████| 10/10 [00:00<00:00, 25.78 Samples/s]\n"
     ]
    },
    {
     "name": "stdout",
     "output_type": "stream",
     "text": [
      "Initialised with 1032 image(s) found.\n",
      "Output directory set to C:\\Users\\Pooja\\Documents\\Stone\\stone\\Augmentation/."
     ]
    },
    {
     "name": "stderr",
     "output_type": "stream",
     "text": [
      "Processing <PIL.Image.Image image mode=RGB size=512x512 at 0x2923F84D1C0>: 100%|██████████| 10/10 [00:00<00:00, 15.58 Samples/s] \n"
     ]
    },
    {
     "name": "stdout",
     "output_type": "stream",
     "text": [
      "Initialised with 1032 image(s) found.\n",
      "Output directory set to C:\\Users\\Pooja\\Documents\\Stone\\stone\\Augmentation/."
     ]
    },
    {
     "name": "stderr",
     "output_type": "stream",
     "text": [
      "Processing <PIL.Image.Image image mode=RGB size=813x657 at 0x2923F8D2910>: 100%|██████████| 10/10 [00:00<00:00, 11.78 Samples/s] \n"
     ]
    },
    {
     "name": "stdout",
     "output_type": "stream",
     "text": [
      "Initialised with 1032 image(s) found.\n",
      "Output directory set to C:\\Users\\Pooja\\Documents\\Stone\\stone\\Augmentation/."
     ]
    },
    {
     "name": "stderr",
     "output_type": "stream",
     "text": [
      "Processing <PIL.Image.Image image mode=RGB size=512x512 at 0x2923F8D2EB0>: 100%|██████████| 10/10 [00:00<00:00, 25.76 Samples/s] \n"
     ]
    },
    {
     "name": "stdout",
     "output_type": "stream",
     "text": [
      "Initialised with 1032 image(s) found.\n",
      "Output directory set to C:\\Users\\Pooja\\Documents\\Stone\\stone\\Augmentation/."
     ]
    },
    {
     "name": "stderr",
     "output_type": "stream",
     "text": [
      "Processing <PIL.Image.Image image mode=RGB size=512x512 at 0x2923F4909D0>: 100%|██████████| 10/10 [00:00<00:00, 14.63 Samples/s] \n"
     ]
    },
    {
     "name": "stdout",
     "output_type": "stream",
     "text": [
      "Initialised with 1032 image(s) found.\n",
      "Output directory set to C:\\Users\\Pooja\\Documents\\Stone\\stone\\Augmentation/."
     ]
    },
    {
     "name": "stderr",
     "output_type": "stream",
     "text": [
      "Processing <PIL.Image.Image image mode=RGB size=512x512 at 0x2923F899D30>: 100%|██████████| 10/10 [00:00<00:00, 20.69 Samples/s]\n"
     ]
    },
    {
     "name": "stdout",
     "output_type": "stream",
     "text": [
      "Initialised with 1032 image(s) found.\n",
      "Output directory set to C:\\Users\\Pooja\\Documents\\Stone\\stone\\Augmentation/."
     ]
    },
    {
     "name": "stderr",
     "output_type": "stream",
     "text": [
      "Processing <PIL.Image.Image image mode=RGB size=512x512 at 0x2923F8D2CA0>: 100%|██████████| 10/10 [00:00<00:00, 32.00 Samples/s] \n"
     ]
    },
    {
     "name": "stdout",
     "output_type": "stream",
     "text": [
      "Initialised with 1032 image(s) found.\n",
      "Output directory set to C:\\Users\\Pooja\\Documents\\Stone\\stone\\Augmentation/."
     ]
    },
    {
     "name": "stderr",
     "output_type": "stream",
     "text": [
      "Processing <PIL.Image.Image image mode=RGB size=1236x1001 at 0x2923F8D2EE0>: 100%|██████████| 10/10 [00:00<00:00, 26.20 Samples/s]\n"
     ]
    },
    {
     "name": "stdout",
     "output_type": "stream",
     "text": [
      "Initialised with 1032 image(s) found.\n",
      "Output directory set to C:\\Users\\Pooja\\Documents\\Stone\\stone\\Augmentation/."
     ]
    },
    {
     "name": "stderr",
     "output_type": "stream",
     "text": [
      "Processing <PIL.Image.Image image mode=RGB size=904x732 at 0x2923F8D2460>: 100%|██████████| 10/10 [00:00<00:00, 23.19 Samples/s] \n"
     ]
    },
    {
     "name": "stdout",
     "output_type": "stream",
     "text": [
      "Initialised with 1032 image(s) found.\n",
      "Output directory set to C:\\Users\\Pooja\\Documents\\Stone\\stone\\Augmentation/."
     ]
    },
    {
     "name": "stderr",
     "output_type": "stream",
     "text": [
      "Processing <PIL.Image.Image image mode=RGB size=512x512 at 0x2923F84D7C0>: 100%|██████████| 10/10 [00:00<00:00, 28.04 Samples/s]                 \n"
     ]
    },
    {
     "name": "stdout",
     "output_type": "stream",
     "text": [
      "Initialised with 1032 image(s) found.\n",
      "Output directory set to C:\\Users\\Pooja\\Documents\\Stone\\stone\\Augmentation/."
     ]
    },
    {
     "name": "stderr",
     "output_type": "stream",
     "text": [
      "Processing <PIL.Image.Image image mode=RGB size=804x651 at 0x2923F8D22E0>: 100%|██████████| 10/10 [00:00<00:00, 23.55 Samples/s] \n"
     ]
    },
    {
     "name": "stdout",
     "output_type": "stream",
     "text": [
      "Initialised with 1032 image(s) found.\n",
      "Output directory set to C:\\Users\\Pooja\\Documents\\Stone\\stone\\Augmentation/."
     ]
    },
    {
     "name": "stderr",
     "output_type": "stream",
     "text": [
      "Processing <PIL.Image.Image image mode=RGB size=512x512 at 0x2923F872520>: 100%|██████████| 10/10 [00:00<00:00, 18.62 Samples/s] \n"
     ]
    },
    {
     "name": "stdout",
     "output_type": "stream",
     "text": [
      "Initialised with 1032 image(s) found.\n",
      "Output directory set to C:\\Users\\Pooja\\Documents\\Stone\\stone\\Augmentation/."
     ]
    },
    {
     "name": "stderr",
     "output_type": "stream",
     "text": [
      "Processing <PIL.Image.Image image mode=RGB size=787x636 at 0x2923F4EEA60>: 100%|██████████| 10/10 [00:00<00:00, 22.00 Samples/s] \n"
     ]
    },
    {
     "name": "stdout",
     "output_type": "stream",
     "text": [
      "Initialised with 1032 image(s) found.\n",
      "Output directory set to C:\\Users\\Pooja\\Documents\\Stone\\stone\\Augmentation/."
     ]
    },
    {
     "name": "stderr",
     "output_type": "stream",
     "text": [
      "Processing <PIL.Image.Image image mode=RGB size=512x512 at 0x2923F84DBE0>: 100%|██████████| 10/10 [00:00<00:00, 25.38 Samples/s] \n"
     ]
    },
    {
     "name": "stdout",
     "output_type": "stream",
     "text": [
      "Initialised with 1032 image(s) found.\n",
      "Output directory set to C:\\Users\\Pooja\\Documents\\Stone\\stone\\Augmentation/."
     ]
    },
    {
     "name": "stderr",
     "output_type": "stream",
     "text": [
      "Processing <PIL.Image.Image image mode=RGB size=682x552 at 0x2923F4EE0D0>: 100%|██████████| 10/10 [00:00<00:00, 32.00 Samples/s]\n"
     ]
    },
    {
     "name": "stdout",
     "output_type": "stream",
     "text": [
      "Initialised with 1032 image(s) found.\n",
      "Output directory set to C:\\Users\\Pooja\\Documents\\Stone\\stone\\Augmentation/."
     ]
    },
    {
     "name": "stderr",
     "output_type": "stream",
     "text": [
      "Processing <PIL.Image.Image image mode=RGB size=1118x905 at 0x2923F2DD790>: 100%|██████████| 10/10 [00:00<00:00, 23.58 Samples/s]\n"
     ]
    },
    {
     "name": "stdout",
     "output_type": "stream",
     "text": [
      "Initialised with 1032 image(s) found.\n",
      "Output directory set to C:\\Users\\Pooja\\Documents\\Stone\\stone\\Augmentation/."
     ]
    },
    {
     "name": "stderr",
     "output_type": "stream",
     "text": [
      "Processing <PIL.Image.Image image mode=RGB size=838x679 at 0x2923F490C40>: 100%|██████████| 10/10 [00:00<00:00, 22.65 Samples/s]\n"
     ]
    },
    {
     "name": "stdout",
     "output_type": "stream",
     "text": [
      "Initialised with 1032 image(s) found.\n",
      "Output directory set to C:\\Users\\Pooja\\Documents\\Stone\\stone\\Augmentation/."
     ]
    },
    {
     "name": "stderr",
     "output_type": "stream",
     "text": [
      "Processing <PIL.Image.Image image mode=RGB size=512x512 at 0x2923F8994C0>: 100%|██████████| 10/10 [00:00<00:00, 27.57 Samples/s] \n"
     ]
    },
    {
     "name": "stdout",
     "output_type": "stream",
     "text": [
      "Initialised with 1032 image(s) found.\n",
      "Output directory set to C:\\Users\\Pooja\\Documents\\Stone\\stone\\Augmentation/."
     ]
    },
    {
     "name": "stderr",
     "output_type": "stream",
     "text": [
      "Processing <PIL.Image.Image image mode=RGB size=512x512 at 0x2923F8D2A90>: 100%|██████████| 10/10 [00:00<00:00, 30.57 Samples/s] \n"
     ]
    },
    {
     "name": "stdout",
     "output_type": "stream",
     "text": [
      "Initialised with 1032 image(s) found.\n",
      "Output directory set to C:\\Users\\Pooja\\Documents\\Stone\\stone\\Augmentation/."
     ]
    },
    {
     "name": "stderr",
     "output_type": "stream",
     "text": [
      "Processing <PIL.Image.Image image mode=RGB size=512x512 at 0x2923F872730>: 100%|██████████| 10/10 [00:00<00:00, 17.16 Samples/s] \n"
     ]
    },
    {
     "name": "stdout",
     "output_type": "stream",
     "text": [
      "Initialised with 1032 image(s) found.\n",
      "Output directory set to C:\\Users\\Pooja\\Documents\\Stone\\stone\\Augmentation/."
     ]
    },
    {
     "name": "stderr",
     "output_type": "stream",
     "text": [
      "Processing <PIL.Image.Image image mode=RGB size=745x602 at 0x2923F4909A0>: 100%|██████████| 10/10 [00:00<00:00, 13.90 Samples/s]\n"
     ]
    },
    {
     "name": "stdout",
     "output_type": "stream",
     "text": [
      "Initialised with 1032 image(s) found.\n",
      "Output directory set to C:\\Users\\Pooja\\Documents\\Stone\\stone\\Augmentation/."
     ]
    },
    {
     "name": "stderr",
     "output_type": "stream",
     "text": [
      "Processing <PIL.Image.Image image mode=RGB size=512x512 at 0x2923F84D670>: 100%|██████████| 10/10 [00:00<00:00, 15.21 Samples/s]\n"
     ]
    },
    {
     "name": "stdout",
     "output_type": "stream",
     "text": [
      "Initialised with 1032 image(s) found.\n",
      "Output directory set to C:\\Users\\Pooja\\Documents\\Stone\\stone\\Augmentation/."
     ]
    },
    {
     "name": "stderr",
     "output_type": "stream",
     "text": [
      "Processing <PIL.Image.Image image mode=RGB size=512x512 at 0x2923F8D2280>: 100%|██████████| 10/10 [00:00<00:00, 15.80 Samples/s]                 \n"
     ]
    },
    {
     "name": "stdout",
     "output_type": "stream",
     "text": [
      "Initialised with 1032 image(s) found.\n",
      "Output directory set to C:\\Users\\Pooja\\Documents\\Stone\\stone\\Augmentation/."
     ]
    },
    {
     "name": "stderr",
     "output_type": "stream",
     "text": [
      "Processing <PIL.Image.Image image mode=RGB size=512x512 at 0x2923F8723A0>: 100%|██████████| 10/10 [00:00<00:00, 12.16 Samples/s] \n"
     ]
    },
    {
     "name": "stdout",
     "output_type": "stream",
     "text": [
      "Initialised with 1032 image(s) found.\n",
      "Output directory set to C:\\Users\\Pooja\\Documents\\Stone\\stone\\Augmentation/."
     ]
    },
    {
     "name": "stderr",
     "output_type": "stream",
     "text": [
      "Processing <PIL.Image.Image image mode=RGB size=512x512 at 0x2923F8D2790>: 100%|██████████| 10/10 [00:00<00:00, 19.15 Samples/s] \n"
     ]
    },
    {
     "name": "stdout",
     "output_type": "stream",
     "text": [
      "Initialised with 1032 image(s) found.\n",
      "Output directory set to C:\\Users\\Pooja\\Documents\\Stone\\stone\\Augmentation/."
     ]
    },
    {
     "name": "stderr",
     "output_type": "stream",
     "text": [
      "Processing <PIL.Image.Image image mode=RGB size=512x512 at 0x2923F84D610>: 100%|██████████| 10/10 [00:01<00:00,  6.00 Samples/s]\n"
     ]
    },
    {
     "name": "stdout",
     "output_type": "stream",
     "text": [
      "Initialised with 1032 image(s) found.\n",
      "Output directory set to C:\\Users\\Pooja\\Documents\\Stone\\stone\\Augmentation/."
     ]
    },
    {
     "name": "stderr",
     "output_type": "stream",
     "text": [
      "Processing <PIL.Image.Image image mode=RGB size=512x512 at 0x2923F490CD0>: 100%|██████████| 10/10 [00:02<00:00,  4.17 Samples/s]\n"
     ]
    },
    {
     "name": "stdout",
     "output_type": "stream",
     "text": [
      "Initialised with 1032 image(s) found.\n",
      "Output directory set to C:\\Users\\Pooja\\Documents\\Stone\\stone\\Augmentation/."
     ]
    },
    {
     "name": "stderr",
     "output_type": "stream",
     "text": [
      "Processing <PIL.Image.Image image mode=RGB size=682x552 at 0x2923F84D6A0>: 100%|██████████| 10/10 [00:01<00:00,  7.68 Samples/s] \n"
     ]
    },
    {
     "name": "stdout",
     "output_type": "stream",
     "text": [
      "Initialised with 1032 image(s) found.\n",
      "Output directory set to C:\\Users\\Pooja\\Documents\\Stone\\stone\\Augmentation/."
     ]
    },
    {
     "name": "stderr",
     "output_type": "stream",
     "text": [
      "Processing <PIL.Image.Image image mode=RGB size=512x512 at 0x2923F8D2580>: 100%|██████████| 10/10 [00:02<00:00,  3.56 Samples/s]\n"
     ]
    },
    {
     "name": "stdout",
     "output_type": "stream",
     "text": [
      "Initialised with 1032 image(s) found.\n",
      "Output directory set to C:\\Users\\Pooja\\Documents\\Stone\\stone\\Augmentation/."
     ]
    },
    {
     "name": "stderr",
     "output_type": "stream",
     "text": [
      "Processing <PIL.Image.Image image mode=RGB size=512x512 at 0x2923F2DDEE0>: 100%|██████████| 10/10 [00:00<00:00, 13.33 Samples/s]\n"
     ]
    },
    {
     "name": "stdout",
     "output_type": "stream",
     "text": [
      "Initialised with 1032 image(s) found.\n",
      "Output directory set to C:\\Users\\Pooja\\Documents\\Stone\\stone\\Augmentation/."
     ]
    },
    {
     "name": "stderr",
     "output_type": "stream",
     "text": [
      "Processing <PIL.Image.Image image mode=RGB size=888x719 at 0x292407CCB20>: 100%|██████████| 10/10 [00:00<00:00, 20.16 Samples/s] \n"
     ]
    },
    {
     "name": "stdout",
     "output_type": "stream",
     "text": [
      "Initialised with 1032 image(s) found.\n",
      "Output directory set to C:\\Users\\Pooja\\Documents\\Stone\\stone\\Augmentation/."
     ]
    },
    {
     "name": "stderr",
     "output_type": "stream",
     "text": [
      "Processing <PIL.Image.Image image mode=RGB size=888x719 at 0x2923F8E6E20>: 100%|██████████| 10/10 [00:00<00:00, 15.64 Samples/s] \n"
     ]
    },
    {
     "name": "stdout",
     "output_type": "stream",
     "text": [
      "Initialised with 1032 image(s) found.\n",
      "Output directory set to C:\\Users\\Pooja\\Documents\\Stone\\stone\\Augmentation/."
     ]
    },
    {
     "name": "stderr",
     "output_type": "stream",
     "text": [
      "Processing <PIL.Image.Image image mode=RGB size=512x512 at 0x292407CC910>: 100%|██████████| 10/10 [00:00<00:00, 28.92 Samples/s]\n"
     ]
    },
    {
     "name": "stdout",
     "output_type": "stream",
     "text": [
      "Initialised with 1032 image(s) found.\n",
      "Output directory set to C:\\Users\\Pooja\\Documents\\Stone\\stone\\Augmentation/."
     ]
    },
    {
     "name": "stderr",
     "output_type": "stream",
     "text": [
      "Processing <PIL.Image.Image image mode=RGB size=512x512 at 0x2923F8E6E80>: 100%|██████████| 10/10 [00:00<00:00, 22.72 Samples/s] \n"
     ]
    },
    {
     "name": "stdout",
     "output_type": "stream",
     "text": [
      "Initialised with 1032 image(s) found.\n",
      "Output directory set to C:\\Users\\Pooja\\Documents\\Stone\\stone\\Augmentation/."
     ]
    },
    {
     "name": "stderr",
     "output_type": "stream",
     "text": [
      "Processing <PIL.Image.Image image mode=RGB size=512x512 at 0x292407CCC40>: 100%|██████████| 10/10 [00:00<00:00, 18.28 Samples/s] \n"
     ]
    },
    {
     "name": "stdout",
     "output_type": "stream",
     "text": [
      "Initialised with 1032 image(s) found.\n",
      "Output directory set to C:\\Users\\Pooja\\Documents\\Stone\\stone\\Augmentation/."
     ]
    },
    {
     "name": "stderr",
     "output_type": "stream",
     "text": [
      "Processing <PIL.Image.Image image mode=RGB size=512x512 at 0x2923F872700>: 100%|██████████| 10/10 [00:00<00:00, 19.14 Samples/s] \n"
     ]
    },
    {
     "name": "stdout",
     "output_type": "stream",
     "text": [
      "Initialised with 1032 image(s) found.\n",
      "Output directory set to C:\\Users\\Pooja\\Documents\\Stone\\stone\\Augmentation/."
     ]
    },
    {
     "name": "stderr",
     "output_type": "stream",
     "text": [
      "Processing <PIL.Image.Image image mode=RGB size=512x512 at 0x292407CC880>: 100%|██████████| 10/10 [00:00<00:00, 27.99 Samples/s]\n"
     ]
    },
    {
     "name": "stdout",
     "output_type": "stream",
     "text": [
      "Initialised with 1032 image(s) found.\n",
      "Output directory set to C:\\Users\\Pooja\\Documents\\Stone\\stone\\Augmentation/."
     ]
    },
    {
     "name": "stderr",
     "output_type": "stream",
     "text": [
      "Processing <PIL.Image.Image image mode=RGB size=745x602 at 0x2923F8E65B0>: 100%|██████████| 10/10 [00:00<00:00, 23.72 Samples/s]                 \n"
     ]
    },
    {
     "name": "stdout",
     "output_type": "stream",
     "text": [
      "Initialised with 1032 image(s) found.\n",
      "Output directory set to C:\\Users\\Pooja\\Documents\\Stone\\stone\\Augmentation/."
     ]
    },
    {
     "name": "stderr",
     "output_type": "stream",
     "text": [
      "Processing <PIL.Image.Image image mode=RGB size=512x512 at 0x2923F4907C0>: 100%|██████████| 10/10 [00:00<00:00, 21.31 Samples/s] \n"
     ]
    },
    {
     "name": "stdout",
     "output_type": "stream",
     "text": [
      "Initialised with 1032 image(s) found.\n",
      "Output directory set to C:\\Users\\Pooja\\Documents\\Stone\\stone\\Augmentation/."
     ]
    },
    {
     "name": "stderr",
     "output_type": "stream",
     "text": [
      "Processing <PIL.Image.Image image mode=RGB size=512x512 at 0x2923F84DC40>: 100%|██████████| 10/10 [00:00<00:00, 24.09 Samples/s] \n"
     ]
    },
    {
     "name": "stdout",
     "output_type": "stream",
     "text": [
      "Initialised with 1032 image(s) found.\n",
      "Output directory set to C:\\Users\\Pooja\\Documents\\Stone\\stone\\Augmentation/."
     ]
    },
    {
     "name": "stderr",
     "output_type": "stream",
     "text": [
      "Processing <PIL.Image.Image image mode=RGB size=512x512 at 0x2923F490CD0>: 100%|██████████| 10/10 [00:00<00:00, 20.08 Samples/s] \n"
     ]
    },
    {
     "name": "stdout",
     "output_type": "stream",
     "text": [
      "Initialised with 1032 image(s) found.\n",
      "Output directory set to C:\\Users\\Pooja\\Documents\\Stone\\stone\\Augmentation/."
     ]
    },
    {
     "name": "stderr",
     "output_type": "stream",
     "text": [
      "Processing <PIL.Image.Image image mode=RGB size=512x512 at 0x2923F84D100>: 100%|██████████| 10/10 [00:00<00:00, 26.13 Samples/s]\n"
     ]
    },
    {
     "name": "stdout",
     "output_type": "stream",
     "text": [
      "Initialised with 1032 image(s) found.\n",
      "Output directory set to C:\\Users\\Pooja\\Documents\\Stone\\stone\\Augmentation/."
     ]
    },
    {
     "name": "stderr",
     "output_type": "stream",
     "text": [
      "Processing <PIL.Image.Image image mode=RGB size=512x512 at 0x2923F8D2D90>: 100%|██████████| 10/10 [00:00<00:00, 16.30 Samples/s]\n"
     ]
    },
    {
     "name": "stdout",
     "output_type": "stream",
     "text": [
      "Initialised with 1032 image(s) found.\n",
      "Output directory set to C:\\Users\\Pooja\\Documents\\Stone\\stone\\Augmentation/."
     ]
    },
    {
     "name": "stderr",
     "output_type": "stream",
     "text": [
      "Processing <PIL.Image.Image image mode=RGB size=1236x1001 at 0x2923F84D160>: 100%|██████████| 10/10 [00:00<00:00, 18.22 Samples/s]\n"
     ]
    },
    {
     "name": "stdout",
     "output_type": "stream",
     "text": [
      "Initialised with 1032 image(s) found.\n",
      "Output directory set to C:\\Users\\Pooja\\Documents\\Stone\\stone\\Augmentation/."
     ]
    },
    {
     "name": "stderr",
     "output_type": "stream",
     "text": [
      "Processing <PIL.Image.Image image mode=RGB size=512x512 at 0x292407CC6D0>: 100%|██████████| 10/10 [00:00<00:00, 14.87 Samples/s] \n"
     ]
    },
    {
     "name": "stdout",
     "output_type": "stream",
     "text": [
      "Initialised with 1032 image(s) found.\n",
      "Output directory set to C:\\Users\\Pooja\\Documents\\Stone\\stone\\Augmentation/."
     ]
    },
    {
     "name": "stderr",
     "output_type": "stream",
     "text": [
      "Processing <PIL.Image.Image image mode=RGB size=787x636 at 0x2923F899850>: 100%|██████████| 10/10 [00:00<00:00, 20.16 Samples/s]\n"
     ]
    },
    {
     "name": "stdout",
     "output_type": "stream",
     "text": [
      "Initialised with 1032 image(s) found.\n",
      "Output directory set to C:\\Users\\Pooja\\Documents\\Stone\\stone\\Augmentation/."
     ]
    },
    {
     "name": "stderr",
     "output_type": "stream",
     "text": [
      "Processing <PIL.Image.Image image mode=RGB size=512x512 at 0x2923F4EEA60>: 100%|██████████| 10/10 [00:00<00:00, 18.01 Samples/s] \n"
     ]
    },
    {
     "name": "stdout",
     "output_type": "stream",
     "text": [
      "Initialised with 1032 image(s) found.\n",
      "Output directory set to C:\\Users\\Pooja\\Documents\\Stone\\stone\\Augmentation/."
     ]
    },
    {
     "name": "stderr",
     "output_type": "stream",
     "text": [
      "Processing <PIL.Image.Image image mode=RGB size=888x719 at 0x2923F84DBE0>: 100%|██████████| 10/10 [00:00<00:00, 24.11 Samples/s]\n"
     ]
    },
    {
     "name": "stdout",
     "output_type": "stream",
     "text": [
      "Initialised with 1032 image(s) found.\n",
      "Output directory set to C:\\Users\\Pooja\\Documents\\Stone\\stone\\Augmentation/."
     ]
    },
    {
     "name": "stderr",
     "output_type": "stream",
     "text": [
      "Processing <PIL.Image.Image image mode=RGB size=855x691 at 0x2923F8D2A90>: 100%|██████████| 10/10 [00:00<00:00, 18.07 Samples/s] \n"
     ]
    },
    {
     "name": "stdout",
     "output_type": "stream",
     "text": [
      "Initialised with 1032 image(s) found.\n",
      "Output directory set to C:\\Users\\Pooja\\Documents\\Stone\\stone\\Augmentation/."
     ]
    },
    {
     "name": "stderr",
     "output_type": "stream",
     "text": [
      "Processing <PIL.Image.Image image mode=RGB size=512x512 at 0x2923F899BE0>: 100%|██████████| 10/10 [00:00<00:00, 24.53 Samples/s] \n"
     ]
    },
    {
     "name": "stdout",
     "output_type": "stream",
     "text": [
      "Initialised with 1032 image(s) found.\n",
      "Output directory set to C:\\Users\\Pooja\\Documents\\Stone\\stone\\Augmentation/."
     ]
    },
    {
     "name": "stderr",
     "output_type": "stream",
     "text": [
      "Processing <PIL.Image.Image image mode=RGB size=512x512 at 0x2923F490B20>: 100%|██████████| 10/10 [00:00<00:00, 29.41 Samples/s] \n"
     ]
    },
    {
     "name": "stdout",
     "output_type": "stream",
     "text": [
      "Initialised with 1032 image(s) found.\n",
      "Output directory set to C:\\Users\\Pooja\\Documents\\Stone\\stone\\Augmentation/."
     ]
    },
    {
     "name": "stderr",
     "output_type": "stream",
     "text": [
      "Processing <PIL.Image.Image image mode=RGB size=888x719 at 0x2923F84D3D0>: 100%|██████████| 10/10 [00:00<00:00, 27.66 Samples/s]\n"
     ]
    },
    {
     "name": "stdout",
     "output_type": "stream",
     "text": [
      "Initialised with 1032 image(s) found.\n",
      "Output directory set to C:\\Users\\Pooja\\Documents\\Stone\\stone\\Augmentation/."
     ]
    },
    {
     "name": "stderr",
     "output_type": "stream",
     "text": [
      "Processing <PIL.Image.Image image mode=RGB size=512x512 at 0x2923F4EEC70>: 100%|██████████| 10/10 [00:00<00:00, 20.46 Samples/s] \n"
     ]
    },
    {
     "name": "stdout",
     "output_type": "stream",
     "text": [
      "Initialised with 1032 image(s) found.\n",
      "Output directory set to C:\\Users\\Pooja\\Documents\\Stone\\stone\\Augmentation/."
     ]
    },
    {
     "name": "stderr",
     "output_type": "stream",
     "text": [
      "Processing <PIL.Image.Image image mode=RGB size=512x512 at 0x2923F872670>: 100%|██████████| 10/10 [00:00<00:00, 35.73 Samples/s]\n"
     ]
    },
    {
     "name": "stdout",
     "output_type": "stream",
     "text": [
      "Initialised with 1032 image(s) found.\n",
      "Output directory set to C:\\Users\\Pooja\\Documents\\Stone\\stone\\Augmentation/."
     ]
    },
    {
     "name": "stderr",
     "output_type": "stream",
     "text": [
      "Processing <PIL.Image.Image image mode=RGB size=512x512 at 0x292407CC5B0>: 100%|██████████| 10/10 [00:00<00:00, 12.95 Samples/s] \n"
     ]
    },
    {
     "name": "stdout",
     "output_type": "stream",
     "text": [
      "Initialised with 1032 image(s) found.\n",
      "Output directory set to C:\\Users\\Pooja\\Documents\\Stone\\stone\\Augmentation/."
     ]
    },
    {
     "name": "stderr",
     "output_type": "stream",
     "text": [
      "Processing <PIL.Image.Image image mode=RGB size=512x512 at 0x2923F8723A0>: 100%|██████████| 10/10 [00:00<00:00, 11.97 Samples/s] \n"
     ]
    },
    {
     "name": "stdout",
     "output_type": "stream",
     "text": [
      "Initialised with 1032 image(s) found.\n",
      "Output directory set to C:\\Users\\Pooja\\Documents\\Stone\\stone\\Augmentation/."
     ]
    },
    {
     "name": "stderr",
     "output_type": "stream",
     "text": [
      "Processing <PIL.Image.Image image mode=RGB size=512x512 at 0x2923F490DF0>: 100%|██████████| 10/10 [00:00<00:00, 17.77 Samples/s] \n"
     ]
    },
    {
     "name": "stdout",
     "output_type": "stream",
     "text": [
      "Initialised with 1032 image(s) found.\n",
      "Output directory set to C:\\Users\\Pooja\\Documents\\Stone\\stone\\Augmentation/."
     ]
    },
    {
     "name": "stderr",
     "output_type": "stream",
     "text": [
      "Processing <PIL.Image.Image image mode=RGB size=512x512 at 0x2923F2DDC10>: 100%|██████████| 10/10 [00:00<00:00, 17.09 Samples/s]                 \n"
     ]
    },
    {
     "name": "stdout",
     "output_type": "stream",
     "text": [
      "Initialised with 1032 image(s) found.\n",
      "Output directory set to C:\\Users\\Pooja\\Documents\\Stone\\stone\\Augmentation/."
     ]
    },
    {
     "name": "stderr",
     "output_type": "stream",
     "text": [
      "Processing <PIL.Image.Image image mode=RGB size=512x512 at 0x292407CCB50>: 100%|██████████| 10/10 [00:00<00:00, 17.56 Samples/s] \n"
     ]
    },
    {
     "name": "stdout",
     "output_type": "stream",
     "text": [
      "Initialised with 1032 image(s) found.\n",
      "Output directory set to C:\\Users\\Pooja\\Documents\\Stone\\stone\\Augmentation/."
     ]
    },
    {
     "name": "stderr",
     "output_type": "stream",
     "text": [
      "Processing <PIL.Image.Image image mode=RGB size=512x512 at 0x2923F899F40>: 100%|██████████| 10/10 [00:00<00:00, 23.77 Samples/s] \n"
     ]
    },
    {
     "name": "stdout",
     "output_type": "stream",
     "text": [
      "Initialised with 1032 image(s) found.\n",
      "Output directory set to C:\\Users\\Pooja\\Documents\\Stone\\stone\\Augmentation/."
     ]
    },
    {
     "name": "stderr",
     "output_type": "stream",
     "text": [
      "Processing <PIL.Image.Image image mode=RGB size=804x651 at 0x2923F4908E0>: 100%|██████████| 10/10 [00:00<00:00, 21.60 Samples/s]\n"
     ]
    },
    {
     "name": "stdout",
     "output_type": "stream",
     "text": [
      "Initialised with 1032 image(s) found.\n",
      "Output directory set to C:\\Users\\Pooja\\Documents\\Stone\\stone\\Augmentation/."
     ]
    },
    {
     "name": "stderr",
     "output_type": "stream",
     "text": [
      "Processing <PIL.Image.Image image mode=RGB size=512x512 at 0x2923F84D3D0>: 100%|██████████| 10/10 [00:01<00:00,  5.98 Samples/s]                 \n"
     ]
    },
    {
     "name": "stdout",
     "output_type": "stream",
     "text": [
      "Initialised with 1032 image(s) found.\n",
      "Output directory set to C:\\Users\\Pooja\\Documents\\Stone\\stone\\Augmentation/."
     ]
    },
    {
     "name": "stderr",
     "output_type": "stream",
     "text": [
      "Processing <PIL.Image.Image image mode=RGB size=512x512 at 0x292407C4550>: 100%|██████████| 10/10 [00:00<00:00, 24.50 Samples/s] \n"
     ]
    },
    {
     "name": "stdout",
     "output_type": "stream",
     "text": [
      "Initialised with 1032 image(s) found.\n",
      "Output directory set to C:\\Users\\Pooja\\Documents\\Stone\\stone\\Augmentation/."
     ]
    },
    {
     "name": "stderr",
     "output_type": "stream",
     "text": [
      "Processing <PIL.Image.Image image mode=RGB size=512x512 at 0x2923F84DA30>: 100%|██████████| 10/10 [00:00<00:00, 17.12 Samples/s] \n"
     ]
    },
    {
     "name": "stdout",
     "output_type": "stream",
     "text": [
      "Initialised with 1032 image(s) found.\n",
      "Output directory set to C:\\Users\\Pooja\\Documents\\Stone\\stone\\Augmentation/."
     ]
    },
    {
     "name": "stderr",
     "output_type": "stream",
     "text": [
      "Processing <PIL.Image.Image image mode=RGB size=512x512 at 0x292407C44F0>: 100%|██████████| 10/10 [00:00<00:00, 23.58 Samples/s]                 \n"
     ]
    },
    {
     "name": "stdout",
     "output_type": "stream",
     "text": [
      "Initialised with 1032 image(s) found.\n",
      "Output directory set to C:\\Users\\Pooja\\Documents\\Stone\\stone\\Augmentation/."
     ]
    },
    {
     "name": "stderr",
     "output_type": "stream",
     "text": [
      "Processing <PIL.Image.Image image mode=RGB size=512x512 at 0x2923F84D1C0>: 100%|██████████| 10/10 [00:00<00:00, 18.60 Samples/s] \n"
     ]
    },
    {
     "name": "stdout",
     "output_type": "stream",
     "text": [
      "Initialised with 1032 image(s) found.\n",
      "Output directory set to C:\\Users\\Pooja\\Documents\\Stone\\stone\\Augmentation/."
     ]
    },
    {
     "name": "stderr",
     "output_type": "stream",
     "text": [
      "Processing <PIL.Image.Image image mode=RGB size=512x512 at 0x2923F8A00D0>: 100%|██████████| 10/10 [00:00<00:00, 20.75 Samples/s]\n"
     ]
    },
    {
     "name": "stdout",
     "output_type": "stream",
     "text": [
      "Initialised with 1032 image(s) found.\n",
      "Output directory set to C:\\Users\\Pooja\\Documents\\Stone\\stone\\Augmentation/."
     ]
    },
    {
     "name": "stderr",
     "output_type": "stream",
     "text": [
      "Processing <PIL.Image.Image image mode=RGB size=512x512 at 0x2923F872700>: 100%|██████████| 10/10 [00:00<00:00, 18.50 Samples/s] \n"
     ]
    },
    {
     "name": "stdout",
     "output_type": "stream",
     "text": [
      "Initialised with 1032 image(s) found.\n",
      "Output directory set to C:\\Users\\Pooja\\Documents\\Stone\\stone\\Augmentation/."
     ]
    },
    {
     "name": "stderr",
     "output_type": "stream",
     "text": [
      "Processing <PIL.Image.Image image mode=RGB size=512x512 at 0x2923F8774F0>: 100%|██████████| 10/10 [00:00<00:00, 40.51 Samples/s]\n"
     ]
    },
    {
     "name": "stdout",
     "output_type": "stream",
     "text": [
      "Initialised with 1032 image(s) found.\n",
      "Output directory set to C:\\Users\\Pooja\\Documents\\Stone\\stone\\Augmentation/."
     ]
    },
    {
     "name": "stderr",
     "output_type": "stream",
     "text": [
      "Processing <PIL.Image.Image image mode=RGB size=512x512 at 0x2923F899F40>: 100%|██████████| 10/10 [00:00<00:00, 19.05 Samples/s]\n"
     ]
    },
    {
     "name": "stdout",
     "output_type": "stream",
     "text": [
      "Initialised with 1032 image(s) found.\n",
      "Output directory set to C:\\Users\\Pooja\\Documents\\Stone\\stone\\Augmentation/."
     ]
    },
    {
     "name": "stderr",
     "output_type": "stream",
     "text": [
      "Processing <PIL.Image.Image image mode=RGB size=512x512 at 0x2923F8A0CA0>: 100%|██████████| 10/10 [00:00<00:00, 16.28 Samples/s] \n"
     ]
    },
    {
     "name": "stdout",
     "output_type": "stream",
     "text": [
      "Initialised with 1032 image(s) found.\n",
      "Output directory set to C:\\Users\\Pooja\\Documents\\Stone\\stone\\Augmentation/."
     ]
    },
    {
     "name": "stderr",
     "output_type": "stream",
     "text": [
      "Processing <PIL.Image.Image image mode=RGB size=512x512 at 0x2923F8E6670>: 100%|██████████| 10/10 [00:00<00:00, 20.35 Samples/s] \n"
     ]
    },
    {
     "name": "stdout",
     "output_type": "stream",
     "text": [
      "Initialised with 1032 image(s) found.\n",
      "Output directory set to C:\\Users\\Pooja\\Documents\\Stone\\stone\\Augmentation/."
     ]
    },
    {
     "name": "stderr",
     "output_type": "stream",
     "text": [
      "Processing <PIL.Image.Image image mode=RGB size=512x512 at 0x292407C4130>: 100%|██████████| 10/10 [00:00<00:00, 30.93 Samples/s]\n"
     ]
    },
    {
     "name": "stdout",
     "output_type": "stream",
     "text": [
      "Initialised with 1032 image(s) found.\n",
      "Output directory set to C:\\Users\\Pooja\\Documents\\Stone\\stone\\Augmentation/."
     ]
    },
    {
     "name": "stderr",
     "output_type": "stream",
     "text": [
      "Processing <PIL.Image.Image image mode=RGB size=888x719 at 0x2923F84D100>: 100%|██████████| 10/10 [00:00<00:00, 13.74 Samples/s] \n"
     ]
    },
    {
     "name": "stdout",
     "output_type": "stream",
     "text": [
      "Initialised with 1032 image(s) found.\n",
      "Output directory set to C:\\Users\\Pooja\\Documents\\Stone\\stone\\Augmentation/."
     ]
    },
    {
     "name": "stderr",
     "output_type": "stream",
     "text": [
      "Processing <PIL.Image.Image image mode=RGB size=1236x1001 at 0x2923F8773A0>: 100%|██████████| 10/10 [00:00<00:00, 23.82 Samples/s]\n"
     ]
    },
    {
     "name": "stdout",
     "output_type": "stream",
     "text": [
      "Initialised with 1032 image(s) found.\n",
      "Output directory set to C:\\Users\\Pooja\\Documents\\Stone\\stone\\Augmentation/."
     ]
    },
    {
     "name": "stderr",
     "output_type": "stream",
     "text": [
      "Processing <PIL.Image.Image image mode=RGB size=512x512 at 0x2923F8E6910>: 100%|██████████| 10/10 [00:00<00:00, 25.24 Samples/s]\n"
     ]
    },
    {
     "name": "stdout",
     "output_type": "stream",
     "text": [
      "Initialised with 1032 image(s) found.\n",
      "Output directory set to C:\\Users\\Pooja\\Documents\\Stone\\stone\\Augmentation/."
     ]
    },
    {
     "name": "stderr",
     "output_type": "stream",
     "text": [
      "Processing <PIL.Image.Image image mode=RGB size=512x512 at 0x292407C4820>: 100%|██████████| 10/10 [00:00<00:00, 24.84 Samples/s] \n"
     ]
    },
    {
     "name": "stdout",
     "output_type": "stream",
     "text": [
      "Initialised with 1032 image(s) found.\n",
      "Output directory set to C:\\Users\\Pooja\\Documents\\Stone\\stone\\Augmentation/."
     ]
    },
    {
     "name": "stderr",
     "output_type": "stream",
     "text": [
      "Processing <PIL.Image.Image image mode=RGB size=787x636 at 0x2923F84DA60>: 100%|██████████| 10/10 [00:00<00:00, 20.73 Samples/s] \n"
     ]
    },
    {
     "name": "stdout",
     "output_type": "stream",
     "text": [
      "Initialised with 1032 image(s) found.\n",
      "Output directory set to C:\\Users\\Pooja\\Documents\\Stone\\stone\\Augmentation/."
     ]
    },
    {
     "name": "stderr",
     "output_type": "stream",
     "text": [
      "Processing <PIL.Image.Image image mode=RGB size=512x512 at 0x2923F8A0460>: 100%|██████████| 10/10 [00:00<00:00, 14.53 Samples/s] \n"
     ]
    },
    {
     "name": "stdout",
     "output_type": "stream",
     "text": [
      "Initialised with 1032 image(s) found.\n",
      "Output directory set to C:\\Users\\Pooja\\Documents\\Stone\\stone\\Augmentation/."
     ]
    },
    {
     "name": "stderr",
     "output_type": "stream",
     "text": [
      "Processing <PIL.Image.Image image mode=RGB size=1118x905 at 0x2923F84D460>: 100%|██████████| 10/10 [00:01<00:00,  6.16 Samples/s]\n"
     ]
    },
    {
     "name": "stdout",
     "output_type": "stream",
     "text": [
      "Initialised with 1032 image(s) found.\n",
      "Output directory set to C:\\Users\\Pooja\\Documents\\Stone\\stone\\Augmentation/."
     ]
    },
    {
     "name": "stderr",
     "output_type": "stream",
     "text": [
      "Processing <PIL.Image.Image image mode=RGB size=512x512 at 0x2923F877B20>: 100%|██████████| 10/10 [00:00<00:00, 12.11 Samples/s] \n"
     ]
    },
    {
     "name": "stdout",
     "output_type": "stream",
     "text": [
      "Initialised with 1032 image(s) found.\n",
      "Output directory set to C:\\Users\\Pooja\\Documents\\Stone\\stone\\Augmentation/."
     ]
    },
    {
     "name": "stderr",
     "output_type": "stream",
     "text": [
      "Processing <PIL.Image.Image image mode=RGB size=745x602 at 0x2923F8D2040>: 100%|██████████| 10/10 [00:00<00:00, 26.29 Samples/s] \n"
     ]
    },
    {
     "name": "stdout",
     "output_type": "stream",
     "text": [
      "Initialised with 1032 image(s) found.\n",
      "Output directory set to C:\\Users\\Pooja\\Documents\\Stone\\stone\\Augmentation/."
     ]
    },
    {
     "name": "stderr",
     "output_type": "stream",
     "text": [
      "Processing <PIL.Image.Image image mode=RGB size=512x512 at 0x29235589CD0>: 100%|██████████| 10/10 [00:00<00:00, 19.93 Samples/s] \n"
     ]
    },
    {
     "name": "stdout",
     "output_type": "stream",
     "text": [
      "Initialised with 1032 image(s) found.\n",
      "Output directory set to C:\\Users\\Pooja\\Documents\\Stone\\stone\\Augmentation/."
     ]
    },
    {
     "name": "stderr",
     "output_type": "stream",
     "text": [
      "Processing <PIL.Image.Image image mode=RGB size=512x512 at 0x2923F8D2F70>: 100%|██████████| 10/10 [00:00<00:00, 31.13 Samples/s]\n"
     ]
    },
    {
     "name": "stdout",
     "output_type": "stream",
     "text": [
      "Initialised with 1032 image(s) found.\n",
      "Output directory set to C:\\Users\\Pooja\\Documents\\Stone\\stone\\Augmentation/."
     ]
    },
    {
     "name": "stderr",
     "output_type": "stream",
     "text": [
      "Processing <PIL.Image.Image image mode=RGB size=787x636 at 0x2923F877100>: 100%|██████████| 10/10 [00:00<00:00, 15.65 Samples/s] \n"
     ]
    },
    {
     "name": "stdout",
     "output_type": "stream",
     "text": [
      "Initialised with 1032 image(s) found.\n",
      "Output directory set to C:\\Users\\Pooja\\Documents\\Stone\\stone\\Augmentation/."
     ]
    },
    {
     "name": "stderr",
     "output_type": "stream",
     "text": [
      "Processing <PIL.Image.Image image mode=RGB size=1236x1001 at 0x2923F8D2E20>: 100%|██████████| 10/10 [00:00<00:00, 17.41 Samples/s]\n"
     ]
    },
    {
     "name": "stdout",
     "output_type": "stream",
     "text": [
      "Initialised with 1032 image(s) found.\n",
      "Output directory set to C:\\Users\\Pooja\\Documents\\Stone\\stone\\Augmentation/."
     ]
    },
    {
     "name": "stderr",
     "output_type": "stream",
     "text": [
      "Processing <PIL.Image.Image image mode=RGB size=1236x1001 at 0x2923F8A0AC0>: 100%|██████████| 10/10 [00:00<00:00, 17.54 Samples/s]               \n"
     ]
    },
    {
     "name": "stdout",
     "output_type": "stream",
     "text": [
      "Initialised with 1032 image(s) found.\n",
      "Output directory set to C:\\Users\\Pooja\\Documents\\Stone\\stone\\Augmentation/."
     ]
    },
    {
     "name": "stderr",
     "output_type": "stream",
     "text": [
      "Processing <PIL.Image.Image image mode=RGB size=512x512 at 0x2923F872D60>: 100%|██████████| 10/10 [00:00<00:00, 37.22 Samples/s] \n"
     ]
    },
    {
     "name": "stdout",
     "output_type": "stream",
     "text": [
      "Initialised with 1032 image(s) found.\n",
      "Output directory set to C:\\Users\\Pooja\\Documents\\Stone\\stone\\Augmentation/."
     ]
    },
    {
     "name": "stderr",
     "output_type": "stream",
     "text": [
      "Processing <PIL.Image.Image image mode=RGB size=512x512 at 0x2923F8A0850>: 100%|██████████| 10/10 [00:00<00:00, 34.86 Samples/s] \n"
     ]
    },
    {
     "name": "stdout",
     "output_type": "stream",
     "text": [
      "Initialised with 1032 image(s) found.\n",
      "Output directory set to C:\\Users\\Pooja\\Documents\\Stone\\stone\\Augmentation/."
     ]
    },
    {
     "name": "stderr",
     "output_type": "stream",
     "text": [
      "Processing <PIL.Image.Image image mode=RGB size=855x691 at 0x2923F84D730>: 100%|██████████| 10/10 [00:00<00:00, 21.14 Samples/s] \n"
     ]
    },
    {
     "name": "stdout",
     "output_type": "stream",
     "text": [
      "Initialised with 1032 image(s) found.\n",
      "Output directory set to C:\\Users\\Pooja\\Documents\\Stone\\stone\\Augmentation/."
     ]
    },
    {
     "name": "stderr",
     "output_type": "stream",
     "text": [
      "Processing <PIL.Image.Image image mode=RGB size=512x512 at 0x29235589850>: 100%|██████████| 10/10 [00:00<00:00, 29.50 Samples/s]\n"
     ]
    },
    {
     "name": "stdout",
     "output_type": "stream",
     "text": [
      "Initialised with 1032 image(s) found.\n",
      "Output directory set to C:\\Users\\Pooja\\Documents\\Stone\\stone\\Augmentation/."
     ]
    },
    {
     "name": "stderr",
     "output_type": "stream",
     "text": [
      "Processing <PIL.Image.Image image mode=RGB size=512x512 at 0x2923F8722B0>: 100%|██████████| 10/10 [00:00<00:00, 23.96 Samples/s]                 \n"
     ]
    },
    {
     "name": "stdout",
     "output_type": "stream",
     "text": [
      "Initialised with 1032 image(s) found.\n",
      "Output directory set to C:\\Users\\Pooja\\Documents\\Stone\\stone\\Augmentation/."
     ]
    },
    {
     "name": "stderr",
     "output_type": "stream",
     "text": [
      "Processing <PIL.Image.Image image mode=RGB size=888x719 at 0x292355895E0>: 100%|██████████| 10/10 [00:00<00:00, 30.41 Samples/s]\n"
     ]
    },
    {
     "name": "stdout",
     "output_type": "stream",
     "text": [
      "Initialised with 1032 image(s) found.\n",
      "Output directory set to C:\\Users\\Pooja\\Documents\\Stone\\stone\\Augmentation/."
     ]
    },
    {
     "name": "stderr",
     "output_type": "stream",
     "text": [
      "Processing <PIL.Image.Image image mode=RGB size=838x679 at 0x2923F84D3D0>: 100%|██████████| 10/10 [00:00<00:00, 20.99 Samples/s]\n"
     ]
    },
    {
     "name": "stdout",
     "output_type": "stream",
     "text": [
      "Initialised with 1032 image(s) found.\n",
      "Output directory set to C:\\Users\\Pooja\\Documents\\Stone\\stone\\Augmentation/."
     ]
    },
    {
     "name": "stderr",
     "output_type": "stream",
     "text": [
      "Processing <PIL.Image.Image image mode=RGB size=1118x905 at 0x2923F8A0BE0>: 100%|██████████| 10/10 [00:00<00:00, 21.34 Samples/s]\n"
     ]
    },
    {
     "name": "stdout",
     "output_type": "stream",
     "text": [
      "Initialised with 1032 image(s) found.\n",
      "Output directory set to C:\\Users\\Pooja\\Documents\\Stone\\stone\\Augmentation/."
     ]
    },
    {
     "name": "stderr",
     "output_type": "stream",
     "text": [
      "Processing <PIL.Image.Image image mode=RGB size=888x719 at 0x2923F8FDBE0>: 100%|██████████| 10/10 [00:00<00:00, 18.98 Samples/s]\n"
     ]
    },
    {
     "name": "stdout",
     "output_type": "stream",
     "text": [
      "Initialised with 1032 image(s) found.\n",
      "Output directory set to C:\\Users\\Pooja\\Documents\\Stone\\stone\\Augmentation/."
     ]
    },
    {
     "name": "stderr",
     "output_type": "stream",
     "text": [
      "Processing <PIL.Image.Image image mode=RGB size=888x719 at 0x2923F8A0040>: 100%|██████████| 10/10 [00:00<00:00, 31.32 Samples/s]\n"
     ]
    },
    {
     "name": "stdout",
     "output_type": "stream",
     "text": [
      "Initialised with 1032 image(s) found.\n",
      "Output directory set to C:\\Users\\Pooja\\Documents\\Stone\\stone\\Augmentation/."
     ]
    },
    {
     "name": "stderr",
     "output_type": "stream",
     "text": [
      "Processing <PIL.Image.Image image mode=RGB size=512x512 at 0x2923F8FDDC0>: 100%|██████████| 10/10 [00:00<00:00, 35.82 Samples/s]\n"
     ]
    },
    {
     "name": "stdout",
     "output_type": "stream",
     "text": [
      "Initialised with 1032 image(s) found.\n",
      "Output directory set to C:\\Users\\Pooja\\Documents\\Stone\\stone\\Augmentation/."
     ]
    },
    {
     "name": "stderr",
     "output_type": "stream",
     "text": [
      "Processing <PIL.Image.Image image mode=RGB size=512x512 at 0x2923F8A0DC0>: 100%|██████████| 10/10 [00:00<00:00, 19.79 Samples/s] \n"
     ]
    },
    {
     "name": "stdout",
     "output_type": "stream",
     "text": [
      "Initialised with 1032 image(s) found.\n",
      "Output directory set to C:\\Users\\Pooja\\Documents\\Stone\\stone\\Augmentation/."
     ]
    },
    {
     "name": "stderr",
     "output_type": "stream",
     "text": [
      "Processing <PIL.Image.Image image mode=RGB size=1118x905 at 0x2923F4D77C0>: 100%|██████████| 10/10 [00:00<00:00, 13.30 Samples/s]\n"
     ]
    },
    {
     "name": "stdout",
     "output_type": "stream",
     "text": [
      "Initialised with 1032 image(s) found.\n",
      "Output directory set to C:\\Users\\Pooja\\Documents\\Stone\\stone\\Augmentation/."
     ]
    },
    {
     "name": "stderr",
     "output_type": "stream",
     "text": [
      "Processing <PIL.Image.Image image mode=RGB size=713x576 at 0x292407C4790>: 100%|██████████| 10/10 [00:01<00:00,  7.36 Samples/s] \n"
     ]
    },
    {
     "name": "stdout",
     "output_type": "stream",
     "text": [
      "Initialised with 1032 image(s) found.\n",
      "Output directory set to C:\\Users\\Pooja\\Documents\\Stone\\stone\\Augmentation/."
     ]
    },
    {
     "name": "stderr",
     "output_type": "stream",
     "text": [
      "Processing <PIL.Image.Image image mode=RGB size=512x512 at 0x2923F4D79A0>: 100%|██████████| 10/10 [00:01<00:00,  9.97 Samples/s] \n"
     ]
    },
    {
     "name": "stdout",
     "output_type": "stream",
     "text": [
      "Initialised with 1032 image(s) found.\n",
      "Output directory set to C:\\Users\\Pooja\\Documents\\Stone\\stone\\Augmentation/."
     ]
    },
    {
     "name": "stderr",
     "output_type": "stream",
     "text": [
      "Processing <PIL.Image.Image image mode=RGB size=512x512 at 0x2923F8A0790>: 100%|██████████| 10/10 [00:00<00:00, 34.34 Samples/s]\n"
     ]
    },
    {
     "name": "stdout",
     "output_type": "stream",
     "text": [
      "Initialised with 1032 image(s) found.\n",
      "Output directory set to C:\\Users\\Pooja\\Documents\\Stone\\stone\\Augmentation/."
     ]
    },
    {
     "name": "stderr",
     "output_type": "stream",
     "text": [
      "Processing <PIL.Image.Image image mode=RGB size=512x512 at 0x2923F2DDB20>: 100%|██████████| 10/10 [00:00<00:00, 24.59 Samples/s]\n"
     ]
    },
    {
     "name": "stdout",
     "output_type": "stream",
     "text": [
      "Initialised with 1032 image(s) found.\n",
      "Output directory set to C:\\Users\\Pooja\\Documents\\Stone\\stone\\Augmentation/."
     ]
    },
    {
     "name": "stderr",
     "output_type": "stream",
     "text": [
      "Processing <PIL.Image.Image image mode=RGB size=512x512 at 0x292407C4070>: 100%|██████████| 10/10 [00:00<00:00, 15.77 Samples/s] \n"
     ]
    },
    {
     "name": "stdout",
     "output_type": "stream",
     "text": [
      "Initialised with 1032 image(s) found.\n",
      "Output directory set to C:\\Users\\Pooja\\Documents\\Stone\\stone\\Augmentation/."
     ]
    },
    {
     "name": "stderr",
     "output_type": "stream",
     "text": [
      "Processing <PIL.Image.Image image mode=RGB size=512x512 at 0x2923F2DD970>: 100%|██████████| 10/10 [00:00<00:00, 30.48 Samples/s]                 \n"
     ]
    },
    {
     "name": "stdout",
     "output_type": "stream",
     "text": [
      "Initialised with 1032 image(s) found.\n",
      "Output directory set to C:\\Users\\Pooja\\Documents\\Stone\\stone\\Augmentation/."
     ]
    },
    {
     "name": "stderr",
     "output_type": "stream",
     "text": [
      "Processing <PIL.Image.Image image mode=RGB size=512x512 at 0x2923F8A0A90>: 100%|██████████| 10/10 [00:00<00:00, 15.76 Samples/s] \n"
     ]
    },
    {
     "name": "stdout",
     "output_type": "stream",
     "text": [
      "Initialised with 1032 image(s) found.\n",
      "Output directory set to C:\\Users\\Pooja\\Documents\\Stone\\stone\\Augmentation/."
     ]
    },
    {
     "name": "stderr",
     "output_type": "stream",
     "text": [
      "Processing <PIL.Image.Image image mode=RGB size=1236x1001 at 0x2923F2DD370>: 100%|██████████| 10/10 [00:00<00:00, 13.93 Samples/s]\n"
     ]
    },
    {
     "name": "stdout",
     "output_type": "stream",
     "text": [
      "Initialised with 1032 image(s) found.\n",
      "Output directory set to C:\\Users\\Pooja\\Documents\\Stone\\stone\\Augmentation/."
     ]
    },
    {
     "name": "stderr",
     "output_type": "stream",
     "text": [
      "Processing <PIL.JpegImagePlugin.JpegImageFile image mode=RGB size=512x512 at 0x2923F877FA0>: 100%|██████████| 10/10 [00:00<00:00, 23.66 Samples/s]\n"
     ]
    },
    {
     "name": "stdout",
     "output_type": "stream",
     "text": [
      "Initialised with 1032 image(s) found.\n",
      "Output directory set to C:\\Users\\Pooja\\Documents\\Stone\\stone\\Augmentation/."
     ]
    },
    {
     "name": "stderr",
     "output_type": "stream",
     "text": [
      "Processing <PIL.Image.Image image mode=RGB size=512x512 at 0x2923F8FDE50>: 100%|██████████| 10/10 [00:00<00:00, 19.93 Samples/s] \n"
     ]
    },
    {
     "name": "stdout",
     "output_type": "stream",
     "text": [
      "Initialised with 1032 image(s) found.\n",
      "Output directory set to C:\\Users\\Pooja\\Documents\\Stone\\stone\\Augmentation/."
     ]
    },
    {
     "name": "stderr",
     "output_type": "stream",
     "text": [
      "Processing <PIL.Image.Image image mode=RGB size=1236x1001 at 0x2923F877D90>: 100%|██████████| 10/10 [00:00<00:00, 22.93 Samples/s]               \n"
     ]
    },
    {
     "name": "stdout",
     "output_type": "stream",
     "text": [
      "Initialised with 1032 image(s) found.\n",
      "Output directory set to C:\\Users\\Pooja\\Documents\\Stone\\stone\\Augmentation/."
     ]
    },
    {
     "name": "stderr",
     "output_type": "stream",
     "text": [
      "Processing <PIL.Image.Image image mode=RGB size=512x512 at 0x2923F2DD370>: 100%|██████████| 10/10 [00:00<00:00, 20.95 Samples/s] \n"
     ]
    },
    {
     "name": "stdout",
     "output_type": "stream",
     "text": [
      "Initialised with 1032 image(s) found.\n",
      "Output directory set to C:\\Users\\Pooja\\Documents\\Stone\\stone\\Augmentation/."
     ]
    },
    {
     "name": "stderr",
     "output_type": "stream",
     "text": [
      "Processing <PIL.Image.Image image mode=RGB size=832x674 at 0x292407C40A0>: 100%|██████████| 10/10 [00:01<00:00,  6.86 Samples/s]                 \n"
     ]
    },
    {
     "name": "stdout",
     "output_type": "stream",
     "text": [
      "Initialised with 1032 image(s) found.\n",
      "Output directory set to C:\\Users\\Pooja\\Documents\\Stone\\stone\\Augmentation/."
     ]
    },
    {
     "name": "stderr",
     "output_type": "stream",
     "text": [
      "Processing <PIL.Image.Image image mode=RGB size=888x719 at 0x2923F8FDBB0>: 100%|██████████| 10/10 [00:01<00:00,  6.96 Samples/s] \n"
     ]
    },
    {
     "name": "stdout",
     "output_type": "stream",
     "text": [
      "Initialised with 1032 image(s) found.\n",
      "Output directory set to C:\\Users\\Pooja\\Documents\\Stone\\stone\\Augmentation/."
     ]
    },
    {
     "name": "stderr",
     "output_type": "stream",
     "text": [
      "Processing <PIL.Image.Image image mode=RGB size=512x512 at 0x2923F8A0460>: 100%|██████████| 10/10 [00:00<00:00, 14.91 Samples/s] \n"
     ]
    },
    {
     "name": "stdout",
     "output_type": "stream",
     "text": [
      "Initialised with 1032 image(s) found.\n",
      "Output directory set to C:\\Users\\Pooja\\Documents\\Stone\\stone\\Augmentation/."
     ]
    },
    {
     "name": "stderr",
     "output_type": "stream",
     "text": [
      "Processing <PIL.Image.Image image mode=RGB size=1118x905 at 0x2923F8FD8B0>: 100%|██████████| 10/10 [00:00<00:00, 15.65 Samples/s]\n"
     ]
    },
    {
     "name": "stdout",
     "output_type": "stream",
     "text": [
      "Initialised with 1032 image(s) found.\n",
      "Output directory set to C:\\Users\\Pooja\\Documents\\Stone\\stone\\Augmentation/."
     ]
    },
    {
     "name": "stderr",
     "output_type": "stream",
     "text": [
      "Processing <PIL.Image.Image image mode=RGB size=512x512 at 0x2923F877AC0>: 100%|██████████| 10/10 [00:00<00:00, 18.36 Samples/s] \n"
     ]
    },
    {
     "name": "stdout",
     "output_type": "stream",
     "text": [
      "Initialised with 1032 image(s) found.\n",
      "Output directory set to C:\\Users\\Pooja\\Documents\\Stone\\stone\\Augmentation/."
     ]
    },
    {
     "name": "stderr",
     "output_type": "stream",
     "text": [
      "Processing <PIL.Image.Image image mode=RGB size=512x512 at 0x2923F8FD820>: 100%|██████████| 10/10 [00:00<00:00, 11.69 Samples/s] \n"
     ]
    },
    {
     "name": "stdout",
     "output_type": "stream",
     "text": [
      "Initialised with 1032 image(s) found.\n",
      "Output directory set to C:\\Users\\Pooja\\Documents\\Stone\\stone\\Augmentation/."
     ]
    },
    {
     "name": "stderr",
     "output_type": "stream",
     "text": [
      "Processing <PIL.Image.Image image mode=RGB size=512x512 at 0x2923F877460>: 100%|██████████| 10/10 [00:00<00:00, 23.93 Samples/s] \n"
     ]
    },
    {
     "name": "stdout",
     "output_type": "stream",
     "text": [
      "Initialised with 1032 image(s) found.\n",
      "Output directory set to C:\\Users\\Pooja\\Documents\\Stone\\stone\\Augmentation/."
     ]
    },
    {
     "name": "stderr",
     "output_type": "stream",
     "text": [
      "Processing <PIL.Image.Image image mode=RGB size=888x719 at 0x2923F8FDEE0>: 100%|██████████| 10/10 [00:00<00:00, 11.63 Samples/s]\n"
     ]
    },
    {
     "name": "stdout",
     "output_type": "stream",
     "text": [
      "Initialised with 1032 image(s) found.\n",
      "Output directory set to C:\\Users\\Pooja\\Documents\\Stone\\stone\\Augmentation/."
     ]
    },
    {
     "name": "stderr",
     "output_type": "stream",
     "text": [
      "Processing <PIL.Image.Image image mode=RGB size=1118x905 at 0x2923F877100>: 100%|██████████| 10/10 [00:00<00:00, 18.21 Samples/s]\n"
     ]
    },
    {
     "name": "stdout",
     "output_type": "stream",
     "text": [
      "Initialised with 1032 image(s) found.\n",
      "Output directory set to C:\\Users\\Pooja\\Documents\\Stone\\stone\\Augmentation/."
     ]
    },
    {
     "name": "stderr",
     "output_type": "stream",
     "text": [
      "Processing <PIL.Image.Image image mode=RGB size=512x512 at 0x2923F4D77C0>: 100%|██████████| 10/10 [00:00<00:00, 22.54 Samples/s] \n"
     ]
    },
    {
     "name": "stdout",
     "output_type": "stream",
     "text": [
      "Initialised with 1032 image(s) found.\n",
      "Output directory set to C:\\Users\\Pooja\\Documents\\Stone\\stone\\Augmentation/."
     ]
    },
    {
     "name": "stderr",
     "output_type": "stream",
     "text": [
      "Processing <PIL.Image.Image image mode=RGB size=512x512 at 0x2923F8777C0>: 100%|██████████| 10/10 [00:00<00:00, 19.35 Samples/s] \n"
     ]
    },
    {
     "name": "stdout",
     "output_type": "stream",
     "text": [
      "Initialised with 1032 image(s) found.\n",
      "Output directory set to C:\\Users\\Pooja\\Documents\\Stone\\stone\\Augmentation/."
     ]
    },
    {
     "name": "stderr",
     "output_type": "stream",
     "text": [
      "Processing <PIL.Image.Image image mode=RGB size=512x512 at 0x2923F8FD550>: 100%|██████████| 10/10 [00:00<00:00, 18.72 Samples/s] \n"
     ]
    },
    {
     "name": "stdout",
     "output_type": "stream",
     "text": [
      "Initialised with 1032 image(s) found.\n",
      "Output directory set to C:\\Users\\Pooja\\Documents\\Stone\\stone\\Augmentation/."
     ]
    },
    {
     "name": "stderr",
     "output_type": "stream",
     "text": [
      "Processing <PIL.Image.Image image mode=RGB size=1118x905 at 0x29235589880>: 100%|██████████| 10/10 [00:00<00:00, 24.04 Samples/s]\n"
     ]
    },
    {
     "name": "stdout",
     "output_type": "stream",
     "text": [
      "Initialised with 1032 image(s) found.\n",
      "Output directory set to C:\\Users\\Pooja\\Documents\\Stone\\stone\\Augmentation/."
     ]
    },
    {
     "name": "stderr",
     "output_type": "stream",
     "text": [
      "Processing <PIL.JpegImagePlugin.JpegImageFile image mode=RGB size=512x512 at 0x2923F774FA0>: 100%|██████████| 10/10 [00:00<00:00, 20.64 Samples/s]\n"
     ]
    },
    {
     "name": "stdout",
     "output_type": "stream",
     "text": [
      "Initialised with 1032 image(s) found.\n",
      "Output directory set to C:\\Users\\Pooja\\Documents\\Stone\\stone\\Augmentation/."
     ]
    },
    {
     "name": "stderr",
     "output_type": "stream",
     "text": [
      "Processing <PIL.Image.Image image mode=RGB size=512x512 at 0x2923F8A0D60>: 100%|██████████| 10/10 [00:00<00:00, 18.39 Samples/s] \n"
     ]
    },
    {
     "name": "stdout",
     "output_type": "stream",
     "text": [
      "Initialised with 1032 image(s) found.\n",
      "Output directory set to C:\\Users\\Pooja\\Documents\\Stone\\stone\\Augmentation/."
     ]
    },
    {
     "name": "stderr",
     "output_type": "stream",
     "text": [
      "Processing <PIL.Image.Image image mode=RGB size=1236x1001 at 0x2923F774B20>: 100%|██████████| 10/10 [00:00<00:00, 22.78 Samples/s]\n"
     ]
    },
    {
     "name": "stdout",
     "output_type": "stream",
     "text": [
      "Initialised with 1032 image(s) found.\n",
      "Output directory set to C:\\Users\\Pooja\\Documents\\Stone\\stone\\Augmentation/."
     ]
    },
    {
     "name": "stderr",
     "output_type": "stream",
     "text": [
      "Processing <PIL.Image.Image image mode=RGB size=512x512 at 0x2923F4EE1F0>: 100%|██████████| 10/10 [00:00<00:00, 28.63 Samples/s] \n"
     ]
    },
    {
     "name": "stdout",
     "output_type": "stream",
     "text": [
      "Initialised with 1032 image(s) found.\n",
      "Output directory set to C:\\Users\\Pooja\\Documents\\Stone\\stone\\Augmentation/."
     ]
    },
    {
     "name": "stderr",
     "output_type": "stream",
     "text": [
      "Processing <PIL.Image.Image image mode=RGB size=1371x1110 at 0x2923F2DD7F0>: 100%|██████████| 10/10 [00:00<00:00, 14.13 Samples/s]               \n"
     ]
    },
    {
     "name": "stdout",
     "output_type": "stream",
     "text": [
      "Initialised with 1032 image(s) found.\n",
      "Output directory set to C:\\Users\\Pooja\\Documents\\Stone\\stone\\Augmentation/."
     ]
    },
    {
     "name": "stderr",
     "output_type": "stream",
     "text": [
      "Processing <PIL.Image.Image image mode=RGB size=512x512 at 0x2923F4EE5E0>: 100%|██████████| 10/10 [00:00<00:00, 15.44 Samples/s] \n"
     ]
    },
    {
     "name": "stdout",
     "output_type": "stream",
     "text": [
      "Initialised with 1032 image(s) found.\n",
      "Output directory set to C:\\Users\\Pooja\\Documents\\Stone\\stone\\Augmentation/."
     ]
    },
    {
     "name": "stderr",
     "output_type": "stream",
     "text": [
      "Processing <PIL.Image.Image image mode=RGB size=512x512 at 0x2923F8FD910>: 100%|██████████| 10/10 [00:00<00:00, 25.50 Samples/s]\n"
     ]
    },
    {
     "name": "stdout",
     "output_type": "stream",
     "text": [
      "Initialised with 1032 image(s) found.\n",
      "Output directory set to C:\\Users\\Pooja\\Documents\\Stone\\stone\\Augmentation/."
     ]
    },
    {
     "name": "stderr",
     "output_type": "stream",
     "text": [
      "Processing <PIL.Image.Image image mode=RGB size=512x512 at 0x292407CC760>: 100%|██████████| 10/10 [00:00<00:00, 14.41 Samples/s] \n"
     ]
    },
    {
     "name": "stdout",
     "output_type": "stream",
     "text": [
      "Initialised with 1032 image(s) found.\n",
      "Output directory set to C:\\Users\\Pooja\\Documents\\Stone\\stone\\Augmentation/."
     ]
    },
    {
     "name": "stderr",
     "output_type": "stream",
     "text": [
      "Processing <PIL.Image.Image image mode=RGB size=832x674 at 0x2923F4D7D60>: 100%|██████████| 10/10 [00:00<00:00, 10.63 Samples/s] \n"
     ]
    },
    {
     "name": "stdout",
     "output_type": "stream",
     "text": [
      "Initialised with 1032 image(s) found.\n",
      "Output directory set to C:\\Users\\Pooja\\Documents\\Stone\\stone\\Augmentation/."
     ]
    },
    {
     "name": "stderr",
     "output_type": "stream",
     "text": [
      "Processing <PIL.Image.Image image mode=RGB size=512x512 at 0x2923F8C9FA0>: 100%|██████████| 10/10 [00:00<00:00, 17.59 Samples/s] \n"
     ]
    },
    {
     "name": "stdout",
     "output_type": "stream",
     "text": [
      "Initialised with 1032 image(s) found.\n",
      "Output directory set to C:\\Users\\Pooja\\Documents\\Stone\\stone\\Augmentation/."
     ]
    },
    {
     "name": "stderr",
     "output_type": "stream",
     "text": [
      "Processing <PIL.Image.Image image mode=RGB size=1236x1001 at 0x2923F8FD940>: 100%|██████████| 10/10 [00:01<00:00,  6.11 Samples/s]\n"
     ]
    },
    {
     "name": "stdout",
     "output_type": "stream",
     "text": [
      "Initialised with 1032 image(s) found.\n",
      "Output directory set to C:\\Users\\Pooja\\Documents\\Stone\\stone\\Augmentation/."
     ]
    },
    {
     "name": "stderr",
     "output_type": "stream",
     "text": [
      "Processing <PIL.Image.Image image mode=RGB size=512x512 at 0x2923F4908B0>: 100%|██████████| 10/10 [00:00<00:00, 10.34 Samples/s] \n"
     ]
    },
    {
     "name": "stdout",
     "output_type": "stream",
     "text": [
      "Initialised with 1032 image(s) found.\n",
      "Output directory set to C:\\Users\\Pooja\\Documents\\Stone\\stone\\Augmentation/."
     ]
    },
    {
     "name": "stderr",
     "output_type": "stream",
     "text": [
      "Processing <PIL.Image.Image image mode=RGB size=512x512 at 0x2923F4D7700>: 100%|██████████| 10/10 [00:00<00:00, 19.57 Samples/s]\n"
     ]
    },
    {
     "name": "stdout",
     "output_type": "stream",
     "text": [
      "Initialised with 1032 image(s) found.\n",
      "Output directory set to C:\\Users\\Pooja\\Documents\\Stone\\stone\\Augmentation/."
     ]
    },
    {
     "name": "stderr",
     "output_type": "stream",
     "text": [
      "Processing <PIL.Image.Image image mode=RGB size=1203x974 at 0x292407CC5B0>: 100%|██████████| 10/10 [00:00<00:00, 10.74 Samples/s]\n"
     ]
    },
    {
     "name": "stdout",
     "output_type": "stream",
     "text": [
      "Initialised with 1032 image(s) found.\n",
      "Output directory set to C:\\Users\\Pooja\\Documents\\Stone\\stone\\Augmentation/."
     ]
    },
    {
     "name": "stderr",
     "output_type": "stream",
     "text": [
      "Processing <PIL.Image.Image image mode=RGB size=888x719 at 0x2923F774880>: 100%|██████████| 10/10 [00:00<00:00, 19.06 Samples/s] \n"
     ]
    },
    {
     "name": "stdout",
     "output_type": "stream",
     "text": [
      "Initialised with 1032 image(s) found.\n",
      "Output directory set to C:\\Users\\Pooja\\Documents\\Stone\\stone\\Augmentation/."
     ]
    },
    {
     "name": "stderr",
     "output_type": "stream",
     "text": [
      "Processing <PIL.Image.Image image mode=RGB size=512x512 at 0x292407CCD90>: 100%|██████████| 10/10 [00:00<00:00, 17.35 Samples/s] \n"
     ]
    },
    {
     "name": "stdout",
     "output_type": "stream",
     "text": [
      "Initialised with 1032 image(s) found.\n",
      "Output directory set to C:\\Users\\Pooja\\Documents\\Stone\\stone\\Augmentation/."
     ]
    },
    {
     "name": "stderr",
     "output_type": "stream",
     "text": [
      "Processing <PIL.Image.Image image mode=RGB size=861x696 at 0x2923F8FDD00>: 100%|██████████| 10/10 [00:00<00:00, 34.74 Samples/s]\n"
     ]
    },
    {
     "name": "stdout",
     "output_type": "stream",
     "text": [
      "Initialised with 1032 image(s) found.\n",
      "Output directory set to C:\\Users\\Pooja\\Documents\\Stone\\stone\\Augmentation/."
     ]
    },
    {
     "name": "stderr",
     "output_type": "stream",
     "text": [
      "Processing <PIL.Image.Image image mode=RGB size=771x623 at 0x2923F4907C0>: 100%|██████████| 10/10 [00:00<00:00, 25.93 Samples/s]\n"
     ]
    },
    {
     "name": "stdout",
     "output_type": "stream",
     "text": [
      "Initialised with 1032 image(s) found.\n",
      "Output directory set to C:\\Users\\Pooja\\Documents\\Stone\\stone\\Augmentation/."
     ]
    },
    {
     "name": "stderr",
     "output_type": "stream",
     "text": [
      "Processing <PIL.Image.Image image mode=RGB size=512x512 at 0x2923F774820>: 100%|██████████| 10/10 [00:00<00:00, 23.48 Samples/s]\n"
     ]
    },
    {
     "name": "stdout",
     "output_type": "stream",
     "text": [
      "Initialised with 1032 image(s) found.\n",
      "Output directory set to C:\\Users\\Pooja\\Documents\\Stone\\stone\\Augmentation/."
     ]
    },
    {
     "name": "stderr",
     "output_type": "stream",
     "text": [
      "Processing <PIL.Image.Image image mode=RGB size=749x605 at 0x292407CCB20>: 100%|██████████| 10/10 [00:00<00:00, 16.80 Samples/s] \n"
     ]
    },
    {
     "name": "stdout",
     "output_type": "stream",
     "text": [
      "Initialised with 1032 image(s) found.\n",
      "Output directory set to C:\\Users\\Pooja\\Documents\\Stone\\stone\\Augmentation/."
     ]
    },
    {
     "name": "stderr",
     "output_type": "stream",
     "text": [
      "Processing <PIL.Image.Image image mode=RGB size=512x512 at 0x2923F774B20>: 100%|██████████| 10/10 [00:00<00:00, 16.93 Samples/s]\n"
     ]
    },
    {
     "name": "stdout",
     "output_type": "stream",
     "text": [
      "Initialised with 1032 image(s) found.\n",
      "Output directory set to C:\\Users\\Pooja\\Documents\\Stone\\stone\\Augmentation/."
     ]
    },
    {
     "name": "stderr",
     "output_type": "stream",
     "text": [
      "Processing <PIL.Image.Image image mode=RGB size=888x719 at 0x2923F4EE550>: 100%|██████████| 10/10 [00:00<00:00, 15.80 Samples/s] \n"
     ]
    },
    {
     "name": "stdout",
     "output_type": "stream",
     "text": [
      "Initialised with 1032 image(s) found.\n",
      "Output directory set to C:\\Users\\Pooja\\Documents\\Stone\\stone\\Augmentation/."
     ]
    },
    {
     "name": "stderr",
     "output_type": "stream",
     "text": [
      "Processing <PIL.Image.Image image mode=RGB size=512x512 at 0x2923F4D75E0>: 100%|██████████| 10/10 [00:00<00:00, 17.88 Samples/s] \n"
     ]
    },
    {
     "name": "stdout",
     "output_type": "stream",
     "text": [
      "Initialised with 1032 image(s) found.\n",
      "Output directory set to C:\\Users\\Pooja\\Documents\\Stone\\stone\\Augmentation/."
     ]
    },
    {
     "name": "stderr",
     "output_type": "stream",
     "text": [
      "Processing <PIL.Image.Image image mode=RGB size=731x591 at 0x292407CCC70>: 100%|██████████| 10/10 [00:02<00:00,  4.68 Samples/s] \n"
     ]
    },
    {
     "name": "stdout",
     "output_type": "stream",
     "text": [
      "Initialised with 1032 image(s) found.\n",
      "Output directory set to C:\\Users\\Pooja\\Documents\\Stone\\stone\\Augmentation/."
     ]
    },
    {
     "name": "stderr",
     "output_type": "stream",
     "text": [
      "Processing <PIL.Image.Image image mode=RGB size=512x512 at 0x2923F8FDCD0>: 100%|██████████| 10/10 [00:00<00:00, 16.90 Samples/s] \n"
     ]
    },
    {
     "name": "stdout",
     "output_type": "stream",
     "text": [
      "Initialised with 1032 image(s) found.\n",
      "Output directory set to C:\\Users\\Pooja\\Documents\\Stone\\stone\\Augmentation/."
     ]
    },
    {
     "name": "stderr",
     "output_type": "stream",
     "text": [
      "Processing <PIL.Image.Image image mode=RGB size=512x512 at 0x292407CCE20>: 100%|██████████| 10/10 [00:00<00:00, 17.42 Samples/s]                 \n"
     ]
    },
    {
     "name": "stdout",
     "output_type": "stream",
     "text": [
      "Initialised with 1032 image(s) found.\n",
      "Output directory set to C:\\Users\\Pooja\\Documents\\Stone\\stone\\Augmentation/."
     ]
    },
    {
     "name": "stderr",
     "output_type": "stream",
     "text": [
      "Processing <PIL.Image.Image image mode=RGB size=682x552 at 0x2923F2DDC70>: 100%|██████████| 10/10 [00:00<00:00, 25.29 Samples/s]\n"
     ]
    },
    {
     "name": "stdout",
     "output_type": "stream",
     "text": [
      "Initialised with 1032 image(s) found.\n",
      "Output directory set to C:\\Users\\Pooja\\Documents\\Stone\\stone\\Augmentation/."
     ]
    },
    {
     "name": "stderr",
     "output_type": "stream",
     "text": [
      "Processing <PIL.Image.Image image mode=RGB size=1236x1001 at 0x2923F4EE8E0>: 100%|██████████| 10/10 [00:00<00:00, 21.64 Samples/s]\n"
     ]
    },
    {
     "name": "stdout",
     "output_type": "stream",
     "text": [
      "Initialised with 1032 image(s) found.\n",
      "Output directory set to C:\\Users\\Pooja\\Documents\\Stone\\stone\\Augmentation/."
     ]
    },
    {
     "name": "stderr",
     "output_type": "stream",
     "text": [
      "Processing <PIL.Image.Image image mode=RGB size=713x576 at 0x2923F4D74C0>: 100%|██████████| 10/10 [00:00<00:00, 18.71 Samples/s] \n"
     ]
    },
    {
     "name": "stdout",
     "output_type": "stream",
     "text": [
      "Initialised with 1032 image(s) found.\n",
      "Output directory set to C:\\Users\\Pooja\\Documents\\Stone\\stone\\Augmentation/."
     ]
    },
    {
     "name": "stderr",
     "output_type": "stream",
     "text": [
      "Processing <PIL.Image.Image image mode=RGB size=512x512 at 0x292407CC4F0>: 100%|██████████| 10/10 [00:01<00:00,  9.54 Samples/s] \n"
     ]
    },
    {
     "name": "stdout",
     "output_type": "stream",
     "text": [
      "Initialised with 1032 image(s) found.\n",
      "Output directory set to C:\\Users\\Pooja\\Documents\\Stone\\stone\\Augmentation/."
     ]
    },
    {
     "name": "stderr",
     "output_type": "stream",
     "text": [
      "Processing <PIL.Image.Image image mode=RGB size=745x602 at 0x2923F2DDC10>: 100%|██████████| 10/10 [00:01<00:00,  6.32 Samples/s]\n"
     ]
    },
    {
     "name": "stdout",
     "output_type": "stream",
     "text": [
      "Initialised with 1032 image(s) found.\n",
      "Output directory set to C:\\Users\\Pooja\\Documents\\Stone\\stone\\Augmentation/."
     ]
    },
    {
     "name": "stderr",
     "output_type": "stream",
     "text": [
      "Processing <PIL.Image.Image image mode=RGB size=512x512 at 0x2923F4EEC70>: 100%|██████████| 10/10 [00:00<00:00, 13.29 Samples/s] \n"
     ]
    },
    {
     "name": "stdout",
     "output_type": "stream",
     "text": [
      "Initialised with 1032 image(s) found.\n",
      "Output directory set to C:\\Users\\Pooja\\Documents\\Stone\\stone\\Augmentation/."
     ]
    },
    {
     "name": "stderr",
     "output_type": "stream",
     "text": [
      "Processing <PIL.Image.Image image mode=RGB size=512x512 at 0x2923F8FD9A0>: 100%|██████████| 10/10 [00:00<00:00, 16.72 Samples/s] \n"
     ]
    },
    {
     "name": "stdout",
     "output_type": "stream",
     "text": [
      "Initialised with 1032 image(s) found.\n",
      "Output directory set to C:\\Users\\Pooja\\Documents\\Stone\\stone\\Augmentation/."
     ]
    },
    {
     "name": "stderr",
     "output_type": "stream",
     "text": [
      "Processing <PIL.Image.Image image mode=RGB size=512x512 at 0x292407CCBB0>: 100%|██████████| 10/10 [00:00<00:00, 33.14 Samples/s]                 \n"
     ]
    },
    {
     "name": "stdout",
     "output_type": "stream",
     "text": [
      "Initialised with 1032 image(s) found.\n",
      "Output directory set to C:\\Users\\Pooja\\Documents\\Stone\\stone\\Augmentation/."
     ]
    },
    {
     "name": "stderr",
     "output_type": "stream",
     "text": [
      "Processing <PIL.Image.Image image mode=RGB size=1236x1001 at 0x2923F2DDAC0>: 100%|██████████| 10/10 [00:00<00:00, 17.23 Samples/s]\n"
     ]
    },
    {
     "name": "stdout",
     "output_type": "stream",
     "text": [
      "Initialised with 1032 image(s) found.\n",
      "Output directory set to C:\\Users\\Pooja\\Documents\\Stone\\stone\\Augmentation/."
     ]
    },
    {
     "name": "stderr",
     "output_type": "stream",
     "text": [
      "Processing <PIL.Image.Image image mode=RGB size=888x719 at 0x292407CCCA0>: 100%|██████████| 10/10 [00:00<00:00, 26.49 Samples/s]\n"
     ]
    },
    {
     "name": "stdout",
     "output_type": "stream",
     "text": [
      "Initialised with 1032 image(s) found.\n",
      "Output directory set to C:\\Users\\Pooja\\Documents\\Stone\\stone\\Augmentation/."
     ]
    },
    {
     "name": "stderr",
     "output_type": "stream",
     "text": [
      "Processing <PIL.Image.Image image mode=RGB size=512x512 at 0x2923F782E50>: 100%|██████████| 10/10 [00:00<00:00, 20.72 Samples/s] \n"
     ]
    },
    {
     "name": "stdout",
     "output_type": "stream",
     "text": [
      "Initialised with 1032 image(s) found.\n",
      "Output directory set to C:\\Users\\Pooja\\Documents\\Stone\\stone\\Augmentation/."
     ]
    },
    {
     "name": "stderr",
     "output_type": "stream",
     "text": [
      "Processing <PIL.Image.Image image mode=RGB size=1236x1001 at 0x292407CCD30>: 100%|██████████| 10/10 [00:00<00:00, 15.50 Samples/s]\n"
     ]
    },
    {
     "name": "stdout",
     "output_type": "stream",
     "text": [
      "Initialised with 1032 image(s) found.\n",
      "Output directory set to C:\\Users\\Pooja\\Documents\\Stone\\stone\\Augmentation/."
     ]
    },
    {
     "name": "stderr",
     "output_type": "stream",
     "text": [
      "Processing <PIL.Image.Image image mode=RGB size=512x512 at 0x2923F774910>: 100%|██████████| 10/10 [00:00<00:00, 30.60 Samples/s] \n"
     ]
    },
    {
     "name": "stdout",
     "output_type": "stream",
     "text": [
      "Initialised with 1032 image(s) found.\n",
      "Output directory set to C:\\Users\\Pooja\\Documents\\Stone\\stone\\Augmentation/."
     ]
    },
    {
     "name": "stderr",
     "output_type": "stream",
     "text": [
      "Processing <PIL.Image.Image image mode=RGB size=512x512 at 0x2923F4EE5B0>: 100%|██████████| 10/10 [00:00<00:00, 21.57 Samples/s]\n"
     ]
    },
    {
     "name": "stdout",
     "output_type": "stream",
     "text": [
      "Initialised with 1032 image(s) found.\n",
      "Output directory set to C:\\Users\\Pooja\\Documents\\Stone\\stone\\Augmentation/."
     ]
    },
    {
     "name": "stderr",
     "output_type": "stream",
     "text": [
      "Processing <PIL.Image.Image image mode=RGB size=512x512 at 0x2923F7749D0>: 100%|██████████| 10/10 [00:00<00:00, 35.45 Samples/s]                 \n"
     ]
    },
    {
     "name": "stdout",
     "output_type": "stream",
     "text": [
      "Initialised with 1032 image(s) found.\n",
      "Output directory set to C:\\Users\\Pooja\\Documents\\Stone\\stone\\Augmentation/."
     ]
    },
    {
     "name": "stderr",
     "output_type": "stream",
     "text": [
      "Processing <PIL.Image.Image image mode=RGB size=1236x1001 at 0x2923F490730>: 100%|██████████| 10/10 [00:00<00:00, 17.73 Samples/s]\n"
     ]
    },
    {
     "name": "stdout",
     "output_type": "stream",
     "text": [
      "Initialised with 1032 image(s) found.\n",
      "Output directory set to C:\\Users\\Pooja\\Documents\\Stone\\stone\\Augmentation/."
     ]
    },
    {
     "name": "stderr",
     "output_type": "stream",
     "text": [
      "Processing <PIL.Image.Image image mode=RGB size=888x719 at 0x2923F7749D0>: 100%|██████████| 10/10 [00:00<00:00, 24.77 Samples/s] \n"
     ]
    },
    {
     "name": "stdout",
     "output_type": "stream",
     "text": [
      "Initialised with 1032 image(s) found.\n",
      "Output directory set to C:\\Users\\Pooja\\Documents\\Stone\\stone\\Augmentation/."
     ]
    },
    {
     "name": "stderr",
     "output_type": "stream",
     "text": [
      "Processing <PIL.Image.Image image mode=RGB size=687x555 at 0x2923F4EE8E0>: 100%|██████████| 10/10 [00:00<00:00, 32.69 Samples/s] \n"
     ]
    },
    {
     "name": "stdout",
     "output_type": "stream",
     "text": [
      "Initialised with 1032 image(s) found.\n",
      "Output directory set to C:\\Users\\Pooja\\Documents\\Stone\\stone\\Augmentation/."
     ]
    },
    {
     "name": "stderr",
     "output_type": "stream",
     "text": [
      "Processing <PIL.Image.Image image mode=RGB size=512x512 at 0x2923F774E20>: 100%|██████████| 10/10 [00:00<00:00, 17.87 Samples/s] \n"
     ]
    },
    {
     "name": "stdout",
     "output_type": "stream",
     "text": [
      "Initialised with 1032 image(s) found.\n",
      "Output directory set to C:\\Users\\Pooja\\Documents\\Stone\\stone\\Augmentation/."
     ]
    },
    {
     "name": "stderr",
     "output_type": "stream",
     "text": [
      "Processing <PIL.Image.Image image mode=RGB size=855x691 at 0x292407CCE80>: 100%|██████████| 10/10 [00:00<00:00, 18.18 Samples/s] \n"
     ]
    },
    {
     "name": "stdout",
     "output_type": "stream",
     "text": [
      "Initialised with 1032 image(s) found.\n",
      "Output directory set to C:\\Users\\Pooja\\Documents\\Stone\\stone\\Augmentation/."
     ]
    },
    {
     "name": "stderr",
     "output_type": "stream",
     "text": [
      "Processing <PIL.Image.Image image mode=RGB size=888x719 at 0x2923F4FD1C0>: 100%|██████████| 10/10 [00:00<00:00, 26.01 Samples/s]\n"
     ]
    },
    {
     "name": "stdout",
     "output_type": "stream",
     "text": [
      "Initialised with 1032 image(s) found.\n",
      "Output directory set to C:\\Users\\Pooja\\Documents\\Stone\\stone\\Augmentation/."
     ]
    },
    {
     "name": "stderr",
     "output_type": "stream",
     "text": [
      "Processing <PIL.Image.Image image mode=RGB size=1236x1001 at 0x2923F490F70>: 100%|██████████| 10/10 [00:00<00:00, 16.41 Samples/s]\n"
     ]
    },
    {
     "name": "stdout",
     "output_type": "stream",
     "text": [
      "Initialised with 1032 image(s) found.\n",
      "Output directory set to C:\\Users\\Pooja\\Documents\\Stone\\stone\\Augmentation/."
     ]
    },
    {
     "name": "stderr",
     "output_type": "stream",
     "text": [
      "Processing <PIL.Image.Image image mode=RGB size=512x512 at 0x2923F4D7340>: 100%|██████████| 10/10 [00:00<00:00, 21.18 Samples/s] \n"
     ]
    },
    {
     "name": "stdout",
     "output_type": "stream",
     "text": [
      "Initialised with 1032 image(s) found.\n",
      "Output directory set to C:\\Users\\Pooja\\Documents\\Stone\\stone\\Augmentation/."
     ]
    },
    {
     "name": "stderr",
     "output_type": "stream",
     "text": [
      "Processing <PIL.Image.Image image mode=RGB size=512x512 at 0x2923F4906A0>: 100%|██████████| 10/10 [00:00<00:00, 21.33 Samples/s] \n"
     ]
    },
    {
     "name": "stdout",
     "output_type": "stream",
     "text": [
      "Initialised with 1032 image(s) found.\n",
      "Output directory set to C:\\Users\\Pooja\\Documents\\Stone\\stone\\Augmentation/."
     ]
    },
    {
     "name": "stderr",
     "output_type": "stream",
     "text": [
      "Processing <PIL.Image.Image image mode=RGB size=1236x1001 at 0x2923F774850>: 100%|██████████| 10/10 [00:00<00:00, 18.77 Samples/s]\n"
     ]
    },
    {
     "name": "stdout",
     "output_type": "stream",
     "text": [
      "Initialised with 1032 image(s) found.\n",
      "Output directory set to C:\\Users\\Pooja\\Documents\\Stone\\stone\\Augmentation/."
     ]
    },
    {
     "name": "stderr",
     "output_type": "stream",
     "text": [
      "Processing <PIL.Image.Image image mode=RGB size=512x512 at 0x292407CCD00>: 100%|██████████| 10/10 [00:00<00:00, 21.31 Samples/s]                  \n"
     ]
    },
    {
     "name": "stdout",
     "output_type": "stream",
     "text": [
      "Initialised with 1032 image(s) found.\n",
      "Output directory set to C:\\Users\\Pooja\\Documents\\Stone\\stone\\Augmentation/."
     ]
    },
    {
     "name": "stderr",
     "output_type": "stream",
     "text": [
      "Processing <PIL.Image.Image image mode=RGB size=512x512 at 0x2923F774AC0>: 100%|██████████| 10/10 [00:00<00:00, 25.55 Samples/s]\n"
     ]
    },
    {
     "name": "stdout",
     "output_type": "stream",
     "text": [
      "Initialised with 1032 image(s) found.\n",
      "Output directory set to C:\\Users\\Pooja\\Documents\\Stone\\stone\\Augmentation/."
     ]
    },
    {
     "name": "stderr",
     "output_type": "stream",
     "text": [
      "Processing <PIL.Image.Image image mode=RGB size=512x512 at 0x292407CCB20>: 100%|██████████| 10/10 [00:01<00:00,  7.32 Samples/s] \n"
     ]
    },
    {
     "name": "stdout",
     "output_type": "stream",
     "text": [
      "Initialised with 1032 image(s) found.\n",
      "Output directory set to C:\\Users\\Pooja\\Documents\\Stone\\stone\\Augmentation/."
     ]
    },
    {
     "name": "stderr",
     "output_type": "stream",
     "text": [
      "Processing <PIL.Image.Image image mode=RGB size=512x512 at 0x2923F4D7CA0>: 100%|██████████| 10/10 [00:00<00:00, 12.47 Samples/s]\n"
     ]
    },
    {
     "name": "stdout",
     "output_type": "stream",
     "text": [
      "Initialised with 1032 image(s) found.\n",
      "Output directory set to C:\\Users\\Pooja\\Documents\\Stone\\stone\\Augmentation/."
     ]
    },
    {
     "name": "stderr",
     "output_type": "stream",
     "text": [
      "Processing <PIL.Image.Image image mode=RGB size=512x512 at 0x2923F490C40>: 100%|██████████| 10/10 [00:00<00:00, 22.55 Samples/s] \n"
     ]
    },
    {
     "name": "stdout",
     "output_type": "stream",
     "text": [
      "Initialised with 1032 image(s) found.\n",
      "Output directory set to C:\\Users\\Pooja\\Documents\\Stone\\stone\\Augmentation/."
     ]
    },
    {
     "name": "stderr",
     "output_type": "stream",
     "text": [
      "Processing <PIL.Image.Image image mode=RGB size=512x512 at 0x2923F4D7AC0>: 100%|██████████| 10/10 [00:00<00:00, 39.70 Samples/s]\n"
     ]
    },
    {
     "name": "stdout",
     "output_type": "stream",
     "text": [
      "Initialised with 1032 image(s) found.\n",
      "Output directory set to C:\\Users\\Pooja\\Documents\\Stone\\stone\\Augmentation/."
     ]
    },
    {
     "name": "stderr",
     "output_type": "stream",
     "text": [
      "Processing <PIL.Image.Image image mode=RGB size=512x512 at 0x2923F4EE820>: 100%|██████████| 10/10 [00:00<00:00, 19.06 Samples/s] \n"
     ]
    },
    {
     "name": "stdout",
     "output_type": "stream",
     "text": [
      "Initialised with 1032 image(s) found.\n",
      "Output directory set to C:\\Users\\Pooja\\Documents\\Stone\\stone\\Augmentation/."
     ]
    },
    {
     "name": "stderr",
     "output_type": "stream",
     "text": [
      "Processing <PIL.Image.Image image mode=RGB size=1236x1001 at 0x2923F7749D0>: 100%|██████████| 10/10 [00:00<00:00, 21.51 Samples/s]\n"
     ]
    },
    {
     "name": "stdout",
     "output_type": "stream",
     "text": [
      "Initialised with 1032 image(s) found.\n",
      "Output directory set to C:\\Users\\Pooja\\Documents\\Stone\\stone\\Augmentation/."
     ]
    },
    {
     "name": "stderr",
     "output_type": "stream",
     "text": [
      "Processing <PIL.Image.Image image mode=RGB size=888x719 at 0x292407CCCD0>: 100%|██████████| 10/10 [00:00<00:00, 32.41 Samples/s]\n"
     ]
    },
    {
     "name": "stdout",
     "output_type": "stream",
     "text": [
      "Initialised with 1032 image(s) found.\n",
      "Output directory set to C:\\Users\\Pooja\\Documents\\Stone\\stone\\Augmentation/."
     ]
    },
    {
     "name": "stderr",
     "output_type": "stream",
     "text": [
      "Processing <PIL.Image.Image image mode=RGB size=512x512 at 0x2923F2DD430>: 100%|██████████| 10/10 [00:00<00:00, 30.77 Samples/s]\n"
     ]
    },
    {
     "name": "stdout",
     "output_type": "stream",
     "text": [
      "Initialised with 1032 image(s) found.\n",
      "Output directory set to C:\\Users\\Pooja\\Documents\\Stone\\stone\\Augmentation/."
     ]
    },
    {
     "name": "stderr",
     "output_type": "stream",
     "text": [
      "Processing <PIL.Image.Image image mode=RGB size=512x512 at 0x292407CCF70>: 100%|██████████| 10/10 [00:00<00:00, 19.67 Samples/s] \n"
     ]
    },
    {
     "name": "stdout",
     "output_type": "stream",
     "text": [
      "Initialised with 1032 image(s) found.\n",
      "Output directory set to C:\\Users\\Pooja\\Documents\\Stone\\stone\\Augmentation/."
     ]
    },
    {
     "name": "stderr",
     "output_type": "stream",
     "text": [
      "Processing <PIL.Image.Image image mode=RGB size=512x512 at 0x2923F4FD4F0>: 100%|██████████| 10/10 [00:00<00:00, 21.48 Samples/s] \n"
     ]
    },
    {
     "name": "stdout",
     "output_type": "stream",
     "text": [
      "Initialised with 1032 image(s) found.\n",
      "Output directory set to C:\\Users\\Pooja\\Documents\\Stone\\stone\\Augmentation/."
     ]
    },
    {
     "name": "stderr",
     "output_type": "stream",
     "text": [
      "Processing <PIL.Image.Image image mode=RGB size=512x512 at 0x2923F4EEE80>: 100%|██████████| 10/10 [00:00<00:00, 28.96 Samples/s]\n"
     ]
    },
    {
     "name": "stdout",
     "output_type": "stream",
     "text": [
      "Initialised with 1032 image(s) found.\n",
      "Output directory set to C:\\Users\\Pooja\\Documents\\Stone\\stone\\Augmentation/."
     ]
    },
    {
     "name": "stderr",
     "output_type": "stream",
     "text": [
      "Processing <PIL.Image.Image image mode=RGB size=512x512 at 0x2923F4FD970>: 100%|██████████| 10/10 [00:00<00:00, 23.07 Samples/s]                 \n"
     ]
    },
    {
     "name": "stdout",
     "output_type": "stream",
     "text": [
      "Initialised with 1032 image(s) found.\n",
      "Output directory set to C:\\Users\\Pooja\\Documents\\Stone\\stone\\Augmentation/."
     ]
    },
    {
     "name": "stderr",
     "output_type": "stream",
     "text": [
      "Processing <PIL.Image.Image image mode=RGB size=1236x1001 at 0x292407CC940>: 100%|██████████| 10/10 [00:01<00:00,  5.26 Samples/s]\n"
     ]
    },
    {
     "name": "stdout",
     "output_type": "stream",
     "text": [
      "Initialised with 1032 image(s) found.\n",
      "Output directory set to C:\\Users\\Pooja\\Documents\\Stone\\stone\\Augmentation/."
     ]
    },
    {
     "name": "stderr",
     "output_type": "stream",
     "text": [
      "Processing <PIL.JpegImagePlugin.JpegImageFile image mode=RGB size=512x512 at 0x2923F4D7B20>: 100%|██████████| 10/10 [00:00<00:00, 23.46 Samples/s]\n"
     ]
    },
    {
     "name": "stdout",
     "output_type": "stream",
     "text": [
      "Initialised with 1032 image(s) found.\n",
      "Output directory set to C:\\Users\\Pooja\\Documents\\Stone\\stone\\Augmentation/."
     ]
    },
    {
     "name": "stderr",
     "output_type": "stream",
     "text": [
      "Processing <PIL.Image.Image image mode=RGB size=1236x1001 at 0x292407CCE80>: 100%|██████████| 10/10 [00:00<00:00, 18.02 Samples/s]\n"
     ]
    },
    {
     "name": "stdout",
     "output_type": "stream",
     "text": [
      "Initialised with 1032 image(s) found.\n",
      "Output directory set to C:\\Users\\Pooja\\Documents\\Stone\\stone\\Augmentation/."
     ]
    },
    {
     "name": "stderr",
     "output_type": "stream",
     "text": [
      "Processing <PIL.Image.Image image mode=RGB size=512x512 at 0x2923F782F10>: 100%|██████████| 10/10 [00:00<00:00, 17.05 Samples/s] \n"
     ]
    },
    {
     "name": "stdout",
     "output_type": "stream",
     "text": [
      "Initialised with 1032 image(s) found.\n",
      "Output directory set to C:\\Users\\Pooja\\Documents\\Stone\\stone\\Augmentation/."
     ]
    },
    {
     "name": "stderr",
     "output_type": "stream",
     "text": [
      "Processing <PIL.Image.Image image mode=RGB size=512x512 at 0x2923F4908E0>: 100%|██████████| 10/10 [00:00<00:00, 25.54 Samples/s]\n"
     ]
    },
    {
     "name": "stdout",
     "output_type": "stream",
     "text": [
      "Initialised with 1032 image(s) found.\n",
      "Output directory set to C:\\Users\\Pooja\\Documents\\Stone\\stone\\Augmentation/."
     ]
    },
    {
     "name": "stderr",
     "output_type": "stream",
     "text": [
      "Processing <PIL.Image.Image image mode=RGB size=713x576 at 0x2923F4EEF70>: 100%|██████████| 10/10 [00:00<00:00, 24.15 Samples/s]\n"
     ]
    },
    {
     "name": "stdout",
     "output_type": "stream",
     "text": [
      "Initialised with 1032 image(s) found.\n",
      "Output directory set to C:\\Users\\Pooja\\Documents\\Stone\\stone\\Augmentation/."
     ]
    },
    {
     "name": "stderr",
     "output_type": "stream",
     "text": [
      "Processing <PIL.Image.Image image mode=RGB size=1236x1001 at 0x2923F490EB0>: 100%|██████████| 10/10 [00:00<00:00, 20.75 Samples/s]\n"
     ]
    },
    {
     "name": "stdout",
     "output_type": "stream",
     "text": [
      "Initialised with 1032 image(s) found.\n",
      "Output directory set to C:\\Users\\Pooja\\Documents\\Stone\\stone\\Augmentation/."
     ]
    },
    {
     "name": "stderr",
     "output_type": "stream",
     "text": [
      "Processing <PIL.Image.Image image mode=RGB size=1236x1001 at 0x2923F899760>: 100%|██████████| 10/10 [00:00<00:00, 18.39 Samples/s]\n"
     ]
    },
    {
     "name": "stdout",
     "output_type": "stream",
     "text": [
      "Initialised with 1032 image(s) found.\n",
      "Output directory set to C:\\Users\\Pooja\\Documents\\Stone\\stone\\Augmentation/."
     ]
    },
    {
     "name": "stderr",
     "output_type": "stream",
     "text": [
      "Processing <PIL.Image.Image image mode=RGB size=512x512 at 0x2923F490D00>: 100%|██████████| 10/10 [00:00<00:00, 21.87 Samples/s] \n"
     ]
    },
    {
     "name": "stdout",
     "output_type": "stream",
     "text": [
      "Initialised with 1032 image(s) found.\n",
      "Output directory set to C:\\Users\\Pooja\\Documents\\Stone\\stone\\Augmentation/."
     ]
    },
    {
     "name": "stderr",
     "output_type": "stream",
     "text": [
      "Processing <PIL.Image.Image image mode=RGB size=745x602 at 0x2923F8D2F10>: 100%|██████████| 10/10 [00:00<00:00, 13.64 Samples/s]\n"
     ]
    },
    {
     "name": "stdout",
     "output_type": "stream",
     "text": [
      "Initialised with 1032 image(s) found.\n",
      "Output directory set to C:\\Users\\Pooja\\Documents\\Stone\\stone\\Augmentation/."
     ]
    },
    {
     "name": "stderr",
     "output_type": "stream",
     "text": [
      "Processing <PIL.Image.Image image mode=RGB size=512x512 at 0x2923F490B80>: 100%|██████████| 10/10 [00:00<00:00, 16.96 Samples/s] \n"
     ]
    },
    {
     "name": "stdout",
     "output_type": "stream",
     "text": [
      "Initialised with 1032 image(s) found.\n",
      "Output directory set to C:\\Users\\Pooja\\Documents\\Stone\\stone\\Augmentation/."
     ]
    },
    {
     "name": "stderr",
     "output_type": "stream",
     "text": [
      "Processing <PIL.Image.Image image mode=RGB size=512x512 at 0x2923F899760>: 100%|██████████| 10/10 [00:00<00:00, 24.99 Samples/s] \n"
     ]
    },
    {
     "name": "stdout",
     "output_type": "stream",
     "text": [
      "Initialised with 1032 image(s) found.\n",
      "Output directory set to C:\\Users\\Pooja\\Documents\\Stone\\stone\\Augmentation/."
     ]
    },
    {
     "name": "stderr",
     "output_type": "stream",
     "text": [
      "Processing <PIL.Image.Image image mode=RGB size=512x512 at 0x292407CCBB0>: 100%|██████████| 10/10 [00:00<00:00, 41.26 Samples/s]\n"
     ]
    },
    {
     "name": "stdout",
     "output_type": "stream",
     "text": [
      "Initialised with 1032 image(s) found.\n",
      "Output directory set to C:\\Users\\Pooja\\Documents\\Stone\\stone\\Augmentation/."
     ]
    },
    {
     "name": "stderr",
     "output_type": "stream",
     "text": [
      "Processing <PIL.Image.Image image mode=RGB size=512x512 at 0x2923F91F250>: 100%|██████████| 10/10 [00:00<00:00, 33.51 Samples/s]\n"
     ]
    },
    {
     "name": "stdout",
     "output_type": "stream",
     "text": [
      "Initialised with 1032 image(s) found.\n",
      "Output directory set to C:\\Users\\Pooja\\Documents\\Stone\\stone\\Augmentation/."
     ]
    },
    {
     "name": "stderr",
     "output_type": "stream",
     "text": [
      "Processing <PIL.Image.Image image mode=RGB size=512x512 at 0x2923F4EE640>: 100%|██████████| 10/10 [00:00<00:00, 23.51 Samples/s] \n"
     ]
    },
    {
     "name": "stdout",
     "output_type": "stream",
     "text": [
      "Initialised with 1032 image(s) found.\n",
      "Output directory set to C:\\Users\\Pooja\\Documents\\Stone\\stone\\Augmentation/."
     ]
    },
    {
     "name": "stderr",
     "output_type": "stream",
     "text": [
      "Processing <PIL.Image.Image image mode=RGB size=754x611 at 0x2923F84DCA0>: 100%|██████████| 10/10 [00:00<00:00, 15.44 Samples/s] \n"
     ]
    },
    {
     "name": "stdout",
     "output_type": "stream",
     "text": [
      "Initialised with 1032 image(s) found.\n",
      "Output directory set to C:\\Users\\Pooja\\Documents\\Stone\\stone\\Augmentation/."
     ]
    },
    {
     "name": "stderr",
     "output_type": "stream",
     "text": [
      "Processing <PIL.Image.Image image mode=RGB size=512x512 at 0x2923F4EEB50>: 100%|██████████| 10/10 [00:00<00:00, 39.57 Samples/s]\n"
     ]
    },
    {
     "name": "stdout",
     "output_type": "stream",
     "text": [
      "Initialised with 1032 image(s) found.\n",
      "Output directory set to C:\\Users\\Pooja\\Documents\\Stone\\stone\\Augmentation/."
     ]
    },
    {
     "name": "stderr",
     "output_type": "stream",
     "text": [
      "Processing <PIL.Image.Image image mode=RGB size=512x512 at 0x2923F8D2820>: 100%|██████████| 10/10 [00:00<00:00, 18.39 Samples/s] \n"
     ]
    },
    {
     "name": "stdout",
     "output_type": "stream",
     "text": [
      "Initialised with 1032 image(s) found.\n",
      "Output directory set to C:\\Users\\Pooja\\Documents\\Stone\\stone\\Augmentation/."
     ]
    },
    {
     "name": "stderr",
     "output_type": "stream",
     "text": [
      "Processing <PIL.Image.Image image mode=RGB size=888x719 at 0x2923F490A90>: 100%|██████████| 10/10 [00:00<00:00, 18.58 Samples/s] \n"
     ]
    },
    {
     "name": "stdout",
     "output_type": "stream",
     "text": [
      "Initialised with 1032 image(s) found.\n",
      "Output directory set to C:\\Users\\Pooja\\Documents\\Stone\\stone\\Augmentation/."
     ]
    },
    {
     "name": "stderr",
     "output_type": "stream",
     "text": [
      "Processing <PIL.Image.Image image mode=RGB size=512x512 at 0x2923F84DA60>: 100%|██████████| 10/10 [00:00<00:00, 45.43 Samples/s]                 \n"
     ]
    },
    {
     "name": "stdout",
     "output_type": "stream",
     "text": [
      "Initialised with 1032 image(s) found.\n",
      "Output directory set to C:\\Users\\Pooja\\Documents\\Stone\\stone\\Augmentation/."
     ]
    },
    {
     "name": "stderr",
     "output_type": "stream",
     "text": [
      "Processing <PIL.Image.Image image mode=RGB size=512x512 at 0x2923F4EE160>: 100%|██████████| 10/10 [00:00<00:00, 43.18 Samples/s] \n"
     ]
    },
    {
     "name": "stdout",
     "output_type": "stream",
     "text": [
      "Initialised with 1032 image(s) found.\n",
      "Output directory set to C:\\Users\\Pooja\\Documents\\Stone\\stone\\Augmentation/."
     ]
    },
    {
     "name": "stderr",
     "output_type": "stream",
     "text": [
      "Processing <PIL.Image.Image image mode=RGB size=512x512 at 0x2923F8D2AF0>: 100%|██████████| 10/10 [00:00<00:00, 28.62 Samples/s]\n"
     ]
    },
    {
     "name": "stdout",
     "output_type": "stream",
     "text": [
      "Initialised with 1032 image(s) found.\n",
      "Output directory set to C:\\Users\\Pooja\\Documents\\Stone\\stone\\Augmentation/."
     ]
    },
    {
     "name": "stderr",
     "output_type": "stream",
     "text": [
      "Processing <PIL.Image.Image image mode=RGB size=512x512 at 0x2923F4EE580>: 100%|██████████| 10/10 [00:00<00:00, 16.21 Samples/s] \n"
     ]
    },
    {
     "name": "stdout",
     "output_type": "stream",
     "text": [
      "Initialised with 1032 image(s) found.\n",
      "Output directory set to C:\\Users\\Pooja\\Documents\\Stone\\stone\\Augmentation/."
     ]
    },
    {
     "name": "stderr",
     "output_type": "stream",
     "text": [
      "Processing <PIL.Image.Image image mode=RGB size=512x512 at 0x2923F8993A0>: 100%|██████████| 10/10 [00:00<00:00, 21.41 Samples/s] \n"
     ]
    },
    {
     "name": "stdout",
     "output_type": "stream",
     "text": [
      "Initialised with 1032 image(s) found.\n",
      "Output directory set to C:\\Users\\Pooja\\Documents\\Stone\\stone\\Augmentation/."
     ]
    },
    {
     "name": "stderr",
     "output_type": "stream",
     "text": [
      "Processing <PIL.Image.Image image mode=RGB size=512x512 at 0x292407CC880>: 100%|██████████| 10/10 [00:00<00:00, 33.57 Samples/s]\n"
     ]
    },
    {
     "name": "stdout",
     "output_type": "stream",
     "text": [
      "Initialised with 1032 image(s) found.\n",
      "Output directory set to C:\\Users\\Pooja\\Documents\\Stone\\stone\\Augmentation/."
     ]
    },
    {
     "name": "stderr",
     "output_type": "stream",
     "text": [
      "Processing <PIL.Image.Image image mode=RGB size=512x512 at 0x2923F91F220>: 100%|██████████| 10/10 [00:00<00:00, 16.74 Samples/s]                 \n"
     ]
    },
    {
     "name": "stdout",
     "output_type": "stream",
     "text": [
      "Initialised with 1032 image(s) found.\n",
      "Output directory set to C:\\Users\\Pooja\\Documents\\Stone\\stone\\Augmentation/."
     ]
    },
    {
     "name": "stderr",
     "output_type": "stream",
     "text": [
      "Processing <PIL.Image.Image image mode=RGB size=512x512 at 0x2923F490D00>: 100%|██████████| 10/10 [00:00<00:00, 17.70 Samples/s] \n"
     ]
    },
    {
     "name": "stdout",
     "output_type": "stream",
     "text": [
      "Initialised with 1032 image(s) found.\n",
      "Output directory set to C:\\Users\\Pooja\\Documents\\Stone\\stone\\Augmentation/."
     ]
    },
    {
     "name": "stderr",
     "output_type": "stream",
     "text": [
      "Processing <PIL.Image.Image image mode=RGB size=512x512 at 0x2923F8C63D0>: 100%|██████████| 10/10 [00:00<00:00, 34.20 Samples/s]\n"
     ]
    },
    {
     "name": "stdout",
     "output_type": "stream",
     "text": [
      "Initialised with 1032 image(s) found.\n",
      "Output directory set to C:\\Users\\Pooja\\Documents\\Stone\\stone\\Augmentation/."
     ]
    },
    {
     "name": "stderr",
     "output_type": "stream",
     "text": [
      "Processing <PIL.Image.Image image mode=RGB size=687x555 at 0x2923F4EE2E0>: 100%|██████████| 10/10 [00:00<00:00, 15.07 Samples/s]                 \n"
     ]
    },
    {
     "name": "stdout",
     "output_type": "stream",
     "text": [
      "Initialised with 1032 image(s) found.\n",
      "Output directory set to C:\\Users\\Pooja\\Documents\\Stone\\stone\\Augmentation/."
     ]
    },
    {
     "name": "stderr",
     "output_type": "stream",
     "text": [
      "Processing <PIL.Image.Image image mode=RGB size=904x732 at 0x2923F91FB20>: 100%|██████████| 10/10 [00:00<00:00, 16.09 Samples/s] \n"
     ]
    },
    {
     "name": "stdout",
     "output_type": "stream",
     "text": [
      "Initialised with 1032 image(s) found.\n",
      "Output directory set to C:\\Users\\Pooja\\Documents\\Stone\\stone\\Augmentation/."
     ]
    },
    {
     "name": "stderr",
     "output_type": "stream",
     "text": [
      "Processing <PIL.Image.Image image mode=RGB size=512x512 at 0x2923F4907F0>: 100%|██████████| 10/10 [00:00<00:00, 18.47 Samples/s] \n"
     ]
    },
    {
     "name": "stdout",
     "output_type": "stream",
     "text": [
      "Initialised with 1032 image(s) found.\n",
      "Output directory set to C:\\Users\\Pooja\\Documents\\Stone\\stone\\Augmentation/."
     ]
    },
    {
     "name": "stderr",
     "output_type": "stream",
     "text": [
      "Processing <PIL.Image.Image image mode=RGB size=512x512 at 0x2923F8997C0>: 100%|██████████| 10/10 [00:00<00:00, 21.04 Samples/s] \n"
     ]
    },
    {
     "name": "stdout",
     "output_type": "stream",
     "text": [
      "Initialised with 1032 image(s) found.\n",
      "Output directory set to C:\\Users\\Pooja\\Documents\\Stone\\stone\\Augmentation/."
     ]
    },
    {
     "name": "stderr",
     "output_type": "stream",
     "text": [
      "Processing <PIL.Image.Image image mode=RGB size=512x512 at 0x2923F490CA0>: 100%|██████████| 10/10 [00:00<00:00, 26.80 Samples/s]\n"
     ]
    },
    {
     "name": "stdout",
     "output_type": "stream",
     "text": [
      "Initialised with 1032 image(s) found.\n",
      "Output directory set to C:\\Users\\Pooja\\Documents\\Stone\\stone\\Augmentation/."
     ]
    },
    {
     "name": "stderr",
     "output_type": "stream",
     "text": [
      "Processing <PIL.Image.Image image mode=RGB size=512x512 at 0x2923F899BB0>: 100%|██████████| 10/10 [00:00<00:00, 37.74 Samples/s]\n"
     ]
    },
    {
     "name": "stdout",
     "output_type": "stream",
     "text": [
      "Initialised with 1032 image(s) found.\n",
      "Output directory set to C:\\Users\\Pooja\\Documents\\Stone\\stone\\Augmentation/."
     ]
    },
    {
     "name": "stderr",
     "output_type": "stream",
     "text": [
      "Processing <PIL.Image.Image image mode=RGB size=888x719 at 0x292407CCAF0>: 100%|██████████| 10/10 [00:01<00:00,  7.75 Samples/s] \n"
     ]
    },
    {
     "name": "stdout",
     "output_type": "stream",
     "text": [
      "Initialised with 1032 image(s) found.\n",
      "Output directory set to C:\\Users\\Pooja\\Documents\\Stone\\stone\\Augmentation/."
     ]
    },
    {
     "name": "stderr",
     "output_type": "stream",
     "text": [
      "Processing <PIL.Image.Image image mode=RGB size=512x512 at 0x2923F8990D0>: 100%|██████████| 10/10 [00:00<00:00, 32.56 Samples/s]\n"
     ]
    },
    {
     "name": "stdout",
     "output_type": "stream",
     "text": [
      "Initialised with 1032 image(s) found.\n",
      "Output directory set to C:\\Users\\Pooja\\Documents\\Stone\\stone\\Augmentation/."
     ]
    },
    {
     "name": "stderr",
     "output_type": "stream",
     "text": [
      "Processing <PIL.Image.Image image mode=RGB size=512x512 at 0x2923F490FD0>: 100%|██████████| 10/10 [00:00<00:00, 21.81 Samples/s]                 \n"
     ]
    },
    {
     "name": "stdout",
     "output_type": "stream",
     "text": [
      "Initialised with 1032 image(s) found.\n",
      "Output directory set to C:\\Users\\Pooja\\Documents\\Stone\\stone\\Augmentation/."
     ]
    },
    {
     "name": "stderr",
     "output_type": "stream",
     "text": [
      "Processing <PIL.Image.Image image mode=RGB size=512x512 at 0x2923F8C6FA0>: 100%|██████████| 10/10 [00:01<00:00,  7.88 Samples/s]                 \n"
     ]
    },
    {
     "name": "stdout",
     "output_type": "stream",
     "text": [
      "Initialised with 1032 image(s) found.\n",
      "Output directory set to C:\\Users\\Pooja\\Documents\\Stone\\stone\\Augmentation/."
     ]
    },
    {
     "name": "stderr",
     "output_type": "stream",
     "text": [
      "Processing <PIL.Image.Image image mode=RGB size=855x691 at 0x2923F91FF40>: 100%|██████████| 10/10 [00:00<00:00, 21.56 Samples/s] \n"
     ]
    },
    {
     "name": "stdout",
     "output_type": "stream",
     "text": [
      "Initialised with 1032 image(s) found.\n",
      "Output directory set to C:\\Users\\Pooja\\Documents\\Stone\\stone\\Augmentation/."
     ]
    },
    {
     "name": "stderr",
     "output_type": "stream",
     "text": [
      "Processing <PIL.Image.Image image mode=RGB size=838x679 at 0x2923F8C6280>: 100%|██████████| 10/10 [00:00<00:00, 17.51 Samples/s] \n"
     ]
    },
    {
     "name": "stdout",
     "output_type": "stream",
     "text": [
      "Initialised with 1032 image(s) found.\n",
      "Output directory set to C:\\Users\\Pooja\\Documents\\Stone\\stone\\Augmentation/."
     ]
    },
    {
     "name": "stderr",
     "output_type": "stream",
     "text": [
      "Processing <PIL.Image.Image image mode=RGB size=512x512 at 0x2923F8C6D30>: 100%|██████████| 10/10 [00:00<00:00, 19.38 Samples/s] \n"
     ]
    },
    {
     "name": "stdout",
     "output_type": "stream",
     "text": [
      "Initialised with 1032 image(s) found.\n",
      "Output directory set to C:\\Users\\Pooja\\Documents\\Stone\\stone\\Augmentation/."
     ]
    },
    {
     "name": "stderr",
     "output_type": "stream",
     "text": [
      "Processing <PIL.Image.Image image mode=RGB size=512x512 at 0x2923F91F970>: 100%|██████████| 10/10 [00:00<00:00, 15.64 Samples/s]                 \n"
     ]
    },
    {
     "name": "stdout",
     "output_type": "stream",
     "text": [
      "Initialised with 1032 image(s) found.\n",
      "Output directory set to C:\\Users\\Pooja\\Documents\\Stone\\stone\\Augmentation/."
     ]
    },
    {
     "name": "stderr",
     "output_type": "stream",
     "text": [
      "Processing <PIL.Image.Image image mode=RGB size=1236x1001 at 0x2923F8C9D30>: 100%|██████████| 10/10 [00:00<00:00, 13.44 Samples/s]\n"
     ]
    },
    {
     "name": "stdout",
     "output_type": "stream",
     "text": [
      "Initialised with 1032 image(s) found.\n",
      "Output directory set to C:\\Users\\Pooja\\Documents\\Stone\\stone\\Augmentation/."
     ]
    },
    {
     "name": "stderr",
     "output_type": "stream",
     "text": [
      "Processing <PIL.Image.Image image mode=RGB size=512x512 at 0x2923F899190>: 100%|██████████| 10/10 [00:00<00:00, 15.03 Samples/s] \n"
     ]
    },
    {
     "name": "stdout",
     "output_type": "stream",
     "text": [
      "Initialised with 1032 image(s) found.\n",
      "Output directory set to C:\\Users\\Pooja\\Documents\\Stone\\stone\\Augmentation/."
     ]
    },
    {
     "name": "stderr",
     "output_type": "stream",
     "text": [
      "Processing <PIL.Image.Image image mode=RGB size=787x636 at 0x2923F8C91C0>: 100%|██████████| 10/10 [00:00<00:00, 15.73 Samples/s]                 \n"
     ]
    },
    {
     "name": "stdout",
     "output_type": "stream",
     "text": [
      "Initialised with 1032 image(s) found.\n",
      "Output directory set to C:\\Users\\Pooja\\Documents\\Stone\\stone\\Augmentation/."
     ]
    },
    {
     "name": "stderr",
     "output_type": "stream",
     "text": [
      "Processing <PIL.Image.Image image mode=RGB size=512x512 at 0x2923F8D2E80>: 100%|██████████| 10/10 [00:00<00:00, 17.38 Samples/s] \n"
     ]
    },
    {
     "name": "stdout",
     "output_type": "stream",
     "text": [
      "Initialised with 1032 image(s) found.\n",
      "Output directory set to C:\\Users\\Pooja\\Documents\\Stone\\stone\\Augmentation/."
     ]
    },
    {
     "name": "stderr",
     "output_type": "stream",
     "text": [
      "Processing <PIL.Image.Image image mode=RGB size=1236x1001 at 0x2923F79D550>: 100%|██████████| 10/10 [00:00<00:00, 16.30 Samples/s]               \n"
     ]
    },
    {
     "name": "stdout",
     "output_type": "stream",
     "text": [
      "Initialised with 1032 image(s) found.\n",
      "Output directory set to C:\\Users\\Pooja\\Documents\\Stone\\stone\\Augmentation/."
     ]
    },
    {
     "name": "stderr",
     "output_type": "stream",
     "text": [
      "Processing <PIL.Image.Image image mode=RGB size=713x576 at 0x2923F84D3D0>: 100%|██████████| 10/10 [00:00<00:00, 17.91 Samples/s] \n"
     ]
    },
    {
     "name": "stdout",
     "output_type": "stream",
     "text": [
      "Initialised with 1032 image(s) found.\n",
      "Output directory set to C:\\Users\\Pooja\\Documents\\Stone\\stone\\Augmentation/."
     ]
    },
    {
     "name": "stderr",
     "output_type": "stream",
     "text": [
      "Processing <PIL.Image.Image image mode=RGB size=512x512 at 0x292407CCBB0>: 100%|██████████| 10/10 [00:00<00:00, 15.86 Samples/s] \n"
     ]
    },
    {
     "name": "stdout",
     "output_type": "stream",
     "text": [
      "Initialised with 1032 image(s) found.\n",
      "Output directory set to C:\\Users\\Pooja\\Documents\\Stone\\stone\\Augmentation/."
     ]
    },
    {
     "name": "stderr",
     "output_type": "stream",
     "text": [
      "Processing <PIL.Image.Image image mode=RGB size=512x512 at 0x2923F91F6D0>: 100%|██████████| 10/10 [00:00<00:00, 19.40 Samples/s] \n"
     ]
    },
    {
     "name": "stdout",
     "output_type": "stream",
     "text": [
      "Initialised with 1032 image(s) found.\n",
      "Output directory set to C:\\Users\\Pooja\\Documents\\Stone\\stone\\Augmentation/."
     ]
    },
    {
     "name": "stderr",
     "output_type": "stream",
     "text": [
      "Processing <PIL.Image.Image image mode=RGB size=512x512 at 0x292407CC9A0>: 100%|██████████| 10/10 [00:01<00:00,  8.89 Samples/s] \n"
     ]
    },
    {
     "name": "stdout",
     "output_type": "stream",
     "text": [
      "Initialised with 1032 image(s) found.\n",
      "Output directory set to C:\\Users\\Pooja\\Documents\\Stone\\stone\\Augmentation/."
     ]
    },
    {
     "name": "stderr",
     "output_type": "stream",
     "text": [
      "Processing <PIL.Image.Image image mode=RGB size=512x512 at 0x2923F91F460>: 100%|██████████| 10/10 [00:00<00:00, 37.39 Samples/s]\n"
     ]
    },
    {
     "name": "stdout",
     "output_type": "stream",
     "text": [
      "Initialised with 1032 image(s) found.\n",
      "Output directory set to C:\\Users\\Pooja\\Documents\\Stone\\stone\\Augmentation/."
     ]
    },
    {
     "name": "stderr",
     "output_type": "stream",
     "text": [
      "Processing <PIL.Image.Image image mode=RGB size=888x719 at 0x292407CCD90>: 100%|██████████| 10/10 [00:00<00:00, 19.41 Samples/s]\n"
     ]
    },
    {
     "name": "stdout",
     "output_type": "stream",
     "text": [
      "Initialised with 1032 image(s) found.\n",
      "Output directory set to C:\\Users\\Pooja\\Documents\\Stone\\stone\\Augmentation/."
     ]
    },
    {
     "name": "stderr",
     "output_type": "stream",
     "text": [
      "Processing <PIL.Image.Image image mode=RGB size=512x512 at 0x2923F91F430>: 100%|██████████| 10/10 [00:00<00:00, 34.45 Samples/s]\n"
     ]
    },
    {
     "name": "stdout",
     "output_type": "stream",
     "text": [
      "Initialised with 1032 image(s) found.\n",
      "Output directory set to C:\\Users\\Pooja\\Documents\\Stone\\stone\\Augmentation/."
     ]
    },
    {
     "name": "stderr",
     "output_type": "stream",
     "text": [
      "Processing <PIL.Image.Image image mode=RGB size=838x679 at 0x2923F79D070>: 100%|██████████| 10/10 [00:00<00:00, 18.76 Samples/s] \n"
     ]
    },
    {
     "name": "stdout",
     "output_type": "stream",
     "text": [
      "Initialised with 1032 image(s) found.\n",
      "Output directory set to C:\\Users\\Pooja\\Documents\\Stone\\stone\\Augmentation/."
     ]
    },
    {
     "name": "stderr",
     "output_type": "stream",
     "text": [
      "Processing <PIL.Image.Image image mode=RGB size=512x512 at 0x2923F8D2940>: 100%|██████████| 10/10 [00:00<00:00, 21.48 Samples/s] \n"
     ]
    },
    {
     "name": "stdout",
     "output_type": "stream",
     "text": [
      "Initialised with 1032 image(s) found.\n",
      "Output directory set to C:\\Users\\Pooja\\Documents\\Stone\\stone\\Augmentation/."
     ]
    },
    {
     "name": "stderr",
     "output_type": "stream",
     "text": [
      "Processing <PIL.Image.Image image mode=RGB size=512x512 at 0x2923F8C6610>: 100%|██████████| 10/10 [00:00<00:00, 19.30 Samples/s]                   \n"
     ]
    },
    {
     "name": "stdout",
     "output_type": "stream",
     "text": [
      "Initialised with 1032 image(s) found.\n",
      "Output directory set to C:\\Users\\Pooja\\Documents\\Stone\\stone\\Augmentation/."
     ]
    },
    {
     "name": "stderr",
     "output_type": "stream",
     "text": [
      "Processing <PIL.Image.Image image mode=RGB size=1236x1001 at 0x2923F84DD00>: 100%|██████████| 10/10 [00:00<00:00, 16.48 Samples/s]                 \n"
     ]
    },
    {
     "name": "stdout",
     "output_type": "stream",
     "text": [
      "Initialised with 1032 image(s) found.\n",
      "Output directory set to C:\\Users\\Pooja\\Documents\\Stone\\stone\\Augmentation/."
     ]
    },
    {
     "name": "stderr",
     "output_type": "stream",
     "text": [
      "Processing <PIL.Image.Image image mode=RGB size=512x512 at 0x292407CC4F0>: 100%|██████████| 10/10 [00:00<00:00, 11.84 Samples/s] \n"
     ]
    },
    {
     "name": "stdout",
     "output_type": "stream",
     "text": [
      "Initialised with 1032 image(s) found.\n",
      "Output directory set to C:\\Users\\Pooja\\Documents\\Stone\\stone\\Augmentation/."
     ]
    },
    {
     "name": "stderr",
     "output_type": "stream",
     "text": [
      "Processing <PIL.Image.Image image mode=RGB size=512x512 at 0x2923F84D8B0>: 100%|██████████| 10/10 [00:00<00:00, 21.65 Samples/s] \n"
     ]
    },
    {
     "name": "stdout",
     "output_type": "stream",
     "text": [
      "Initialised with 1032 image(s) found.\n",
      "Output directory set to C:\\Users\\Pooja\\Documents\\Stone\\stone\\Augmentation/."
     ]
    },
    {
     "name": "stderr",
     "output_type": "stream",
     "text": [
      "Processing <PIL.Image.Image image mode=RGB size=512x512 at 0x2923F8C91F0>: 100%|██████████| 10/10 [00:00<00:00, 28.88 Samples/s]\n"
     ]
    },
    {
     "name": "stdout",
     "output_type": "stream",
     "text": [
      "Initialised with 1032 image(s) found.\n",
      "Output directory set to C:\\Users\\Pooja\\Documents\\Stone\\stone\\Augmentation/."
     ]
    },
    {
     "name": "stderr",
     "output_type": "stream",
     "text": [
      "Processing <PIL.Image.Image image mode=RGB size=512x512 at 0x2923F91F490>: 100%|██████████| 10/10 [00:00<00:00, 42.93 Samples/s]\n"
     ]
    },
    {
     "name": "stdout",
     "output_type": "stream",
     "text": [
      "Initialised with 1032 image(s) found.\n",
      "Output directory set to C:\\Users\\Pooja\\Documents\\Stone\\stone\\Augmentation/."
     ]
    },
    {
     "name": "stderr",
     "output_type": "stream",
     "text": [
      "Processing <PIL.Image.Image image mode=RGB size=512x512 at 0x292407CCD30>: 100%|██████████| 10/10 [00:00<00:00, 18.29 Samples/s] \n"
     ]
    },
    {
     "name": "stdout",
     "output_type": "stream",
     "text": [
      "Initialised with 1032 image(s) found.\n",
      "Output directory set to C:\\Users\\Pooja\\Documents\\Stone\\stone\\Augmentation/."
     ]
    },
    {
     "name": "stderr",
     "output_type": "stream",
     "text": [
      "Processing <PIL.Image.Image image mode=RGB size=512x512 at 0x2923F91F430>: 100%|██████████| 10/10 [00:00<00:00, 14.99 Samples/s]                 \n"
     ]
    },
    {
     "name": "stdout",
     "output_type": "stream",
     "text": [
      "Initialised with 1032 image(s) found.\n",
      "Output directory set to C:\\Users\\Pooja\\Documents\\Stone\\stone\\Augmentation/."
     ]
    },
    {
     "name": "stderr",
     "output_type": "stream",
     "text": [
      "Processing <PIL.Image.Image image mode=RGB size=888x719 at 0x2923F79D610>: 100%|██████████| 10/10 [00:00<00:00, 14.10 Samples/s]\n"
     ]
    },
    {
     "name": "stdout",
     "output_type": "stream",
     "text": [
      "Initialised with 1032 image(s) found.\n",
      "Output directory set to C:\\Users\\Pooja\\Documents\\Stone\\stone\\Augmentation/."
     ]
    },
    {
     "name": "stderr",
     "output_type": "stream",
     "text": [
      "Processing <PIL.Image.Image image mode=RGB size=1236x1001 at 0x2923F8C6910>: 100%|██████████| 10/10 [00:01<00:00,  9.85 Samples/s]\n"
     ]
    },
    {
     "name": "stdout",
     "output_type": "stream",
     "text": [
      "Initialised with 1032 image(s) found.\n",
      "Output directory set to C:\\Users\\Pooja\\Documents\\Stone\\stone\\Augmentation/."
     ]
    },
    {
     "name": "stderr",
     "output_type": "stream",
     "text": [
      "Processing <PIL.Image.Image image mode=RGB size=713x576 at 0x292407CC610>: 100%|██████████| 10/10 [00:00<00:00, 23.64 Samples/s]\n"
     ]
    },
    {
     "name": "stdout",
     "output_type": "stream",
     "text": [
      "Initialised with 1032 image(s) found.\n",
      "Output directory set to C:\\Users\\Pooja\\Documents\\Stone\\stone\\Augmentation/."
     ]
    },
    {
     "name": "stderr",
     "output_type": "stream",
     "text": [
      "Processing <PIL.Image.Image image mode=RGB size=512x512 at 0x2923F4D7190>: 100%|██████████| 10/10 [00:00<00:00, 23.90 Samples/s]\n"
     ]
    },
    {
     "name": "stdout",
     "output_type": "stream",
     "text": [
      "Initialised with 1032 image(s) found.\n",
      "Output directory set to C:\\Users\\Pooja\\Documents\\Stone\\stone\\Augmentation/."
     ]
    },
    {
     "name": "stderr",
     "output_type": "stream",
     "text": [
      "Processing <PIL.Image.Image image mode=RGB size=512x512 at 0x292407CC670>: 100%|██████████| 10/10 [00:00<00:00, 20.79 Samples/s] \n"
     ]
    },
    {
     "name": "stdout",
     "output_type": "stream",
     "text": [
      "Initialised with 1032 image(s) found.\n",
      "Output directory set to C:\\Users\\Pooja\\Documents\\Stone\\stone\\Augmentation/."
     ]
    },
    {
     "name": "stderr",
     "output_type": "stream",
     "text": [
      "Processing <PIL.Image.Image image mode=RGB size=512x512 at 0x2923F8D2AF0>: 100%|██████████| 10/10 [00:00<00:00, 20.08 Samples/s]                 \n"
     ]
    },
    {
     "name": "stdout",
     "output_type": "stream",
     "text": [
      "Initialised with 1032 image(s) found.\n",
      "Output directory set to C:\\Users\\Pooja\\Documents\\Stone\\stone\\Augmentation/."
     ]
    },
    {
     "name": "stderr",
     "output_type": "stream",
     "text": [
      "Processing <PIL.Image.Image image mode=RGB size=1118x905 at 0x2923F8C6BB0>: 100%|██████████| 10/10 [00:00<00:00, 20.84 Samples/s]\n"
     ]
    },
    {
     "name": "stdout",
     "output_type": "stream",
     "text": [
      "Initialised with 1032 image(s) found.\n",
      "Output directory set to C:\\Users\\Pooja\\Documents\\Stone\\stone\\Augmentation/."
     ]
    },
    {
     "name": "stderr",
     "output_type": "stream",
     "text": [
      "Processing <PIL.Image.Image image mode=RGB size=512x512 at 0x2923F4FD070>: 100%|██████████| 10/10 [00:00<00:00, 35.23 Samples/s]\n"
     ]
    },
    {
     "name": "stdout",
     "output_type": "stream",
     "text": [
      "Initialised with 1032 image(s) found.\n",
      "Output directory set to C:\\Users\\Pooja\\Documents\\Stone\\stone\\Augmentation/."
     ]
    },
    {
     "name": "stderr",
     "output_type": "stream",
     "text": [
      "Processing <PIL.Image.Image image mode=RGB size=512x512 at 0x292407CCB50>: 100%|██████████| 10/10 [00:00<00:00, 20.60 Samples/s] \n"
     ]
    },
    {
     "name": "stdout",
     "output_type": "stream",
     "text": [
      "Initialised with 1032 image(s) found.\n",
      "Output directory set to C:\\Users\\Pooja\\Documents\\Stone\\stone\\Augmentation/."
     ]
    },
    {
     "name": "stderr",
     "output_type": "stream",
     "text": [
      "Processing <PIL.Image.Image image mode=RGB size=512x512 at 0x2923F8D2040>: 100%|██████████| 10/10 [00:00<00:00, 19.48 Samples/s] \n"
     ]
    },
    {
     "name": "stdout",
     "output_type": "stream",
     "text": [
      "Initialised with 1032 image(s) found.\n",
      "Output directory set to C:\\Users\\Pooja\\Documents\\Stone\\stone\\Augmentation/."
     ]
    },
    {
     "name": "stderr",
     "output_type": "stream",
     "text": [
      "Processing <PIL.Image.Image image mode=RGB size=512x512 at 0x2923F79D430>: 100%|██████████| 10/10 [00:00<00:00, 29.56 Samples/s] \n"
     ]
    },
    {
     "name": "stdout",
     "output_type": "stream",
     "text": [
      "Initialised with 1032 image(s) found.\n",
      "Output directory set to C:\\Users\\Pooja\\Documents\\Stone\\stone\\Augmentation/."
     ]
    },
    {
     "name": "stderr",
     "output_type": "stream",
     "text": [
      "Processing <PIL.Image.Image image mode=RGB size=512x512 at 0x2923F84D670>: 100%|██████████| 10/10 [00:00<00:00, 32.26 Samples/s]\n"
     ]
    },
    {
     "name": "stdout",
     "output_type": "stream",
     "text": [
      "Initialised with 1032 image(s) found.\n",
      "Output directory set to C:\\Users\\Pooja\\Documents\\Stone\\stone\\Augmentation/."
     ]
    },
    {
     "name": "stderr",
     "output_type": "stream",
     "text": [
      "Processing <PIL.Image.Image image mode=RGB size=512x512 at 0x2923F87FB80>: 100%|██████████| 10/10 [00:00<00:00, 32.41 Samples/s]\n"
     ]
    },
    {
     "name": "stdout",
     "output_type": "stream",
     "text": [
      "Initialised with 1032 image(s) found.\n",
      "Output directory set to C:\\Users\\Pooja\\Documents\\Stone\\stone\\Augmentation/."
     ]
    },
    {
     "name": "stderr",
     "output_type": "stream",
     "text": [
      "Processing <PIL.Image.Image image mode=RGB size=790x640 at 0x2923F4FD850>: 100%|██████████| 10/10 [00:00<00:00, 23.73 Samples/s] \n"
     ]
    },
    {
     "name": "stdout",
     "output_type": "stream",
     "text": [
      "Initialised with 1032 image(s) found.\n",
      "Output directory set to C:\\Users\\Pooja\\Documents\\Stone\\stone\\Augmentation/."
     ]
    },
    {
     "name": "stderr",
     "output_type": "stream",
     "text": [
      "Processing <PIL.Image.Image image mode=RGB size=888x719 at 0x2923F79D430>: 100%|██████████| 10/10 [00:00<00:00, 23.13 Samples/s]\n"
     ]
    },
    {
     "name": "stdout",
     "output_type": "stream",
     "text": [
      "Initialised with 1032 image(s) found.\n",
      "Output directory set to C:\\Users\\Pooja\\Documents\\Stone\\stone\\Augmentation/."
     ]
    },
    {
     "name": "stderr",
     "output_type": "stream",
     "text": [
      "Processing <PIL.Image.Image image mode=RGB size=687x555 at 0x2923F4FD2B0>: 100%|██████████| 10/10 [00:00<00:00, 25.27 Samples/s] \n"
     ]
    },
    {
     "name": "stdout",
     "output_type": "stream",
     "text": [
      "Initialised with 1032 image(s) found.\n",
      "Output directory set to C:\\Users\\Pooja\\Documents\\Stone\\stone\\Augmentation/."
     ]
    },
    {
     "name": "stderr",
     "output_type": "stream",
     "text": [
      "Processing <PIL.Image.Image image mode=RGB size=512x512 at 0x2923F83D370>: 100%|██████████| 10/10 [00:00<00:00, 22.93 Samples/s] \n"
     ]
    },
    {
     "name": "stdout",
     "output_type": "stream",
     "text": [
      "Initialised with 1032 image(s) found.\n",
      "Output directory set to C:\\Users\\Pooja\\Documents\\Stone\\stone\\Augmentation/."
     ]
    },
    {
     "name": "stderr",
     "output_type": "stream",
     "text": [
      "Processing <PIL.Image.Image image mode=RGB size=512x512 at 0x2923F8C6460>: 100%|██████████| 10/10 [00:00<00:00, 13.03 Samples/s]                 \n"
     ]
    },
    {
     "name": "stdout",
     "output_type": "stream",
     "text": [
      "Initialised with 1032 image(s) found.\n",
      "Output directory set to C:\\Users\\Pooja\\Documents\\Stone\\stone\\Augmentation/."
     ]
    },
    {
     "name": "stderr",
     "output_type": "stream",
     "text": [
      "Processing <PIL.Image.Image image mode=RGB size=512x512 at 0x2923F87FC10>: 100%|██████████| 10/10 [00:00<00:00, 22.10 Samples/s] \n"
     ]
    },
    {
     "name": "stdout",
     "output_type": "stream",
     "text": [
      "Initialised with 1032 image(s) found.\n",
      "Output directory set to C:\\Users\\Pooja\\Documents\\Stone\\stone\\Augmentation/."
     ]
    },
    {
     "name": "stderr",
     "output_type": "stream",
     "text": [
      "Processing <PIL.Image.Image image mode=RGB size=512x512 at 0x2923F8C6F70>: 100%|██████████| 10/10 [00:00<00:00, 10.35 Samples/s] \n"
     ]
    },
    {
     "name": "stdout",
     "output_type": "stream",
     "text": [
      "Initialised with 1032 image(s) found.\n",
      "Output directory set to C:\\Users\\Pooja\\Documents\\Stone\\stone\\Augmentation/."
     ]
    },
    {
     "name": "stderr",
     "output_type": "stream",
     "text": [
      "Processing <PIL.Image.Image image mode=RGB size=512x512 at 0x2923F87F850>: 100%|██████████| 10/10 [00:01<00:00,  5.32 Samples/s] \n"
     ]
    },
    {
     "name": "stdout",
     "output_type": "stream",
     "text": [
      "Initialised with 1032 image(s) found.\n",
      "Output directory set to C:\\Users\\Pooja\\Documents\\Stone\\stone\\Augmentation/."
     ]
    },
    {
     "name": "stderr",
     "output_type": "stream",
     "text": [
      "Processing <PIL.Image.Image image mode=RGB size=512x512 at 0x2923F4FDC70>: 100%|██████████| 10/10 [00:00<00:00, 27.09 Samples/s] \n"
     ]
    },
    {
     "name": "stdout",
     "output_type": "stream",
     "text": [
      "Initialised with 1032 image(s) found.\n",
      "Output directory set to C:\\Users\\Pooja\\Documents\\Stone\\stone\\Augmentation/."
     ]
    },
    {
     "name": "stderr",
     "output_type": "stream",
     "text": [
      "Processing <PIL.Image.Image image mode=RGB size=512x512 at 0x2923F87FAC0>: 100%|██████████| 10/10 [00:00<00:00, 21.77 Samples/s] \n"
     ]
    },
    {
     "name": "stdout",
     "output_type": "stream",
     "text": [
      "Initialised with 1032 image(s) found.\n",
      "Output directory set to C:\\Users\\Pooja\\Documents\\Stone\\stone\\Augmentation/."
     ]
    },
    {
     "name": "stderr",
     "output_type": "stream",
     "text": [
      "Processing <PIL.Image.Image image mode=RGB size=512x512 at 0x2923F4FD580>: 100%|██████████| 10/10 [00:00<00:00, 17.96 Samples/s] \n"
     ]
    },
    {
     "name": "stdout",
     "output_type": "stream",
     "text": [
      "Initialised with 1032 image(s) found.\n",
      "Output directory set to C:\\Users\\Pooja\\Documents\\Stone\\stone\\Augmentation/."
     ]
    },
    {
     "name": "stderr",
     "output_type": "stream",
     "text": [
      "Processing <PIL.Image.Image image mode=RGB size=682x552 at 0x2923F8C6220>: 100%|██████████| 10/10 [00:00<00:00, 20.58 Samples/s]\n"
     ]
    },
    {
     "name": "stdout",
     "output_type": "stream",
     "text": [
      "Initialised with 1032 image(s) found.\n",
      "Output directory set to C:\\Users\\Pooja\\Documents\\Stone\\stone\\Augmentation/."
     ]
    },
    {
     "name": "stderr",
     "output_type": "stream",
     "text": [
      "Processing <PIL.Image.Image image mode=RGB size=1236x1001 at 0x2923F8D2EE0>: 100%|██████████| 10/10 [00:00<00:00, 25.78 Samples/s]\n"
     ]
    },
    {
     "name": "stdout",
     "output_type": "stream",
     "text": [
      "Initialised with 1032 image(s) found.\n",
      "Output directory set to C:\\Users\\Pooja\\Documents\\Stone\\stone\\Augmentation/."
     ]
    },
    {
     "name": "stderr",
     "output_type": "stream",
     "text": [
      "Processing <PIL.Image.Image image mode=RGB size=512x512 at 0x2923F87F850>: 100%|██████████| 10/10 [00:00<00:00, 19.94 Samples/s]                 \n"
     ]
    },
    {
     "name": "stdout",
     "output_type": "stream",
     "text": [
      "Initialised with 1032 image(s) found.\n",
      "Output directory set to C:\\Users\\Pooja\\Documents\\Stone\\stone\\Augmentation/."
     ]
    },
    {
     "name": "stderr",
     "output_type": "stream",
     "text": [
      "Processing <PIL.Image.Image image mode=RGB size=745x602 at 0x2923F4FD940>: 100%|██████████| 10/10 [00:00<00:00, 28.49 Samples/s]\n"
     ]
    },
    {
     "name": "stdout",
     "output_type": "stream",
     "text": [
      "Initialised with 1032 image(s) found.\n",
      "Output directory set to C:\\Users\\Pooja\\Documents\\Stone\\stone\\Augmentation/."
     ]
    },
    {
     "name": "stderr",
     "output_type": "stream",
     "text": [
      "Processing <PIL.Image.Image image mode=RGB size=512x512 at 0x2923F83DF70>: 100%|██████████| 10/10 [00:00<00:00, 28.48 Samples/s]\n"
     ]
    },
    {
     "name": "stdout",
     "output_type": "stream",
     "text": [
      "Initialised with 1032 image(s) found.\n",
      "Output directory set to C:\\Users\\Pooja\\Documents\\Stone\\stone\\Augmentation/."
     ]
    },
    {
     "name": "stderr",
     "output_type": "stream",
     "text": [
      "Processing <PIL.Image.Image image mode=RGB size=512x512 at 0x2923F84D160>: 100%|██████████| 10/10 [00:00<00:00, 26.22 Samples/s] \n"
     ]
    },
    {
     "name": "stdout",
     "output_type": "stream",
     "text": [
      "Initialised with 1032 image(s) found.\n",
      "Output directory set to C:\\Users\\Pooja\\Documents\\Stone\\stone\\Augmentation/."
     ]
    },
    {
     "name": "stderr",
     "output_type": "stream",
     "text": [
      "Processing <PIL.Image.Image image mode=RGB size=512x512 at 0x2923F79D0A0>: 100%|██████████| 10/10 [00:00<00:00, 42.36 Samples/s] \n"
     ]
    },
    {
     "name": "stdout",
     "output_type": "stream",
     "text": [
      "Initialised with 1032 image(s) found.\n",
      "Output directory set to C:\\Users\\Pooja\\Documents\\Stone\\stone\\Augmentation/."
     ]
    },
    {
     "name": "stderr",
     "output_type": "stream",
     "text": [
      "Processing <PIL.Image.Image image mode=RGB size=713x576 at 0x2923F84D730>: 100%|██████████| 10/10 [00:00<00:00, 19.47 Samples/s] \n"
     ]
    },
    {
     "name": "stdout",
     "output_type": "stream",
     "text": [
      "Initialised with 1032 image(s) found.\n",
      "Output directory set to C:\\Users\\Pooja\\Documents\\Stone\\stone\\Augmentation/."
     ]
    },
    {
     "name": "stderr",
     "output_type": "stream",
     "text": [
      "Processing <PIL.Image.Image image mode=RGB size=512x512 at 0x2923F83DDC0>: 100%|██████████| 10/10 [00:00<00:00, 22.92 Samples/s] \n"
     ]
    },
    {
     "name": "stdout",
     "output_type": "stream",
     "text": [
      "Initialised with 1032 image(s) found.\n",
      "Output directory set to C:\\Users\\Pooja\\Documents\\Stone\\stone\\Augmentation/."
     ]
    },
    {
     "name": "stderr",
     "output_type": "stream",
     "text": [
      "Processing <PIL.Image.Image image mode=RGB size=512x512 at 0x2923F4FDD00>: 100%|██████████| 10/10 [00:00<00:00, 13.81 Samples/s] \n"
     ]
    },
    {
     "name": "stdout",
     "output_type": "stream",
     "text": [
      "Initialised with 1032 image(s) found.\n",
      "Output directory set to C:\\Users\\Pooja\\Documents\\Stone\\stone\\Augmentation/."
     ]
    },
    {
     "name": "stderr",
     "output_type": "stream",
     "text": [
      "Processing <PIL.Image.Image image mode=RGB size=855x691 at 0x2923F8C6040>: 100%|██████████| 10/10 [00:00<00:00, 24.10 Samples/s] \n"
     ]
    },
    {
     "name": "stdout",
     "output_type": "stream",
     "text": [
      "Initialised with 1032 image(s) found.\n",
      "Output directory set to C:\\Users\\Pooja\\Documents\\Stone\\stone\\Augmentation/."
     ]
    },
    {
     "name": "stderr",
     "output_type": "stream",
     "text": [
      "Processing <PIL.Image.Image image mode=RGB size=512x512 at 0x2923F4FDB80>: 100%|██████████| 10/10 [00:00<00:00, 23.39 Samples/s] \n"
     ]
    },
    {
     "name": "stdout",
     "output_type": "stream",
     "text": [
      "Initialised with 1032 image(s) found.\n",
      "Output directory set to C:\\Users\\Pooja\\Documents\\Stone\\stone\\Augmentation/."
     ]
    },
    {
     "name": "stderr",
     "output_type": "stream",
     "text": [
      "Processing <PIL.Image.Image image mode=RGB size=512x512 at 0x2923F83D370>: 100%|██████████| 10/10 [00:00<00:00, 23.89 Samples/s]                 \n"
     ]
    },
    {
     "name": "stdout",
     "output_type": "stream",
     "text": [
      "Initialised with 1032 image(s) found.\n",
      "Output directory set to C:\\Users\\Pooja\\Documents\\Stone\\stone\\Augmentation/."
     ]
    },
    {
     "name": "stderr",
     "output_type": "stream",
     "text": [
      "Processing <PIL.Image.Image image mode=RGB size=512x512 at 0x2923F4FD460>: 100%|██████████| 10/10 [00:00<00:00, 15.40 Samples/s] \n"
     ]
    },
    {
     "name": "stdout",
     "output_type": "stream",
     "text": [
      "Initialised with 1032 image(s) found.\n",
      "Output directory set to C:\\Users\\Pooja\\Documents\\Stone\\stone\\Augmentation/."
     ]
    },
    {
     "name": "stderr",
     "output_type": "stream",
     "text": [
      "Processing <PIL.Image.Image image mode=RGB size=1236x1001 at 0x2923F79D4C0>: 100%|██████████| 10/10 [00:00<00:00, 19.91 Samples/s]\n"
     ]
    },
    {
     "name": "stdout",
     "output_type": "stream",
     "text": [
      "Initialised with 1032 image(s) found.\n",
      "Output directory set to C:\\Users\\Pooja\\Documents\\Stone\\stone\\Augmentation/."
     ]
    },
    {
     "name": "stderr",
     "output_type": "stream",
     "text": [
      "Processing <PIL.Image.Image image mode=RGB size=1203x974 at 0x2923F8C6F70>: 100%|██████████| 10/10 [00:00<00:00, 18.52 Samples/s]\n"
     ]
    },
    {
     "name": "stdout",
     "output_type": "stream",
     "text": [
      "Initialised with 1032 image(s) found.\n",
      "Output directory set to C:\\Users\\Pooja\\Documents\\Stone\\stone\\Augmentation/."
     ]
    },
    {
     "name": "stderr",
     "output_type": "stream",
     "text": [
      "Processing <PIL.Image.Image image mode=RGB size=512x512 at 0x2923F8C6490>: 100%|██████████| 10/10 [00:00<00:00, 36.10 Samples/s] \n"
     ]
    },
    {
     "name": "stdout",
     "output_type": "stream",
     "text": [
      "Initialised with 1032 image(s) found.\n",
      "Output directory set to C:\\Users\\Pooja\\Documents\\Stone\\stone\\Augmentation/."
     ]
    },
    {
     "name": "stderr",
     "output_type": "stream",
     "text": [
      "Processing <PIL.Image.Image image mode=RGB size=512x512 at 0x2923F782C10>: 100%|██████████| 10/10 [00:00<00:00, 16.03 Samples/s] \n"
     ]
    },
    {
     "name": "stdout",
     "output_type": "stream",
     "text": [
      "Initialised with 1032 image(s) found.\n",
      "Output directory set to C:\\Users\\Pooja\\Documents\\Stone\\stone\\Augmentation/."
     ]
    },
    {
     "name": "stderr",
     "output_type": "stream",
     "text": [
      "Processing <PIL.Image.Image image mode=RGB size=888x719 at 0x2923F87F220>: 100%|██████████| 10/10 [00:00<00:00, 22.38 Samples/s] \n"
     ]
    },
    {
     "name": "stdout",
     "output_type": "stream",
     "text": [
      "Initialised with 1032 image(s) found.\n",
      "Output directory set to C:\\Users\\Pooja\\Documents\\Stone\\stone\\Augmentation/."
     ]
    },
    {
     "name": "stderr",
     "output_type": "stream",
     "text": [
      "Processing <PIL.Image.Image image mode=RGB size=888x719 at 0x2923F84D6A0>: 100%|██████████| 10/10 [00:00<00:00, 21.62 Samples/s] \n"
     ]
    },
    {
     "name": "stdout",
     "output_type": "stream",
     "text": [
      "Initialised with 1032 image(s) found.\n",
      "Output directory set to C:\\Users\\Pooja\\Documents\\Stone\\stone\\Augmentation/."
     ]
    },
    {
     "name": "stderr",
     "output_type": "stream",
     "text": [
      "Processing <PIL.Image.Image image mode=RGB size=512x512 at 0x2923F87FB20>: 100%|██████████| 10/10 [00:00<00:00, 21.07 Samples/s] \n"
     ]
    },
    {
     "name": "stdout",
     "output_type": "stream",
     "text": [
      "Initialised with 1032 image(s) found.\n",
      "Output directory set to C:\\Users\\Pooja\\Documents\\Stone\\stone\\Augmentation/."
     ]
    },
    {
     "name": "stderr",
     "output_type": "stream",
     "text": [
      "Processing <PIL.Image.Image image mode=RGB size=512x512 at 0x2923F782880>: 100%|██████████| 10/10 [00:01<00:00,  7.21 Samples/s]\n"
     ]
    },
    {
     "name": "stdout",
     "output_type": "stream",
     "text": [
      "Initialised with 1032 image(s) found.\n",
      "Output directory set to C:\\Users\\Pooja\\Documents\\Stone\\stone\\Augmentation/."
     ]
    },
    {
     "name": "stderr",
     "output_type": "stream",
     "text": [
      "Processing <PIL.Image.Image image mode=RGB size=512x512 at 0x2923F8C6040>: 100%|██████████| 10/10 [00:00<00:00, 34.70 Samples/s]\n"
     ]
    },
    {
     "name": "stdout",
     "output_type": "stream",
     "text": [
      "Initialised with 1032 image(s) found.\n",
      "Output directory set to C:\\Users\\Pooja\\Documents\\Stone\\stone\\Augmentation/."
     ]
    },
    {
     "name": "stderr",
     "output_type": "stream",
     "text": [
      "Processing <PIL.Image.Image image mode=RGB size=512x512 at 0x2923F8D2F10>: 100%|██████████| 10/10 [00:00<00:00, 20.65 Samples/s] \n"
     ]
    },
    {
     "name": "stdout",
     "output_type": "stream",
     "text": [
      "Initialised with 1032 image(s) found.\n",
      "Output directory set to C:\\Users\\Pooja\\Documents\\Stone\\stone\\Augmentation/."
     ]
    },
    {
     "name": "stderr",
     "output_type": "stream",
     "text": [
      "Processing <PIL.Image.Image image mode=RGB size=512x512 at 0x2923F87F940>: 100%|██████████| 10/10 [00:00<00:00, 31.67 Samples/s]\n"
     ]
    },
    {
     "name": "stdout",
     "output_type": "stream",
     "text": [
      "Initialised with 1032 image(s) found.\n",
      "Output directory set to C:\\Users\\Pooja\\Documents\\Stone\\stone\\Augmentation/."
     ]
    },
    {
     "name": "stderr",
     "output_type": "stream",
     "text": [
      "Processing <PIL.Image.Image image mode=RGB size=512x512 at 0x2923F4FDA00>: 100%|██████████| 10/10 [00:00<00:00, 23.53 Samples/s]\n"
     ]
    },
    {
     "name": "stdout",
     "output_type": "stream",
     "text": [
      "Initialised with 1032 image(s) found.\n",
      "Output directory set to C:\\Users\\Pooja\\Documents\\Stone\\stone\\Augmentation/."
     ]
    },
    {
     "name": "stderr",
     "output_type": "stream",
     "text": [
      "Processing <PIL.Image.Image image mode=RGB size=512x512 at 0x2923F83DCA0>: 100%|██████████| 10/10 [00:00<00:00, 32.52 Samples/s]\n"
     ]
    },
    {
     "name": "stdout",
     "output_type": "stream",
     "text": [
      "Initialised with 1032 image(s) found.\n",
      "Output directory set to C:\\Users\\Pooja\\Documents\\Stone\\stone\\Augmentation/."
     ]
    },
    {
     "name": "stderr",
     "output_type": "stream",
     "text": [
      "Processing <PIL.Image.Image image mode=RGB size=512x512 at 0x2923F782A00>: 100%|██████████| 10/10 [00:00<00:00, 17.49 Samples/s] \n"
     ]
    },
    {
     "name": "stdout",
     "output_type": "stream",
     "text": [
      "Initialised with 1032 image(s) found.\n",
      "Output directory set to C:\\Users\\Pooja\\Documents\\Stone\\stone\\Augmentation/."
     ]
    },
    {
     "name": "stderr",
     "output_type": "stream",
     "text": [
      "Processing <PIL.Image.Image image mode=RGB size=512x512 at 0x2923F83DCD0>: 100%|██████████| 10/10 [00:00<00:00, 28.43 Samples/s]\n"
     ]
    },
    {
     "name": "stdout",
     "output_type": "stream",
     "text": [
      "Initialised with 1032 image(s) found.\n",
      "Output directory set to C:\\Users\\Pooja\\Documents\\Stone\\stone\\Augmentation/."
     ]
    },
    {
     "name": "stderr",
     "output_type": "stream",
     "text": [
      "Processing <PIL.Image.Image image mode=RGB size=1203x974 at 0x2923F782CD0>: 100%|██████████| 10/10 [00:00<00:00, 19.02 Samples/s]\n"
     ]
    },
    {
     "name": "stdout",
     "output_type": "stream",
     "text": [
      "Initialised with 1032 image(s) found.\n",
      "Output directory set to C:\\Users\\Pooja\\Documents\\Stone\\stone\\Augmentation/."
     ]
    },
    {
     "name": "stderr",
     "output_type": "stream",
     "text": [
      "Processing <PIL.Image.Image image mode=RGB size=1236x1001 at 0x2923F8C6A90>: 100%|██████████| 10/10 [00:00<00:00, 21.76 Samples/s]\n"
     ]
    },
    {
     "name": "stdout",
     "output_type": "stream",
     "text": [
      "Initialised with 1032 image(s) found.\n",
      "Output directory set to C:\\Users\\Pooja\\Documents\\Stone\\stone\\Augmentation/."
     ]
    },
    {
     "name": "stderr",
     "output_type": "stream",
     "text": [
      "Processing <PIL.Image.Image image mode=RGB size=1236x1001 at 0x2923F8D2070>: 100%|██████████| 10/10 [00:00<00:00, 21.98 Samples/s]\n"
     ]
    },
    {
     "name": "stdout",
     "output_type": "stream",
     "text": [
      "Initialised with 1032 image(s) found.\n",
      "Output directory set to C:\\Users\\Pooja\\Documents\\Stone\\stone\\Augmentation/."
     ]
    },
    {
     "name": "stderr",
     "output_type": "stream",
     "text": [
      "Processing <PIL.Image.Image image mode=RGB size=512x512 at 0x2923F899940>: 100%|██████████| 10/10 [00:00<00:00, 19.78 Samples/s] \n"
     ]
    },
    {
     "name": "stdout",
     "output_type": "stream",
     "text": [
      "Initialised with 1032 image(s) found.\n",
      "Output directory set to C:\\Users\\Pooja\\Documents\\Stone\\stone\\Augmentation/."
     ]
    },
    {
     "name": "stderr",
     "output_type": "stream",
     "text": [
      "Processing <PIL.Image.Image image mode=RGB size=512x512 at 0x2923F4FD9D0>: 100%|██████████| 10/10 [00:00<00:00, 32.80 Samples/s]                 \n"
     ]
    },
    {
     "name": "stdout",
     "output_type": "stream",
     "text": [
      "Initialised with 1032 image(s) found.\n",
      "Output directory set to C:\\Users\\Pooja\\Documents\\Stone\\stone\\Augmentation/."
     ]
    },
    {
     "name": "stderr",
     "output_type": "stream",
     "text": [
      "Processing <PIL.Image.Image image mode=RGB size=861x696 at 0x292407CC760>: 100%|██████████| 10/10 [00:00<00:00, 22.86 Samples/s]                 \n"
     ]
    },
    {
     "name": "stdout",
     "output_type": "stream",
     "text": [
      "Initialised with 1032 image(s) found.\n",
      "Output directory set to C:\\Users\\Pooja\\Documents\\Stone\\stone\\Augmentation/."
     ]
    },
    {
     "name": "stderr",
     "output_type": "stream",
     "text": [
      "Processing <PIL.Image.Image image mode=RGB size=1236x1001 at 0x2923F4FDC10>: 100%|██████████| 10/10 [00:00<00:00, 12.80 Samples/s]\n"
     ]
    },
    {
     "name": "stdout",
     "output_type": "stream",
     "text": [
      "Initialised with 1032 image(s) found.\n",
      "Output directory set to C:\\Users\\Pooja\\Documents\\Stone\\stone\\Augmentation/."
     ]
    },
    {
     "name": "stderr",
     "output_type": "stream",
     "text": [
      "Processing <PIL.Image.Image image mode=RGB size=1236x1001 at 0x292407CCCA0>: 100%|██████████| 10/10 [00:05<00:00,  1.67 Samples/s]\n"
     ]
    },
    {
     "name": "stdout",
     "output_type": "stream",
     "text": [
      "Initialised with 1032 image(s) found.\n",
      "Output directory set to C:\\Users\\Pooja\\Documents\\Stone\\stone\\Augmentation/."
     ]
    },
    {
     "name": "stderr",
     "output_type": "stream",
     "text": [
      "Processing <PIL.Image.Image image mode=RGB size=512x512 at 0x2923F782B20>: 100%|██████████| 10/10 [00:00<00:00, 17.73 Samples/s] \n"
     ]
    },
    {
     "name": "stdout",
     "output_type": "stream",
     "text": [
      "Initialised with 1032 image(s) found.\n",
      "Output directory set to C:\\Users\\Pooja\\Documents\\Stone\\stone\\Augmentation/."
     ]
    },
    {
     "name": "stderr",
     "output_type": "stream",
     "text": [
      "Processing <PIL.Image.Image image mode=RGB size=888x719 at 0x2923F8588E0>: 100%|██████████| 10/10 [00:00<00:00, 19.82 Samples/s] \n"
     ]
    },
    {
     "name": "stdout",
     "output_type": "stream",
     "text": [
      "Initialised with 1032 image(s) found.\n",
      "Output directory set to C:\\Users\\Pooja\\Documents\\Stone\\stone\\Augmentation/."
     ]
    },
    {
     "name": "stderr",
     "output_type": "stream",
     "text": [
      "Processing <PIL.Image.Image image mode=RGB size=512x512 at 0x2923F7823D0>: 100%|██████████| 10/10 [00:00<00:00, 18.35 Samples/s] \n"
     ]
    },
    {
     "name": "stdout",
     "output_type": "stream",
     "text": [
      "Initialised with 1032 image(s) found.\n",
      "Output directory set to C:\\Users\\Pooja\\Documents\\Stone\\stone\\Augmentation/."
     ]
    },
    {
     "name": "stderr",
     "output_type": "stream",
     "text": [
      "Processing <PIL.Image.Image image mode=RGB size=1236x1001 at 0x2923F79D3D0>: 100%|██████████| 10/10 [00:00<00:00, 19.11 Samples/s]\n"
     ]
    },
    {
     "name": "stdout",
     "output_type": "stream",
     "text": [
      "Initialised with 1032 image(s) found.\n",
      "Output directory set to C:\\Users\\Pooja\\Documents\\Stone\\stone\\Augmentation/."
     ]
    },
    {
     "name": "stderr",
     "output_type": "stream",
     "text": [
      "Processing <PIL.Image.Image image mode=RGB size=888x719 at 0x2923F782430>: 100%|██████████| 10/10 [00:00<00:00, 19.64 Samples/s]\n"
     ]
    },
    {
     "name": "stdout",
     "output_type": "stream",
     "text": [
      "Initialised with 1032 image(s) found.\n",
      "Output directory set to C:\\Users\\Pooja\\Documents\\Stone\\stone\\Augmentation/."
     ]
    },
    {
     "name": "stderr",
     "output_type": "stream",
     "text": [
      "Processing <PIL.Image.Image image mode=RGB size=512x512 at 0x2923F79D250>: 100%|██████████| 10/10 [00:00<00:00, 27.66 Samples/s]\n"
     ]
    },
    {
     "name": "stdout",
     "output_type": "stream",
     "text": [
      "Initialised with 1032 image(s) found.\n",
      "Output directory set to C:\\Users\\Pooja\\Documents\\Stone\\stone\\Augmentation/."
     ]
    },
    {
     "name": "stderr",
     "output_type": "stream",
     "text": [
      "Processing <PIL.Image.Image image mode=RGB size=512x512 at 0x2923F4FD3A0>: 100%|██████████| 10/10 [00:00<00:00, 17.83 Samples/s]\n"
     ]
    },
    {
     "name": "stdout",
     "output_type": "stream",
     "text": [
      "Initialised with 1032 image(s) found.\n",
      "Output directory set to C:\\Users\\Pooja\\Documents\\Stone\\stone\\Augmentation/."
     ]
    },
    {
     "name": "stderr",
     "output_type": "stream",
     "text": [
      "Processing <PIL.Image.Image image mode=RGB size=512x512 at 0x2923F83DB50>: 100%|██████████| 10/10 [00:00<00:00, 38.20 Samples/s]\n"
     ]
    },
    {
     "name": "stdout",
     "output_type": "stream",
     "text": [
      "Initialised with 1032 image(s) found.\n",
      "Output directory set to C:\\Users\\Pooja\\Documents\\Stone\\stone\\Augmentation/."
     ]
    },
    {
     "name": "stderr",
     "output_type": "stream",
     "text": [
      "Processing <PIL.Image.Image image mode=RGB size=512x512 at 0x2923F782970>: 100%|██████████| 10/10 [00:00<00:00, 17.07 Samples/s] \n"
     ]
    },
    {
     "name": "stdout",
     "output_type": "stream",
     "text": [
      "Initialised with 1032 image(s) found.\n",
      "Output directory set to C:\\Users\\Pooja\\Documents\\Stone\\stone\\Augmentation/."
     ]
    },
    {
     "name": "stderr",
     "output_type": "stream",
     "text": [
      "Processing <PIL.Image.Image image mode=RGB size=512x512 at 0x292407CCCA0>: 100%|██████████| 10/10 [00:00<00:00, 27.44 Samples/s]\n"
     ]
    },
    {
     "name": "stdout",
     "output_type": "stream",
     "text": [
      "Initialised with 1032 image(s) found.\n",
      "Output directory set to C:\\Users\\Pooja\\Documents\\Stone\\stone\\Augmentation/."
     ]
    },
    {
     "name": "stderr",
     "output_type": "stream",
     "text": [
      "Processing <PIL.Image.Image image mode=RGB size=888x719 at 0x2923F782190>: 100%|██████████| 10/10 [00:00<00:00, 15.94 Samples/s] \n"
     ]
    },
    {
     "name": "stdout",
     "output_type": "stream",
     "text": [
      "Initialised with 1032 image(s) found.\n",
      "Output directory set to C:\\Users\\Pooja\\Documents\\Stone\\stone\\Augmentation/."
     ]
    },
    {
     "name": "stderr",
     "output_type": "stream",
     "text": [
      "Processing <PIL.JpegImagePlugin.JpegImageFile image mode=RGB size=512x512 at 0x2923F87F250>: 100%|██████████| 10/10 [00:00<00:00, 19.08 Samples/s]\n"
     ]
    },
    {
     "name": "stdout",
     "output_type": "stream",
     "text": [
      "Initialised with 1032 image(s) found.\n",
      "Output directory set to C:\\Users\\Pooja\\Documents\\Stone\\stone\\Augmentation/."
     ]
    },
    {
     "name": "stderr",
     "output_type": "stream",
     "text": [
      "Processing <PIL.Image.Image image mode=RGB size=713x576 at 0x2923F4FDB50>: 100%|██████████| 10/10 [00:00<00:00, 27.95 Samples/s]\n"
     ]
    },
    {
     "name": "stdout",
     "output_type": "stream",
     "text": [
      "Initialised with 1032 image(s) found.\n",
      "Output directory set to C:\\Users\\Pooja\\Documents\\Stone\\stone\\Augmentation/."
     ]
    },
    {
     "name": "stderr",
     "output_type": "stream",
     "text": [
      "Processing <PIL.Image.Image image mode=RGB size=512x512 at 0x2923F02BDC0>: 100%|██████████| 10/10 [00:01<00:00,  8.32 Samples/s] \n"
     ]
    },
    {
     "name": "stdout",
     "output_type": "stream",
     "text": [
      "Initialised with 1032 image(s) found.\n",
      "Output directory set to C:\\Users\\Pooja\\Documents\\Stone\\stone\\Augmentation/."
     ]
    },
    {
     "name": "stderr",
     "output_type": "stream",
     "text": [
      "Processing <PIL.Image.Image image mode=RGB size=512x512 at 0x2923F4FD7F0>: 100%|██████████| 10/10 [00:00<00:00, 38.82 Samples/s]                 \n"
     ]
    },
    {
     "name": "stdout",
     "output_type": "stream",
     "text": [
      "Initialised with 1032 image(s) found.\n",
      "Output directory set to C:\\Users\\Pooja\\Documents\\Stone\\stone\\Augmentation/."
     ]
    },
    {
     "name": "stderr",
     "output_type": "stream",
     "text": [
      "Processing <PIL.Image.Image image mode=RGB size=512x512 at 0x2923F858F70>: 100%|██████████| 10/10 [00:00<00:00, 20.50 Samples/s]\n"
     ]
    },
    {
     "name": "stdout",
     "output_type": "stream",
     "text": [
      "Initialised with 1032 image(s) found.\n",
      "Output directory set to C:\\Users\\Pooja\\Documents\\Stone\\stone\\Augmentation/."
     ]
    },
    {
     "name": "stderr",
     "output_type": "stream",
     "text": [
      "Processing <PIL.Image.Image image mode=RGB size=512x512 at 0x2923F4FD670>: 100%|██████████| 10/10 [00:00<00:00, 19.12 Samples/s]                 \n"
     ]
    },
    {
     "name": "stdout",
     "output_type": "stream",
     "text": [
      "Initialised with 1032 image(s) found.\n",
      "Output directory set to C:\\Users\\Pooja\\Documents\\Stone\\stone\\Augmentation/."
     ]
    },
    {
     "name": "stderr",
     "output_type": "stream",
     "text": [
      "Processing <PIL.Image.Image image mode=RGB size=749x605 at 0x2923F8EB0A0>: 100%|██████████| 10/10 [00:01<00:00,  8.30 Samples/s]\n"
     ]
    },
    {
     "name": "stdout",
     "output_type": "stream",
     "text": [
      "Initialised with 1032 image(s) found.\n",
      "Output directory set to C:\\Users\\Pooja\\Documents\\Stone\\stone\\Augmentation/."
     ]
    },
    {
     "name": "stderr",
     "output_type": "stream",
     "text": [
      "Processing <PIL.Image.Image image mode=RGB size=512x512 at 0x2923F782D90>: 100%|██████████| 10/10 [00:00<00:00, 25.04 Samples/s]\n"
     ]
    },
    {
     "name": "stdout",
     "output_type": "stream",
     "text": [
      "Initialised with 1032 image(s) found.\n",
      "Output directory set to C:\\Users\\Pooja\\Documents\\Stone\\stone\\Augmentation/."
     ]
    },
    {
     "name": "stderr",
     "output_type": "stream",
     "text": [
      "Processing <PIL.Image.Image image mode=RGB size=512x512 at 0x2923F899AC0>: 100%|██████████| 10/10 [00:00<00:00, 19.48 Samples/s] \n"
     ]
    },
    {
     "name": "stdout",
     "output_type": "stream",
     "text": [
      "Initialised with 1032 image(s) found.\n",
      "Output directory set to C:\\Users\\Pooja\\Documents\\Stone\\stone\\Augmentation/."
     ]
    },
    {
     "name": "stderr",
     "output_type": "stream",
     "text": [
      "Processing <PIL.Image.Image image mode=RGB size=1118x905 at 0x2923F84DF70>: 100%|██████████| 10/10 [00:00<00:00, 23.73 Samples/s]\n"
     ]
    },
    {
     "name": "stdout",
     "output_type": "stream",
     "text": [
      "Initialised with 1032 image(s) found.\n",
      "Output directory set to C:\\Users\\Pooja\\Documents\\Stone\\stone\\Augmentation/."
     ]
    },
    {
     "name": "stderr",
     "output_type": "stream",
     "text": [
      "Processing <PIL.Image.Image image mode=RGB size=1371x1110 at 0x2923F899D60>: 100%|██████████| 10/10 [00:00<00:00, 27.88 Samples/s]\n"
     ]
    },
    {
     "name": "stdout",
     "output_type": "stream",
     "text": [
      "Initialised with 1032 image(s) found.\n",
      "Output directory set to C:\\Users\\Pooja\\Documents\\Stone\\stone\\Augmentation/."
     ]
    },
    {
     "name": "stderr",
     "output_type": "stream",
     "text": [
      "Processing <PIL.Image.Image image mode=RGB size=861x696 at 0x2923F782C10>: 100%|██████████| 10/10 [00:00<00:00, 26.75 Samples/s] \n"
     ]
    },
    {
     "name": "stdout",
     "output_type": "stream",
     "text": [
      "Initialised with 1032 image(s) found.\n",
      "Output directory set to C:\\Users\\Pooja\\Documents\\Stone\\stone\\Augmentation/."
     ]
    },
    {
     "name": "stderr",
     "output_type": "stream",
     "text": [
      "Processing <PIL.Image.Image image mode=RGB size=512x512 at 0x2923F8F16D0>: 100%|██████████| 10/10 [00:00<00:00, 17.81 Samples/s] \n"
     ]
    },
    {
     "name": "stdout",
     "output_type": "stream",
     "text": [
      "Initialised with 1032 image(s) found.\n",
      "Output directory set to C:\\Users\\Pooja\\Documents\\Stone\\stone\\Augmentation/."
     ]
    },
    {
     "name": "stderr",
     "output_type": "stream",
     "text": [
      "Processing <PIL.Image.Image image mode=RGB size=512x512 at 0x2923F4FDBB0>: 100%|██████████| 10/10 [00:00<00:00, 25.54 Samples/s]\n"
     ]
    },
    {
     "name": "stdout",
     "output_type": "stream",
     "text": [
      "Initialised with 1032 image(s) found.\n",
      "Output directory set to C:\\Users\\Pooja\\Documents\\Stone\\stone\\Augmentation/."
     ]
    },
    {
     "name": "stderr",
     "output_type": "stream",
     "text": [
      "Processing <PIL.Image.Image image mode=RGB size=512x512 at 0x2923F8991F0>: 100%|██████████| 10/10 [00:00<00:00, 39.18 Samples/s]                 \n"
     ]
    },
    {
     "name": "stdout",
     "output_type": "stream",
     "text": [
      "Initialised with 1032 image(s) found.\n",
      "Output directory set to C:\\Users\\Pooja\\Documents\\Stone\\stone\\Augmentation/."
     ]
    },
    {
     "name": "stderr",
     "output_type": "stream",
     "text": [
      "Processing <PIL.Image.Image image mode=RGB size=888x719 at 0x2923F84D100>: 100%|██████████| 10/10 [00:00<00:00, 18.69 Samples/s] \n"
     ]
    },
    {
     "name": "stdout",
     "output_type": "stream",
     "text": [
      "Initialised with 1032 image(s) found.\n",
      "Output directory set to C:\\Users\\Pooja\\Documents\\Stone\\stone\\Augmentation/."
     ]
    },
    {
     "name": "stderr",
     "output_type": "stream",
     "text": [
      "Processing <PIL.Image.Image image mode=RGB size=512x512 at 0x2923F8F1790>: 100%|██████████| 10/10 [00:00<00:00, 27.27 Samples/s]                 \n"
     ]
    },
    {
     "name": "stdout",
     "output_type": "stream",
     "text": [
      "Initialised with 1032 image(s) found.\n",
      "Output directory set to C:\\Users\\Pooja\\Documents\\Stone\\stone\\Augmentation/."
     ]
    },
    {
     "name": "stderr",
     "output_type": "stream",
     "text": [
      "Processing <PIL.Image.Image image mode=RGB size=1118x905 at 0x2923F4FD910>: 100%|██████████| 10/10 [00:00<00:00, 17.64 Samples/s]                \n"
     ]
    },
    {
     "name": "stdout",
     "output_type": "stream",
     "text": [
      "Initialised with 1032 image(s) found.\n",
      "Output directory set to C:\\Users\\Pooja\\Documents\\Stone\\stone\\Augmentation/."
     ]
    },
    {
     "name": "stderr",
     "output_type": "stream",
     "text": [
      "Processing <PIL.Image.Image image mode=RGB size=512x512 at 0x2923F8EB610>: 100%|██████████| 10/10 [00:00<00:00, 17.71 Samples/s] \n"
     ]
    },
    {
     "name": "stdout",
     "output_type": "stream",
     "text": [
      "Initialised with 1032 image(s) found.\n",
      "Output directory set to C:\\Users\\Pooja\\Documents\\Stone\\stone\\Augmentation/."
     ]
    },
    {
     "name": "stderr",
     "output_type": "stream",
     "text": [
      "Processing <PIL.Image.Image image mode=RGB size=512x512 at 0x2923F4FDA60>: 100%|██████████| 10/10 [00:00<00:00, 31.39 Samples/s]                 \n"
     ]
    },
    {
     "name": "stdout",
     "output_type": "stream",
     "text": [
      "Initialised with 1032 image(s) found.\n",
      "Output directory set to C:\\Users\\Pooja\\Documents\\Stone\\stone\\Augmentation/."
     ]
    },
    {
     "name": "stderr",
     "output_type": "stream",
     "text": [
      "Processing <PIL.Image.Image image mode=RGB size=1236x1001 at 0x2923F8F16D0>: 100%|██████████| 10/10 [00:00<00:00, 12.75 Samples/s]\n"
     ]
    },
    {
     "name": "stdout",
     "output_type": "stream",
     "text": [
      "Initialised with 1032 image(s) found.\n",
      "Output directory set to C:\\Users\\Pooja\\Documents\\Stone\\stone\\Augmentation/."
     ]
    },
    {
     "name": "stderr",
     "output_type": "stream",
     "text": [
      "Processing <PIL.Image.Image image mode=RGB size=512x512 at 0x2923F84D3D0>: 100%|██████████| 10/10 [00:00<00:00, 29.04 Samples/s] \n"
     ]
    },
    {
     "name": "stdout",
     "output_type": "stream",
     "text": [
      "Initialised with 1032 image(s) found.\n",
      "Output directory set to C:\\Users\\Pooja\\Documents\\Stone\\stone\\Augmentation/."
     ]
    },
    {
     "name": "stderr",
     "output_type": "stream",
     "text": [
      "Processing <PIL.Image.Image image mode=RGB size=512x512 at 0x2923F8EB970>: 100%|██████████| 10/10 [00:00<00:00, 24.35 Samples/s] \n"
     ]
    },
    {
     "name": "stdout",
     "output_type": "stream",
     "text": [
      "Initialised with 1032 image(s) found.\n",
      "Output directory set to C:\\Users\\Pooja\\Documents\\Stone\\stone\\Augmentation/."
     ]
    },
    {
     "name": "stderr",
     "output_type": "stream",
     "text": [
      "Processing <PIL.Image.Image image mode=RGB size=832x674 at 0x2923F8C6D30>: 100%|██████████| 10/10 [00:00<00:00, 15.49 Samples/s]\n"
     ]
    },
    {
     "name": "stdout",
     "output_type": "stream",
     "text": [
      "Initialised with 1032 image(s) found.\n",
      "Output directory set to C:\\Users\\Pooja\\Documents\\Stone\\stone\\Augmentation/."
     ]
    },
    {
     "name": "stderr",
     "output_type": "stream",
     "text": [
      "Processing <PIL.Image.Image image mode=RGB size=1236x1001 at 0x2923F8F1790>: 100%|██████████| 10/10 [00:00<00:00, 15.81 Samples/s]\n"
     ]
    },
    {
     "name": "stdout",
     "output_type": "stream",
     "text": [
      "Initialised with 1032 image(s) found.\n",
      "Output directory set to C:\\Users\\Pooja\\Documents\\Stone\\stone\\Augmentation/."
     ]
    },
    {
     "name": "stderr",
     "output_type": "stream",
     "text": [
      "Processing <PIL.Image.Image image mode=RGB size=512x512 at 0x2923F8C6700>: 100%|██████████| 10/10 [00:00<00:00, 27.74 Samples/s]                 \n"
     ]
    },
    {
     "name": "stdout",
     "output_type": "stream",
     "text": [
      "Initialised with 1032 image(s) found.\n",
      "Output directory set to C:\\Users\\Pooja\\Documents\\Stone\\stone\\Augmentation/."
     ]
    },
    {
     "name": "stderr",
     "output_type": "stream",
     "text": [
      "Processing <PIL.Image.Image image mode=RGB size=888x719 at 0x2923F8991F0>: 100%|██████████| 10/10 [00:00<00:00, 18.36 Samples/s] \n"
     ]
    },
    {
     "name": "stdout",
     "output_type": "stream",
     "text": [
      "Initialised with 1032 image(s) found.\n",
      "Output directory set to C:\\Users\\Pooja\\Documents\\Stone\\stone\\Augmentation/."
     ]
    },
    {
     "name": "stderr",
     "output_type": "stream",
     "text": [
      "Processing <PIL.Image.Image image mode=RGB size=512x512 at 0x2923F8C6820>: 100%|██████████| 10/10 [00:00<00:00, 18.82 Samples/s] \n"
     ]
    },
    {
     "name": "stdout",
     "output_type": "stream",
     "text": [
      "Initialised with 1032 image(s) found.\n",
      "Output directory set to C:\\Users\\Pooja\\Documents\\Stone\\stone\\Augmentation/."
     ]
    },
    {
     "name": "stderr",
     "output_type": "stream",
     "text": [
      "Processing <PIL.Image.Image image mode=RGB size=512x512 at 0x2923F858280>: 100%|██████████| 10/10 [00:03<00:00,  3.26 Samples/s]\n"
     ]
    },
    {
     "name": "stdout",
     "output_type": "stream",
     "text": [
      "Initialised with 1032 image(s) found.\n",
      "Output directory set to C:\\Users\\Pooja\\Documents\\Stone\\stone\\Augmentation/."
     ]
    },
    {
     "name": "stderr",
     "output_type": "stream",
     "text": [
      "Processing <PIL.Image.Image image mode=RGB size=512x512 at 0x2923F84DD30>: 100%|██████████| 10/10 [00:00<00:00, 30.87 Samples/s]\n"
     ]
    },
    {
     "name": "stdout",
     "output_type": "stream",
     "text": [
      "Initialised with 1032 image(s) found.\n",
      "Output directory set to C:\\Users\\Pooja\\Documents\\Stone\\stone\\Augmentation/."
     ]
    },
    {
     "name": "stderr",
     "output_type": "stream",
     "text": [
      "Processing <PIL.Image.Image image mode=RGB size=512x512 at 0x2923F858910>: 100%|██████████| 10/10 [00:00<00:00, 23.79 Samples/s]\n"
     ]
    },
    {
     "name": "stdout",
     "output_type": "stream",
     "text": [
      "Initialised with 1032 image(s) found.\n",
      "Output directory set to C:\\Users\\Pooja\\Documents\\Stone\\stone\\Augmentation/."
     ]
    },
    {
     "name": "stderr",
     "output_type": "stream",
     "text": [
      "Processing <PIL.Image.Image image mode=RGB size=512x512 at 0x2923F8C68B0>: 100%|██████████| 10/10 [00:00<00:00, 15.13 Samples/s]\n"
     ]
    },
    {
     "name": "stdout",
     "output_type": "stream",
     "text": [
      "Initialised with 1032 image(s) found.\n",
      "Output directory set to C:\\Users\\Pooja\\Documents\\Stone\\stone\\Augmentation/."
     ]
    },
    {
     "name": "stderr",
     "output_type": "stream",
     "text": [
      "Processing <PIL.Image.Image image mode=RGB size=512x512 at 0x2923F8F11C0>: 100%|██████████| 10/10 [00:01<00:00,  8.15 Samples/s] \n"
     ]
    },
    {
     "name": "stdout",
     "output_type": "stream",
     "text": [
      "Initialised with 1032 image(s) found.\n",
      "Output directory set to C:\\Users\\Pooja\\Documents\\Stone\\stone\\Augmentation/."
     ]
    },
    {
     "name": "stderr",
     "output_type": "stream",
     "text": [
      "Processing <PIL.Image.Image image mode=RGB size=888x719 at 0x2923F84D730>: 100%|██████████| 10/10 [00:02<00:00,  3.43 Samples/s] \n"
     ]
    },
    {
     "name": "stdout",
     "output_type": "stream",
     "text": [
      "Initialised with 1032 image(s) found.\n",
      "Output directory set to C:\\Users\\Pooja\\Documents\\Stone\\stone\\Augmentation/."
     ]
    },
    {
     "name": "stderr",
     "output_type": "stream",
     "text": [
      "Processing <PIL.Image.Image image mode=RGB size=512x512 at 0x2923F858C10>: 100%|██████████| 10/10 [00:01<00:00,  7.25 Samples/s] \n"
     ]
    },
    {
     "name": "stdout",
     "output_type": "stream",
     "text": [
      "Initialised with 1032 image(s) found.\n",
      "Output directory set to C:\\Users\\Pooja\\Documents\\Stone\\stone\\Augmentation/."
     ]
    },
    {
     "name": "stderr",
     "output_type": "stream",
     "text": [
      "Processing <PIL.Image.Image image mode=RGB size=512x512 at 0x2923F872670>: 100%|██████████| 10/10 [00:01<00:00,  5.23 Samples/s]\n"
     ]
    },
    {
     "name": "stdout",
     "output_type": "stream",
     "text": [
      "Initialised with 1032 image(s) found.\n",
      "Output directory set to C:\\Users\\Pooja\\Documents\\Stone\\stone\\Augmentation/."
     ]
    },
    {
     "name": "stderr",
     "output_type": "stream",
     "text": [
      "Processing <PIL.Image.Image image mode=RGB size=787x636 at 0x2923F899AF0>: 100%|██████████| 10/10 [00:01<00:00,  6.12 Samples/s] \n"
     ]
    },
    {
     "name": "stdout",
     "output_type": "stream",
     "text": [
      "Initialised with 1032 image(s) found.\n",
      "Output directory set to C:\\Users\\Pooja\\Documents\\Stone\\stone\\Augmentation/."
     ]
    },
    {
     "name": "stderr",
     "output_type": "stream",
     "text": [
      "Processing <PIL.Image.Image image mode=RGB size=904x732 at 0x2923F8E6E20>: 100%|██████████| 10/10 [00:00<00:00, 17.26 Samples/s]\n"
     ]
    },
    {
     "name": "stdout",
     "output_type": "stream",
     "text": [
      "Initialised with 1032 image(s) found.\n",
      "Output directory set to C:\\Users\\Pooja\\Documents\\Stone\\stone\\Augmentation/."
     ]
    },
    {
     "name": "stderr",
     "output_type": "stream",
     "text": [
      "Processing <PIL.Image.Image image mode=RGB size=512x512 at 0x2923F8994F0>: 100%|██████████| 10/10 [00:00<00:00, 16.79 Samples/s] \n"
     ]
    },
    {
     "name": "stdout",
     "output_type": "stream",
     "text": [
      "Initialised with 1032 image(s) found.\n",
      "Output directory set to C:\\Users\\Pooja\\Documents\\Stone\\stone\\Augmentation/."
     ]
    },
    {
     "name": "stderr",
     "output_type": "stream",
     "text": [
      "Processing <PIL.Image.Image image mode=RGB size=512x512 at 0x2923F8E6910>: 100%|██████████| 10/10 [00:00<00:00, 24.62 Samples/s]\n"
     ]
    },
    {
     "name": "stdout",
     "output_type": "stream",
     "text": [
      "Initialised with 1032 image(s) found.\n",
      "Output directory set to C:\\Users\\Pooja\\Documents\\Stone\\stone\\Augmentation/."
     ]
    },
    {
     "name": "stderr",
     "output_type": "stream",
     "text": [
      "Processing <PIL.Image.Image image mode=RGB size=512x512 at 0x2923F858250>: 100%|██████████| 10/10 [00:00<00:00, 15.41 Samples/s] \n"
     ]
    },
    {
     "name": "stdout",
     "output_type": "stream",
     "text": [
      "Initialised with 1032 image(s) found.\n",
      "Output directory set to C:\\Users\\Pooja\\Documents\\Stone\\stone\\Augmentation/."
     ]
    },
    {
     "name": "stderr",
     "output_type": "stream",
     "text": [
      "Processing <PIL.Image.Image image mode=RGB size=512x512 at 0x2923F8E6700>: 100%|██████████| 10/10 [00:00<00:00, 34.07 Samples/s]\n"
     ]
    },
    {
     "name": "stdout",
     "output_type": "stream",
     "text": [
      "Initialised with 1032 image(s) found.\n",
      "Output directory set to C:\\Users\\Pooja\\Documents\\Stone\\stone\\Augmentation/."
     ]
    },
    {
     "name": "stderr",
     "output_type": "stream",
     "text": [
      "Processing <PIL.Image.Image image mode=RGB size=512x512 at 0x2923F8585B0>: 100%|██████████| 10/10 [00:00<00:00, 21.07 Samples/s]\n"
     ]
    },
    {
     "name": "stdout",
     "output_type": "stream",
     "text": [
      "Initialised with 1032 image(s) found.\n",
      "Output directory set to C:\\Users\\Pooja\\Documents\\Stone\\stone\\Augmentation/."
     ]
    },
    {
     "name": "stderr",
     "output_type": "stream",
     "text": [
      "Processing <PIL.Image.Image image mode=RGB size=512x512 at 0x2923F872E20>: 100%|██████████| 10/10 [00:00<00:00, 15.37 Samples/s] \n"
     ]
    },
    {
     "name": "stdout",
     "output_type": "stream",
     "text": [
      "Initialised with 1032 image(s) found.\n",
      "Output directory set to C:\\Users\\Pooja\\Documents\\Stone\\stone\\Augmentation/."
     ]
    },
    {
     "name": "stderr",
     "output_type": "stream",
     "text": [
      "Processing <PIL.Image.Image image mode=RGB size=855x691 at 0x2923F8F1A30>: 100%|██████████| 10/10 [00:00<00:00, 14.12 Samples/s] \n"
     ]
    },
    {
     "name": "stdout",
     "output_type": "stream",
     "text": [
      "Initialised with 1032 image(s) found.\n",
      "Output directory set to C:\\Users\\Pooja\\Documents\\Stone\\stone\\Augmentation/."
     ]
    },
    {
     "name": "stderr",
     "output_type": "stream",
     "text": [
      "Processing <PIL.Image.Image image mode=RGB size=512x512 at 0x2923F8E6490>: 100%|██████████| 10/10 [00:00<00:00, 19.75 Samples/s]                 \n"
     ]
    },
    {
     "name": "stdout",
     "output_type": "stream",
     "text": [
      "Initialised with 1032 image(s) found.\n",
      "Output directory set to C:\\Users\\Pooja\\Documents\\Stone\\stone\\Augmentation/."
     ]
    },
    {
     "name": "stderr",
     "output_type": "stream",
     "text": [
      "Processing <PIL.Image.Image image mode=RGB size=787x636 at 0x2923F4FDFD0>: 100%|██████████| 10/10 [00:00<00:00, 27.18 Samples/s]\n"
     ]
    },
    {
     "name": "stdout",
     "output_type": "stream",
     "text": [
      "Initialised with 1032 image(s) found.\n",
      "Output directory set to C:\\Users\\Pooja\\Documents\\Stone\\stone\\Augmentation/."
     ]
    },
    {
     "name": "stderr",
     "output_type": "stream",
     "text": [
      "Processing <PIL.Image.Image image mode=RGB size=1203x974 at 0x2923F8E69D0>: 100%|██████████| 10/10 [00:00<00:00, 18.28 Samples/s]\n"
     ]
    },
    {
     "name": "stdout",
     "output_type": "stream",
     "text": [
      "Initialised with 1032 image(s) found.\n",
      "Output directory set to C:\\Users\\Pooja\\Documents\\Stone\\stone\\Augmentation/."
     ]
    },
    {
     "name": "stderr",
     "output_type": "stream",
     "text": [
      "Processing <PIL.Image.Image image mode=RGB size=512x512 at 0x2923F490CD0>: 100%|██████████| 10/10 [00:00<00:00, 10.48 Samples/s]\n"
     ]
    },
    {
     "name": "stdout",
     "output_type": "stream",
     "text": [
      "Initialised with 1032 image(s) found.\n",
      "Output directory set to C:\\Users\\Pooja\\Documents\\Stone\\stone\\Augmentation/."
     ]
    },
    {
     "name": "stderr",
     "output_type": "stream",
     "text": [
      "Processing <PIL.Image.Image image mode=RGB size=512x512 at 0x2923F872550>: 100%|██████████| 10/10 [00:00<00:00, 19.95 Samples/s]\n"
     ]
    },
    {
     "name": "stdout",
     "output_type": "stream",
     "text": [
      "Initialised with 1032 image(s) found.\n",
      "Output directory set to C:\\Users\\Pooja\\Documents\\Stone\\stone\\Augmentation/."
     ]
    },
    {
     "name": "stderr",
     "output_type": "stream",
     "text": [
      "Processing <PIL.Image.Image image mode=RGB size=1236x1001 at 0x2923F02BCD0>: 100%|██████████| 10/10 [00:00<00:00, 11.14 Samples/s]\n"
     ]
    },
    {
     "name": "stdout",
     "output_type": "stream",
     "text": [
      "Initialised with 1032 image(s) found.\n",
      "Output directory set to C:\\Users\\Pooja\\Documents\\Stone\\stone\\Augmentation/."
     ]
    },
    {
     "name": "stderr",
     "output_type": "stream",
     "text": [
      "Processing <PIL.Image.Image image mode=RGB size=512x512 at 0x2923F8E69D0>: 100%|██████████| 10/10 [00:00<00:00, 11.26 Samples/s]"
     ]
    },
    {
     "name": "stdout",
     "output_type": "stream",
     "text": [
      "Data augmentation completed.\n"
     ]
    },
    {
     "name": "stderr",
     "output_type": "stream",
     "text": [
      "\n"
     ]
    }
   ],
   "source": [
    "import Augmentor\n",
    "# Specify the input and output directories\n",
    "input_dir = r\"C:\\Users\\Pooja\\Documents\\Stone\\stone\" \n",
    "output_folder = \"Augmentation/\"\n",
    "\n",
    "if not os.path.exists(output_folder):\n",
    "    os.makedirs(output_folder)\n",
    "\n",
    "for filename in os.listdir(input_folder):\n",
    "    if filename.endswith(('.jpg', '.png', '.jpeg')):  # Adjust the file extensions as needed\n",
    "        image_path = os.path.join(input_folder, filename)\n",
    "        output_path = os.path.join(output_folder, filename)\n",
    "        # Read the image\n",
    "        image = cv2.imread(image_path)\n",
    "        # Create an Augmentor pipeline\n",
    "        pipeline = Augmentor.Pipeline(input_dir, output_directory=output_folder)\n",
    "\n",
    "        # Define augmentation operations\n",
    "        pipeline.rotate(probability=0.7, max_left_rotation=25, max_right_rotation=25)\n",
    "        pipeline.flip_left_right(probability=0.5)\n",
    "        pipeline.zoom_random(probability=0.5, percentage_area=0.8)\n",
    "        pipeline.random_contrast(probability=0.5, min_factor=0.7, max_factor=1.3)\n",
    "        pipeline.random_brightness(probability=0.5, min_factor=0.7, max_factor=1.3)\n",
    "\n",
    "        # Set the number of augmented images you want to generate\n",
    "        num_samples = 10  # You can change this to your desired number\n",
    "\n",
    "        # Execute the augmentation operations and generate augmented images\n",
    "        pipeline.sample(num_samples)\n",
    "        cv2.imwrite(output_path, blurred_image)\n",
    "\n",
    "\n",
    "print(\"Data augmentation completed.\")\n"
   ]
  },
  {
   "cell_type": "code",
   "execution_count": null,
   "id": "831e4989",
   "metadata": {},
   "outputs": [],
   "source": []
  }
 ],
 "metadata": {
  "kernelspec": {
   "display_name": "Python 3 (ipykernel)",
   "language": "python",
   "name": "python3"
  },
  "language_info": {
   "codemirror_mode": {
    "name": "ipython",
    "version": 3
   },
   "file_extension": ".py",
   "mimetype": "text/x-python",
   "name": "python",
   "nbconvert_exporter": "python",
   "pygments_lexer": "ipython3",
   "version": "3.9.12"
  }
 },
 "nbformat": 4,
 "nbformat_minor": 5
}
